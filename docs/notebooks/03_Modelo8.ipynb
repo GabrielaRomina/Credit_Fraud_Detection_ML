{
 "cells": [
  {
   "attachments": {},
   "cell_type": "markdown",
   "metadata": {},
   "source": [
    "## Modelo 1"
   ]
  },
  {
   "attachments": {},
   "cell_type": "markdown",
   "metadata": {},
   "source": [
    "Se cargan las librerías."
   ]
  },
  {
   "cell_type": "code",
   "execution_count": 1,
   "metadata": {},
   "outputs": [],
   "source": [
    "import pandas as pd\n",
    "import tensorflow as tf\n",
    "import numpy as np\n",
    "from sklearn.preprocessing import StandardScaler\n",
    "from tensorflow import keras\n",
    "from sklearn.model_selection import train_test_split\n",
    "from sklearn.metrics import confusion_matrix, precision_score, recall_score, roc_auc_score\n",
    "\n",
    "import seaborn as sns"
   ]
  },
  {
   "attachments": {},
   "cell_type": "markdown",
   "metadata": {},
   "source": [
    "Se cargan los datos procesados."
   ]
  },
  {
   "cell_type": "code",
   "execution_count": 2,
   "metadata": {},
   "outputs": [],
   "source": [
    "segmentos = []\n",
    "\n",
    "# Leer los archivos CSV segmentados y almacenarlos en la lista\n",
    "for i in range(0,3):\n",
    "    segmento = pd.read_csv(f'../data/processed/segmento_{i+1}.csv')\n",
    "    segmentos.append(segmento)\n",
    "# Concatenar los DataFrames de los segmentos en uno solo\n",
    "df1 = pd.concat(segmentos, ignore_index=True)"
   ]
  },
  {
   "attachments": {},
   "cell_type": "markdown",
   "metadata": {},
   "source": [
    "Se separa el test del Dataframe original no balanceado para asegurar que los datos nuevos serán similares a los reales a predecir, manteniendo proporción en los datos"
   ]
  },
  {
   "cell_type": "code",
   "execution_count": 3,
   "metadata": {},
   "outputs": [],
   "source": [
    "# Crear las variables para features y target\n",
    "X = df1[['amt', 'city_pop', 'distancia', 'fraudes_por_Categoria',\n",
    "       'fraudes_por_estado', 'fraudes_por_edad', 'fraudes_por_hora',\n",
    "       'fraudes_por_día']]\n",
    "y = df1['is_fraud']\n",
    "\n",
    "X_train_full, X_test, y_train_full, y_test= train_test_split(X,\n",
    "                                                      y, random_state=0)\n",
    "\n",
    "X_train, X_valid, y_train, y_valid = train_test_split(X_train_full,\n",
    "                                                      y_train_full, random_state=0)\n"
   ]
  },
  {
   "cell_type": "code",
   "execution_count": 32,
   "metadata": {},
   "outputs": [],
   "source": [
    "scaler = StandardScaler()\n",
    "X_train = scaler.fit_transform(X_train)\n",
    "X_valid = scaler.transform(X_valid)\n",
    "X_test = scaler.transform(X_test)"
   ]
  },
  {
   "cell_type": "code",
   "execution_count": 33,
   "metadata": {},
   "outputs": [
    {
     "name": "stdout",
     "output_type": "stream",
     "text": [
      "Epoch 1/50\n",
      "22794/22794 [==============================] - 34s 1ms/step - loss: 0.0030 - recall_9: 0.8778 - precision_8: 0.8928 - val_loss: 0.1424 - val_recall_9: 0.9079 - val_precision_8: 0.0771\n",
      "Epoch 2/50\n",
      "22794/22794 [==============================] - 32s 1ms/step - loss: 0.0023 - recall_9: 0.9064 - precision_8: 0.9299 - val_loss: 0.2161 - val_recall_9: 0.9256 - val_precision_8: 0.0699\n",
      "Epoch 3/50\n",
      "22794/22794 [==============================] - 34s 1ms/step - loss: 0.0021 - recall_9: 0.9157 - precision_8: 0.9326 - val_loss: 0.2014 - val_recall_9: 0.9356 - val_precision_8: 0.0687\n",
      "Epoch 4/50\n",
      "22794/22794 [==============================] - 34s 2ms/step - loss: 0.0022 - recall_9: 0.9147 - precision_8: 0.9340 - val_loss: 0.1575 - val_recall_9: 0.9299 - val_precision_8: 0.0738\n",
      "Epoch 5/50\n",
      "22794/22794 [==============================] - 31s 1ms/step - loss: 0.0021 - recall_9: 0.9202 - precision_8: 0.9379 - val_loss: 0.1765 - val_recall_9: 0.9348 - val_precision_8: 0.0756\n",
      "Epoch 6/50\n",
      "22794/22794 [==============================] - 32s 1ms/step - loss: 0.0021 - recall_9: 0.9207 - precision_8: 0.9363 - val_loss: 0.1660 - val_recall_9: 0.9044 - val_precision_8: 0.0908\n"
     ]
    }
   ],
   "source": [
    "# Definir el modelo\n",
    "model1 = keras.Sequential([\n",
    "    keras.layers.Flatten(input_shape=(8,)),\n",
    "    keras.layers.Dense(128, activation='relu'),\n",
    "    keras.layers.Dense(64, activation='relu'),\n",
    "    keras.layers.Dense(1, activation='sigmoid')\n",
    "])\n",
    "\n",
    "# Compilar el modelo\n",
    "model1.compile(optimizer='adam',\n",
    "              loss=tf.keras.losses.BinaryCrossentropy(),\n",
    "              weighted_metrics=([keras.metrics.Recall(), keras.metrics.Precision()]))\n",
    "\n",
    "# Crear una función de pérdida ponderada para el problema desbalanceado\n",
    "class_weights = {0: 0.006, 1: 0.994}  # Ponderar las clases de acuerdo a la proporción de los datos\n",
    "\n",
    "\n",
    "early_stopping_cb = keras.callbacks.EarlyStopping(patience=5)\n",
    "\n",
    "history = model1.fit(X_train, y_train, epochs=50, validation_split=0.2, class_weight = class_weights,\n",
    "                    validation_data = (X_valid, y_valid), callbacks=early_stopping_cb)"
   ]
  },
  {
   "cell_type": "code",
   "execution_count": 34,
   "metadata": {},
   "outputs": [
    {
     "name": "stdout",
     "output_type": "stream",
     "text": [
      "10131/10131 [==============================] - 9s 885us/step - loss: 0.1639 - recall_9: 0.9140 - precision_8: 0.0931\n",
      "[0.16393765807151794, 0.9140295386314392, 0.09313198924064636]\n"
     ]
    }
   ],
   "source": [
    "test = model1.evaluate(X_test, y_test)\n",
    "print(test)"
   ]
  },
  {
   "cell_type": "code",
   "execution_count": 35,
   "metadata": {},
   "outputs": [
    {
     "name": "stdout",
     "output_type": "stream",
     "text": [
      "10131/10131 [==============================] - 8s 738us/step\n"
     ]
    }
   ],
   "source": [
    "pred = model1.predict(X_test)\n",
    "predictions = np.round(pred)"
   ]
  },
  {
   "cell_type": "code",
   "execution_count": 36,
   "metadata": {},
   "outputs": [
    {
     "name": "stdout",
     "output_type": "stream",
     "text": [
      "[[305398  16875]\n",
      " [   163   1733]]\n"
     ]
    },
    {
     "data": {
      "image/png": "[encoded data removed]",
      "text/plain": [
       "<Figure size 640x480 with 2 Axes>"
      ]
     },
     "metadata": {},
     "output_type": "display_data"
    }
   ],
   "source": [
    "c_matrix = confusion_matrix(y_test, predictions)\n",
    "print(c_matrix)\n",
    "sns.heatmap(c_matrix, annot=True);"
   ]
  },
  {
   "cell_type": "code",
   "execution_count": 37,
   "metadata": {},
   "outputs": [],
   "source": [
    "from sklearn.metrics import precision_score, recall_score, roc_auc_score"
   ]
  },
  {
   "cell_type": "code",
   "execution_count": 38,
   "metadata": {},
   "outputs": [
    {
     "data": {
      "text/plain": [
       "0.09313198624247636"
      ]
     },
     "execution_count": 38,
     "metadata": {},
     "output_type": "execute_result"
    }
   ],
   "source": [
    "precision_score(y_test, predictions)"
   ]
  },
  {
   "cell_type": "code",
   "execution_count": 39,
   "metadata": {},
   "outputs": [
    {
     "data": {
      "text/plain": [
       "0.9140295358649789"
      ]
     },
     "execution_count": 39,
     "metadata": {},
     "output_type": "execute_result"
    }
   ],
   "source": [
    "recall_score(y_test, predictions)"
   ]
  },
  {
   "cell_type": "code",
   "execution_count": 40,
   "metadata": {},
   "outputs": [
    {
     "data": {
      "text/plain": [
       "0.9308335489039018"
      ]
     },
     "execution_count": 40,
     "metadata": {},
     "output_type": "execute_result"
    }
   ],
   "source": [
    "roc_auc_score(y_test, predictions)"
   ]
  },
  {
   "cell_type": "code",
   "execution_count": 41,
   "metadata": {},
   "outputs": [
    {
     "name": "stdout",
     "output_type": "stream",
     "text": [
      "Epoch 1/50\n",
      "22794/22794 [==============================] - 34s 1ms/step - loss: 0.0084 - recall_10: 0.4162 - precision_9: 0.7517 - val_loss: 0.0150 - val_recall_10: 0.5382 - val_precision_9: 0.7123\n",
      "Epoch 2/50\n",
      "22794/22794 [==============================] - 33s 1ms/step - loss: 0.0063 - recall_10: 0.5484 - precision_9: 0.8257 - val_loss: 0.0123 - val_recall_10: 0.6034 - val_precision_9: 0.8091\n",
      "Epoch 3/50\n",
      "22794/22794 [==============================] - 32s 1ms/step - loss: 0.0060 - recall_10: 0.5850 - precision_9: 0.8275 - val_loss: 0.0115 - val_recall_10: 0.6239 - val_precision_9: 0.8060\n",
      "Epoch 4/50\n",
      "22794/22794 [==============================] - 32s 1ms/step - loss: 0.0059 - recall_10: 0.5965 - precision_9: 0.8305 - val_loss: 0.0120 - val_recall_10: 0.5850 - val_precision_9: 0.8454\n",
      "Epoch 5/50\n",
      "22794/22794 [==============================] - 35s 2ms/step - loss: 0.0058 - recall_10: 0.6039 - precision_9: 0.8347 - val_loss: 0.0118 - val_recall_10: 0.5814 - val_precision_9: 0.8624\n",
      "Epoch 6/50\n",
      "22794/22794 [==============================] - 40s 2ms/step - loss: 0.0057 - recall_10: 0.6029 - precision_9: 0.8345 - val_loss: 0.0121 - val_recall_10: 0.6303 - val_precision_9: 0.8210\n",
      "Epoch 7/50\n",
      "22794/22794 [==============================] - 34s 1ms/step - loss: 0.0057 - recall_10: 0.6041 - precision_9: 0.8323 - val_loss: 0.0117 - val_recall_10: 0.6303 - val_precision_9: 0.8287\n",
      "Epoch 8/50\n",
      "22794/22794 [==============================] - 32s 1ms/step - loss: 0.0056 - recall_10: 0.6055 - precision_9: 0.8329 - val_loss: 0.0118 - val_recall_10: 0.6084 - val_precision_9: 0.8348\n"
     ]
    }
   ],
   "source": [
    "# Definir el modelo\n",
    "model2 = keras.Sequential([\n",
    "    keras.layers.Flatten(input_shape=(8,)),\n",
    "    keras.layers.Dense(128, activation='relu'),\n",
    "    keras.layers.Dense(64, activation='relu'),\n",
    "    keras.layers.Dense(1, activation='sigmoid')\n",
    "])\n",
    "\n",
    "# Compilar el modelo\n",
    "model2.compile(optimizer='adam',\n",
    "              loss=tf.keras.losses.BinaryCrossentropy(),\n",
    "              weighted_metrics=([keras.metrics.Recall(), keras.metrics.Precision()]))\n",
    "\n",
    "# Crear una función de pérdida ponderada para el problema desbalanceado\n",
    "class_weights = {0: 0.5, 1: 0.5}  # Ponderar las clases de acuerdo a la proporción de los datos\n",
    "\n",
    "\n",
    "early_stopping_cb = keras.callbacks.EarlyStopping(patience=5)\n",
    "\n",
    "history = model2.fit(X_train, y_train, epochs=50, validation_split=0.2, class_weight = class_weights,\n",
    "                    validation_data = (X_valid, y_valid), callbacks=early_stopping_cb)"
   ]
  },
  {
   "cell_type": "code",
   "execution_count": 42,
   "metadata": {},
   "outputs": [
    {
     "name": "stdout",
     "output_type": "stream",
     "text": [
      "10131/10131 [==============================] - 9s 847us/step - loss: 0.0113 - recall_10: 0.6092 - precision_9: 0.8431\n",
      "[0.011316719464957714, 0.6091772317886353, 0.8430656790733337]\n"
     ]
    }
   ],
   "source": [
    "test = model2.evaluate(X_test, y_test)\n",
    "print(test)"
   ]
  },
  {
   "cell_type": "code",
   "execution_count": 43,
   "metadata": {},
   "outputs": [
    {
     "name": "stdout",
     "output_type": "stream",
     "text": [
      "10131/10131 [==============================] - 7s 700us/step\n"
     ]
    }
   ],
   "source": [
    "pred = model2.predict(X_test)\n",
    "predictions = np.round(pred)"
   ]
  },
  {
   "cell_type": "code",
   "execution_count": 44,
   "metadata": {},
   "outputs": [
    {
     "name": "stdout",
     "output_type": "stream",
     "text": [
      "[[322058    215]\n",
      " [   741   1155]]\n"
     ]
    },
    {
     "data": {
      "image/png": "[encoded data removed]",
      "text/plain": [
       "<Figure size 640x480 with 2 Axes>"
      ]
     },
     "metadata": {},
     "output_type": "display_data"
    }
   ],
   "source": [
    "c_matrix = confusion_matrix(y_test, predictions)\n",
    "print(c_matrix)\n",
    "sns.heatmap(c_matrix, annot=True);"
   ]
  },
  {
   "cell_type": "code",
   "execution_count": 45,
   "metadata": {},
   "outputs": [
    {
     "name": "stdout",
     "output_type": "stream",
     "text": [
      "Precision score: 0.843065693430657\n",
      "Recall score: 0.6091772151898734\n",
      "ROC AUC score: 0.804255039471017\n"
     ]
    }
   ],
   "source": [
    "print(\"Precision score:\", precision_score(y_test, predictions))\n",
    "print(\"Recall score:\", recall_score(y_test, predictions))\n",
    "print(\"ROC AUC score:\", roc_auc_score(y_test, predictions))"
   ]
  },
  {
   "cell_type": "code",
   "execution_count": 8,
   "metadata": {},
   "outputs": [
    {
     "name": "stdout",
     "output_type": "stream",
     "text": [
      "Epoch 1/50\n",
      "22794/22794 [==============================] - 31s 1ms/step - loss: 6.9058 - recall_1: 0.1796 - precision: 0.1892 - val_loss: 0.0320 - val_recall_1: 0.1969 - val_precision: 0.3888\n",
      "Epoch 2/50\n",
      "22794/22794 [==============================] - 29s 1ms/step - loss: 0.0372 - recall_1: 0.1377 - precision: 0.5348 - val_loss: 0.0328 - val_recall_1: 0.2096 - val_precision: 0.4000\n",
      "Epoch 3/50\n",
      "22794/22794 [==============================] - 30s 1ms/step - loss: 0.0315 - recall_1: 0.1489 - precision: 0.5818 - val_loss: 0.0292 - val_recall_1: 0.1771 - val_precision: 0.3693\n",
      "Epoch 4/50\n",
      "22794/22794 [==============================] - 32s 1ms/step - loss: 0.0210 - recall_1: 0.1529 - precision: 0.5998 - val_loss: 0.0469 - val_recall_1: 0.3152 - val_precision: 0.2757\n",
      "Epoch 5/50\n",
      "22794/22794 [==============================] - 30s 1ms/step - loss: 0.0233 - recall_1: 0.1548 - precision: 0.5933 - val_loss: 0.0286 - val_recall_1: 7.0822e-04 - val_precision: 0.0137\n",
      "Epoch 6/50\n",
      "22794/22794 [==============================] - 29s 1ms/step - loss: 0.0387 - recall_1: 0.1470 - precision: 0.5976 - val_loss: 0.1836 - val_recall_1: 0.2557 - val_precision: 0.3658\n",
      "Epoch 7/50\n",
      "22794/22794 [==============================] - 28s 1ms/step - loss: 0.0303 - recall_1: 0.0958 - precision: 0.5653 - val_loss: 0.0381 - val_recall_1: 0.2769 - val_precision: 0.2922\n",
      "Epoch 8/50\n",
      "22794/22794 [==============================] - 28s 1ms/step - loss: 0.0199 - recall_1: 0.1667 - precision: 0.6150 - val_loss: 0.0312 - val_recall_1: 0.1941 - val_precision: 0.4349\n",
      "Epoch 9/50\n",
      "22794/22794 [==============================] - 28s 1ms/step - loss: 0.0209 - recall_1: 0.1684 - precision: 0.6234 - val_loss: 0.0357 - val_recall_1: 0.2323 - val_precision: 0.4039\n",
      "Epoch 10/50\n",
      "22794/22794 [==============================] - 28s 1ms/step - loss: 0.0956 - recall_1: 0.1810 - precision: 0.6140 - val_loss: 0.2377 - val_recall_1: 0.0892 - val_precision: 0.2788\n"
     ]
    }
   ],
   "source": [
    "# Definir el modelo\n",
    "model3 = keras.Sequential([\n",
    "    keras.layers.Flatten(input_shape=(8,)),\n",
    "    keras.layers.Dense(128, activation='relu'),\n",
    "    keras.layers.Dense(64, activation='relu'),\n",
    "    keras.layers.Dense(1, activation='sigmoid')\n",
    "])\n",
    "\n",
    "# Compilar el modelo\n",
    "model3.compile(optimizer='adam',\n",
    "              loss=tf.keras.losses.BinaryCrossentropy(),\n",
    "              weighted_metrics=([keras.metrics.Recall(), keras.metrics.Precision()]))\n",
    "\n",
    "# Crear una función de pérdida ponderada para el problema desbalanceado\n",
    "class_weights = {0: 0.25, 1: 0.74}  # Ponderar las clases de acuerdo a la proporción de los datos\n",
    "\n",
    "\n",
    "early_stopping_cb = keras.callbacks.EarlyStopping(patience=5)\n",
    "\n",
    "history = model3.fit(X_train, y_train, epochs=50, validation_split=0.2, class_weight = class_weights,\n",
    "                    validation_data = (X_valid, y_valid), callbacks=early_stopping_cb)"
   ]
  },
  {
   "cell_type": "code",
   "execution_count": 9,
   "metadata": {},
   "outputs": [
    {
     "name": "stdout",
     "output_type": "stream",
     "text": [
      "10131/10131 [==============================] - 8s 741us/step - loss: 0.2270 - recall_1: 0.0823 - precision: 0.2699\n",
      "[0.22704361379146576, 0.08227848261594772, 0.26989617943763733]\n"
     ]
    }
   ],
   "source": [
    "test = model3.evaluate(X_test, y_test)\n",
    "print(test)"
   ]
  },
  {
   "cell_type": "code",
   "execution_count": 10,
   "metadata": {},
   "outputs": [
    {
     "name": "stdout",
     "output_type": "stream",
     "text": [
      "10131/10131 [==============================] - 6s 625us/step\n"
     ]
    }
   ],
   "source": [
    "pred = model3.predict(X_test)\n",
    "predictions = np.round(pred)"
   ]
  },
  {
   "cell_type": "code",
   "execution_count": 11,
   "metadata": {},
   "outputs": [
    {
     "name": "stdout",
     "output_type": "stream",
     "text": [
      "[[321851    422]\n",
      " [  1740    156]]\n"
     ]
    },
    {
     "data": {
      "image/png": "[encoded data removed]",
      "text/plain": [
       "<Figure size 640x480 with 2 Axes>"
      ]
     },
     "metadata": {},
     "output_type": "display_data"
    }
   ],
   "source": [
    "c_matrix = confusion_matrix(y_test, predictions)\n",
    "print(c_matrix)\n",
    "sns.heatmap(c_matrix, annot=True);"
   ]
  },
  {
   "cell_type": "code",
   "execution_count": 12,
   "metadata": {},
   "outputs": [
    {
     "name": "stdout",
     "output_type": "stream",
     "text": [
      "Precision score: 0.2698961937716263\n",
      "Recall score: 0.08227848101265822\n",
      "ROC AUC score: 0.5404845160956587\n"
     ]
    }
   ],
   "source": [
    "print(\"Precision score:\", precision_score(y_test, predictions))\n",
    "print(\"Recall score:\", recall_score(y_test, predictions))\n",
    "print(\"ROC AUC score:\", roc_auc_score(y_test, predictions))"
   ]
  },
  {
   "cell_type": "code",
   "execution_count": 13,
   "metadata": {},
   "outputs": [],
   "source": [
    "model3.save(\"../models/Model8/trained_model.h5\")"
   ]
  },
  {
   "cell_type": "code",
   "execution_count": 51,
   "metadata": {},
   "outputs": [
    {
     "name": "stdout",
     "output_type": "stream",
     "text": [
      "Epoch 1/50\n",
      "22794/22794 [==============================] - 42s 2ms/step - loss: 0.0107 - recall_12: 0.2437 - precision_11: 0.7084 - val_loss: 0.0185 - val_recall_12: 0.3732 - val_precision_11: 0.7360\n",
      "Epoch 2/50\n",
      "22794/22794 [==============================] - 40s 2ms/step - loss: 0.0094 - recall_12: 0.3013 - precision_11: 0.7135 - val_loss: 0.0175 - val_recall_12: 0.4008 - val_precision_11: 0.7408\n",
      "Epoch 3/50\n",
      "22794/22794 [==============================] - 40s 2ms/step - loss: 0.0092 - recall_12: 0.3299 - precision_11: 0.7135 - val_loss: 0.0172 - val_recall_12: 0.3754 - val_precision_11: 0.7875\n",
      "Epoch 4/50\n",
      "22794/22794 [==============================] - 40s 2ms/step - loss: 0.0090 - recall_12: 0.3573 - precision_11: 0.7335 - val_loss: 0.0170 - val_recall_12: 0.4695 - val_precision_11: 0.7278\n",
      "Epoch 5/50\n",
      "22794/22794 [==============================] - 42s 2ms/step - loss: 0.0089 - recall_12: 0.3754 - precision_11: 0.7344 - val_loss: 0.0168 - val_recall_12: 0.3222 - val_precision_11: 0.8183\n",
      "Epoch 6/50\n",
      "22794/22794 [==============================] - 41s 2ms/step - loss: 0.0088 - recall_12: 0.3668 - precision_11: 0.7361 - val_loss: 0.0162 - val_recall_12: 0.4455 - val_precision_11: 0.7833\n",
      "Epoch 7/50\n",
      "22794/22794 [==============================] - 40s 2ms/step - loss: 0.0088 - recall_12: 0.3730 - precision_11: 0.7489 - val_loss: 0.0170 - val_recall_12: 0.4695 - val_precision_11: 0.7665\n",
      "Epoch 8/50\n",
      "22794/22794 [==============================] - 40s 2ms/step - loss: 0.0087 - recall_12: 0.3659 - precision_11: 0.7367 - val_loss: 0.0162 - val_recall_12: 0.4858 - val_precision_11: 0.7622\n",
      "Epoch 9/50\n",
      "22794/22794 [==============================] - 40s 2ms/step - loss: 0.0087 - recall_12: 0.3680 - precision_11: 0.7467 - val_loss: 0.0165 - val_recall_12: 0.3612 - val_precision_11: 0.8306\n",
      "Epoch 10/50\n",
      "22794/22794 [==============================] - 40s 2ms/step - loss: 0.0086 - recall_12: 0.3788 - precision_11: 0.7546 - val_loss: 0.0162 - val_recall_12: 0.4228 - val_precision_11: 0.8134\n",
      "Epoch 11/50\n",
      "22794/22794 [==============================] - 42s 2ms/step - loss: 0.0086 - recall_12: 0.3780 - precision_11: 0.7561 - val_loss: 0.0167 - val_recall_12: 0.4023 - val_precision_11: 0.8316\n",
      "Epoch 12/50\n",
      "22794/22794 [==============================] - 41s 2ms/step - loss: 0.0086 - recall_12: 0.3930 - precision_11: 0.7671 - val_loss: 0.0163 - val_recall_12: 0.4221 - val_precision_11: 0.8232\n",
      "Epoch 13/50\n",
      "22794/22794 [==============================] - 40s 2ms/step - loss: 0.0086 - recall_12: 0.3897 - precision_11: 0.7602 - val_loss: 0.0159 - val_recall_12: 0.3796 - val_precision_11: 0.8414\n",
      "Epoch 14/50\n",
      "22794/22794 [==============================] - 40s 2ms/step - loss: 0.0085 - recall_12: 0.3788 - precision_11: 0.7608 - val_loss: 0.0161 - val_recall_12: 0.4023 - val_precision_11: 0.8341\n",
      "Epoch 15/50\n",
      "22794/22794 [==============================] - 40s 2ms/step - loss: 0.0085 - recall_12: 0.3888 - precision_11: 0.7662 - val_loss: 0.0161 - val_recall_12: 0.4398 - val_precision_11: 0.8258\n",
      "Epoch 16/50\n",
      "22794/22794 [==============================] - 40s 2ms/step - loss: 0.0084 - recall_12: 0.3978 - precision_11: 0.7696 - val_loss: 0.0173 - val_recall_12: 0.3619 - val_precision_11: 0.8735\n",
      "Epoch 17/50\n",
      "22794/22794 [==============================] - 40s 2ms/step - loss: 0.0085 - recall_12: 0.3938 - precision_11: 0.7583 - val_loss: 0.0157 - val_recall_12: 0.4589 - val_precision_11: 0.8030\n",
      "Epoch 18/50\n",
      "22794/22794 [==============================] - 40s 2ms/step - loss: 0.0084 - recall_12: 0.3945 - precision_11: 0.7808 - val_loss: 0.0159 - val_recall_12: 0.5057 - val_precision_11: 0.7532\n",
      "Epoch 19/50\n",
      "22794/22794 [==============================] - 40s 2ms/step - loss: 0.0084 - recall_12: 0.4014 - precision_11: 0.7744 - val_loss: 0.0160 - val_recall_12: 0.3839 - val_precision_11: 0.8377\n",
      "Epoch 20/50\n",
      "22794/22794 [==============================] - 40s 2ms/step - loss: 0.0085 - recall_12: 0.3892 - precision_11: 0.7788 - val_loss: 0.0162 - val_recall_12: 0.4292 - val_precision_11: 0.8347\n",
      "Epoch 21/50\n",
      "22794/22794 [==============================] - 40s 2ms/step - loss: 0.0085 - recall_12: 0.3942 - precision_11: 0.7792 - val_loss: 0.0158 - val_recall_12: 0.4632 - val_precision_11: 0.8258\n",
      "Epoch 22/50\n",
      "22794/22794 [==============================] - 40s 2ms/step - loss: 0.0084 - recall_12: 0.4052 - precision_11: 0.7868 - val_loss: 0.0160 - val_recall_12: 0.4377 - val_precision_11: 0.8142\n"
     ]
    }
   ],
   "source": [
    "# Definir el modelo\n",
    "model4 = keras.Sequential([\n",
    "    keras.layers.Conv1D(32, 3, activation='relu', input_shape=(X_train.shape[1], 1)),\n",
    "    keras.layers.MaxPooling1D(2),\n",
    "    keras.layers.Flatten(),\n",
    "    keras.layers.Dense(128, activation='relu'),\n",
    "    keras.layers.Dropout(0.5),\n",
    "    keras.layers.Dense(1, activation='sigmoid')\n",
    "])\n",
    "\n",
    "# Compilar el modelo\n",
    "model4.compile(optimizer='adam',\n",
    "              loss=tf.keras.losses.BinaryCrossentropy(),\n",
    "              weighted_metrics=([keras.metrics.Recall(), keras.metrics.Precision()]))\n",
    "\n",
    "# Crear una función de pérdida ponderada para el problema desbalanceado\n",
    "class_weights = {0: 0.5, 1: 0.5}  # Ponderar las clases de acuerdo a la proporción de los datos\n",
    "\n",
    "\n",
    "early_stopping_cb = keras.callbacks.EarlyStopping(patience=5)\n",
    "\n",
    "history = model4.fit(X_train, y_train, epochs=50, validation_split=0.2, class_weight = class_weights,\n",
    "                    validation_data = (X_valid, y_valid), callbacks=early_stopping_cb)"
   ]
  },
  {
   "cell_type": "code",
   "execution_count": 61,
   "metadata": {},
   "outputs": [
    {
     "name": "stdout",
     "output_type": "stream",
     "text": [
      "10131/10131 [==============================] - 10s 976us/step - loss: 0.0158 - recall_12: 0.4293 - precision_11: 0.7872\n",
      "[0.015778658911585808, 0.4293248951435089, 0.7872340679168701]\n"
     ]
    }
   ],
   "source": [
    "test = model4.evaluate(X_test, y_test)\n",
    "print(test)"
   ]
  },
  {
   "cell_type": "code",
   "execution_count": 62,
   "metadata": {},
   "outputs": [
    {
     "name": "stdout",
     "output_type": "stream",
     "text": [
      "10131/10131 [==============================] - 8s 751us/step\n"
     ]
    }
   ],
   "source": [
    "pred = model4.predict(X_test)\n",
    "predictions = np.round(pred)"
   ]
  },
  {
   "cell_type": "code",
   "execution_count": 63,
   "metadata": {},
   "outputs": [
    {
     "name": "stdout",
     "output_type": "stream",
     "text": [
      "[[322053    220]\n",
      " [  1082    814]]\n"
     ]
    },
    {
     "data": {
      "image/png": "[encoded data removed]",
      "text/plain": [
       "<Figure size 640x480 with 2 Axes>"
      ]
     },
     "metadata": {},
     "output_type": "display_data"
    }
   ],
   "source": [
    "c_matrix = confusion_matrix(y_test, predictions)\n",
    "print(c_matrix)\n",
    "sns.heatmap(c_matrix, annot=True);"
   ]
  },
  {
   "cell_type": "code",
   "execution_count": 64,
   "metadata": {},
   "outputs": [
    {
     "name": "stdout",
     "output_type": "stream",
     "text": [
      "Precision score: 0.7872340425531915\n",
      "Recall score: 0.4293248945147679\n",
      "ROC AUC score: 0.7143211217352333\n"
     ]
    }
   ],
   "source": [
    "print(\"Precision score:\", precision_score(y_test, predictions))\n",
    "print(\"Recall score:\", recall_score(y_test, predictions))\n",
    "print(\"ROC AUC score:\", roc_auc_score(y_test, predictions))"
   ]
  },
  {
   "cell_type": "code",
   "execution_count": 56,
   "metadata": {},
   "outputs": [
    {
     "name": "stdout",
     "output_type": "stream",
     "text": [
      "Epoch 1/50\n",
      "22794/22794 [==============================] - 43s 2ms/step - loss: 0.0118 - recall_13: 0.1841 - precision_12: 0.6184 - val_loss: 0.0189 - val_recall_13: 0.2514 - val_precision_12: 0.8659\n",
      "Epoch 2/50\n",
      "22794/22794 [==============================] - 41s 2ms/step - loss: 0.0097 - recall_13: 0.3013 - precision_12: 0.7083 - val_loss: 0.0188 - val_recall_13: 0.2904 - val_precision_12: 0.8471\n",
      "Epoch 3/50\n",
      "22794/22794 [==============================] - 41s 2ms/step - loss: 0.0095 - recall_13: 0.3194 - precision_12: 0.7039 - val_loss: 0.0168 - val_recall_13: 0.2762 - val_precision_12: 0.8442\n",
      "Epoch 4/50\n",
      "22794/22794 [==============================] - 42s 2ms/step - loss: 0.0095 - recall_13: 0.3013 - precision_12: 0.6842 - val_loss: 0.0165 - val_recall_13: 0.4717 - val_precision_12: 0.7271\n",
      "Epoch 5/50\n",
      "22794/22794 [==============================] - 42s 2ms/step - loss: 0.0094 - recall_13: 0.3078 - precision_12: 0.6869 - val_loss: 0.0164 - val_recall_13: 0.4773 - val_precision_12: 0.7382\n",
      "Epoch 6/50\n",
      "22794/22794 [==============================] - 43s 2ms/step - loss: 0.0095 - recall_13: 0.3128 - precision_12: 0.6918 - val_loss: 0.0171 - val_recall_13: 0.3286 - val_precision_12: 0.7878\n",
      "Epoch 7/50\n",
      "22794/22794 [==============================] - 43s 2ms/step - loss: 0.0094 - recall_13: 0.3242 - precision_12: 0.6912 - val_loss: 0.0162 - val_recall_13: 0.5071 - val_precision_12: 0.7336\n",
      "Epoch 8/50\n",
      "22794/22794 [==============================] - 42s 2ms/step - loss: 0.0095 - recall_13: 0.3111 - precision_12: 0.6667 - val_loss: 0.0169 - val_recall_13: 0.4455 - val_precision_12: 0.7348\n",
      "Epoch 9/50\n",
      "22794/22794 [==============================] - 42s 2ms/step - loss: 0.0094 - recall_13: 0.3032 - precision_12: 0.6704 - val_loss: 0.0163 - val_recall_13: 0.4695 - val_precision_12: 0.7508\n",
      "Epoch 10/50\n",
      "22794/22794 [==============================] - 42s 2ms/step - loss: 0.0094 - recall_13: 0.3187 - precision_12: 0.6697 - val_loss: 0.0163 - val_recall_13: 0.3824 - val_precision_12: 0.7649\n",
      "Epoch 11/50\n",
      "22794/22794 [==============================] - 42s 2ms/step - loss: 0.0093 - recall_13: 0.3273 - precision_12: 0.6887 - val_loss: 0.0162 - val_recall_13: 0.4207 - val_precision_12: 0.7744\n",
      "Epoch 12/50\n",
      "22794/22794 [==============================] - 42s 2ms/step - loss: 0.0094 - recall_13: 0.3147 - precision_12: 0.6764 - val_loss: 0.0170 - val_recall_13: 0.3499 - val_precision_12: 0.8138\n"
     ]
    }
   ],
   "source": [
    "# Definir el modelo\n",
    "model5 = keras.Sequential([\n",
    "    keras.layers.Flatten(input_shape=(8,)),\n",
    "    keras.layers.Dense(128, activation='relu'),\n",
    "    keras.layers.Dropout(0.5),\n",
    "    keras.layers.Dense(64, activation='relu'),\n",
    "    keras.layers.Dropout(0.5),\n",
    "    keras.layers.Dense(32, activation='relu'),\n",
    "    keras.layers.Dropout(0.5),\n",
    "    keras.layers.Dense(1, activation='sigmoid')\n",
    "])\n",
    "\n",
    "# Compilar el modelo\n",
    "model5.compile(optimizer=keras.optimizers.AdamW(weight_decay=0.01),\n",
    "              loss=tf.keras.losses.BinaryCrossentropy(),\n",
    "              weighted_metrics=([keras.metrics.Recall(), keras.metrics.Precision()]))\n",
    "\n",
    "# Crear una función de pérdida ponderada para el problema desbalanceado\n",
    "class_weights = {0: 0.5, 1: 0.5}  # Ponderar las clases de acuerdo a la proporción de los datos\n",
    "\n",
    "\n",
    "early_stopping_cb = keras.callbacks.EarlyStopping(patience=5)\n",
    "\n",
    "history = model5.fit(X_train, y_train, epochs=50, validation_split=0.2, class_weight = class_weights,\n",
    "                    validation_data = (X_valid, y_valid), callbacks=early_stopping_cb)"
   ]
  },
  {
   "cell_type": "code",
   "execution_count": 57,
   "metadata": {},
   "outputs": [
    {
     "name": "stdout",
     "output_type": "stream",
     "text": [
      "10131/10131 [==============================] - 8s 831us/step - loss: 0.0164 - recall_13: 0.3344 - precision_12: 0.8076\n",
      "[0.016415225341916084, 0.33438819646835327, 0.8076432943344116]\n"
     ]
    }
   ],
   "source": [
    "test = model5.evaluate(X_test, y_test)\n",
    "print(test)"
   ]
  },
  {
   "cell_type": "code",
   "execution_count": 58,
   "metadata": {},
   "outputs": [
    {
     "name": "stdout",
     "output_type": "stream",
     "text": [
      "10131/10131 [==============================] - 7s 689us/step\n"
     ]
    }
   ],
   "source": [
    "pred = model5.predict(X_test)\n",
    "predictions = np.round(pred)"
   ]
  },
  {
   "cell_type": "code",
   "execution_count": 65,
   "metadata": {},
   "outputs": [
    {
     "name": "stdout",
     "output_type": "stream",
     "text": [
      "[[322053    220]\n",
      " [  1082    814]]\n",
      "Precision score: 0.7872340425531915\n",
      "Recall score: 0.4293248945147679\n",
      "ROC AUC score: 0.7143211217352333\n"
     ]
    },
    {
     "data": {
      "image/png": "[encoded data removed]",
      "text/plain": [
       "<Figure size 640x480 with 2 Axes>"
      ]
     },
     "metadata": {},
     "output_type": "display_data"
    }
   ],
   "source": [
    "c_matrix = confusion_matrix(y_test, predictions)\n",
    "print(c_matrix)\n",
    "sns.heatmap(c_matrix, annot=True);\n",
    "\n",
    "print(\"Precision score:\", precision_score(y_test, predictions))\n",
    "print(\"Recall score:\", recall_score(y_test, predictions))\n",
    "print(\"ROC AUC score:\", roc_auc_score(y_test, predictions))"
   ]
  }
 ],
 "metadata": {
  "kernelspec": {
   "display_name": "Python 3",
   "language": "python",
   "name": "python3"
  },
  "language_info": {
   "codemirror_mode": {
    "name": "ipython",
    "version": 3
   },
   "file_extension": ".py",
   "mimetype": "text/x-python",
   "name": "python",
   "nbconvert_exporter": "python",
   "pygments_lexer": "ipython3",
   "version": "3.11.3"
  },
  "orig_nbformat": 4
 },
 "nbformat": 4,
 "nbformat_minor": 2
}
