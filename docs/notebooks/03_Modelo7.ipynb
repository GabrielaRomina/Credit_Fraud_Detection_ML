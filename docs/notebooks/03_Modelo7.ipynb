{
 "cells": [
  {
   "attachments": {},
   "cell_type": "markdown",
   "metadata": {},
   "source": [
    "## Modelo 1"
   ]
  },
  {
   "attachments": {},
   "cell_type": "markdown",
   "metadata": {},
   "source": [
    "Se cargan las librerías."
   ]
  },
  {
   "cell_type": "code",
   "execution_count": 14,
   "metadata": {},
   "outputs": [],
   "source": [
    "import pandas as pd\n",
    "from sklearn.model_selection import train_test_split, GridSearchCV\n",
    "from imblearn.under_sampling import RandomUnderSampler\n",
    "from sklearn.pipeline import Pipeline\n",
    "from sklearn.feature_selection import SelectKBest\n",
    "from sklearn.ensemble import RandomForestClassifier\n",
    "import numpy as np\n",
    "from sklearn.preprocessing import StandardScaler\n",
    "from sklearn.decomposition import PCA\n",
    "\n",
    "from sklearn.metrics import confusion_matrix\n",
    "import seaborn as sns\n",
    "import pickle\n",
    "import yaml"
   ]
  },
  {
   "attachments": {},
   "cell_type": "markdown",
   "metadata": {},
   "source": [
    "Se cargan los datos procesados."
   ]
  },
  {
   "cell_type": "code",
   "execution_count": 4,
   "metadata": {},
   "outputs": [],
   "source": [
    "segmentos = []\n",
    "\n",
    "# Leer los archivos CSV segmentados y almacenarlos en la lista\n",
    "for i in range(0,3):\n",
    "    segmento = pd.read_csv(f'../data/processed/segmento_{i+1}.csv')\n",
    "    segmentos.append(segmento)\n",
    "# Concatenar los DataFrames de los segmentos en uno solo\n",
    "df1 = pd.concat(segmentos, ignore_index=True)"
   ]
  },
  {
   "attachments": {},
   "cell_type": "markdown",
   "metadata": {},
   "source": [
    "Se separa el test del Dataframe original no balanceado para asegurar que los datos nuevos serán similares a los reales a predecir, manteniendo proporción en los datos"
   ]
  },
  {
   "cell_type": "code",
   "execution_count": 5,
   "metadata": {},
   "outputs": [],
   "source": [
    "# Crear las variables para features y target\n",
    "X = df1[['amt', 'city_pop', 'distancia', 'fraudes_por_Categoria',\n",
    "       'fraudes_por_estado', 'fraudes_por_edad', 'fraudes_por_hora',\n",
    "       'fraudes_por_día']]\n",
    "y = df1['is_fraud']\n",
    "\n",
    "# Separamos una muestra del DataFrame para probar el modelo\n",
    "X_train, X_test, y_train, y_test = train_test_split(X,\n",
    "                                                   y,\n",
    "                                                   test_size = 0.1,\n",
    "                                                   random_state=0, stratify=y)\n"
   ]
  },
  {
   "attachments": {},
   "cell_type": "markdown",
   "metadata": {},
   "source": [
    "Una vez obtenido el test, se pasa a balancear los datos, tanto para aligerar la carga del entrenamiento, como para intentar que el modelo prediga mejor la clase minoritaría."
   ]
  },
  {
   "cell_type": "code",
   "execution_count": 4,
   "metadata": {},
   "outputs": [],
   "source": [
    "# Aplicamos undersampling a los datos\n",
    "rus = RandomUnderSampler()\n",
    "\n",
    "X_resampled, y_resampled = rus.fit_resample(X_train, y_train)\n",
    "\n",
    "# # Separamos el nuevo conjunto en X e y\n",
    "# X_under = X_resampled\n",
    "# y_under = y_resampled"
   ]
  },
  {
   "cell_type": "code",
   "execution_count": 5,
   "metadata": {},
   "outputs": [],
   "source": [
    "# Define las proporciones deseadas para cada clase\n",
    "sampling_strategy = {\n",
    "    0: int(0.025 * len(y_train)),\n",
    "    1: int(0.3 * len(y_train)) if int(0.3 * len(y_train)) <= sum(y_train == 1) else sum(y_train == 1)\n",
    "}\n",
    "\n",
    "rus = RandomUnderSampler(random_state=0, sampling_strategy=sampling_strategy)\n",
    "\n",
    "X_resampled, y_resampled = rus.fit_resample(X_train, y_train)"
   ]
  },
  {
   "attachments": {},
   "cell_type": "markdown",
   "metadata": {},
   "source": [
    "Se separa en train y test."
   ]
  },
  {
   "cell_type": "code",
   "execution_count": 64,
   "metadata": {},
   "outputs": [],
   "source": [
    "# # Volvemos a separar en test y train para que el test original y los datos del undersample no contaminen a examinar\n",
    "# X_train_und, X_test_und, y_train_und, y_test_und = train_test_split(X_under,\n",
    "#                                                    y_under,\n",
    "#                                                    test_size = 0.2,\n",
    "#                                                    random_state=0)"
   ]
  },
  {
   "attachments": {},
   "cell_type": "markdown",
   "metadata": {},
   "source": [
    "Con un GridSearch, se hiperparametriza un GradientBoostingClassifier."
   ]
  },
  {
   "cell_type": "code",
   "execution_count": 6,
   "metadata": {},
   "outputs": [],
   "source": [
    "scaler = StandardScaler()\n",
    "X_scaled = scaler.fit_transform(X_resampled)\n",
    "X_scaled_test_resampled = scaler.transform(X_test)"
   ]
  },
  {
   "cell_type": "code",
   "execution_count": 7,
   "metadata": {},
   "outputs": [],
   "source": [
    "pca = PCA(n_components=8)\n",
    "X_pca = pca.fit_transform(X_scaled)"
   ]
  },
  {
   "cell_type": "code",
   "execution_count": 9,
   "metadata": {},
   "outputs": [],
   "source": [
    "# Aplicamos undersampling a los datos\n",
    "rus = RandomUnderSampler()\n",
    "\n",
    "X_resampled, y_resampled = rus.fit_resample(X_pca, y_resampled)"
   ]
  },
  {
   "cell_type": "code",
   "execution_count": 44,
   "metadata": {},
   "outputs": [
    {
     "name": "stdout",
     "output_type": "stream",
     "text": [
      "Fitting 3 folds for each of 4 candidates, totalling 12 fits\n"
     ]
    },
    {
     "data": {
      "text/html": [
       "<style>#sk-container-id-7 {color: black;background-color: white;}#sk-container-id-7 pre{padding: 0;}#sk-container-id-7 div.sk-toggleable {background-color: white;}#sk-container-id-7 label.sk-toggleable__label {cursor: pointer;display: block;width: 100%;margin-bottom: 0;padding: 0.3em;box-sizing: border-box;text-align: center;}#sk-container-id-7 label.sk-toggleable__label-arrow:before {content: \"▸\";float: left;margin-right: 0.25em;color: #696969;}#sk-container-id-7 label.sk-toggleable__label-arrow:hover:before {color: black;}#sk-container-id-7 div.sk-estimator:hover label.sk-toggleable__label-arrow:before {color: black;}#sk-container-id-7 div.sk-toggleable__content {max-height: 0;max-width: 0;overflow: hidden;text-align: left;background-color: #f0f8ff;}#sk-container-id-7 div.sk-toggleable__content pre {margin: 0.2em;color: black;border-radius: 0.25em;background-color: #f0f8ff;}#sk-container-id-7 input.sk-toggleable__control:checked~div.sk-toggleable__content {max-height: 200px;max-width: 100%;overflow: auto;}#sk-container-id-7 input.sk-toggleable__control:checked~label.sk-toggleable__label-arrow:before {content: \"▾\";}#sk-container-id-7 div.sk-estimator input.sk-toggleable__control:checked~label.sk-toggleable__label {background-color: #d4ebff;}#sk-container-id-7 div.sk-label input.sk-toggleable__control:checked~label.sk-toggleable__label {background-color: #d4ebff;}#sk-container-id-7 input.sk-hidden--visually {border: 0;clip: rect(1px 1px 1px 1px);clip: rect(1px, 1px, 1px, 1px);height: 1px;margin: -1px;overflow: hidden;padding: 0;position: absolute;width: 1px;}#sk-container-id-7 div.sk-estimator {font-family: monospace;background-color: #f0f8ff;border: 1px dotted black;border-radius: 0.25em;box-sizing: border-box;margin-bottom: 0.5em;}#sk-container-id-7 div.sk-estimator:hover {background-color: #d4ebff;}#sk-container-id-7 div.sk-parallel-item::after {content: \"\";width: 100%;border-bottom: 1px solid gray;flex-grow: 1;}#sk-container-id-7 div.sk-label:hover label.sk-toggleable__label {background-color: #d4ebff;}#sk-container-id-7 div.sk-serial::before {content: \"\";position: absolute;border-left: 1px solid gray;box-sizing: border-box;top: 0;bottom: 0;left: 50%;z-index: 0;}#sk-container-id-7 div.sk-serial {display: flex;flex-direction: column;align-items: center;background-color: white;padding-right: 0.2em;padding-left: 0.2em;position: relative;}#sk-container-id-7 div.sk-item {position: relative;z-index: 1;}#sk-container-id-7 div.sk-parallel {display: flex;align-items: stretch;justify-content: center;background-color: white;position: relative;}#sk-container-id-7 div.sk-item::before, #sk-container-id-7 div.sk-parallel-item::before {content: \"\";position: absolute;border-left: 1px solid gray;box-sizing: border-box;top: 0;bottom: 0;left: 50%;z-index: -1;}#sk-container-id-7 div.sk-parallel-item {display: flex;flex-direction: column;z-index: 1;position: relative;background-color: white;}#sk-container-id-7 div.sk-parallel-item:first-child::after {align-self: flex-end;width: 50%;}#sk-container-id-7 div.sk-parallel-item:last-child::after {align-self: flex-start;width: 50%;}#sk-container-id-7 div.sk-parallel-item:only-child::after {width: 0;}#sk-container-id-7 div.sk-dashed-wrapped {border: 1px dashed gray;margin: 0 0.4em 0.5em 0.4em;box-sizing: border-box;padding-bottom: 0.4em;background-color: white;}#sk-container-id-7 div.sk-label label {font-family: monospace;font-weight: bold;display: inline-block;line-height: 1.2em;}#sk-container-id-7 div.sk-label-container {text-align: center;}#sk-container-id-7 div.sk-container {/* jupyter's `normalize.less` sets `[hidden] { display: none; }` but bootstrap.min.css set `[hidden] { display: none !important; }` so we also need the `!important` here to be able to override the default hidden behavior on the sphinx rendered scikit-learn.org. See: https://github.com/scikit-learn/scikit-learn/issues/21755 */display: inline-block !important;position: relative;}#sk-container-id-7 div.sk-text-repr-fallback {display: none;}</style><div id=\"sk-container-id-7\" class=\"sk-top-container\"><div class=\"sk-text-repr-fallback\"><pre>GridSearchCV(cv=3,\n",
       "             estimator=Pipeline(steps=[(&#x27;pca&#x27;, PCA()),\n",
       "                                       (&#x27;classifier&#x27;,\n",
       "                                        RandomForestClassifier())]),\n",
       "             n_jobs=-1,\n",
       "             param_grid={&#x27;classifier__class_weight&#x27;: [{0: 1, 1: 100}],\n",
       "                         &#x27;pca__n_components&#x27;: [2, 4, 6, 8]},\n",
       "             scoring=&#x27;roc_auc&#x27;, verbose=10)</pre><b>In a Jupyter environment, please rerun this cell to show the HTML representation or trust the notebook. <br />On GitHub, the HTML representation is unable to render, please try loading this page with nbviewer.org.</b></div><div class=\"sk-container\" hidden><div class=\"sk-item sk-dashed-wrapped\"><div class=\"sk-label-container\"><div class=\"sk-label sk-toggleable\"><input class=\"sk-toggleable__control sk-hidden--visually\" id=\"sk-estimator-id-25\" type=\"checkbox\" ><label for=\"sk-estimator-id-25\" class=\"sk-toggleable__label sk-toggleable__label-arrow\">GridSearchCV</label><div class=\"sk-toggleable__content\"><pre>GridSearchCV(cv=3,\n",
       "             estimator=Pipeline(steps=[(&#x27;pca&#x27;, PCA()),\n",
       "                                       (&#x27;classifier&#x27;,\n",
       "                                        RandomForestClassifier())]),\n",
       "             n_jobs=-1,\n",
       "             param_grid={&#x27;classifier__class_weight&#x27;: [{0: 1, 1: 100}],\n",
       "                         &#x27;pca__n_components&#x27;: [2, 4, 6, 8]},\n",
       "             scoring=&#x27;roc_auc&#x27;, verbose=10)</pre></div></div></div><div class=\"sk-parallel\"><div class=\"sk-parallel-item\"><div class=\"sk-item\"><div class=\"sk-label-container\"><div class=\"sk-label sk-toggleable\"><input class=\"sk-toggleable__control sk-hidden--visually\" id=\"sk-estimator-id-26\" type=\"checkbox\" ><label for=\"sk-estimator-id-26\" class=\"sk-toggleable__label sk-toggleable__label-arrow\">estimator: Pipeline</label><div class=\"sk-toggleable__content\"><pre>Pipeline(steps=[(&#x27;pca&#x27;, PCA()), (&#x27;classifier&#x27;, RandomForestClassifier())])</pre></div></div></div><div class=\"sk-serial\"><div class=\"sk-item\"><div class=\"sk-serial\"><div class=\"sk-item\"><div class=\"sk-estimator sk-toggleable\"><input class=\"sk-toggleable__control sk-hidden--visually\" id=\"sk-estimator-id-27\" type=\"checkbox\" ><label for=\"sk-estimator-id-27\" class=\"sk-toggleable__label sk-toggleable__label-arrow\">PCA</label><div class=\"sk-toggleable__content\"><pre>PCA()</pre></div></div></div><div class=\"sk-item\"><div class=\"sk-estimator sk-toggleable\"><input class=\"sk-toggleable__control sk-hidden--visually\" id=\"sk-estimator-id-28\" type=\"checkbox\" ><label for=\"sk-estimator-id-28\" class=\"sk-toggleable__label sk-toggleable__label-arrow\">RandomForestClassifier</label><div class=\"sk-toggleable__content\"><pre>RandomForestClassifier()</pre></div></div></div></div></div></div></div></div></div></div></div></div>"
      ],
      "text/plain": [
       "GridSearchCV(cv=3,\n",
       "             estimator=Pipeline(steps=[('pca', PCA()),\n",
       "                                       ('classifier',\n",
       "                                        RandomForestClassifier())]),\n",
       "             n_jobs=-1,\n",
       "             param_grid={'classifier__class_weight': [{0: 1, 1: 100}],\n",
       "                         'pca__n_components': [2, 4, 6, 8]},\n",
       "             scoring='roc_auc', verbose=10)"
      ]
     },
     "execution_count": 44,
     "metadata": {},
     "output_type": "execute_result"
    }
   ],
   "source": [
    "# Definir el pipeline con PCA\n",
    "pipe = Pipeline(steps=[\n",
    "    ('pca', PCA()),\n",
    "    ('classifier', RandomForestClassifier())\n",
    "])\n",
    "\n",
    "# Definir los parámetros del GridSearchCV para Random Forest con PCA\n",
    "rf_params= {\n",
    "    'pca__n_components': [2,4,6,8],\n",
    "    'classifier__class_weight': [{0: 1, 1: 100}],\n",
    "}\n",
    "\n",
    "# Crear el GridSearchCV\n",
    "clf = GridSearchCV(estimator=pipe, param_grid=rf_params, cv=3, scoring=\"roc_auc\", verbose=10, n_jobs=-1)\n",
    "\n",
    "# Ajustar el GridSearchCV\n",
    "clf.fit(X_train, y_train)"
   ]
  },
  {
   "cell_type": "code",
   "execution_count": 45,
   "metadata": {},
   "outputs": [
    {
     "name": "stdout",
     "output_type": "stream",
     "text": [
      "{'classifier__class_weight': {0: 1, 1: 100}, 'pca__n_components': 8}\n",
      "0.9777454036819782\n",
      "Pipeline(steps=[('pca', PCA(n_components=8)),\n",
      "                ('classifier',\n",
      "                 RandomForestClassifier(class_weight={0: 1, 1: 100}))])\n"
     ]
    }
   ],
   "source": [
    "print(clf.best_params_)\n",
    "print(clf.best_score_)\n",
    "print(clf.best_estimator_)"
   ]
  },
  {
   "cell_type": "code",
   "execution_count": 46,
   "metadata": {},
   "outputs": [],
   "source": [
    "predictions = clf.predict(X_test)"
   ]
  },
  {
   "cell_type": "code",
   "execution_count": 47,
   "metadata": {},
   "outputs": [
    {
     "name": "stdout",
     "output_type": "stream",
     "text": [
      "[[128873     44]\n",
      " [   247    504]]\n"
     ]
    },
    {
     "data": {
      "image/png": "[encoded data removed]",
      "text/plain": [
       "<Figure size 640x480 with 2 Axes>"
      ]
     },
     "metadata": {},
     "output_type": "display_data"
    }
   ],
   "source": [
    "c_matrix = confusion_matrix(y_test, predictions)\n",
    "print(c_matrix)\n",
    "sns.heatmap(c_matrix, annot=True);"
   ]
  },
  {
   "cell_type": "code",
   "execution_count": 10,
   "metadata": {},
   "outputs": [],
   "source": [
    "from sklearn.metrics import precision_score, recall_score, roc_auc_score"
   ]
  },
  {
   "cell_type": "code",
   "execution_count": 48,
   "metadata": {},
   "outputs": [
    {
     "data": {
      "text/plain": [
       "0.9197080291970803"
      ]
     },
     "execution_count": 48,
     "metadata": {},
     "output_type": "execute_result"
    }
   ],
   "source": [
    "precision_score(y_test, predictions)"
   ]
  },
  {
   "cell_type": "code",
   "execution_count": 49,
   "metadata": {},
   "outputs": [
    {
     "data": {
      "text/plain": [
       "0.6711051930758988"
      ]
     },
     "execution_count": 49,
     "metadata": {},
     "output_type": "execute_result"
    }
   ],
   "source": [
    "recall_score(y_test, predictions)"
   ]
  },
  {
   "cell_type": "code",
   "execution_count": 50,
   "metadata": {},
   "outputs": [
    {
     "data": {
      "text/plain": [
       "0.8353819441026615"
      ]
     },
     "execution_count": 50,
     "metadata": {},
     "output_type": "execute_result"
    }
   ],
   "source": [
    "roc_auc_score(y_test, predictions)"
   ]
  },
  {
   "cell_type": "code",
   "execution_count": 14,
   "metadata": {},
   "outputs": [
    {
     "name": "stdout",
     "output_type": "stream",
     "text": [
      "Fitting 3 folds for each of 9 candidates, totalling 27 fits\n"
     ]
    },
    {
     "data": {
      "text/html": [
       "<style>#sk-container-id-2 {color: black;background-color: white;}#sk-container-id-2 pre{padding: 0;}#sk-container-id-2 div.sk-toggleable {background-color: white;}#sk-container-id-2 label.sk-toggleable__label {cursor: pointer;display: block;width: 100%;margin-bottom: 0;padding: 0.3em;box-sizing: border-box;text-align: center;}#sk-container-id-2 label.sk-toggleable__label-arrow:before {content: \"▸\";float: left;margin-right: 0.25em;color: #696969;}#sk-container-id-2 label.sk-toggleable__label-arrow:hover:before {color: black;}#sk-container-id-2 div.sk-estimator:hover label.sk-toggleable__label-arrow:before {color: black;}#sk-container-id-2 div.sk-toggleable__content {max-height: 0;max-width: 0;overflow: hidden;text-align: left;background-color: #f0f8ff;}#sk-container-id-2 div.sk-toggleable__content pre {margin: 0.2em;color: black;border-radius: 0.25em;background-color: #f0f8ff;}#sk-container-id-2 input.sk-toggleable__control:checked~div.sk-toggleable__content {max-height: 200px;max-width: 100%;overflow: auto;}#sk-container-id-2 input.sk-toggleable__control:checked~label.sk-toggleable__label-arrow:before {content: \"▾\";}#sk-container-id-2 div.sk-estimator input.sk-toggleable__control:checked~label.sk-toggleable__label {background-color: #d4ebff;}#sk-container-id-2 div.sk-label input.sk-toggleable__control:checked~label.sk-toggleable__label {background-color: #d4ebff;}#sk-container-id-2 input.sk-hidden--visually {border: 0;clip: rect(1px 1px 1px 1px);clip: rect(1px, 1px, 1px, 1px);height: 1px;margin: -1px;overflow: hidden;padding: 0;position: absolute;width: 1px;}#sk-container-id-2 div.sk-estimator {font-family: monospace;background-color: #f0f8ff;border: 1px dotted black;border-radius: 0.25em;box-sizing: border-box;margin-bottom: 0.5em;}#sk-container-id-2 div.sk-estimator:hover {background-color: #d4ebff;}#sk-container-id-2 div.sk-parallel-item::after {content: \"\";width: 100%;border-bottom: 1px solid gray;flex-grow: 1;}#sk-container-id-2 div.sk-label:hover label.sk-toggleable__label {background-color: #d4ebff;}#sk-container-id-2 div.sk-serial::before {content: \"\";position: absolute;border-left: 1px solid gray;box-sizing: border-box;top: 0;bottom: 0;left: 50%;z-index: 0;}#sk-container-id-2 div.sk-serial {display: flex;flex-direction: column;align-items: center;background-color: white;padding-right: 0.2em;padding-left: 0.2em;position: relative;}#sk-container-id-2 div.sk-item {position: relative;z-index: 1;}#sk-container-id-2 div.sk-parallel {display: flex;align-items: stretch;justify-content: center;background-color: white;position: relative;}#sk-container-id-2 div.sk-item::before, #sk-container-id-2 div.sk-parallel-item::before {content: \"\";position: absolute;border-left: 1px solid gray;box-sizing: border-box;top: 0;bottom: 0;left: 50%;z-index: -1;}#sk-container-id-2 div.sk-parallel-item {display: flex;flex-direction: column;z-index: 1;position: relative;background-color: white;}#sk-container-id-2 div.sk-parallel-item:first-child::after {align-self: flex-end;width: 50%;}#sk-container-id-2 div.sk-parallel-item:last-child::after {align-self: flex-start;width: 50%;}#sk-container-id-2 div.sk-parallel-item:only-child::after {width: 0;}#sk-container-id-2 div.sk-dashed-wrapped {border: 1px dashed gray;margin: 0 0.4em 0.5em 0.4em;box-sizing: border-box;padding-bottom: 0.4em;background-color: white;}#sk-container-id-2 div.sk-label label {font-family: monospace;font-weight: bold;display: inline-block;line-height: 1.2em;}#sk-container-id-2 div.sk-label-container {text-align: center;}#sk-container-id-2 div.sk-container {/* jupyter's `normalize.less` sets `[hidden] { display: none; }` but bootstrap.min.css set `[hidden] { display: none !important; }` so we also need the `!important` here to be able to override the default hidden behavior on the sphinx rendered scikit-learn.org. See: https://github.com/scikit-learn/scikit-learn/issues/21755 */display: inline-block !important;position: relative;}#sk-container-id-2 div.sk-text-repr-fallback {display: none;}</style><div id=\"sk-container-id-2\" class=\"sk-top-container\"><div class=\"sk-text-repr-fallback\"><pre>GridSearchCV(cv=3,\n",
       "             estimator=Pipeline(steps=[(&#x27;pca&#x27;, PCA()),\n",
       "                                       (&#x27;classifier&#x27;,\n",
       "                                        RandomForestClassifier())]),\n",
       "             n_jobs=-1,\n",
       "             param_grid={&#x27;classifier__class_weight&#x27;: [{0: 1, 1: 100}],\n",
       "                         &#x27;classifier__max_depth&#x27;: [6, 7, 8],\n",
       "                         &#x27;pca__n_components&#x27;: [6, 7, 8]},\n",
       "             scoring=&#x27;recall&#x27;, verbose=10)</pre><b>In a Jupyter environment, please rerun this cell to show the HTML representation or trust the notebook. <br />On GitHub, the HTML representation is unable to render, please try loading this page with nbviewer.org.</b></div><div class=\"sk-container\" hidden><div class=\"sk-item sk-dashed-wrapped\"><div class=\"sk-label-container\"><div class=\"sk-label sk-toggleable\"><input class=\"sk-toggleable__control sk-hidden--visually\" id=\"sk-estimator-id-5\" type=\"checkbox\" ><label for=\"sk-estimator-id-5\" class=\"sk-toggleable__label sk-toggleable__label-arrow\">GridSearchCV</label><div class=\"sk-toggleable__content\"><pre>GridSearchCV(cv=3,\n",
       "             estimator=Pipeline(steps=[(&#x27;pca&#x27;, PCA()),\n",
       "                                       (&#x27;classifier&#x27;,\n",
       "                                        RandomForestClassifier())]),\n",
       "             n_jobs=-1,\n",
       "             param_grid={&#x27;classifier__class_weight&#x27;: [{0: 1, 1: 100}],\n",
       "                         &#x27;classifier__max_depth&#x27;: [6, 7, 8],\n",
       "                         &#x27;pca__n_components&#x27;: [6, 7, 8]},\n",
       "             scoring=&#x27;recall&#x27;, verbose=10)</pre></div></div></div><div class=\"sk-parallel\"><div class=\"sk-parallel-item\"><div class=\"sk-item\"><div class=\"sk-label-container\"><div class=\"sk-label sk-toggleable\"><input class=\"sk-toggleable__control sk-hidden--visually\" id=\"sk-estimator-id-6\" type=\"checkbox\" ><label for=\"sk-estimator-id-6\" class=\"sk-toggleable__label sk-toggleable__label-arrow\">estimator: Pipeline</label><div class=\"sk-toggleable__content\"><pre>Pipeline(steps=[(&#x27;pca&#x27;, PCA()), (&#x27;classifier&#x27;, RandomForestClassifier())])</pre></div></div></div><div class=\"sk-serial\"><div class=\"sk-item\"><div class=\"sk-serial\"><div class=\"sk-item\"><div class=\"sk-estimator sk-toggleable\"><input class=\"sk-toggleable__control sk-hidden--visually\" id=\"sk-estimator-id-7\" type=\"checkbox\" ><label for=\"sk-estimator-id-7\" class=\"sk-toggleable__label sk-toggleable__label-arrow\">PCA</label><div class=\"sk-toggleable__content\"><pre>PCA()</pre></div></div></div><div class=\"sk-item\"><div class=\"sk-estimator sk-toggleable\"><input class=\"sk-toggleable__control sk-hidden--visually\" id=\"sk-estimator-id-8\" type=\"checkbox\" ><label for=\"sk-estimator-id-8\" class=\"sk-toggleable__label sk-toggleable__label-arrow\">RandomForestClassifier</label><div class=\"sk-toggleable__content\"><pre>RandomForestClassifier()</pre></div></div></div></div></div></div></div></div></div></div></div></div>"
      ],
      "text/plain": [
       "GridSearchCV(cv=3,\n",
       "             estimator=Pipeline(steps=[('pca', PCA()),\n",
       "                                       ('classifier',\n",
       "                                        RandomForestClassifier())]),\n",
       "             n_jobs=-1,\n",
       "             param_grid={'classifier__class_weight': [{0: 1, 1: 100}],\n",
       "                         'classifier__max_depth': [6, 7, 8],\n",
       "                         'pca__n_components': [6, 7, 8]},\n",
       "             scoring='recall', verbose=10)"
      ]
     },
     "execution_count": 14,
     "metadata": {},
     "output_type": "execute_result"
    }
   ],
   "source": [
    "# Definir el pipeline con PCA\n",
    "pipe = Pipeline(steps=[\n",
    "    ('pca', PCA()),\n",
    "    ('classifier', RandomForestClassifier())\n",
    "])\n",
    "\n",
    "# Definir los parámetros del GridSearchCV para Random Forest con PCA\n",
    "rf_params= {\n",
    "    'pca__n_components': [6,7,8],\n",
    "    'classifier__class_weight': [{0: 1, 1: 100}],\n",
    "    'classifier__max_depth': [6,7,8]\n",
    "}\n",
    "\n",
    "# Crear el GridSearchCV\n",
    "clf = GridSearchCV(estimator=pipe, param_grid=rf_params, cv=3, scoring=\"recall\", verbose=10, n_jobs=-1)\n",
    "\n",
    "# Ajustar el GridSearchCV\n",
    "clf.fit(X_train, y_train)"
   ]
  },
  {
   "cell_type": "code",
   "execution_count": 15,
   "metadata": {},
   "outputs": [],
   "source": [
    "predictions = clf.predict(X_test)"
   ]
  },
  {
   "cell_type": "code",
   "execution_count": 16,
   "metadata": {},
   "outputs": [
    {
     "name": "stdout",
     "output_type": "stream",
     "text": [
      "[[126300   2617]\n",
      " [    54    697]]\n"
     ]
    },
    {
     "data": {
      "text/plain": [
       "<Axes: >"
      ]
     },
     "execution_count": 16,
     "metadata": {},
     "output_type": "execute_result"
    },
    {
     "data": {
      "image/png": "[encoded data removed]",
      "text/plain": [
       "<Figure size 640x480 with 2 Axes>"
      ]
     },
     "metadata": {},
     "output_type": "display_data"
    }
   ],
   "source": [
    "c_matrix = confusion_matrix(y_test, predictions)\n",
    "print(c_matrix)\n",
    "sns.heatmap(c_matrix, annot=True)"
   ]
  },
  {
   "cell_type": "code",
   "execution_count": 17,
   "metadata": {},
   "outputs": [
    {
     "name": "stdout",
     "output_type": "stream",
     "text": [
      "Precision score: 0.21031985515992757\n",
      "Recall score: 0.9280958721704394\n",
      "ROC AUC score: 0.9538979946500326\n"
     ]
    }
   ],
   "source": [
    "print(\"Precision score:\", precision_score(y_test, predictions))\n",
    "print(\"Recall score:\", recall_score(y_test, predictions))\n",
    "print(\"ROC AUC score:\", roc_auc_score(y_test, predictions))"
   ]
  },
  {
   "cell_type": "code",
   "execution_count": 18,
   "metadata": {},
   "outputs": [
    {
     "name": "stdout",
     "output_type": "stream",
     "text": [
      "{'classifier__class_weight': {0: 1, 1: 100}, 'classifier__max_depth': 8, 'pca__n_components': 6}\n",
      "0.9218351478022134\n",
      "Pipeline(steps=[('pca', PCA(n_components=6)),\n",
      "                ('classifier',\n",
      "                 RandomForestClassifier(class_weight={0: 1, 1: 100},\n",
      "                                        max_depth=8))])\n"
     ]
    }
   ],
   "source": [
    "print(clf.best_params_)\n",
    "print(clf.best_score_)\n",
    "print(clf.best_estimator_)"
   ]
  },
  {
   "cell_type": "code",
   "execution_count": null,
   "metadata": {},
   "outputs": [],
   "source": [
    "# Definir el pipeline con PCA\n",
    "pipe = Pipeline(steps=[\n",
    "    ('pca', PCA()),\n",
    "    ('classifier', RandomForestClassifier())\n",
    "])\n",
    "\n",
    "# Definir los parámetros del GridSearchCV para Random Forest con PCA\n",
    "rf_params= {\n",
    "    'pca__n_components': [5,6,7],\n",
    "    'classifier__class_weight': [{0: 1, 1: 75}],\n",
    "    'classifier__max_depth': [10,11]\n",
    "}\n",
    "\n",
    "# Crear el GridSearchCV\n",
    "clf = GridSearchCV(estimator=pipe, param_grid=rf_params, cv=3, scoring=\"recall\", verbose=10)\n",
    "\n",
    "# Ajustar el GridSearchCV\n",
    "clf.fit(X_train, y_train)"
   ]
  },
  {
   "cell_type": "code",
   "execution_count": null,
   "metadata": {},
   "outputs": [],
   "source": [
    "predictions = clf.predict(X_test)"
   ]
  },
  {
   "cell_type": "code",
   "execution_count": 20,
   "metadata": {},
   "outputs": [
    {
     "name": "stdout",
     "output_type": "stream",
     "text": [
      "{'classifier__class_weight': {0: 1, 1: 75}, 'classifier__max_depth': 10, 'pca__n_components': 5}\n",
      "0.9129538901071269\n",
      "Pipeline(steps=[('pca', PCA(n_components=5)),\n",
      "                ('classifier',\n",
      "                 RandomForestClassifier(class_weight={0: 1, 1: 75},\n",
      "                                        max_depth=10))])\n"
     ]
    }
   ],
   "source": [
    "print(clf.best_params_)\n",
    "print(clf.best_score_)\n",
    "print(clf.best_estimator_)"
   ]
  },
  {
   "cell_type": "code",
   "execution_count": 21,
   "metadata": {},
   "outputs": [
    {
     "name": "stdout",
     "output_type": "stream",
     "text": [
      "[[126300   2617]\n",
      " [    54    697]]\n"
     ]
    },
    {
     "data": {
      "image/png": "[encoded data removed]",
      "text/plain": [
       "<Figure size 640x480 with 2 Axes>"
      ]
     },
     "metadata": {},
     "output_type": "display_data"
    }
   ],
   "source": [
    "c_matrix = confusion_matrix(y_test, predictions)\n",
    "print(c_matrix)\n",
    "sns.heatmap(c_matrix, annot=True);"
   ]
  },
  {
   "cell_type": "code",
   "execution_count": 22,
   "metadata": {},
   "outputs": [
    {
     "name": "stdout",
     "output_type": "stream",
     "text": [
      "Precision score: 0.21031985515992757\n",
      "Recall score: 0.9280958721704394\n",
      "ROC AUC score: 0.9538979946500326\n"
     ]
    }
   ],
   "source": [
    "print(\"Precision score:\", precision_score(y_test, predictions))\n",
    "print(\"Recall score:\", recall_score(y_test, predictions))\n",
    "print(\"ROC AUC score:\", roc_auc_score(y_test, predictions))"
   ]
  },
  {
   "cell_type": "code",
   "execution_count": 8,
   "metadata": {},
   "outputs": [],
   "source": [
    "scaler = StandardScaler()\n",
    "X_scaled = scaler.fit_transform(X_train)\n",
    "x_test = scaler.transform(X_test)"
   ]
  },
  {
   "cell_type": "code",
   "execution_count": 9,
   "metadata": {},
   "outputs": [],
   "source": [
    "X_scaled = X_scaled.astype(\"float16\")"
   ]
  },
  {
   "cell_type": "code",
   "execution_count": 77,
   "metadata": {},
   "outputs": [
    {
     "data": {
      "text/plain": [
       "dtype('float16')"
      ]
     },
     "execution_count": 77,
     "metadata": {},
     "output_type": "execute_result"
    }
   ],
   "source": [
    "X_scaled.dtype"
   ]
  },
  {
   "cell_type": "code",
   "execution_count": 81,
   "metadata": {},
   "outputs": [
    {
     "data": {
      "text/plain": [
       "dtype('float64')"
      ]
     },
     "execution_count": 81,
     "metadata": {},
     "output_type": "execute_result"
    }
   ],
   "source": [
    "x_test.dtype"
   ]
  },
  {
   "cell_type": "code",
   "execution_count": 10,
   "metadata": {},
   "outputs": [],
   "source": [
    "X_test = X_test.astype(\"float16\")"
   ]
  },
  {
   "cell_type": "code",
   "execution_count": 11,
   "metadata": {},
   "outputs": [],
   "source": [
    "y_train = y_train.astype(\"float16\")"
   ]
  },
  {
   "cell_type": "code",
   "execution_count": 85,
   "metadata": {},
   "outputs": [
    {
     "name": "stdout",
     "output_type": "stream",
     "text": [
      "Fitting 3 folds for each of 32 candidates, totalling 96 fits\n",
      "[CV 1/3; 1/32] START classifier__class_weight={0: 1, 1: 50}, classifier__max_depth=5, pca__n_components=1\n",
      "[CV 1/3; 1/32] END classifier__class_weight={0: 1, 1: 50}, classifier__max_depth=5, pca__n_components=1;, score=0.814 total time= 1.5min\n",
      "[CV 2/3; 1/32] START classifier__class_weight={0: 1, 1: 50}, classifier__max_depth=5, pca__n_components=1\n",
      "[CV 2/3; 1/32] END classifier__class_weight={0: 1, 1: 50}, classifier__max_depth=5, pca__n_components=1;, score=0.685 total time= 1.6min\n",
      "[CV 3/3; 1/32] START classifier__class_weight={0: 1, 1: 50}, classifier__max_depth=5, pca__n_components=1\n",
      "[CV 3/3; 1/32] END classifier__class_weight={0: 1, 1: 50}, classifier__max_depth=5, pca__n_components=1;, score=0.638 total time= 1.6min\n",
      "[CV 1/3; 2/32] START classifier__class_weight={0: 1, 1: 50}, classifier__max_depth=5, pca__n_components=2\n",
      "[CV 1/3; 2/32] END classifier__class_weight={0: 1, 1: 50}, classifier__max_depth=5, pca__n_components=2;, score=0.881 total time= 1.4min\n",
      "[CV 2/3; 2/32] START classifier__class_weight={0: 1, 1: 50}, classifier__max_depth=5, pca__n_components=2\n",
      "[CV 2/3; 2/32] END classifier__class_weight={0: 1, 1: 50}, classifier__max_depth=5, pca__n_components=2;, score=0.890 total time= 1.5min\n",
      "[CV 3/3; 2/32] START classifier__class_weight={0: 1, 1: 50}, classifier__max_depth=5, pca__n_components=2\n",
      "[CV 3/3; 2/32] END classifier__class_weight={0: 1, 1: 50}, classifier__max_depth=5, pca__n_components=2;, score=0.886 total time= 1.4min\n",
      "[CV 1/3; 3/32] START classifier__class_weight={0: 1, 1: 50}, classifier__max_depth=5, pca__n_components=3\n",
      "[CV 1/3; 3/32] END classifier__class_weight={0: 1, 1: 50}, classifier__max_depth=5, pca__n_components=3;, score=0.948 total time= 1.3min\n",
      "[CV 2/3; 3/32] START classifier__class_weight={0: 1, 1: 50}, classifier__max_depth=5, pca__n_components=3\n",
      "[CV 2/3; 3/32] END classifier__class_weight={0: 1, 1: 50}, classifier__max_depth=5, pca__n_components=3;, score=0.936 total time= 1.3min\n",
      "[CV 3/3; 3/32] START classifier__class_weight={0: 1, 1: 50}, classifier__max_depth=5, pca__n_components=3\n",
      "[CV 3/3; 3/32] END classifier__class_weight={0: 1, 1: 50}, classifier__max_depth=5, pca__n_components=3;, score=0.941 total time= 1.5min\n",
      "[CV 1/3; 4/32] START classifier__class_weight={0: 1, 1: 50}, classifier__max_depth=5, pca__n_components=4\n",
      "[CV 1/3; 4/32] END classifier__class_weight={0: 1, 1: 50}, classifier__max_depth=5, pca__n_components=4;, score=0.950 total time= 2.3min\n",
      "[CV 2/3; 4/32] START classifier__class_weight={0: 1, 1: 50}, classifier__max_depth=5, pca__n_components=4\n",
      "[CV 2/3; 4/32] END classifier__class_weight={0: 1, 1: 50}, classifier__max_depth=5, pca__n_components=4;, score=0.941 total time= 2.5min\n",
      "[CV 3/3; 4/32] START classifier__class_weight={0: 1, 1: 50}, classifier__max_depth=5, pca__n_components=4\n",
      "[CV 3/3; 4/32] END classifier__class_weight={0: 1, 1: 50}, classifier__max_depth=5, pca__n_components=4;, score=0.948 total time= 2.3min\n",
      "[CV 1/3; 5/32] START classifier__class_weight={0: 1, 1: 50}, classifier__max_depth=5, pca__n_components=5\n",
      "[CV 1/3; 5/32] END classifier__class_weight={0: 1, 1: 50}, classifier__max_depth=5, pca__n_components=5;, score=0.947 total time= 2.2min\n",
      "[CV 2/3; 5/32] START classifier__class_weight={0: 1, 1: 50}, classifier__max_depth=5, pca__n_components=5\n",
      "[CV 2/3; 5/32] END classifier__class_weight={0: 1, 1: 50}, classifier__max_depth=5, pca__n_components=5;, score=0.941 total time= 2.2min\n",
      "[CV 3/3; 5/32] START classifier__class_weight={0: 1, 1: 50}, classifier__max_depth=5, pca__n_components=5\n",
      "[CV 3/3; 5/32] END classifier__class_weight={0: 1, 1: 50}, classifier__max_depth=5, pca__n_components=5;, score=0.945 total time= 2.1min\n",
      "[CV 1/3; 6/32] START classifier__class_weight={0: 1, 1: 50}, classifier__max_depth=5, pca__n_components=6\n",
      "[CV 1/3; 6/32] END classifier__class_weight={0: 1, 1: 50}, classifier__max_depth=5, pca__n_components=6;, score=0.947 total time= 2.2min\n",
      "[CV 2/3; 6/32] START classifier__class_weight={0: 1, 1: 50}, classifier__max_depth=5, pca__n_components=6\n",
      "[CV 2/3; 6/32] END classifier__class_weight={0: 1, 1: 50}, classifier__max_depth=5, pca__n_components=6;, score=0.942 total time= 2.0min\n",
      "[CV 3/3; 6/32] START classifier__class_weight={0: 1, 1: 50}, classifier__max_depth=5, pca__n_components=6\n",
      "[CV 3/3; 6/32] END classifier__class_weight={0: 1, 1: 50}, classifier__max_depth=5, pca__n_components=6;, score=0.950 total time= 1.9min\n",
      "[CV 1/3; 7/32] START classifier__class_weight={0: 1, 1: 50}, classifier__max_depth=5, pca__n_components=7\n",
      "[CV 1/3; 7/32] END classifier__class_weight={0: 1, 1: 50}, classifier__max_depth=5, pca__n_components=7;, score=0.956 total time= 1.9min\n",
      "[CV 2/3; 7/32] START classifier__class_weight={0: 1, 1: 50}, classifier__max_depth=5, pca__n_components=7\n",
      "[CV 2/3; 7/32] END classifier__class_weight={0: 1, 1: 50}, classifier__max_depth=5, pca__n_components=7;, score=0.953 total time= 2.0min\n",
      "[CV 3/3; 7/32] START classifier__class_weight={0: 1, 1: 50}, classifier__max_depth=5, pca__n_components=7\n",
      "[CV 3/3; 7/32] END classifier__class_weight={0: 1, 1: 50}, classifier__max_depth=5, pca__n_components=7;, score=0.956 total time= 2.1min\n",
      "[CV 1/3; 8/32] START classifier__class_weight={0: 1, 1: 50}, classifier__max_depth=5, pca__n_components=8\n",
      "[CV 1/3; 8/32] END classifier__class_weight={0: 1, 1: 50}, classifier__max_depth=5, pca__n_components=8;, score=0.954 total time= 2.1min\n",
      "[CV 2/3; 8/32] START classifier__class_weight={0: 1, 1: 50}, classifier__max_depth=5, pca__n_components=8\n",
      "[CV 2/3; 8/32] END classifier__class_weight={0: 1, 1: 50}, classifier__max_depth=5, pca__n_components=8;, score=0.950 total time= 2.1min\n",
      "[CV 3/3; 8/32] START classifier__class_weight={0: 1, 1: 50}, classifier__max_depth=5, pca__n_components=8\n",
      "[CV 3/3; 8/32] END classifier__class_weight={0: 1, 1: 50}, classifier__max_depth=5, pca__n_components=8;, score=0.954 total time= 2.2min\n",
      "[CV 1/3; 9/32] START classifier__class_weight={0: 1, 1: 50}, classifier__max_depth=10, pca__n_components=1\n",
      "[CV 1/3; 9/32] END classifier__class_weight={0: 1, 1: 50}, classifier__max_depth=10, pca__n_components=1;, score=0.812 total time= 2.7min\n",
      "[CV 2/3; 9/32] START classifier__class_weight={0: 1, 1: 50}, classifier__max_depth=10, pca__n_components=1\n",
      "[CV 2/3; 9/32] END classifier__class_weight={0: 1, 1: 50}, classifier__max_depth=10, pca__n_components=1;, score=0.682 total time= 2.6min\n",
      "[CV 3/3; 9/32] START classifier__class_weight={0: 1, 1: 50}, classifier__max_depth=10, pca__n_components=1\n",
      "[CV 3/3; 9/32] END classifier__class_weight={0: 1, 1: 50}, classifier__max_depth=10, pca__n_components=1;, score=0.630 total time= 2.6min\n",
      "[CV 1/3; 10/32] START classifier__class_weight={0: 1, 1: 50}, classifier__max_depth=10, pca__n_components=2\n",
      "[CV 1/3; 10/32] END classifier__class_weight={0: 1, 1: 50}, classifier__max_depth=10, pca__n_components=2;, score=0.902 total time= 2.6min\n",
      "[CV 2/3; 10/32] START classifier__class_weight={0: 1, 1: 50}, classifier__max_depth=10, pca__n_components=2\n",
      "[CV 2/3; 10/32] END classifier__class_weight={0: 1, 1: 50}, classifier__max_depth=10, pca__n_components=2;, score=0.903 total time= 2.5min\n",
      "[CV 3/3; 10/32] START classifier__class_weight={0: 1, 1: 50}, classifier__max_depth=10, pca__n_components=2\n",
      "[CV 3/3; 10/32] END classifier__class_weight={0: 1, 1: 50}, classifier__max_depth=10, pca__n_components=2;, score=0.899 total time= 2.5min\n",
      "[CV 1/3; 11/32] START classifier__class_weight={0: 1, 1: 50}, classifier__max_depth=10, pca__n_components=3\n",
      "[CV 1/3; 11/32] END classifier__class_weight={0: 1, 1: 50}, classifier__max_depth=10, pca__n_components=3;, score=0.958 total time= 2.3min\n",
      "[CV 2/3; 11/32] START classifier__class_weight={0: 1, 1: 50}, classifier__max_depth=10, pca__n_components=3\n",
      "[CV 2/3; 11/32] END classifier__class_weight={0: 1, 1: 50}, classifier__max_depth=10, pca__n_components=3;, score=0.948 total time= 2.4min\n",
      "[CV 3/3; 11/32] START classifier__class_weight={0: 1, 1: 50}, classifier__max_depth=10, pca__n_components=3\n",
      "[CV 3/3; 11/32] END classifier__class_weight={0: 1, 1: 50}, classifier__max_depth=10, pca__n_components=3;, score=0.952 total time= 2.4min\n",
      "[CV 1/3; 12/32] START classifier__class_weight={0: 1, 1: 50}, classifier__max_depth=10, pca__n_components=4\n",
      "[CV 1/3; 12/32] END classifier__class_weight={0: 1, 1: 50}, classifier__max_depth=10, pca__n_components=4;, score=0.958 total time= 4.0min\n",
      "[CV 2/3; 12/32] START classifier__class_weight={0: 1, 1: 50}, classifier__max_depth=10, pca__n_components=4\n",
      "[CV 2/3; 12/32] END classifier__class_weight={0: 1, 1: 50}, classifier__max_depth=10, pca__n_components=4;, score=0.952 total time= 4.0min\n",
      "[CV 3/3; 12/32] START classifier__class_weight={0: 1, 1: 50}, classifier__max_depth=10, pca__n_components=4\n",
      "[CV 3/3; 12/32] END classifier__class_weight={0: 1, 1: 50}, classifier__max_depth=10, pca__n_components=4;, score=0.961 total time= 4.1min\n",
      "[CV 1/3; 13/32] START classifier__class_weight={0: 1, 1: 50}, classifier__max_depth=10, pca__n_components=5\n",
      "[CV 1/3; 13/32] END classifier__class_weight={0: 1, 1: 50}, classifier__max_depth=10, pca__n_components=5;, score=0.958 total time= 3.9min\n",
      "[CV 2/3; 13/32] START classifier__class_weight={0: 1, 1: 50}, classifier__max_depth=10, pca__n_components=5\n",
      "[CV 2/3; 13/32] END classifier__class_weight={0: 1, 1: 50}, classifier__max_depth=10, pca__n_components=5;, score=0.955 total time= 3.6min\n",
      "[CV 3/3; 13/32] START classifier__class_weight={0: 1, 1: 50}, classifier__max_depth=10, pca__n_components=5\n",
      "[CV 3/3; 13/32] END classifier__class_weight={0: 1, 1: 50}, classifier__max_depth=10, pca__n_components=5;, score=0.959 total time= 3.4min\n",
      "[CV 1/3; 14/32] START classifier__class_weight={0: 1, 1: 50}, classifier__max_depth=10, pca__n_components=6\n",
      "[CV 1/3; 14/32] END classifier__class_weight={0: 1, 1: 50}, classifier__max_depth=10, pca__n_components=6;, score=0.960 total time= 3.4min\n",
      "[CV 2/3; 14/32] START classifier__class_weight={0: 1, 1: 50}, classifier__max_depth=10, pca__n_components=6\n",
      "[CV 2/3; 14/32] END classifier__class_weight={0: 1, 1: 50}, classifier__max_depth=10, pca__n_components=6;, score=0.959 total time= 3.4min\n",
      "[CV 3/3; 14/32] START classifier__class_weight={0: 1, 1: 50}, classifier__max_depth=10, pca__n_components=6\n",
      "[CV 3/3; 14/32] END classifier__class_weight={0: 1, 1: 50}, classifier__max_depth=10, pca__n_components=6;, score=0.967 total time= 3.4min\n",
      "[CV 1/3; 15/32] START classifier__class_weight={0: 1, 1: 50}, classifier__max_depth=10, pca__n_components=7\n",
      "[CV 1/3; 15/32] END classifier__class_weight={0: 1, 1: 50}, classifier__max_depth=10, pca__n_components=7;, score=0.972 total time= 3.2min\n",
      "[CV 2/3; 15/32] START classifier__class_weight={0: 1, 1: 50}, classifier__max_depth=10, pca__n_components=7\n",
      "[CV 2/3; 15/32] END classifier__class_weight={0: 1, 1: 50}, classifier__max_depth=10, pca__n_components=7;, score=0.974 total time= 3.8min\n",
      "[CV 3/3; 15/32] START classifier__class_weight={0: 1, 1: 50}, classifier__max_depth=10, pca__n_components=7\n",
      "[CV 3/3; 15/32] END classifier__class_weight={0: 1, 1: 50}, classifier__max_depth=10, pca__n_components=7;, score=0.978 total time= 4.5min\n",
      "[CV 1/3; 16/32] START classifier__class_weight={0: 1, 1: 50}, classifier__max_depth=10, pca__n_components=8\n",
      "[CV 1/3; 16/32] END classifier__class_weight={0: 1, 1: 50}, classifier__max_depth=10, pca__n_components=8;, score=0.972 total time= 3.9min\n",
      "[CV 2/3; 16/32] START classifier__class_weight={0: 1, 1: 50}, classifier__max_depth=10, pca__n_components=8\n",
      "[CV 2/3; 16/32] END classifier__class_weight={0: 1, 1: 50}, classifier__max_depth=10, pca__n_components=8;, score=0.972 total time= 3.4min\n",
      "[CV 3/3; 16/32] START classifier__class_weight={0: 1, 1: 50}, classifier__max_depth=10, pca__n_components=8\n",
      "[CV 3/3; 16/32] END classifier__class_weight={0: 1, 1: 50}, classifier__max_depth=10, pca__n_components=8;, score=0.976 total time= 3.4min\n",
      "[CV 1/3; 17/32] START classifier__class_weight={0: 1, 1: 50}, classifier__max_depth=15, pca__n_components=1\n",
      "[CV 1/3; 17/32] END classifier__class_weight={0: 1, 1: 50}, classifier__max_depth=15, pca__n_components=1;, score=0.792 total time= 3.2min\n",
      "[CV 2/3; 17/32] START classifier__class_weight={0: 1, 1: 50}, classifier__max_depth=15, pca__n_components=1\n",
      "[CV 2/3; 17/32] END classifier__class_weight={0: 1, 1: 50}, classifier__max_depth=15, pca__n_components=1;, score=0.660 total time= 2.9min\n",
      "[CV 3/3; 17/32] START classifier__class_weight={0: 1, 1: 50}, classifier__max_depth=15, pca__n_components=1\n",
      "[CV 3/3; 17/32] END classifier__class_weight={0: 1, 1: 50}, classifier__max_depth=15, pca__n_components=1;, score=0.614 total time= 3.3min\n",
      "[CV 1/3; 18/32] START classifier__class_weight={0: 1, 1: 50}, classifier__max_depth=15, pca__n_components=2\n",
      "[CV 1/3; 18/32] END classifier__class_weight={0: 1, 1: 50}, classifier__max_depth=15, pca__n_components=2;, score=0.901 total time= 3.2min\n",
      "[CV 2/3; 18/32] START classifier__class_weight={0: 1, 1: 50}, classifier__max_depth=15, pca__n_components=2\n",
      "[CV 2/3; 18/32] END classifier__class_weight={0: 1, 1: 50}, classifier__max_depth=15, pca__n_components=2;, score=0.890 total time= 3.2min\n",
      "[CV 3/3; 18/32] START classifier__class_weight={0: 1, 1: 50}, classifier__max_depth=15, pca__n_components=2\n",
      "[CV 3/3; 18/32] END classifier__class_weight={0: 1, 1: 50}, classifier__max_depth=15, pca__n_components=2;, score=0.887 total time= 3.3min\n",
      "[CV 1/3; 19/32] START classifier__class_weight={0: 1, 1: 50}, classifier__max_depth=15, pca__n_components=3\n",
      "[CV 1/3; 19/32] END classifier__class_weight={0: 1, 1: 50}, classifier__max_depth=15, pca__n_components=3;, score=0.957 total time= 3.7min\n",
      "[CV 2/3; 19/32] START classifier__class_weight={0: 1, 1: 50}, classifier__max_depth=15, pca__n_components=3\n",
      "[CV 2/3; 19/32] END classifier__class_weight={0: 1, 1: 50}, classifier__max_depth=15, pca__n_components=3;, score=0.946 total time= 3.2min\n",
      "[CV 3/3; 19/32] START classifier__class_weight={0: 1, 1: 50}, classifier__max_depth=15, pca__n_components=3\n",
      "[CV 3/3; 19/32] END classifier__class_weight={0: 1, 1: 50}, classifier__max_depth=15, pca__n_components=3;, score=0.947 total time= 3.5min\n",
      "[CV 1/3; 20/32] START classifier__class_weight={0: 1, 1: 50}, classifier__max_depth=15, pca__n_components=4\n",
      "[CV 1/3; 20/32] END classifier__class_weight={0: 1, 1: 50}, classifier__max_depth=15, pca__n_components=4;, score=0.954 total time= 6.6min\n",
      "[CV 2/3; 20/32] START classifier__class_weight={0: 1, 1: 50}, classifier__max_depth=15, pca__n_components=4\n",
      "[CV 2/3; 20/32] END classifier__class_weight={0: 1, 1: 50}, classifier__max_depth=15, pca__n_components=4;, score=0.948 total time= 6.9min\n",
      "[CV 3/3; 20/32] START classifier__class_weight={0: 1, 1: 50}, classifier__max_depth=15, pca__n_components=4\n",
      "[CV 3/3; 20/32] END classifier__class_weight={0: 1, 1: 50}, classifier__max_depth=15, pca__n_components=4;, score=0.957 total time= 6.8min\n",
      "[CV 1/3; 21/32] START classifier__class_weight={0: 1, 1: 50}, classifier__max_depth=15, pca__n_components=5\n",
      "[CV 1/3; 21/32] END classifier__class_weight={0: 1, 1: 50}, classifier__max_depth=15, pca__n_components=5;, score=0.957 total time= 5.6min\n",
      "[CV 2/3; 21/32] START classifier__class_weight={0: 1, 1: 50}, classifier__max_depth=15, pca__n_components=5\n",
      "[CV 2/3; 21/32] END classifier__class_weight={0: 1, 1: 50}, classifier__max_depth=15, pca__n_components=5;, score=0.957 total time= 6.8min\n",
      "[CV 3/3; 21/32] START classifier__class_weight={0: 1, 1: 50}, classifier__max_depth=15, pca__n_components=5\n",
      "[CV 3/3; 21/32] END classifier__class_weight={0: 1, 1: 50}, classifier__max_depth=15, pca__n_components=5;, score=0.960 total time= 6.2min\n",
      "[CV 1/3; 22/32] START classifier__class_weight={0: 1, 1: 50}, classifier__max_depth=15, pca__n_components=6\n",
      "[CV 1/3; 22/32] END classifier__class_weight={0: 1, 1: 50}, classifier__max_depth=15, pca__n_components=6;, score=0.961 total time= 7.4min\n",
      "[CV 2/3; 22/32] START classifier__class_weight={0: 1, 1: 50}, classifier__max_depth=15, pca__n_components=6\n",
      "[CV 2/3; 22/32] END classifier__class_weight={0: 1, 1: 50}, classifier__max_depth=15, pca__n_components=6;, score=0.964 total time= 6.1min\n",
      "[CV 3/3; 22/32] START classifier__class_weight={0: 1, 1: 50}, classifier__max_depth=15, pca__n_components=6\n",
      "[CV 3/3; 22/32] END classifier__class_weight={0: 1, 1: 50}, classifier__max_depth=15, pca__n_components=6;, score=0.971 total time= 5.3min\n",
      "[CV 1/3; 23/32] START classifier__class_weight={0: 1, 1: 50}, classifier__max_depth=15, pca__n_components=7\n",
      "[CV 1/3; 23/32] END classifier__class_weight={0: 1, 1: 50}, classifier__max_depth=15, pca__n_components=7;, score=0.975 total time= 5.3min\n",
      "[CV 2/3; 23/32] START classifier__class_weight={0: 1, 1: 50}, classifier__max_depth=15, pca__n_components=7\n",
      "[CV 2/3; 23/32] END classifier__class_weight={0: 1, 1: 50}, classifier__max_depth=15, pca__n_components=7;, score=0.977 total time= 5.9min\n",
      "[CV 3/3; 23/32] START classifier__class_weight={0: 1, 1: 50}, classifier__max_depth=15, pca__n_components=7\n",
      "[CV 3/3; 23/32] END classifier__class_weight={0: 1, 1: 50}, classifier__max_depth=15, pca__n_components=7;, score=0.981 total time= 7.1min\n",
      "[CV 1/3; 24/32] START classifier__class_weight={0: 1, 1: 50}, classifier__max_depth=15, pca__n_components=8\n",
      "[CV 1/3; 24/32] END classifier__class_weight={0: 1, 1: 50}, classifier__max_depth=15, pca__n_components=8;, score=0.975 total time= 7.5min\n",
      "[CV 2/3; 24/32] START classifier__class_weight={0: 1, 1: 50}, classifier__max_depth=15, pca__n_components=8\n",
      "[CV 2/3; 24/32] END classifier__class_weight={0: 1, 1: 50}, classifier__max_depth=15, pca__n_components=8;, score=0.977 total time= 7.3min\n",
      "[CV 3/3; 24/32] START classifier__class_weight={0: 1, 1: 50}, classifier__max_depth=15, pca__n_components=8\n",
      "[CV 3/3; 24/32] END classifier__class_weight={0: 1, 1: 50}, classifier__max_depth=15, pca__n_components=8;, score=0.980 total time= 5.8min\n",
      "[CV 1/3; 25/32] START classifier__class_weight={0: 1, 1: 50}, classifier__max_depth=20, pca__n_components=1\n",
      "[CV 1/3; 25/32] END classifier__class_weight={0: 1, 1: 50}, classifier__max_depth=20, pca__n_components=1;, score=0.763 total time= 5.6min\n",
      "[CV 2/3; 25/32] START classifier__class_weight={0: 1, 1: 50}, classifier__max_depth=20, pca__n_components=1\n",
      "[CV 2/3; 25/32] END classifier__class_weight={0: 1, 1: 50}, classifier__max_depth=20, pca__n_components=1;, score=0.638 total time= 5.0min\n",
      "[CV 3/3; 25/32] START classifier__class_weight={0: 1, 1: 50}, classifier__max_depth=20, pca__n_components=1\n",
      "[CV 3/3; 25/32] END classifier__class_weight={0: 1, 1: 50}, classifier__max_depth=20, pca__n_components=1;, score=0.599 total time= 4.8min\n",
      "[CV 1/3; 26/32] START classifier__class_weight={0: 1, 1: 50}, classifier__max_depth=20, pca__n_components=2\n",
      "[CV 1/3; 26/32] END classifier__class_weight={0: 1, 1: 50}, classifier__max_depth=20, pca__n_components=2;, score=0.890 total time= 4.3min\n",
      "[CV 2/3; 26/32] START classifier__class_weight={0: 1, 1: 50}, classifier__max_depth=20, pca__n_components=2\n",
      "[CV 2/3; 26/32] END classifier__class_weight={0: 1, 1: 50}, classifier__max_depth=20, pca__n_components=2;, score=0.868 total time= 4.1min\n",
      "[CV 3/3; 26/32] START classifier__class_weight={0: 1, 1: 50}, classifier__max_depth=20, pca__n_components=2\n",
      "[CV 3/3; 26/32] END classifier__class_weight={0: 1, 1: 50}, classifier__max_depth=20, pca__n_components=2;, score=0.873 total time= 4.4min\n",
      "[CV 1/3; 27/32] START classifier__class_weight={0: 1, 1: 50}, classifier__max_depth=20, pca__n_components=3\n",
      "[CV 1/3; 27/32] END classifier__class_weight={0: 1, 1: 50}, classifier__max_depth=20, pca__n_components=3;, score=0.953 total time= 4.1min\n",
      "[CV 2/3; 27/32] START classifier__class_weight={0: 1, 1: 50}, classifier__max_depth=20, pca__n_components=3\n",
      "[CV 2/3; 27/32] END classifier__class_weight={0: 1, 1: 50}, classifier__max_depth=20, pca__n_components=3;, score=0.939 total time= 4.0min\n",
      "[CV 3/3; 27/32] START classifier__class_weight={0: 1, 1: 50}, classifier__max_depth=20, pca__n_components=3\n",
      "[CV 3/3; 27/32] END classifier__class_weight={0: 1, 1: 50}, classifier__max_depth=20, pca__n_components=3;, score=0.938 total time= 3.8min\n",
      "[CV 1/3; 28/32] START classifier__class_weight={0: 1, 1: 50}, classifier__max_depth=20, pca__n_components=4\n",
      "[CV 1/3; 28/32] END classifier__class_weight={0: 1, 1: 50}, classifier__max_depth=20, pca__n_components=4;, score=0.948 total time= 7.4min\n",
      "[CV 2/3; 28/32] START classifier__class_weight={0: 1, 1: 50}, classifier__max_depth=20, pca__n_components=4\n",
      "[CV 2/3; 28/32] END classifier__class_weight={0: 1, 1: 50}, classifier__max_depth=20, pca__n_components=4;, score=0.936 total time= 7.1min\n",
      "[CV 3/3; 28/32] START classifier__class_weight={0: 1, 1: 50}, classifier__max_depth=20, pca__n_components=4\n",
      "[CV 3/3; 28/32] END classifier__class_weight={0: 1, 1: 50}, classifier__max_depth=20, pca__n_components=4;, score=0.943 total time= 7.1min\n",
      "[CV 1/3; 29/32] START classifier__class_weight={0: 1, 1: 50}, classifier__max_depth=20, pca__n_components=5\n",
      "[CV 1/3; 29/32] END classifier__class_weight={0: 1, 1: 50}, classifier__max_depth=20, pca__n_components=5;, score=0.954 total time= 6.8min\n",
      "[CV 2/3; 29/32] START classifier__class_weight={0: 1, 1: 50}, classifier__max_depth=20, pca__n_components=5\n",
      "[CV 2/3; 29/32] END classifier__class_weight={0: 1, 1: 50}, classifier__max_depth=20, pca__n_components=5;, score=0.953 total time= 6.3min\n",
      "[CV 3/3; 29/32] START classifier__class_weight={0: 1, 1: 50}, classifier__max_depth=20, pca__n_components=5\n",
      "[CV 3/3; 29/32] END classifier__class_weight={0: 1, 1: 50}, classifier__max_depth=20, pca__n_components=5;, score=0.947 total time= 6.8min\n",
      "[CV 1/3; 30/32] START classifier__class_weight={0: 1, 1: 50}, classifier__max_depth=20, pca__n_components=6\n",
      "[CV 1/3; 30/32] END classifier__class_weight={0: 1, 1: 50}, classifier__max_depth=20, pca__n_components=6;, score=0.960 total time= 6.9min\n",
      "[CV 2/3; 30/32] START classifier__class_weight={0: 1, 1: 50}, classifier__max_depth=20, pca__n_components=6\n",
      "[CV 2/3; 30/32] END classifier__class_weight={0: 1, 1: 50}, classifier__max_depth=20, pca__n_components=6;, score=0.963 total time= 6.7min\n",
      "[CV 3/3; 30/32] START classifier__class_weight={0: 1, 1: 50}, classifier__max_depth=20, pca__n_components=6\n",
      "[CV 3/3; 30/32] END classifier__class_weight={0: 1, 1: 50}, classifier__max_depth=20, pca__n_components=6;, score=0.970 total time= 7.2min\n",
      "[CV 1/3; 31/32] START classifier__class_weight={0: 1, 1: 50}, classifier__max_depth=20, pca__n_components=7\n",
      "[CV 1/3; 31/32] END classifier__class_weight={0: 1, 1: 50}, classifier__max_depth=20, pca__n_components=7;, score=0.974 total time= 6.3min\n",
      "[CV 2/3; 31/32] START classifier__class_weight={0: 1, 1: 50}, classifier__max_depth=20, pca__n_components=7\n",
      "[CV 2/3; 31/32] END classifier__class_weight={0: 1, 1: 50}, classifier__max_depth=20, pca__n_components=7;, score=0.975 total time= 6.3min\n",
      "[CV 3/3; 31/32] START classifier__class_weight={0: 1, 1: 50}, classifier__max_depth=20, pca__n_components=7\n",
      "[CV 3/3; 31/32] END classifier__class_weight={0: 1, 1: 50}, classifier__max_depth=20, pca__n_components=7;, score=0.977 total time= 6.0min\n",
      "[CV 1/3; 32/32] START classifier__class_weight={0: 1, 1: 50}, classifier__max_depth=20, pca__n_components=8\n",
      "[CV 1/3; 32/32] END classifier__class_weight={0: 1, 1: 50}, classifier__max_depth=20, pca__n_components=8;, score=0.974 total time= 5.7min\n",
      "[CV 2/3; 32/32] START classifier__class_weight={0: 1, 1: 50}, classifier__max_depth=20, pca__n_components=8\n",
      "[CV 2/3; 32/32] END classifier__class_weight={0: 1, 1: 50}, classifier__max_depth=20, pca__n_components=8;, score=0.974 total time= 5.8min\n",
      "[CV 3/3; 32/32] START classifier__class_weight={0: 1, 1: 50}, classifier__max_depth=20, pca__n_components=8\n",
      "[CV 3/3; 32/32] END classifier__class_weight={0: 1, 1: 50}, classifier__max_depth=20, pca__n_components=8;, score=0.977 total time=21.9min\n"
     ]
    },
    {
     "data": {
      "text/html": [
       "<style>#sk-container-id-11 {color: black;background-color: white;}#sk-container-id-11 pre{padding: 0;}#sk-container-id-11 div.sk-toggleable {background-color: white;}#sk-container-id-11 label.sk-toggleable__label {cursor: pointer;display: block;width: 100%;margin-bottom: 0;padding: 0.3em;box-sizing: border-box;text-align: center;}#sk-container-id-11 label.sk-toggleable__label-arrow:before {content: \"▸\";float: left;margin-right: 0.25em;color: #696969;}#sk-container-id-11 label.sk-toggleable__label-arrow:hover:before {color: black;}#sk-container-id-11 div.sk-estimator:hover label.sk-toggleable__label-arrow:before {color: black;}#sk-container-id-11 div.sk-toggleable__content {max-height: 0;max-width: 0;overflow: hidden;text-align: left;background-color: #f0f8ff;}#sk-container-id-11 div.sk-toggleable__content pre {margin: 0.2em;color: black;border-radius: 0.25em;background-color: #f0f8ff;}#sk-container-id-11 input.sk-toggleable__control:checked~div.sk-toggleable__content {max-height: 200px;max-width: 100%;overflow: auto;}#sk-container-id-11 input.sk-toggleable__control:checked~label.sk-toggleable__label-arrow:before {content: \"▾\";}#sk-container-id-11 div.sk-estimator input.sk-toggleable__control:checked~label.sk-toggleable__label {background-color: #d4ebff;}#sk-container-id-11 div.sk-label input.sk-toggleable__control:checked~label.sk-toggleable__label {background-color: #d4ebff;}#sk-container-id-11 input.sk-hidden--visually {border: 0;clip: rect(1px 1px 1px 1px);clip: rect(1px, 1px, 1px, 1px);height: 1px;margin: -1px;overflow: hidden;padding: 0;position: absolute;width: 1px;}#sk-container-id-11 div.sk-estimator {font-family: monospace;background-color: #f0f8ff;border: 1px dotted black;border-radius: 0.25em;box-sizing: border-box;margin-bottom: 0.5em;}#sk-container-id-11 div.sk-estimator:hover {background-color: #d4ebff;}#sk-container-id-11 div.sk-parallel-item::after {content: \"\";width: 100%;border-bottom: 1px solid gray;flex-grow: 1;}#sk-container-id-11 div.sk-label:hover label.sk-toggleable__label {background-color: #d4ebff;}#sk-container-id-11 div.sk-serial::before {content: \"\";position: absolute;border-left: 1px solid gray;box-sizing: border-box;top: 0;bottom: 0;left: 50%;z-index: 0;}#sk-container-id-11 div.sk-serial {display: flex;flex-direction: column;align-items: center;background-color: white;padding-right: 0.2em;padding-left: 0.2em;position: relative;}#sk-container-id-11 div.sk-item {position: relative;z-index: 1;}#sk-container-id-11 div.sk-parallel {display: flex;align-items: stretch;justify-content: center;background-color: white;position: relative;}#sk-container-id-11 div.sk-item::before, #sk-container-id-11 div.sk-parallel-item::before {content: \"\";position: absolute;border-left: 1px solid gray;box-sizing: border-box;top: 0;bottom: 0;left: 50%;z-index: -1;}#sk-container-id-11 div.sk-parallel-item {display: flex;flex-direction: column;z-index: 1;position: relative;background-color: white;}#sk-container-id-11 div.sk-parallel-item:first-child::after {align-self: flex-end;width: 50%;}#sk-container-id-11 div.sk-parallel-item:last-child::after {align-self: flex-start;width: 50%;}#sk-container-id-11 div.sk-parallel-item:only-child::after {width: 0;}#sk-container-id-11 div.sk-dashed-wrapped {border: 1px dashed gray;margin: 0 0.4em 0.5em 0.4em;box-sizing: border-box;padding-bottom: 0.4em;background-color: white;}#sk-container-id-11 div.sk-label label {font-family: monospace;font-weight: bold;display: inline-block;line-height: 1.2em;}#sk-container-id-11 div.sk-label-container {text-align: center;}#sk-container-id-11 div.sk-container {/* jupyter's `normalize.less` sets `[hidden] { display: none; }` but bootstrap.min.css set `[hidden] { display: none !important; }` so we also need the `!important` here to be able to override the default hidden behavior on the sphinx rendered scikit-learn.org. See: https://github.com/scikit-learn/scikit-learn/issues/21755 */display: inline-block !important;position: relative;}#sk-container-id-11 div.sk-text-repr-fallback {display: none;}</style><div id=\"sk-container-id-11\" class=\"sk-top-container\"><div class=\"sk-text-repr-fallback\"><pre>GridSearchCV(cv=3,\n",
       "             estimator=Pipeline(steps=[(&#x27;pca&#x27;, PCA()),\n",
       "                                       (&#x27;classifier&#x27;,\n",
       "                                        RandomForestClassifier())]),\n",
       "             param_grid={&#x27;classifier__class_weight&#x27;: [{0: 1, 1: 50}],\n",
       "                         &#x27;classifier__max_depth&#x27;: [5, 10, 15, 20],\n",
       "                         &#x27;pca__n_components&#x27;: array([1, 2, 3, 4, 5, 6, 7, 8])},\n",
       "             scoring=&#x27;roc_auc&#x27;, verbose=10)</pre><b>In a Jupyter environment, please rerun this cell to show the HTML representation or trust the notebook. <br />On GitHub, the HTML representation is unable to render, please try loading this page with nbviewer.org.</b></div><div class=\"sk-container\" hidden><div class=\"sk-item sk-dashed-wrapped\"><div class=\"sk-label-container\"><div class=\"sk-label sk-toggleable\"><input class=\"sk-toggleable__control sk-hidden--visually\" id=\"sk-estimator-id-41\" type=\"checkbox\" ><label for=\"sk-estimator-id-41\" class=\"sk-toggleable__label sk-toggleable__label-arrow\">GridSearchCV</label><div class=\"sk-toggleable__content\"><pre>GridSearchCV(cv=3,\n",
       "             estimator=Pipeline(steps=[(&#x27;pca&#x27;, PCA()),\n",
       "                                       (&#x27;classifier&#x27;,\n",
       "                                        RandomForestClassifier())]),\n",
       "             param_grid={&#x27;classifier__class_weight&#x27;: [{0: 1, 1: 50}],\n",
       "                         &#x27;classifier__max_depth&#x27;: [5, 10, 15, 20],\n",
       "                         &#x27;pca__n_components&#x27;: array([1, 2, 3, 4, 5, 6, 7, 8])},\n",
       "             scoring=&#x27;roc_auc&#x27;, verbose=10)</pre></div></div></div><div class=\"sk-parallel\"><div class=\"sk-parallel-item\"><div class=\"sk-item\"><div class=\"sk-label-container\"><div class=\"sk-label sk-toggleable\"><input class=\"sk-toggleable__control sk-hidden--visually\" id=\"sk-estimator-id-42\" type=\"checkbox\" ><label for=\"sk-estimator-id-42\" class=\"sk-toggleable__label sk-toggleable__label-arrow\">estimator: Pipeline</label><div class=\"sk-toggleable__content\"><pre>Pipeline(steps=[(&#x27;pca&#x27;, PCA()), (&#x27;classifier&#x27;, RandomForestClassifier())])</pre></div></div></div><div class=\"sk-serial\"><div class=\"sk-item\"><div class=\"sk-serial\"><div class=\"sk-item\"><div class=\"sk-estimator sk-toggleable\"><input class=\"sk-toggleable__control sk-hidden--visually\" id=\"sk-estimator-id-43\" type=\"checkbox\" ><label for=\"sk-estimator-id-43\" class=\"sk-toggleable__label sk-toggleable__label-arrow\">PCA</label><div class=\"sk-toggleable__content\"><pre>PCA()</pre></div></div></div><div class=\"sk-item\"><div class=\"sk-estimator sk-toggleable\"><input class=\"sk-toggleable__control sk-hidden--visually\" id=\"sk-estimator-id-44\" type=\"checkbox\" ><label for=\"sk-estimator-id-44\" class=\"sk-toggleable__label sk-toggleable__label-arrow\">RandomForestClassifier</label><div class=\"sk-toggleable__content\"><pre>RandomForestClassifier()</pre></div></div></div></div></div></div></div></div></div></div></div></div>"
      ],
      "text/plain": [
       "GridSearchCV(cv=3,\n",
       "             estimator=Pipeline(steps=[('pca', PCA()),\n",
       "                                       ('classifier',\n",
       "                                        RandomForestClassifier())]),\n",
       "             param_grid={'classifier__class_weight': [{0: 1, 1: 50}],\n",
       "                         'classifier__max_depth': [5, 10, 15, 20],\n",
       "                         'pca__n_components': array([1, 2, 3, 4, 5, 6, 7, 8])},\n",
       "             scoring='roc_auc', verbose=10)"
      ]
     },
     "execution_count": 85,
     "metadata": {},
     "output_type": "execute_result"
    }
   ],
   "source": [
    "# Definir el pipeline con PCA\n",
    "pipe = Pipeline(steps=[\n",
    "    ('pca', PCA()),\n",
    "    ('classifier', RandomForestClassifier())\n",
    "])\n",
    "\n",
    "# Definir los parámetros del GridSearchCV para Random Forest con PCA\n",
    "rf_params= {\n",
    "    'pca__n_components': np.arange(1,9),\n",
    "    'classifier__class_weight': [{0: 1, 1: 50}],\n",
    "    'classifier__max_depth': [15]\n",
    "}\n",
    "\n",
    "# Crear el GridSearchCV\n",
    "clf = GridSearchCV(estimator=pipe, param_grid=rf_params, cv=3, scoring=\"roc_auc\", verbose=10)\n",
    "\n",
    "# Ajustar el GridSearchCV\n",
    "clf.fit(X_scaled, y_train)"
   ]
  },
  {
   "cell_type": "code",
   "execution_count": 12,
   "metadata": {},
   "outputs": [
    {
     "name": "stdout",
     "output_type": "stream",
     "text": [
      "Fitting 3 folds for each of 1 candidates, totalling 3 fits\n",
      "[CV 1/3; 1/1] START classifier__class_weight={0: 1, 1: 50}, classifier__max_depth=15, pca__n_components=7\n",
      "[CV 1/3; 1/1] END classifier__class_weight={0: 1, 1: 50}, classifier__max_depth=15, pca__n_components=7;, score=0.975 total time= 7.5min\n",
      "[CV 2/3; 1/1] START classifier__class_weight={0: 1, 1: 50}, classifier__max_depth=15, pca__n_components=7\n",
      "[CV 2/3; 1/1] END classifier__class_weight={0: 1, 1: 50}, classifier__max_depth=15, pca__n_components=7;, score=0.977 total time= 7.7min\n",
      "[CV 3/3; 1/1] START classifier__class_weight={0: 1, 1: 50}, classifier__max_depth=15, pca__n_components=7\n",
      "[CV 3/3; 1/1] END classifier__class_weight={0: 1, 1: 50}, classifier__max_depth=15, pca__n_components=7;, score=0.981 total time= 6.8min\n"
     ]
    },
    {
     "data": {
      "text/html": [
       "<style>#sk-container-id-1 {color: black;background-color: white;}#sk-container-id-1 pre{padding: 0;}#sk-container-id-1 div.sk-toggleable {background-color: white;}#sk-container-id-1 label.sk-toggleable__label {cursor: pointer;display: block;width: 100%;margin-bottom: 0;padding: 0.3em;box-sizing: border-box;text-align: center;}#sk-container-id-1 label.sk-toggleable__label-arrow:before {content: \"▸\";float: left;margin-right: 0.25em;color: #696969;}#sk-container-id-1 label.sk-toggleable__label-arrow:hover:before {color: black;}#sk-container-id-1 div.sk-estimator:hover label.sk-toggleable__label-arrow:before {color: black;}#sk-container-id-1 div.sk-toggleable__content {max-height: 0;max-width: 0;overflow: hidden;text-align: left;background-color: #f0f8ff;}#sk-container-id-1 div.sk-toggleable__content pre {margin: 0.2em;color: black;border-radius: 0.25em;background-color: #f0f8ff;}#sk-container-id-1 input.sk-toggleable__control:checked~div.sk-toggleable__content {max-height: 200px;max-width: 100%;overflow: auto;}#sk-container-id-1 input.sk-toggleable__control:checked~label.sk-toggleable__label-arrow:before {content: \"▾\";}#sk-container-id-1 div.sk-estimator input.sk-toggleable__control:checked~label.sk-toggleable__label {background-color: #d4ebff;}#sk-container-id-1 div.sk-label input.sk-toggleable__control:checked~label.sk-toggleable__label {background-color: #d4ebff;}#sk-container-id-1 input.sk-hidden--visually {border: 0;clip: rect(1px 1px 1px 1px);clip: rect(1px, 1px, 1px, 1px);height: 1px;margin: -1px;overflow: hidden;padding: 0;position: absolute;width: 1px;}#sk-container-id-1 div.sk-estimator {font-family: monospace;background-color: #f0f8ff;border: 1px dotted black;border-radius: 0.25em;box-sizing: border-box;margin-bottom: 0.5em;}#sk-container-id-1 div.sk-estimator:hover {background-color: #d4ebff;}#sk-container-id-1 div.sk-parallel-item::after {content: \"\";width: 100%;border-bottom: 1px solid gray;flex-grow: 1;}#sk-container-id-1 div.sk-label:hover label.sk-toggleable__label {background-color: #d4ebff;}#sk-container-id-1 div.sk-serial::before {content: \"\";position: absolute;border-left: 1px solid gray;box-sizing: border-box;top: 0;bottom: 0;left: 50%;z-index: 0;}#sk-container-id-1 div.sk-serial {display: flex;flex-direction: column;align-items: center;background-color: white;padding-right: 0.2em;padding-left: 0.2em;position: relative;}#sk-container-id-1 div.sk-item {position: relative;z-index: 1;}#sk-container-id-1 div.sk-parallel {display: flex;align-items: stretch;justify-content: center;background-color: white;position: relative;}#sk-container-id-1 div.sk-item::before, #sk-container-id-1 div.sk-parallel-item::before {content: \"\";position: absolute;border-left: 1px solid gray;box-sizing: border-box;top: 0;bottom: 0;left: 50%;z-index: -1;}#sk-container-id-1 div.sk-parallel-item {display: flex;flex-direction: column;z-index: 1;position: relative;background-color: white;}#sk-container-id-1 div.sk-parallel-item:first-child::after {align-self: flex-end;width: 50%;}#sk-container-id-1 div.sk-parallel-item:last-child::after {align-self: flex-start;width: 50%;}#sk-container-id-1 div.sk-parallel-item:only-child::after {width: 0;}#sk-container-id-1 div.sk-dashed-wrapped {border: 1px dashed gray;margin: 0 0.4em 0.5em 0.4em;box-sizing: border-box;padding-bottom: 0.4em;background-color: white;}#sk-container-id-1 div.sk-label label {font-family: monospace;font-weight: bold;display: inline-block;line-height: 1.2em;}#sk-container-id-1 div.sk-label-container {text-align: center;}#sk-container-id-1 div.sk-container {/* jupyter's `normalize.less` sets `[hidden] { display: none; }` but bootstrap.min.css set `[hidden] { display: none !important; }` so we also need the `!important` here to be able to override the default hidden behavior on the sphinx rendered scikit-learn.org. See: https://github.com/scikit-learn/scikit-learn/issues/21755 */display: inline-block !important;position: relative;}#sk-container-id-1 div.sk-text-repr-fallback {display: none;}</style><div id=\"sk-container-id-1\" class=\"sk-top-container\"><div class=\"sk-text-repr-fallback\"><pre>GridSearchCV(cv=3,\n",
       "             estimator=Pipeline(steps=[(&#x27;pca&#x27;, PCA()),\n",
       "                                       (&#x27;classifier&#x27;,\n",
       "                                        RandomForestClassifier())]),\n",
       "             param_grid={&#x27;classifier__class_weight&#x27;: [{0: 1, 1: 50}],\n",
       "                         &#x27;classifier__max_depth&#x27;: [15],\n",
       "                         &#x27;pca__n_components&#x27;: [7]},\n",
       "             scoring=&#x27;roc_auc&#x27;, verbose=10)</pre><b>In a Jupyter environment, please rerun this cell to show the HTML representation or trust the notebook. <br />On GitHub, the HTML representation is unable to render, please try loading this page with nbviewer.org.</b></div><div class=\"sk-container\" hidden><div class=\"sk-item sk-dashed-wrapped\"><div class=\"sk-label-container\"><div class=\"sk-label sk-toggleable\"><input class=\"sk-toggleable__control sk-hidden--visually\" id=\"sk-estimator-id-1\" type=\"checkbox\" ><label for=\"sk-estimator-id-1\" class=\"sk-toggleable__label sk-toggleable__label-arrow\">GridSearchCV</label><div class=\"sk-toggleable__content\"><pre>GridSearchCV(cv=3,\n",
       "             estimator=Pipeline(steps=[(&#x27;pca&#x27;, PCA()),\n",
       "                                       (&#x27;classifier&#x27;,\n",
       "                                        RandomForestClassifier())]),\n",
       "             param_grid={&#x27;classifier__class_weight&#x27;: [{0: 1, 1: 50}],\n",
       "                         &#x27;classifier__max_depth&#x27;: [15],\n",
       "                         &#x27;pca__n_components&#x27;: [7]},\n",
       "             scoring=&#x27;roc_auc&#x27;, verbose=10)</pre></div></div></div><div class=\"sk-parallel\"><div class=\"sk-parallel-item\"><div class=\"sk-item\"><div class=\"sk-label-container\"><div class=\"sk-label sk-toggleable\"><input class=\"sk-toggleable__control sk-hidden--visually\" id=\"sk-estimator-id-2\" type=\"checkbox\" ><label for=\"sk-estimator-id-2\" class=\"sk-toggleable__label sk-toggleable__label-arrow\">estimator: Pipeline</label><div class=\"sk-toggleable__content\"><pre>Pipeline(steps=[(&#x27;pca&#x27;, PCA()), (&#x27;classifier&#x27;, RandomForestClassifier())])</pre></div></div></div><div class=\"sk-serial\"><div class=\"sk-item\"><div class=\"sk-serial\"><div class=\"sk-item\"><div class=\"sk-estimator sk-toggleable\"><input class=\"sk-toggleable__control sk-hidden--visually\" id=\"sk-estimator-id-3\" type=\"checkbox\" ><label for=\"sk-estimator-id-3\" class=\"sk-toggleable__label sk-toggleable__label-arrow\">PCA</label><div class=\"sk-toggleable__content\"><pre>PCA()</pre></div></div></div><div class=\"sk-item\"><div class=\"sk-estimator sk-toggleable\"><input class=\"sk-toggleable__control sk-hidden--visually\" id=\"sk-estimator-id-4\" type=\"checkbox\" ><label for=\"sk-estimator-id-4\" class=\"sk-toggleable__label sk-toggleable__label-arrow\">RandomForestClassifier</label><div class=\"sk-toggleable__content\"><pre>RandomForestClassifier()</pre></div></div></div></div></div></div></div></div></div></div></div></div>"
      ],
      "text/plain": [
       "GridSearchCV(cv=3,\n",
       "             estimator=Pipeline(steps=[('pca', PCA()),\n",
       "                                       ('classifier',\n",
       "                                        RandomForestClassifier())]),\n",
       "             param_grid={'classifier__class_weight': [{0: 1, 1: 50}],\n",
       "                         'classifier__max_depth': [15],\n",
       "                         'pca__n_components': [7]},\n",
       "             scoring='roc_auc', verbose=10)"
      ]
     },
     "execution_count": 12,
     "metadata": {},
     "output_type": "execute_result"
    }
   ],
   "source": [
    "# Definir el pipeline con PCA\n",
    "pipe = Pipeline(steps=[\n",
    "    ('pca', PCA()),\n",
    "    ('classifier', RandomForestClassifier())\n",
    "])\n",
    "\n",
    "# Definir los parámetros del GridSearchCV para Random Forest con PCA\n",
    "rf_params= {\n",
    "    'pca__n_components': [7],\n",
    "    'classifier__class_weight': [{0: 1, 1: 50}],\n",
    "    'classifier__max_depth': [15]\n",
    "}\n",
    "\n",
    "# Crear el GridSearchCV\n",
    "clf = GridSearchCV(estimator=pipe, param_grid=rf_params, cv=3, scoring=\"roc_auc\", verbose=10)\n",
    "\n",
    "# Ajustar el GridSearchCV\n",
    "clf.fit(X_scaled, y_train)"
   ]
  },
  {
   "cell_type": "code",
   "execution_count": 86,
   "metadata": {},
   "outputs": [
    {
     "name": "stdout",
     "output_type": "stream",
     "text": [
      "{'classifier__class_weight': {0: 1, 1: 50}, 'classifier__max_depth': 15, 'pca__n_components': 7}\n",
      "0.9778203756165526\n",
      "Pipeline(steps=[('pca', PCA(n_components=7)),\n",
      "                ('classifier',\n",
      "                 RandomForestClassifier(class_weight={0: 1, 1: 50},\n",
      "                                        max_depth=15))])\n"
     ]
    }
   ],
   "source": [
    "print(clf.best_params_)\n",
    "print(clf.best_score_)\n",
    "print(clf.best_estimator_)"
   ]
  },
  {
   "cell_type": "code",
   "execution_count": 87,
   "metadata": {},
   "outputs": [
    {
     "name": "stdout",
     "output_type": "stream",
     "text": [
      "[[128873     44]\n",
      " [   247    504]]\n"
     ]
    },
    {
     "data": {
      "image/png": "[encoded data removed]",
      "text/plain": [
       "<Figure size 640x480 with 2 Axes>"
      ]
     },
     "metadata": {},
     "output_type": "display_data"
    }
   ],
   "source": [
    "c_matrix = confusion_matrix(y_test, predictions)\n",
    "print(c_matrix)\n",
    "sns.heatmap(c_matrix, annot=True);"
   ]
  },
  {
   "cell_type": "code",
   "execution_count": 88,
   "metadata": {},
   "outputs": [
    {
     "name": "stdout",
     "output_type": "stream",
     "text": [
      "Precision score: 0.9197080291970803\n",
      "Recall score: 0.6711051930758988\n",
      "ROC AUC score: 0.8353819441026615\n"
     ]
    }
   ],
   "source": [
    "print(\"Precision score:\", precision_score(y_test, predictions))\n",
    "print(\"Recall score:\", recall_score(y_test, predictions))\n",
    "print(\"ROC AUC score:\", roc_auc_score(y_test, predictions))"
   ]
  },
  {
   "cell_type": "code",
   "execution_count": 15,
   "metadata": {},
   "outputs": [],
   "source": [
    "# Para escribir el archivo pickle\n",
    "with open('../models/Model7/trained_model.pkl', 'wb') as archivo_salida:\n",
    "    pickle.dump(clf.best_estimator_, archivo_salida)\n",
    "\n",
    "# Para escribir el archivo YAML\n",
    "with open(\"../models/Model7/model_config.yaml\", \"w\") as f:\n",
    "    yaml.dump(clf.best_params_, f)"
   ]
  }
 ],
 "metadata": {
  "kernelspec": {
   "display_name": "Python 3",
   "language": "python",
   "name": "python3"
  },
  "language_info": {
   "codemirror_mode": {
    "name": "ipython",
    "version": 3
   },
   "file_extension": ".py",
   "mimetype": "text/x-python",
   "name": "python",
   "nbconvert_exporter": "python",
   "pygments_lexer": "ipython3",
   "version": "3.11.3"
  },
  "orig_nbformat": 4
 },
 "nbformat": 4,
 "nbformat_minor": 2
}
