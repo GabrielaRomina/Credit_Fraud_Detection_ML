{
 "cells": [
  {
   "attachments": {},
   "cell_type": "markdown",
   "metadata": {},
   "source": [
    "## Modelo 1"
   ]
  },
  {
   "attachments": {},
   "cell_type": "markdown",
   "metadata": {},
   "source": [
    "Se cargan las librerías."
   ]
  },
  {
   "cell_type": "code",
   "execution_count": 32,
   "metadata": {},
   "outputs": [],
   "source": [
    "import pandas as pd\n",
    "from sklearn.model_selection import train_test_split, GridSearchCV\n",
    "from imblearn.under_sampling import RandomUnderSampler\n",
    "from sklearn.pipeline import Pipeline\n",
    "from sklearn.feature_selection import SelectKBest\n",
    "from xgboost import XGBClassifier\n",
    "import numpy as np\n",
    "from sklearn.preprocessing import StandardScaler\n",
    "\n",
    "from sklearn.metrics import confusion_matrix, roc_auc_score, precision_score, recall_score\n",
    "import seaborn as sns\n",
    "import pickle\n",
    "import yaml"
   ]
  },
  {
   "attachments": {},
   "cell_type": "markdown",
   "metadata": {},
   "source": [
    "Se cargan los datos procesados."
   ]
  },
  {
   "cell_type": "code",
   "execution_count": 2,
   "metadata": {},
   "outputs": [],
   "source": [
    "segmentos = []\n",
    "\n",
    "# Leer los archivos CSV segmentados y almacenarlos en la lista\n",
    "for i in range(0,3):\n",
    "    segmento = pd.read_csv(f'../data/processed/segmento_{i+1}.csv')\n",
    "    segmentos.append(segmento)\n",
    "# Concatenar los DataFrames de los segmentos en uno solo\n",
    "df1 = pd.concat(segmentos, ignore_index=True)"
   ]
  },
  {
   "attachments": {},
   "cell_type": "markdown",
   "metadata": {},
   "source": [
    "Se separa el test del Dataframe original no balanceado para asegurar que los datos nuevos serán similares a los reales a predecir, manteniendo proporción en los datos"
   ]
  },
  {
   "cell_type": "code",
   "execution_count": 3,
   "metadata": {},
   "outputs": [],
   "source": [
    "# Crear las variables para features y target\n",
    "X = df1[['amt', 'city_pop', 'distancia', 'fraudes_por_Categoria',\n",
    "       'fraudes_por_estado', 'fraudes_por_edad', 'fraudes_por_hora',\n",
    "       'fraudes_por_día']]\n",
    "y = df1['is_fraud']\n",
    "\n",
    "# Separamos una muestra del DataFrame para probar el modelo\n",
    "X_train, X_test, y_train, y_test = train_test_split(X,\n",
    "                                                   y,\n",
    "                                                   test_size = 0.1,\n",
    "                                                   random_state=0, stratify=y)\n"
   ]
  },
  {
   "attachments": {},
   "cell_type": "markdown",
   "metadata": {},
   "source": [
    "Una vez obtenido el test, se pasa a balancear los datos, tanto para aligerar la carga del entrenamiento, como para intentar que el modelo prediga mejor la clase minoritaría."
   ]
  },
  {
   "cell_type": "code",
   "execution_count": 45,
   "metadata": {},
   "outputs": [],
   "source": [
    "# Aplicamos undersampling a los datos\n",
    "rus = RandomUnderSampler()\n",
    "\n",
    "X_resampled, y_resampled = rus.fit_resample(X_train, y_train)\n",
    "\n",
    "# Separamos el nuevo conjunto en X e y\n",
    "X_under = X_resampled\n",
    "y_under = y_resampled"
   ]
  },
  {
   "attachments": {},
   "cell_type": "markdown",
   "metadata": {},
   "source": [
    "Se separa en train y test."
   ]
  },
  {
   "attachments": {},
   "cell_type": "markdown",
   "metadata": {},
   "source": [
    "Con un GridSearch, se hiperparametriza un XGBClassifier."
   ]
  },
  {
   "cell_type": "code",
   "execution_count": 48,
   "metadata": {},
   "outputs": [
    {
     "data": {
      "text/html": [
       "<style>#sk-container-id-6 {color: black;background-color: white;}#sk-container-id-6 pre{padding: 0;}#sk-container-id-6 div.sk-toggleable {background-color: white;}#sk-container-id-6 label.sk-toggleable__label {cursor: pointer;display: block;width: 100%;margin-bottom: 0;padding: 0.3em;box-sizing: border-box;text-align: center;}#sk-container-id-6 label.sk-toggleable__label-arrow:before {content: \"▸\";float: left;margin-right: 0.25em;color: #696969;}#sk-container-id-6 label.sk-toggleable__label-arrow:hover:before {color: black;}#sk-container-id-6 div.sk-estimator:hover label.sk-toggleable__label-arrow:before {color: black;}#sk-container-id-6 div.sk-toggleable__content {max-height: 0;max-width: 0;overflow: hidden;text-align: left;background-color: #f0f8ff;}#sk-container-id-6 div.sk-toggleable__content pre {margin: 0.2em;color: black;border-radius: 0.25em;background-color: #f0f8ff;}#sk-container-id-6 input.sk-toggleable__control:checked~div.sk-toggleable__content {max-height: 200px;max-width: 100%;overflow: auto;}#sk-container-id-6 input.sk-toggleable__control:checked~label.sk-toggleable__label-arrow:before {content: \"▾\";}#sk-container-id-6 div.sk-estimator input.sk-toggleable__control:checked~label.sk-toggleable__label {background-color: #d4ebff;}#sk-container-id-6 div.sk-label input.sk-toggleable__control:checked~label.sk-toggleable__label {background-color: #d4ebff;}#sk-container-id-6 input.sk-hidden--visually {border: 0;clip: rect(1px 1px 1px 1px);clip: rect(1px, 1px, 1px, 1px);height: 1px;margin: -1px;overflow: hidden;padding: 0;position: absolute;width: 1px;}#sk-container-id-6 div.sk-estimator {font-family: monospace;background-color: #f0f8ff;border: 1px dotted black;border-radius: 0.25em;box-sizing: border-box;margin-bottom: 0.5em;}#sk-container-id-6 div.sk-estimator:hover {background-color: #d4ebff;}#sk-container-id-6 div.sk-parallel-item::after {content: \"\";width: 100%;border-bottom: 1px solid gray;flex-grow: 1;}#sk-container-id-6 div.sk-label:hover label.sk-toggleable__label {background-color: #d4ebff;}#sk-container-id-6 div.sk-serial::before {content: \"\";position: absolute;border-left: 1px solid gray;box-sizing: border-box;top: 0;bottom: 0;left: 50%;z-index: 0;}#sk-container-id-6 div.sk-serial {display: flex;flex-direction: column;align-items: center;background-color: white;padding-right: 0.2em;padding-left: 0.2em;position: relative;}#sk-container-id-6 div.sk-item {position: relative;z-index: 1;}#sk-container-id-6 div.sk-parallel {display: flex;align-items: stretch;justify-content: center;background-color: white;position: relative;}#sk-container-id-6 div.sk-item::before, #sk-container-id-6 div.sk-parallel-item::before {content: \"\";position: absolute;border-left: 1px solid gray;box-sizing: border-box;top: 0;bottom: 0;left: 50%;z-index: -1;}#sk-container-id-6 div.sk-parallel-item {display: flex;flex-direction: column;z-index: 1;position: relative;background-color: white;}#sk-container-id-6 div.sk-parallel-item:first-child::after {align-self: flex-end;width: 50%;}#sk-container-id-6 div.sk-parallel-item:last-child::after {align-self: flex-start;width: 50%;}#sk-container-id-6 div.sk-parallel-item:only-child::after {width: 0;}#sk-container-id-6 div.sk-dashed-wrapped {border: 1px dashed gray;margin: 0 0.4em 0.5em 0.4em;box-sizing: border-box;padding-bottom: 0.4em;background-color: white;}#sk-container-id-6 div.sk-label label {font-family: monospace;font-weight: bold;display: inline-block;line-height: 1.2em;}#sk-container-id-6 div.sk-label-container {text-align: center;}#sk-container-id-6 div.sk-container {/* jupyter's `normalize.less` sets `[hidden] { display: none; }` but bootstrap.min.css set `[hidden] { display: none !important; }` so we also need the `!important` here to be able to override the default hidden behavior on the sphinx rendered scikit-learn.org. See: https://github.com/scikit-learn/scikit-learn/issues/21755 */display: inline-block !important;position: relative;}#sk-container-id-6 div.sk-text-repr-fallback {display: none;}</style><div id=\"sk-container-id-6\" class=\"sk-top-container\"><div class=\"sk-text-repr-fallback\"><pre>GridSearchCV(cv=3,\n",
       "             estimator=Pipeline(steps=[(&#x27;scaler&#x27;, StandardScaler()),\n",
       "                                       (&#x27;selectkbest&#x27;, SelectKBest()),\n",
       "                                       (&#x27;classifier&#x27;,\n",
       "                                        XGBClassifier(base_score=None,\n",
       "                                                      booster=None,\n",
       "                                                      callbacks=None,\n",
       "                                                      colsample_bylevel=None,\n",
       "                                                      colsample_bynode=None,\n",
       "                                                      colsample_bytree=None,\n",
       "                                                      early_stopping_rounds=None,\n",
       "                                                      enable_categorical=False,\n",
       "                                                      eval_metric=None,\n",
       "                                                      feature_types=None,\n",
       "                                                      gamma=None, gpu_id=Non...\n",
       "                                                      num_parallel_tree=None,\n",
       "                                                      predictor=None,\n",
       "                                                      random_state=None, ...))]),\n",
       "             param_grid={&#x27;classifier__gamma&#x27;: [0, 0.5, 1],\n",
       "                         &#x27;classifier__learning_rate&#x27;: [0.1, 0.01],\n",
       "                         &#x27;classifier__max_depth&#x27;: array([7]),\n",
       "                         &#x27;classifier__min_child_weight&#x27;: array([1, 2, 3, 4, 5]),\n",
       "                         &#x27;classifier__scale_pos_weight&#x27;: [1, 2, 5, 100],\n",
       "                         &#x27;classifier__subsample&#x27;: [0.6, 0.8, 1.0],\n",
       "                         &#x27;selectkbest__k&#x27;: array([5, 6, 7])},\n",
       "             scoring=&#x27;precision&#x27;)</pre><b>In a Jupyter environment, please rerun this cell to show the HTML representation or trust the notebook. <br />On GitHub, the HTML representation is unable to render, please try loading this page with nbviewer.org.</b></div><div class=\"sk-container\" hidden><div class=\"sk-item sk-dashed-wrapped\"><div class=\"sk-label-container\"><div class=\"sk-label sk-toggleable\"><input class=\"sk-toggleable__control sk-hidden--visually\" id=\"sk-estimator-id-26\" type=\"checkbox\" ><label for=\"sk-estimator-id-26\" class=\"sk-toggleable__label sk-toggleable__label-arrow\">GridSearchCV</label><div class=\"sk-toggleable__content\"><pre>GridSearchCV(cv=3,\n",
       "             estimator=Pipeline(steps=[(&#x27;scaler&#x27;, StandardScaler()),\n",
       "                                       (&#x27;selectkbest&#x27;, SelectKBest()),\n",
       "                                       (&#x27;classifier&#x27;,\n",
       "                                        XGBClassifier(base_score=None,\n",
       "                                                      booster=None,\n",
       "                                                      callbacks=None,\n",
       "                                                      colsample_bylevel=None,\n",
       "                                                      colsample_bynode=None,\n",
       "                                                      colsample_bytree=None,\n",
       "                                                      early_stopping_rounds=None,\n",
       "                                                      enable_categorical=False,\n",
       "                                                      eval_metric=None,\n",
       "                                                      feature_types=None,\n",
       "                                                      gamma=None, gpu_id=Non...\n",
       "                                                      num_parallel_tree=None,\n",
       "                                                      predictor=None,\n",
       "                                                      random_state=None, ...))]),\n",
       "             param_grid={&#x27;classifier__gamma&#x27;: [0, 0.5, 1],\n",
       "                         &#x27;classifier__learning_rate&#x27;: [0.1, 0.01],\n",
       "                         &#x27;classifier__max_depth&#x27;: array([7]),\n",
       "                         &#x27;classifier__min_child_weight&#x27;: array([1, 2, 3, 4, 5]),\n",
       "                         &#x27;classifier__scale_pos_weight&#x27;: [1, 2, 5, 100],\n",
       "                         &#x27;classifier__subsample&#x27;: [0.6, 0.8, 1.0],\n",
       "                         &#x27;selectkbest__k&#x27;: array([5, 6, 7])},\n",
       "             scoring=&#x27;precision&#x27;)</pre></div></div></div><div class=\"sk-parallel\"><div class=\"sk-parallel-item\"><div class=\"sk-item\"><div class=\"sk-label-container\"><div class=\"sk-label sk-toggleable\"><input class=\"sk-toggleable__control sk-hidden--visually\" id=\"sk-estimator-id-27\" type=\"checkbox\" ><label for=\"sk-estimator-id-27\" class=\"sk-toggleable__label sk-toggleable__label-arrow\">estimator: Pipeline</label><div class=\"sk-toggleable__content\"><pre>Pipeline(steps=[(&#x27;scaler&#x27;, StandardScaler()), (&#x27;selectkbest&#x27;, SelectKBest()),\n",
       "                (&#x27;classifier&#x27;,\n",
       "                 XGBClassifier(base_score=None, booster=None, callbacks=None,\n",
       "                               colsample_bylevel=None, colsample_bynode=None,\n",
       "                               colsample_bytree=None,\n",
       "                               early_stopping_rounds=None,\n",
       "                               enable_categorical=False, eval_metric=None,\n",
       "                               feature_types=None, gamma=None, gpu_id=None,\n",
       "                               grow_policy=None, importance_type=None,\n",
       "                               interaction_constraints=None, learning_rate=None,\n",
       "                               max_bin=None, max_cat_threshold=None,\n",
       "                               max_cat_to_onehot=None, max_delta_step=None,\n",
       "                               max_depth=None, max_leaves=None,\n",
       "                               min_child_weight=None, missing=nan,\n",
       "                               monotone_constraints=None, n_estimators=100,\n",
       "                               n_jobs=None, num_parallel_tree=None,\n",
       "                               predictor=None, random_state=None, ...))])</pre></div></div></div><div class=\"sk-serial\"><div class=\"sk-item\"><div class=\"sk-serial\"><div class=\"sk-item\"><div class=\"sk-estimator sk-toggleable\"><input class=\"sk-toggleable__control sk-hidden--visually\" id=\"sk-estimator-id-28\" type=\"checkbox\" ><label for=\"sk-estimator-id-28\" class=\"sk-toggleable__label sk-toggleable__label-arrow\">StandardScaler</label><div class=\"sk-toggleable__content\"><pre>StandardScaler()</pre></div></div></div><div class=\"sk-item\"><div class=\"sk-estimator sk-toggleable\"><input class=\"sk-toggleable__control sk-hidden--visually\" id=\"sk-estimator-id-29\" type=\"checkbox\" ><label for=\"sk-estimator-id-29\" class=\"sk-toggleable__label sk-toggleable__label-arrow\">SelectKBest</label><div class=\"sk-toggleable__content\"><pre>SelectKBest()</pre></div></div></div><div class=\"sk-item\"><div class=\"sk-estimator sk-toggleable\"><input class=\"sk-toggleable__control sk-hidden--visually\" id=\"sk-estimator-id-30\" type=\"checkbox\" ><label for=\"sk-estimator-id-30\" class=\"sk-toggleable__label sk-toggleable__label-arrow\">XGBClassifier</label><div class=\"sk-toggleable__content\"><pre>XGBClassifier(base_score=None, booster=None, callbacks=None,\n",
       "              colsample_bylevel=None, colsample_bynode=None,\n",
       "              colsample_bytree=None, early_stopping_rounds=None,\n",
       "              enable_categorical=False, eval_metric=None, feature_types=None,\n",
       "              gamma=None, gpu_id=None, grow_policy=None, importance_type=None,\n",
       "              interaction_constraints=None, learning_rate=None, max_bin=None,\n",
       "              max_cat_threshold=None, max_cat_to_onehot=None,\n",
       "              max_delta_step=None, max_depth=None, max_leaves=None,\n",
       "              min_child_weight=None, missing=nan, monotone_constraints=None,\n",
       "              n_estimators=100, n_jobs=None, num_parallel_tree=None,\n",
       "              predictor=None, random_state=None, ...)</pre></div></div></div></div></div></div></div></div></div></div></div></div>"
      ],
      "text/plain": [
       "GridSearchCV(cv=3,\n",
       "             estimator=Pipeline(steps=[('scaler', StandardScaler()),\n",
       "                                       ('selectkbest', SelectKBest()),\n",
       "                                       ('classifier',\n",
       "                                        XGBClassifier(base_score=None,\n",
       "                                                      booster=None,\n",
       "                                                      callbacks=None,\n",
       "                                                      colsample_bylevel=None,\n",
       "                                                      colsample_bynode=None,\n",
       "                                                      colsample_bytree=None,\n",
       "                                                      early_stopping_rounds=None,\n",
       "                                                      enable_categorical=False,\n",
       "                                                      eval_metric=None,\n",
       "                                                      feature_types=None,\n",
       "                                                      gamma=None, gpu_id=Non...\n",
       "                                                      num_parallel_tree=None,\n",
       "                                                      predictor=None,\n",
       "                                                      random_state=None, ...))]),\n",
       "             param_grid={'classifier__gamma': [0, 0.5, 1],\n",
       "                         'classifier__learning_rate': [0.1, 0.01],\n",
       "                         'classifier__max_depth': array([7]),\n",
       "                         'classifier__min_child_weight': array([1, 2, 3, 4, 5]),\n",
       "                         'classifier__scale_pos_weight': [1, 2, 5, 100],\n",
       "                         'classifier__subsample': [0.6, 0.8, 1.0],\n",
       "                         'selectkbest__k': array([5, 6, 7])},\n",
       "             scoring='precision')"
      ]
     },
     "execution_count": 48,
     "metadata": {},
     "output_type": "execute_result"
    }
   ],
   "source": [
    "# Definir el pipeline\n",
    "pipe = Pipeline(steps=[\n",
    "    (\"scaler\", StandardScaler()),\n",
    "    (\"selectkbest\", SelectKBest()),\n",
    "    (\"classifier\", XGBClassifier())\n",
    "])\n",
    "\n",
    "# Definir los parámetros del GridSearchCV para XGBoost\n",
    "xgb_params = {\n",
    "    'selectkbest__k': np.arange(5, 8),\n",
    "    'classifier__learning_rate': [0.1, 0.01],\n",
    "    'classifier__max_depth': np.arange(7, 8),\n",
    "    'classifier__min_child_weight': np.arange(1, 6),\n",
    "    'classifier__gamma': [0, 0.5, 1],\n",
    "    'classifier__subsample': [0.6, 0.8, 1.0],\n",
    "    'classifier__scale_pos_weight': [1, 2, 5, 100]\n",
    "}\n",
    "\n",
    "# Crear el GridSearchCV para XGBoost\n",
    "clf = GridSearchCV(estimator=pipe, param_grid=xgb_params, cv=3, scoring=\"precision\")\n",
    "\n",
    "# Ajustar el GridSearchCV\n",
    "clf.fit(X_resampled, y_resampled)"
   ]
  },
  {
   "cell_type": "code",
   "execution_count": 49,
   "metadata": {},
   "outputs": [
    {
     "data": {
      "text/plain": [
       "{'classifier__gamma': 0.5,\n",
       " 'classifier__learning_rate': 0.1,\n",
       " 'classifier__max_depth': 7,\n",
       " 'classifier__min_child_weight': 1,\n",
       " 'classifier__scale_pos_weight': 1,\n",
       " 'classifier__subsample': 0.8,\n",
       " 'selectkbest__k': 6}"
      ]
     },
     "execution_count": 49,
     "metadata": {},
     "output_type": "execute_result"
    }
   ],
   "source": [
    "clf.best_params_"
   ]
  },
  {
   "cell_type": "code",
   "execution_count": 50,
   "metadata": {},
   "outputs": [],
   "source": [
    "predictions = clf.predict(X_test)"
   ]
  },
  {
   "cell_type": "code",
   "execution_count": 51,
   "metadata": {},
   "outputs": [
    {
     "name": "stdout",
     "output_type": "stream",
     "text": [
      "[[125502   3415]\n",
      " [    16    735]]\n"
     ]
    },
    {
     "data": {
      "image/png": "[encoded data removed]",
      "text/plain": [
       "<Figure size 640x480 with 2 Axes>"
      ]
     },
     "metadata": {},
     "output_type": "display_data"
    }
   ],
   "source": [
    "c_matrix = confusion_matrix(y_test, predictions)\n",
    "print(c_matrix)\n",
    "sns.heatmap(c_matrix, annot=True);"
   ]
  },
  {
   "cell_type": "code",
   "execution_count": 52,
   "metadata": {},
   "outputs": [],
   "source": [
    "from sklearn.metrics import precision_score, recall_score, roc_auc_score"
   ]
  },
  {
   "cell_type": "code",
   "execution_count": 53,
   "metadata": {},
   "outputs": [
    {
     "data": {
      "text/plain": [
       "0.17710843373493976"
      ]
     },
     "execution_count": 53,
     "metadata": {},
     "output_type": "execute_result"
    }
   ],
   "source": [
    "precision_score(y_test, predictions)"
   ]
  },
  {
   "cell_type": "code",
   "execution_count": 54,
   "metadata": {},
   "outputs": [
    {
     "data": {
      "text/plain": [
       "0.9786950732356857"
      ]
     },
     "execution_count": 54,
     "metadata": {},
     "output_type": "execute_result"
    }
   ],
   "source": [
    "recall_score(y_test, predictions)"
   ]
  },
  {
   "cell_type": "code",
   "execution_count": 55,
   "metadata": {},
   "outputs": [
    {
     "data": {
      "text/plain": [
       "0.9761025805608449"
      ]
     },
     "execution_count": 55,
     "metadata": {},
     "output_type": "execute_result"
    }
   ],
   "source": [
    "roc_auc_score(y_test, predictions)"
   ]
  },
  {
   "cell_type": "code",
   "execution_count": 63,
   "metadata": {},
   "outputs": [
    {
     "data": {
      "text/html": [
       "<style>#sk-container-id-7 {color: black;background-color: white;}#sk-container-id-7 pre{padding: 0;}#sk-container-id-7 div.sk-toggleable {background-color: white;}#sk-container-id-7 label.sk-toggleable__label {cursor: pointer;display: block;width: 100%;margin-bottom: 0;padding: 0.3em;box-sizing: border-box;text-align: center;}#sk-container-id-7 label.sk-toggleable__label-arrow:before {content: \"▸\";float: left;margin-right: 0.25em;color: #696969;}#sk-container-id-7 label.sk-toggleable__label-arrow:hover:before {color: black;}#sk-container-id-7 div.sk-estimator:hover label.sk-toggleable__label-arrow:before {color: black;}#sk-container-id-7 div.sk-toggleable__content {max-height: 0;max-width: 0;overflow: hidden;text-align: left;background-color: #f0f8ff;}#sk-container-id-7 div.sk-toggleable__content pre {margin: 0.2em;color: black;border-radius: 0.25em;background-color: #f0f8ff;}#sk-container-id-7 input.sk-toggleable__control:checked~div.sk-toggleable__content {max-height: 200px;max-width: 100%;overflow: auto;}#sk-container-id-7 input.sk-toggleable__control:checked~label.sk-toggleable__label-arrow:before {content: \"▾\";}#sk-container-id-7 div.sk-estimator input.sk-toggleable__control:checked~label.sk-toggleable__label {background-color: #d4ebff;}#sk-container-id-7 div.sk-label input.sk-toggleable__control:checked~label.sk-toggleable__label {background-color: #d4ebff;}#sk-container-id-7 input.sk-hidden--visually {border: 0;clip: rect(1px 1px 1px 1px);clip: rect(1px, 1px, 1px, 1px);height: 1px;margin: -1px;overflow: hidden;padding: 0;position: absolute;width: 1px;}#sk-container-id-7 div.sk-estimator {font-family: monospace;background-color: #f0f8ff;border: 1px dotted black;border-radius: 0.25em;box-sizing: border-box;margin-bottom: 0.5em;}#sk-container-id-7 div.sk-estimator:hover {background-color: #d4ebff;}#sk-container-id-7 div.sk-parallel-item::after {content: \"\";width: 100%;border-bottom: 1px solid gray;flex-grow: 1;}#sk-container-id-7 div.sk-label:hover label.sk-toggleable__label {background-color: #d4ebff;}#sk-container-id-7 div.sk-serial::before {content: \"\";position: absolute;border-left: 1px solid gray;box-sizing: border-box;top: 0;bottom: 0;left: 50%;z-index: 0;}#sk-container-id-7 div.sk-serial {display: flex;flex-direction: column;align-items: center;background-color: white;padding-right: 0.2em;padding-left: 0.2em;position: relative;}#sk-container-id-7 div.sk-item {position: relative;z-index: 1;}#sk-container-id-7 div.sk-parallel {display: flex;align-items: stretch;justify-content: center;background-color: white;position: relative;}#sk-container-id-7 div.sk-item::before, #sk-container-id-7 div.sk-parallel-item::before {content: \"\";position: absolute;border-left: 1px solid gray;box-sizing: border-box;top: 0;bottom: 0;left: 50%;z-index: -1;}#sk-container-id-7 div.sk-parallel-item {display: flex;flex-direction: column;z-index: 1;position: relative;background-color: white;}#sk-container-id-7 div.sk-parallel-item:first-child::after {align-self: flex-end;width: 50%;}#sk-container-id-7 div.sk-parallel-item:last-child::after {align-self: flex-start;width: 50%;}#sk-container-id-7 div.sk-parallel-item:only-child::after {width: 0;}#sk-container-id-7 div.sk-dashed-wrapped {border: 1px dashed gray;margin: 0 0.4em 0.5em 0.4em;box-sizing: border-box;padding-bottom: 0.4em;background-color: white;}#sk-container-id-7 div.sk-label label {font-family: monospace;font-weight: bold;display: inline-block;line-height: 1.2em;}#sk-container-id-7 div.sk-label-container {text-align: center;}#sk-container-id-7 div.sk-container {/* jupyter's `normalize.less` sets `[hidden] { display: none; }` but bootstrap.min.css set `[hidden] { display: none !important; }` so we also need the `!important` here to be able to override the default hidden behavior on the sphinx rendered scikit-learn.org. See: https://github.com/scikit-learn/scikit-learn/issues/21755 */display: inline-block !important;position: relative;}#sk-container-id-7 div.sk-text-repr-fallback {display: none;}</style><div id=\"sk-container-id-7\" class=\"sk-top-container\"><div class=\"sk-text-repr-fallback\"><pre>GridSearchCV(cv=3,\n",
       "             estimator=Pipeline(steps=[(&#x27;scaler&#x27;, StandardScaler()),\n",
       "                                       (&#x27;selectkbest&#x27;, SelectKBest()),\n",
       "                                       (&#x27;classifier&#x27;,\n",
       "                                        XGBClassifier(base_score=None,\n",
       "                                                      booster=None,\n",
       "                                                      callbacks=None,\n",
       "                                                      colsample_bylevel=None,\n",
       "                                                      colsample_bynode=None,\n",
       "                                                      colsample_bytree=None,\n",
       "                                                      early_stopping_rounds=None,\n",
       "                                                      enable_categorical=False,\n",
       "                                                      eval_metric=None,\n",
       "                                                      feature_types=None,\n",
       "                                                      gamma=None, gpu_id=Non...\n",
       "                                                      min_child_weight=None,\n",
       "                                                      missing=nan,\n",
       "                                                      monotone_constraints=None,\n",
       "                                                      n_estimators=100,\n",
       "                                                      n_jobs=None,\n",
       "                                                      num_parallel_tree=None,\n",
       "                                                      predictor=None,\n",
       "                                                      random_state=None, ...))]),\n",
       "             param_grid={&#x27;classifier__learning_rate&#x27;: [0.1, 0.01],\n",
       "                         &#x27;classifier__max_depth&#x27;: array([2, 3, 4, 5, 6, 7, 8, 9]),\n",
       "                         &#x27;classifier__min_child_weight&#x27;: array([1, 2, 3, 4, 5]),\n",
       "                         &#x27;selectkbest__k&#x27;: array([2, 3, 4, 5, 6, 7])},\n",
       "             scoring=&#x27;precision&#x27;)</pre><b>In a Jupyter environment, please rerun this cell to show the HTML representation or trust the notebook. <br />On GitHub, the HTML representation is unable to render, please try loading this page with nbviewer.org.</b></div><div class=\"sk-container\" hidden><div class=\"sk-item sk-dashed-wrapped\"><div class=\"sk-label-container\"><div class=\"sk-label sk-toggleable\"><input class=\"sk-toggleable__control sk-hidden--visually\" id=\"sk-estimator-id-31\" type=\"checkbox\" ><label for=\"sk-estimator-id-31\" class=\"sk-toggleable__label sk-toggleable__label-arrow\">GridSearchCV</label><div class=\"sk-toggleable__content\"><pre>GridSearchCV(cv=3,\n",
       "             estimator=Pipeline(steps=[(&#x27;scaler&#x27;, StandardScaler()),\n",
       "                                       (&#x27;selectkbest&#x27;, SelectKBest()),\n",
       "                                       (&#x27;classifier&#x27;,\n",
       "                                        XGBClassifier(base_score=None,\n",
       "                                                      booster=None,\n",
       "                                                      callbacks=None,\n",
       "                                                      colsample_bylevel=None,\n",
       "                                                      colsample_bynode=None,\n",
       "                                                      colsample_bytree=None,\n",
       "                                                      early_stopping_rounds=None,\n",
       "                                                      enable_categorical=False,\n",
       "                                                      eval_metric=None,\n",
       "                                                      feature_types=None,\n",
       "                                                      gamma=None, gpu_id=Non...\n",
       "                                                      min_child_weight=None,\n",
       "                                                      missing=nan,\n",
       "                                                      monotone_constraints=None,\n",
       "                                                      n_estimators=100,\n",
       "                                                      n_jobs=None,\n",
       "                                                      num_parallel_tree=None,\n",
       "                                                      predictor=None,\n",
       "                                                      random_state=None, ...))]),\n",
       "             param_grid={&#x27;classifier__learning_rate&#x27;: [0.1, 0.01],\n",
       "                         &#x27;classifier__max_depth&#x27;: array([2, 3, 4, 5, 6, 7, 8, 9]),\n",
       "                         &#x27;classifier__min_child_weight&#x27;: array([1, 2, 3, 4, 5]),\n",
       "                         &#x27;selectkbest__k&#x27;: array([2, 3, 4, 5, 6, 7])},\n",
       "             scoring=&#x27;precision&#x27;)</pre></div></div></div><div class=\"sk-parallel\"><div class=\"sk-parallel-item\"><div class=\"sk-item\"><div class=\"sk-label-container\"><div class=\"sk-label sk-toggleable\"><input class=\"sk-toggleable__control sk-hidden--visually\" id=\"sk-estimator-id-32\" type=\"checkbox\" ><label for=\"sk-estimator-id-32\" class=\"sk-toggleable__label sk-toggleable__label-arrow\">estimator: Pipeline</label><div class=\"sk-toggleable__content\"><pre>Pipeline(steps=[(&#x27;scaler&#x27;, StandardScaler()), (&#x27;selectkbest&#x27;, SelectKBest()),\n",
       "                (&#x27;classifier&#x27;,\n",
       "                 XGBClassifier(base_score=None, booster=None, callbacks=None,\n",
       "                               colsample_bylevel=None, colsample_bynode=None,\n",
       "                               colsample_bytree=None,\n",
       "                               early_stopping_rounds=None,\n",
       "                               enable_categorical=False, eval_metric=None,\n",
       "                               feature_types=None, gamma=None, gpu_id=None,\n",
       "                               grow_policy=None, importance_type=None,\n",
       "                               interaction_constraints=None, learning_rate=None,\n",
       "                               max_bin=None, max_cat_threshold=None,\n",
       "                               max_cat_to_onehot=None, max_delta_step=None,\n",
       "                               max_depth=None, max_leaves=None,\n",
       "                               min_child_weight=None, missing=nan,\n",
       "                               monotone_constraints=None, n_estimators=100,\n",
       "                               n_jobs=None, num_parallel_tree=None,\n",
       "                               predictor=None, random_state=None, ...))])</pre></div></div></div><div class=\"sk-serial\"><div class=\"sk-item\"><div class=\"sk-serial\"><div class=\"sk-item\"><div class=\"sk-estimator sk-toggleable\"><input class=\"sk-toggleable__control sk-hidden--visually\" id=\"sk-estimator-id-33\" type=\"checkbox\" ><label for=\"sk-estimator-id-33\" class=\"sk-toggleable__label sk-toggleable__label-arrow\">StandardScaler</label><div class=\"sk-toggleable__content\"><pre>StandardScaler()</pre></div></div></div><div class=\"sk-item\"><div class=\"sk-estimator sk-toggleable\"><input class=\"sk-toggleable__control sk-hidden--visually\" id=\"sk-estimator-id-34\" type=\"checkbox\" ><label for=\"sk-estimator-id-34\" class=\"sk-toggleable__label sk-toggleable__label-arrow\">SelectKBest</label><div class=\"sk-toggleable__content\"><pre>SelectKBest()</pre></div></div></div><div class=\"sk-item\"><div class=\"sk-estimator sk-toggleable\"><input class=\"sk-toggleable__control sk-hidden--visually\" id=\"sk-estimator-id-35\" type=\"checkbox\" ><label for=\"sk-estimator-id-35\" class=\"sk-toggleable__label sk-toggleable__label-arrow\">XGBClassifier</label><div class=\"sk-toggleable__content\"><pre>XGBClassifier(base_score=None, booster=None, callbacks=None,\n",
       "              colsample_bylevel=None, colsample_bynode=None,\n",
       "              colsample_bytree=None, early_stopping_rounds=None,\n",
       "              enable_categorical=False, eval_metric=None, feature_types=None,\n",
       "              gamma=None, gpu_id=None, grow_policy=None, importance_type=None,\n",
       "              interaction_constraints=None, learning_rate=None, max_bin=None,\n",
       "              max_cat_threshold=None, max_cat_to_onehot=None,\n",
       "              max_delta_step=None, max_depth=None, max_leaves=None,\n",
       "              min_child_weight=None, missing=nan, monotone_constraints=None,\n",
       "              n_estimators=100, n_jobs=None, num_parallel_tree=None,\n",
       "              predictor=None, random_state=None, ...)</pre></div></div></div></div></div></div></div></div></div></div></div></div>"
      ],
      "text/plain": [
       "GridSearchCV(cv=3,\n",
       "             estimator=Pipeline(steps=[('scaler', StandardScaler()),\n",
       "                                       ('selectkbest', SelectKBest()),\n",
       "                                       ('classifier',\n",
       "                                        XGBClassifier(base_score=None,\n",
       "                                                      booster=None,\n",
       "                                                      callbacks=None,\n",
       "                                                      colsample_bylevel=None,\n",
       "                                                      colsample_bynode=None,\n",
       "                                                      colsample_bytree=None,\n",
       "                                                      early_stopping_rounds=None,\n",
       "                                                      enable_categorical=False,\n",
       "                                                      eval_metric=None,\n",
       "                                                      feature_types=None,\n",
       "                                                      gamma=None, gpu_id=Non...\n",
       "                                                      min_child_weight=None,\n",
       "                                                      missing=nan,\n",
       "                                                      monotone_constraints=None,\n",
       "                                                      n_estimators=100,\n",
       "                                                      n_jobs=None,\n",
       "                                                      num_parallel_tree=None,\n",
       "                                                      predictor=None,\n",
       "                                                      random_state=None, ...))]),\n",
       "             param_grid={'classifier__learning_rate': [0.1, 0.01],\n",
       "                         'classifier__max_depth': array([2, 3, 4, 5, 6, 7, 8, 9]),\n",
       "                         'classifier__min_child_weight': array([1, 2, 3, 4, 5]),\n",
       "                         'selectkbest__k': array([2, 3, 4, 5, 6, 7])},\n",
       "             scoring='precision')"
      ]
     },
     "execution_count": 63,
     "metadata": {},
     "output_type": "execute_result"
    }
   ],
   "source": [
    "# Definir el pipeline\n",
    "pipe = Pipeline(steps=[\n",
    "    (\"scaler\", StandardScaler()),\n",
    "    (\"selectkbest\", SelectKBest()),\n",
    "    (\"classifier\", XGBClassifier())\n",
    "])\n",
    "\n",
    "xgb_params = {\n",
    "    'selectkbest__k': np.arange(2, 8),\n",
    "    'classifier__learning_rate': [0.1, 0.01],\n",
    "    'classifier__max_depth': np.arange(2, 10),\n",
    "    'classifier__min_child_weight': np.arange(1, 6),\n",
    "}\n",
    "# Crear el GridSearchCV\n",
    "clf = GridSearchCV(estimator=pipe, param_grid=xgb_params, cv=3, scoring=\"precision\")\n",
    "\n",
    "# Ajustar el GridSearchCV\n",
    "clf.fit(X_resampled, y_resampled)"
   ]
  },
  {
   "cell_type": "code",
   "execution_count": 64,
   "metadata": {},
   "outputs": [
    {
     "data": {
      "text/plain": [
       "{'classifier__learning_rate': 0.1,\n",
       " 'classifier__max_depth': 8,\n",
       " 'classifier__min_child_weight': 1,\n",
       " 'selectkbest__k': 3}"
      ]
     },
     "execution_count": 64,
     "metadata": {},
     "output_type": "execute_result"
    }
   ],
   "source": [
    "clf.best_params_"
   ]
  },
  {
   "cell_type": "code",
   "execution_count": 65,
   "metadata": {},
   "outputs": [
    {
     "name": "stdout",
     "output_type": "stream",
     "text": [
      "[[125494   3423]\n",
      " [    20    731]]\n"
     ]
    },
    {
     "data": {
      "image/png": "[encoded data removed]",
      "text/plain": [
       "<Figure size 640x480 with 2 Axes>"
      ]
     },
     "metadata": {},
     "output_type": "display_data"
    }
   ],
   "source": [
    "predictions = clf.predict(X_test)\n",
    "c_matrix = confusion_matrix(y_test, predictions)\n",
    "print(c_matrix)\n",
    "sns.heatmap(c_matrix, annot=True);"
   ]
  },
  {
   "cell_type": "code",
   "execution_count": 66,
   "metadata": {},
   "outputs": [
    {
     "name": "stdout",
     "output_type": "stream",
     "text": [
      "Precision score: 0.1759749638902263\n",
      "Recall score: 0.9733688415446072\n",
      "ROC AUC score: 0.9734084369997987\n"
     ]
    }
   ],
   "source": [
    "print(\"Precision score:\", precision_score(y_test, predictions))\n",
    "print(\"Recall score:\", recall_score(y_test, predictions))\n",
    "print(\"ROC AUC score:\", roc_auc_score(y_test, predictions))"
   ]
  },
  {
   "cell_type": "code",
   "execution_count": 67,
   "metadata": {},
   "outputs": [
    {
     "data": {
      "text/html": [
       "<style>#sk-container-id-8 {color: black;background-color: white;}#sk-container-id-8 pre{padding: 0;}#sk-container-id-8 div.sk-toggleable {background-color: white;}#sk-container-id-8 label.sk-toggleable__label {cursor: pointer;display: block;width: 100%;margin-bottom: 0;padding: 0.3em;box-sizing: border-box;text-align: center;}#sk-container-id-8 label.sk-toggleable__label-arrow:before {content: \"▸\";float: left;margin-right: 0.25em;color: #696969;}#sk-container-id-8 label.sk-toggleable__label-arrow:hover:before {color: black;}#sk-container-id-8 div.sk-estimator:hover label.sk-toggleable__label-arrow:before {color: black;}#sk-container-id-8 div.sk-toggleable__content {max-height: 0;max-width: 0;overflow: hidden;text-align: left;background-color: #f0f8ff;}#sk-container-id-8 div.sk-toggleable__content pre {margin: 0.2em;color: black;border-radius: 0.25em;background-color: #f0f8ff;}#sk-container-id-8 input.sk-toggleable__control:checked~div.sk-toggleable__content {max-height: 200px;max-width: 100%;overflow: auto;}#sk-container-id-8 input.sk-toggleable__control:checked~label.sk-toggleable__label-arrow:before {content: \"▾\";}#sk-container-id-8 div.sk-estimator input.sk-toggleable__control:checked~label.sk-toggleable__label {background-color: #d4ebff;}#sk-container-id-8 div.sk-label input.sk-toggleable__control:checked~label.sk-toggleable__label {background-color: #d4ebff;}#sk-container-id-8 input.sk-hidden--visually {border: 0;clip: rect(1px 1px 1px 1px);clip: rect(1px, 1px, 1px, 1px);height: 1px;margin: -1px;overflow: hidden;padding: 0;position: absolute;width: 1px;}#sk-container-id-8 div.sk-estimator {font-family: monospace;background-color: #f0f8ff;border: 1px dotted black;border-radius: 0.25em;box-sizing: border-box;margin-bottom: 0.5em;}#sk-container-id-8 div.sk-estimator:hover {background-color: #d4ebff;}#sk-container-id-8 div.sk-parallel-item::after {content: \"\";width: 100%;border-bottom: 1px solid gray;flex-grow: 1;}#sk-container-id-8 div.sk-label:hover label.sk-toggleable__label {background-color: #d4ebff;}#sk-container-id-8 div.sk-serial::before {content: \"\";position: absolute;border-left: 1px solid gray;box-sizing: border-box;top: 0;bottom: 0;left: 50%;z-index: 0;}#sk-container-id-8 div.sk-serial {display: flex;flex-direction: column;align-items: center;background-color: white;padding-right: 0.2em;padding-left: 0.2em;position: relative;}#sk-container-id-8 div.sk-item {position: relative;z-index: 1;}#sk-container-id-8 div.sk-parallel {display: flex;align-items: stretch;justify-content: center;background-color: white;position: relative;}#sk-container-id-8 div.sk-item::before, #sk-container-id-8 div.sk-parallel-item::before {content: \"\";position: absolute;border-left: 1px solid gray;box-sizing: border-box;top: 0;bottom: 0;left: 50%;z-index: -1;}#sk-container-id-8 div.sk-parallel-item {display: flex;flex-direction: column;z-index: 1;position: relative;background-color: white;}#sk-container-id-8 div.sk-parallel-item:first-child::after {align-self: flex-end;width: 50%;}#sk-container-id-8 div.sk-parallel-item:last-child::after {align-self: flex-start;width: 50%;}#sk-container-id-8 div.sk-parallel-item:only-child::after {width: 0;}#sk-container-id-8 div.sk-dashed-wrapped {border: 1px dashed gray;margin: 0 0.4em 0.5em 0.4em;box-sizing: border-box;padding-bottom: 0.4em;background-color: white;}#sk-container-id-8 div.sk-label label {font-family: monospace;font-weight: bold;display: inline-block;line-height: 1.2em;}#sk-container-id-8 div.sk-label-container {text-align: center;}#sk-container-id-8 div.sk-container {/* jupyter's `normalize.less` sets `[hidden] { display: none; }` but bootstrap.min.css set `[hidden] { display: none !important; }` so we also need the `!important` here to be able to override the default hidden behavior on the sphinx rendered scikit-learn.org. See: https://github.com/scikit-learn/scikit-learn/issues/21755 */display: inline-block !important;position: relative;}#sk-container-id-8 div.sk-text-repr-fallback {display: none;}</style><div id=\"sk-container-id-8\" class=\"sk-top-container\"><div class=\"sk-text-repr-fallback\"><pre>GridSearchCV(cv=3,\n",
       "             estimator=Pipeline(steps=[(&#x27;scaler&#x27;, StandardScaler()),\n",
       "                                       (&#x27;selectkbest&#x27;, SelectKBest()),\n",
       "                                       (&#x27;classifier&#x27;,\n",
       "                                        XGBClassifier(base_score=None,\n",
       "                                                      booster=None,\n",
       "                                                      callbacks=None,\n",
       "                                                      colsample_bylevel=None,\n",
       "                                                      colsample_bynode=None,\n",
       "                                                      colsample_bytree=None,\n",
       "                                                      early_stopping_rounds=None,\n",
       "                                                      enable_categorical=False,\n",
       "                                                      eval_metric=None,\n",
       "                                                      feature_types=None,\n",
       "                                                      gamma=None, gpu_id=Non...\n",
       "                                                      monotone_constraints=None,\n",
       "                                                      n_estimators=100,\n",
       "                                                      n_jobs=None,\n",
       "                                                      num_parallel_tree=None,\n",
       "                                                      predictor=None,\n",
       "                                                      random_state=None, ...))]),\n",
       "             param_grid={&#x27;classifier__learning_rate&#x27;: [0.1, 0.01],\n",
       "                         &#x27;classifier__max_depth&#x27;: array([25, 26, 27, 28, 29]),\n",
       "                         &#x27;classifier__min_child_weight&#x27;: [1, 0.1, 0.01],\n",
       "                         &#x27;classifier__scale_pos_weight&#x27;: [1, 0.1, 0.001],\n",
       "                         &#x27;selectkbest__k&#x27;: array([5, 6, 7, 8])},\n",
       "             scoring=&#x27;roc_auc&#x27;)</pre><b>In a Jupyter environment, please rerun this cell to show the HTML representation or trust the notebook. <br />On GitHub, the HTML representation is unable to render, please try loading this page with nbviewer.org.</b></div><div class=\"sk-container\" hidden><div class=\"sk-item sk-dashed-wrapped\"><div class=\"sk-label-container\"><div class=\"sk-label sk-toggleable\"><input class=\"sk-toggleable__control sk-hidden--visually\" id=\"sk-estimator-id-36\" type=\"checkbox\" ><label for=\"sk-estimator-id-36\" class=\"sk-toggleable__label sk-toggleable__label-arrow\">GridSearchCV</label><div class=\"sk-toggleable__content\"><pre>GridSearchCV(cv=3,\n",
       "             estimator=Pipeline(steps=[(&#x27;scaler&#x27;, StandardScaler()),\n",
       "                                       (&#x27;selectkbest&#x27;, SelectKBest()),\n",
       "                                       (&#x27;classifier&#x27;,\n",
       "                                        XGBClassifier(base_score=None,\n",
       "                                                      booster=None,\n",
       "                                                      callbacks=None,\n",
       "                                                      colsample_bylevel=None,\n",
       "                                                      colsample_bynode=None,\n",
       "                                                      colsample_bytree=None,\n",
       "                                                      early_stopping_rounds=None,\n",
       "                                                      enable_categorical=False,\n",
       "                                                      eval_metric=None,\n",
       "                                                      feature_types=None,\n",
       "                                                      gamma=None, gpu_id=Non...\n",
       "                                                      monotone_constraints=None,\n",
       "                                                      n_estimators=100,\n",
       "                                                      n_jobs=None,\n",
       "                                                      num_parallel_tree=None,\n",
       "                                                      predictor=None,\n",
       "                                                      random_state=None, ...))]),\n",
       "             param_grid={&#x27;classifier__learning_rate&#x27;: [0.1, 0.01],\n",
       "                         &#x27;classifier__max_depth&#x27;: array([25, 26, 27, 28, 29]),\n",
       "                         &#x27;classifier__min_child_weight&#x27;: [1, 0.1, 0.01],\n",
       "                         &#x27;classifier__scale_pos_weight&#x27;: [1, 0.1, 0.001],\n",
       "                         &#x27;selectkbest__k&#x27;: array([5, 6, 7, 8])},\n",
       "             scoring=&#x27;roc_auc&#x27;)</pre></div></div></div><div class=\"sk-parallel\"><div class=\"sk-parallel-item\"><div class=\"sk-item\"><div class=\"sk-label-container\"><div class=\"sk-label sk-toggleable\"><input class=\"sk-toggleable__control sk-hidden--visually\" id=\"sk-estimator-id-37\" type=\"checkbox\" ><label for=\"sk-estimator-id-37\" class=\"sk-toggleable__label sk-toggleable__label-arrow\">estimator: Pipeline</label><div class=\"sk-toggleable__content\"><pre>Pipeline(steps=[(&#x27;scaler&#x27;, StandardScaler()), (&#x27;selectkbest&#x27;, SelectKBest()),\n",
       "                (&#x27;classifier&#x27;,\n",
       "                 XGBClassifier(base_score=None, booster=None, callbacks=None,\n",
       "                               colsample_bylevel=None, colsample_bynode=None,\n",
       "                               colsample_bytree=None,\n",
       "                               early_stopping_rounds=None,\n",
       "                               enable_categorical=False, eval_metric=None,\n",
       "                               feature_types=None, gamma=None, gpu_id=None,\n",
       "                               grow_policy=None, importance_type=None,\n",
       "                               interaction_constraints=None, learning_rate=None,\n",
       "                               max_bin=None, max_cat_threshold=None,\n",
       "                               max_cat_to_onehot=None, max_delta_step=None,\n",
       "                               max_depth=None, max_leaves=None,\n",
       "                               min_child_weight=None, missing=nan,\n",
       "                               monotone_constraints=None, n_estimators=100,\n",
       "                               n_jobs=None, num_parallel_tree=None,\n",
       "                               predictor=None, random_state=None, ...))])</pre></div></div></div><div class=\"sk-serial\"><div class=\"sk-item\"><div class=\"sk-serial\"><div class=\"sk-item\"><div class=\"sk-estimator sk-toggleable\"><input class=\"sk-toggleable__control sk-hidden--visually\" id=\"sk-estimator-id-38\" type=\"checkbox\" ><label for=\"sk-estimator-id-38\" class=\"sk-toggleable__label sk-toggleable__label-arrow\">StandardScaler</label><div class=\"sk-toggleable__content\"><pre>StandardScaler()</pre></div></div></div><div class=\"sk-item\"><div class=\"sk-estimator sk-toggleable\"><input class=\"sk-toggleable__control sk-hidden--visually\" id=\"sk-estimator-id-39\" type=\"checkbox\" ><label for=\"sk-estimator-id-39\" class=\"sk-toggleable__label sk-toggleable__label-arrow\">SelectKBest</label><div class=\"sk-toggleable__content\"><pre>SelectKBest()</pre></div></div></div><div class=\"sk-item\"><div class=\"sk-estimator sk-toggleable\"><input class=\"sk-toggleable__control sk-hidden--visually\" id=\"sk-estimator-id-40\" type=\"checkbox\" ><label for=\"sk-estimator-id-40\" class=\"sk-toggleable__label sk-toggleable__label-arrow\">XGBClassifier</label><div class=\"sk-toggleable__content\"><pre>XGBClassifier(base_score=None, booster=None, callbacks=None,\n",
       "              colsample_bylevel=None, colsample_bynode=None,\n",
       "              colsample_bytree=None, early_stopping_rounds=None,\n",
       "              enable_categorical=False, eval_metric=None, feature_types=None,\n",
       "              gamma=None, gpu_id=None, grow_policy=None, importance_type=None,\n",
       "              interaction_constraints=None, learning_rate=None, max_bin=None,\n",
       "              max_cat_threshold=None, max_cat_to_onehot=None,\n",
       "              max_delta_step=None, max_depth=None, max_leaves=None,\n",
       "              min_child_weight=None, missing=nan, monotone_constraints=None,\n",
       "              n_estimators=100, n_jobs=None, num_parallel_tree=None,\n",
       "              predictor=None, random_state=None, ...)</pre></div></div></div></div></div></div></div></div></div></div></div></div>"
      ],
      "text/plain": [
       "GridSearchCV(cv=3,\n",
       "             estimator=Pipeline(steps=[('scaler', StandardScaler()),\n",
       "                                       ('selectkbest', SelectKBest()),\n",
       "                                       ('classifier',\n",
       "                                        XGBClassifier(base_score=None,\n",
       "                                                      booster=None,\n",
       "                                                      callbacks=None,\n",
       "                                                      colsample_bylevel=None,\n",
       "                                                      colsample_bynode=None,\n",
       "                                                      colsample_bytree=None,\n",
       "                                                      early_stopping_rounds=None,\n",
       "                                                      enable_categorical=False,\n",
       "                                                      eval_metric=None,\n",
       "                                                      feature_types=None,\n",
       "                                                      gamma=None, gpu_id=Non...\n",
       "                                                      monotone_constraints=None,\n",
       "                                                      n_estimators=100,\n",
       "                                                      n_jobs=None,\n",
       "                                                      num_parallel_tree=None,\n",
       "                                                      predictor=None,\n",
       "                                                      random_state=None, ...))]),\n",
       "             param_grid={'classifier__learning_rate': [0.1, 0.01],\n",
       "                         'classifier__max_depth': array([25, 26, 27, 28, 29]),\n",
       "                         'classifier__min_child_weight': [1, 0.1, 0.01],\n",
       "                         'classifier__scale_pos_weight': [1, 0.1, 0.001],\n",
       "                         'selectkbest__k': array([5, 6, 7, 8])},\n",
       "             scoring='roc_auc')"
      ]
     },
     "execution_count": 67,
     "metadata": {},
     "output_type": "execute_result"
    }
   ],
   "source": [
    "# Definir el pipeline\n",
    "pipe = Pipeline(steps=[\n",
    "    (\"scaler\", StandardScaler()),\n",
    "    (\"selectkbest\", SelectKBest()),\n",
    "    (\"classifier\", XGBClassifier())\n",
    "])\n",
    "\n",
    "xgb_params = {\n",
    "    'selectkbest__k': np.arange(5, 9),\n",
    "    'classifier__learning_rate': [0.1, 0.01],\n",
    "    'classifier__max_depth': np.arange(25, 30),\n",
    "    'classifier__min_child_weight': [1, 0.1, 0.01],\n",
    "    'classifier__scale_pos_weight': [1, 0.1, 0.001]\n",
    "}\n",
    "# Crear el GridSearchCV\n",
    "clf = GridSearchCV(estimator=pipe, param_grid=xgb_params, cv=3, scoring=\"roc_auc\")\n",
    "\n",
    "# Ajustar el GridSearchCV\n",
    "clf.fit(X_resampled, y_resampled)"
   ]
  },
  {
   "cell_type": "code",
   "execution_count": 68,
   "metadata": {},
   "outputs": [
    {
     "data": {
      "text/plain": [
       "{'classifier__learning_rate': 0.1,\n",
       " 'classifier__max_depth': 26,\n",
       " 'classifier__min_child_weight': 0.1,\n",
       " 'classifier__scale_pos_weight': 1,\n",
       " 'selectkbest__k': 5}"
      ]
     },
     "execution_count": 68,
     "metadata": {},
     "output_type": "execute_result"
    }
   ],
   "source": [
    "clf.best_params_"
   ]
  },
  {
   "cell_type": "code",
   "execution_count": 69,
   "metadata": {},
   "outputs": [
    {
     "name": "stdout",
     "output_type": "stream",
     "text": [
      "[[125265   3652]\n",
      " [    17    734]]\n"
     ]
    },
    {
     "data": {
      "image/png": "[encoded data removed]",
      "text/plain": [
       "<Figure size 640x480 with 2 Axes>"
      ]
     },
     "metadata": {},
     "output_type": "display_data"
    }
   ],
   "source": [
    "predictions = clf.predict(X_test)\n",
    "c_matrix = confusion_matrix(y_test, predictions)\n",
    "print(c_matrix)\n",
    "sns.heatmap(c_matrix, annot=True);"
   ]
  },
  {
   "cell_type": "code",
   "execution_count": 70,
   "metadata": {},
   "outputs": [
    {
     "name": "stdout",
     "output_type": "stream",
     "text": [
      "Precision score: 0.16735066119471045\n",
      "Recall score: 0.9773635153129161\n",
      "ROC AUC score: 0.9745176055275689\n"
     ]
    }
   ],
   "source": [
    "print(\"Precision score:\", precision_score(y_test, predictions))\n",
    "print(\"Recall score:\", recall_score(y_test, predictions))\n",
    "print(\"ROC AUC score:\", roc_auc_score(y_test, predictions))"
   ]
  },
  {
   "cell_type": "code",
   "execution_count": 78,
   "metadata": {},
   "outputs": [],
   "source": [
    "# Define las proporciones deseadas para cada clase\n",
    "sampling_strategy = {\n",
    "    0: int(0.025 * len(y_train)),\n",
    "    1: int(0.3 * len(y_train)) if int(0.3 * len(y_train)) <= sum(y_train == 1) else sum(y_train == 1)\n",
    "}\n",
    "\n",
    "rus = RandomUnderSampler(random_state=0, sampling_strategy=sampling_strategy)\n",
    "\n",
    "X_resampled, y_resampled = rus.fit_resample(X_train, y_train)"
   ]
  },
  {
   "cell_type": "code",
   "execution_count": null,
   "metadata": {},
   "outputs": [],
   "source": [
    "# Volvemos a separar en test y train para que el test original y los datos del undersample no contaminen a examinar\n",
    "# X_train_und, X_test_und, y_train_und, y_test_und = train_test_split(X_under,\n",
    "#                                                    y_under,\n",
    "#                                                    test_size = 0.2,\n",
    "#                                                    random_state=0)"
   ]
  },
  {
   "cell_type": "code",
   "execution_count": 90,
   "metadata": {},
   "outputs": [
    {
     "data": {
      "text/html": [
       "<style>#sk-container-id-14 {color: black;background-color: white;}#sk-container-id-14 pre{padding: 0;}#sk-container-id-14 div.sk-toggleable {background-color: white;}#sk-container-id-14 label.sk-toggleable__label {cursor: pointer;display: block;width: 100%;margin-bottom: 0;padding: 0.3em;box-sizing: border-box;text-align: center;}#sk-container-id-14 label.sk-toggleable__label-arrow:before {content: \"▸\";float: left;margin-right: 0.25em;color: #696969;}#sk-container-id-14 label.sk-toggleable__label-arrow:hover:before {color: black;}#sk-container-id-14 div.sk-estimator:hover label.sk-toggleable__label-arrow:before {color: black;}#sk-container-id-14 div.sk-toggleable__content {max-height: 0;max-width: 0;overflow: hidden;text-align: left;background-color: #f0f8ff;}#sk-container-id-14 div.sk-toggleable__content pre {margin: 0.2em;color: black;border-radius: 0.25em;background-color: #f0f8ff;}#sk-container-id-14 input.sk-toggleable__control:checked~div.sk-toggleable__content {max-height: 200px;max-width: 100%;overflow: auto;}#sk-container-id-14 input.sk-toggleable__control:checked~label.sk-toggleable__label-arrow:before {content: \"▾\";}#sk-container-id-14 div.sk-estimator input.sk-toggleable__control:checked~label.sk-toggleable__label {background-color: #d4ebff;}#sk-container-id-14 div.sk-label input.sk-toggleable__control:checked~label.sk-toggleable__label {background-color: #d4ebff;}#sk-container-id-14 input.sk-hidden--visually {border: 0;clip: rect(1px 1px 1px 1px);clip: rect(1px, 1px, 1px, 1px);height: 1px;margin: -1px;overflow: hidden;padding: 0;position: absolute;width: 1px;}#sk-container-id-14 div.sk-estimator {font-family: monospace;background-color: #f0f8ff;border: 1px dotted black;border-radius: 0.25em;box-sizing: border-box;margin-bottom: 0.5em;}#sk-container-id-14 div.sk-estimator:hover {background-color: #d4ebff;}#sk-container-id-14 div.sk-parallel-item::after {content: \"\";width: 100%;border-bottom: 1px solid gray;flex-grow: 1;}#sk-container-id-14 div.sk-label:hover label.sk-toggleable__label {background-color: #d4ebff;}#sk-container-id-14 div.sk-serial::before {content: \"\";position: absolute;border-left: 1px solid gray;box-sizing: border-box;top: 0;bottom: 0;left: 50%;z-index: 0;}#sk-container-id-14 div.sk-serial {display: flex;flex-direction: column;align-items: center;background-color: white;padding-right: 0.2em;padding-left: 0.2em;position: relative;}#sk-container-id-14 div.sk-item {position: relative;z-index: 1;}#sk-container-id-14 div.sk-parallel {display: flex;align-items: stretch;justify-content: center;background-color: white;position: relative;}#sk-container-id-14 div.sk-item::before, #sk-container-id-14 div.sk-parallel-item::before {content: \"\";position: absolute;border-left: 1px solid gray;box-sizing: border-box;top: 0;bottom: 0;left: 50%;z-index: -1;}#sk-container-id-14 div.sk-parallel-item {display: flex;flex-direction: column;z-index: 1;position: relative;background-color: white;}#sk-container-id-14 div.sk-parallel-item:first-child::after {align-self: flex-end;width: 50%;}#sk-container-id-14 div.sk-parallel-item:last-child::after {align-self: flex-start;width: 50%;}#sk-container-id-14 div.sk-parallel-item:only-child::after {width: 0;}#sk-container-id-14 div.sk-dashed-wrapped {border: 1px dashed gray;margin: 0 0.4em 0.5em 0.4em;box-sizing: border-box;padding-bottom: 0.4em;background-color: white;}#sk-container-id-14 div.sk-label label {font-family: monospace;font-weight: bold;display: inline-block;line-height: 1.2em;}#sk-container-id-14 div.sk-label-container {text-align: center;}#sk-container-id-14 div.sk-container {/* jupyter's `normalize.less` sets `[hidden] { display: none; }` but bootstrap.min.css set `[hidden] { display: none !important; }` so we also need the `!important` here to be able to override the default hidden behavior on the sphinx rendered scikit-learn.org. See: https://github.com/scikit-learn/scikit-learn/issues/21755 */display: inline-block !important;position: relative;}#sk-container-id-14 div.sk-text-repr-fallback {display: none;}</style><div id=\"sk-container-id-14\" class=\"sk-top-container\"><div class=\"sk-text-repr-fallback\"><pre>GridSearchCV(cv=3,\n",
       "             estimator=Pipeline(steps=[(&#x27;scaler&#x27;, StandardScaler()),\n",
       "                                       (&#x27;selectkbest&#x27;, SelectKBest()),\n",
       "                                       (&#x27;classifier&#x27;,\n",
       "                                        XGBClassifier(base_score=None,\n",
       "                                                      booster=None,\n",
       "                                                      callbacks=None,\n",
       "                                                      colsample_bylevel=None,\n",
       "                                                      colsample_bynode=None,\n",
       "                                                      colsample_bytree=None,\n",
       "                                                      early_stopping_rounds=None,\n",
       "                                                      enable_categorical=False,\n",
       "                                                      eval_metric=None,\n",
       "                                                      feature_types=None,\n",
       "                                                      gamma=None, gpu_id=Non...\n",
       "                                                      max_delta_step=None,\n",
       "                                                      max_depth=None,\n",
       "                                                      max_leaves=None,\n",
       "                                                      min_child_weight=None,\n",
       "                                                      missing=nan,\n",
       "                                                      monotone_constraints=None,\n",
       "                                                      n_estimators=100,\n",
       "                                                      n_jobs=None,\n",
       "                                                      num_parallel_tree=None,\n",
       "                                                      predictor=None,\n",
       "                                                      random_state=None, ...))]),\n",
       "             param_grid={&#x27;classifier__learning_rate&#x27;: [0.1, 0.01],\n",
       "                         &#x27;classifier__max_depth&#x27;: array([10, 11, 12, 13, 14, 15, 16, 17]),\n",
       "                         &#x27;selectkbest__k&#x27;: array([5, 6, 7, 8])},\n",
       "             scoring=&#x27;roc_auc&#x27;)</pre><b>In a Jupyter environment, please rerun this cell to show the HTML representation or trust the notebook. <br />On GitHub, the HTML representation is unable to render, please try loading this page with nbviewer.org.</b></div><div class=\"sk-container\" hidden><div class=\"sk-item sk-dashed-wrapped\"><div class=\"sk-label-container\"><div class=\"sk-label sk-toggleable\"><input class=\"sk-toggleable__control sk-hidden--visually\" id=\"sk-estimator-id-66\" type=\"checkbox\" ><label for=\"sk-estimator-id-66\" class=\"sk-toggleable__label sk-toggleable__label-arrow\">GridSearchCV</label><div class=\"sk-toggleable__content\"><pre>GridSearchCV(cv=3,\n",
       "             estimator=Pipeline(steps=[(&#x27;scaler&#x27;, StandardScaler()),\n",
       "                                       (&#x27;selectkbest&#x27;, SelectKBest()),\n",
       "                                       (&#x27;classifier&#x27;,\n",
       "                                        XGBClassifier(base_score=None,\n",
       "                                                      booster=None,\n",
       "                                                      callbacks=None,\n",
       "                                                      colsample_bylevel=None,\n",
       "                                                      colsample_bynode=None,\n",
       "                                                      colsample_bytree=None,\n",
       "                                                      early_stopping_rounds=None,\n",
       "                                                      enable_categorical=False,\n",
       "                                                      eval_metric=None,\n",
       "                                                      feature_types=None,\n",
       "                                                      gamma=None, gpu_id=Non...\n",
       "                                                      max_delta_step=None,\n",
       "                                                      max_depth=None,\n",
       "                                                      max_leaves=None,\n",
       "                                                      min_child_weight=None,\n",
       "                                                      missing=nan,\n",
       "                                                      monotone_constraints=None,\n",
       "                                                      n_estimators=100,\n",
       "                                                      n_jobs=None,\n",
       "                                                      num_parallel_tree=None,\n",
       "                                                      predictor=None,\n",
       "                                                      random_state=None, ...))]),\n",
       "             param_grid={&#x27;classifier__learning_rate&#x27;: [0.1, 0.01],\n",
       "                         &#x27;classifier__max_depth&#x27;: array([10, 11, 12, 13, 14, 15, 16, 17]),\n",
       "                         &#x27;selectkbest__k&#x27;: array([5, 6, 7, 8])},\n",
       "             scoring=&#x27;roc_auc&#x27;)</pre></div></div></div><div class=\"sk-parallel\"><div class=\"sk-parallel-item\"><div class=\"sk-item\"><div class=\"sk-label-container\"><div class=\"sk-label sk-toggleable\"><input class=\"sk-toggleable__control sk-hidden--visually\" id=\"sk-estimator-id-67\" type=\"checkbox\" ><label for=\"sk-estimator-id-67\" class=\"sk-toggleable__label sk-toggleable__label-arrow\">estimator: Pipeline</label><div class=\"sk-toggleable__content\"><pre>Pipeline(steps=[(&#x27;scaler&#x27;, StandardScaler()), (&#x27;selectkbest&#x27;, SelectKBest()),\n",
       "                (&#x27;classifier&#x27;,\n",
       "                 XGBClassifier(base_score=None, booster=None, callbacks=None,\n",
       "                               colsample_bylevel=None, colsample_bynode=None,\n",
       "                               colsample_bytree=None,\n",
       "                               early_stopping_rounds=None,\n",
       "                               enable_categorical=False, eval_metric=None,\n",
       "                               feature_types=None, gamma=None, gpu_id=None,\n",
       "                               grow_policy=None, importance_type=None,\n",
       "                               interaction_constraints=None, learning_rate=None,\n",
       "                               max_bin=None, max_cat_threshold=None,\n",
       "                               max_cat_to_onehot=None, max_delta_step=None,\n",
       "                               max_depth=None, max_leaves=None,\n",
       "                               min_child_weight=None, missing=nan,\n",
       "                               monotone_constraints=None, n_estimators=100,\n",
       "                               n_jobs=None, num_parallel_tree=None,\n",
       "                               predictor=None, random_state=None, ...))])</pre></div></div></div><div class=\"sk-serial\"><div class=\"sk-item\"><div class=\"sk-serial\"><div class=\"sk-item\"><div class=\"sk-estimator sk-toggleable\"><input class=\"sk-toggleable__control sk-hidden--visually\" id=\"sk-estimator-id-68\" type=\"checkbox\" ><label for=\"sk-estimator-id-68\" class=\"sk-toggleable__label sk-toggleable__label-arrow\">StandardScaler</label><div class=\"sk-toggleable__content\"><pre>StandardScaler()</pre></div></div></div><div class=\"sk-item\"><div class=\"sk-estimator sk-toggleable\"><input class=\"sk-toggleable__control sk-hidden--visually\" id=\"sk-estimator-id-69\" type=\"checkbox\" ><label for=\"sk-estimator-id-69\" class=\"sk-toggleable__label sk-toggleable__label-arrow\">SelectKBest</label><div class=\"sk-toggleable__content\"><pre>SelectKBest()</pre></div></div></div><div class=\"sk-item\"><div class=\"sk-estimator sk-toggleable\"><input class=\"sk-toggleable__control sk-hidden--visually\" id=\"sk-estimator-id-70\" type=\"checkbox\" ><label for=\"sk-estimator-id-70\" class=\"sk-toggleable__label sk-toggleable__label-arrow\">XGBClassifier</label><div class=\"sk-toggleable__content\"><pre>XGBClassifier(base_score=None, booster=None, callbacks=None,\n",
       "              colsample_bylevel=None, colsample_bynode=None,\n",
       "              colsample_bytree=None, early_stopping_rounds=None,\n",
       "              enable_categorical=False, eval_metric=None, feature_types=None,\n",
       "              gamma=None, gpu_id=None, grow_policy=None, importance_type=None,\n",
       "              interaction_constraints=None, learning_rate=None, max_bin=None,\n",
       "              max_cat_threshold=None, max_cat_to_onehot=None,\n",
       "              max_delta_step=None, max_depth=None, max_leaves=None,\n",
       "              min_child_weight=None, missing=nan, monotone_constraints=None,\n",
       "              n_estimators=100, n_jobs=None, num_parallel_tree=None,\n",
       "              predictor=None, random_state=None, ...)</pre></div></div></div></div></div></div></div></div></div></div></div></div>"
      ],
      "text/plain": [
       "GridSearchCV(cv=3,\n",
       "             estimator=Pipeline(steps=[('scaler', StandardScaler()),\n",
       "                                       ('selectkbest', SelectKBest()),\n",
       "                                       ('classifier',\n",
       "                                        XGBClassifier(base_score=None,\n",
       "                                                      booster=None,\n",
       "                                                      callbacks=None,\n",
       "                                                      colsample_bylevel=None,\n",
       "                                                      colsample_bynode=None,\n",
       "                                                      colsample_bytree=None,\n",
       "                                                      early_stopping_rounds=None,\n",
       "                                                      enable_categorical=False,\n",
       "                                                      eval_metric=None,\n",
       "                                                      feature_types=None,\n",
       "                                                      gamma=None, gpu_id=Non...\n",
       "                                                      max_delta_step=None,\n",
       "                                                      max_depth=None,\n",
       "                                                      max_leaves=None,\n",
       "                                                      min_child_weight=None,\n",
       "                                                      missing=nan,\n",
       "                                                      monotone_constraints=None,\n",
       "                                                      n_estimators=100,\n",
       "                                                      n_jobs=None,\n",
       "                                                      num_parallel_tree=None,\n",
       "                                                      predictor=None,\n",
       "                                                      random_state=None, ...))]),\n",
       "             param_grid={'classifier__learning_rate': [0.1, 0.01],\n",
       "                         'classifier__max_depth': array([10, 11, 12, 13, 14, 15, 16, 17]),\n",
       "                         'selectkbest__k': array([5, 6, 7, 8])},\n",
       "             scoring='roc_auc')"
      ]
     },
     "execution_count": 90,
     "metadata": {},
     "output_type": "execute_result"
    }
   ],
   "source": [
    "# Definir el pipeline\n",
    "pipe = Pipeline(steps=[\n",
    "    (\"scaler\", StandardScaler()),\n",
    "    (\"selectkbest\", SelectKBest()),\n",
    "    (\"classifier\", XGBClassifier())\n",
    "])\n",
    "\n",
    "xgb_params = {\n",
    "    'selectkbest__k': np.arange(5, 9),\n",
    "    'classifier__learning_rate': [0.1, 0.01],\n",
    "    'classifier__max_depth': np.arange(10, 18),\n",
    "}\n",
    "# Crear el GridSearchCV\n",
    "clf = GridSearchCV(estimator=pipe, param_grid=xgb_params, cv=3, scoring=\"roc_auc\")\n",
    "\n",
    "# Ajustar el GridSearchCV\n",
    "clf.fit(X_resampled, y_resampled)"
   ]
  },
  {
   "cell_type": "code",
   "execution_count": 91,
   "metadata": {},
   "outputs": [
    {
     "data": {
      "text/plain": [
       "{'classifier__learning_rate': 0.1,\n",
       " 'classifier__max_depth': 11,\n",
       " 'selectkbest__k': 6}"
      ]
     },
     "execution_count": 91,
     "metadata": {},
     "output_type": "execute_result"
    }
   ],
   "source": [
    "clf.best_params_"
   ]
  },
  {
   "cell_type": "code",
   "execution_count": 92,
   "metadata": {},
   "outputs": [
    {
     "name": "stdout",
     "output_type": "stream",
     "text": [
      "[[127536   1381]\n",
      " [    47    704]]\n"
     ]
    },
    {
     "data": {
      "image/png": "[encoded data removed]",
      "text/plain": [
       "<Figure size 640x480 with 2 Axes>"
      ]
     },
     "metadata": {},
     "output_type": "display_data"
    }
   ],
   "source": [
    "predictions = clf.predict(X_test)\n",
    "c_matrix = confusion_matrix(y_test, predictions)\n",
    "print(c_matrix)\n",
    "sns.heatmap(c_matrix, annot=True);"
   ]
  },
  {
   "cell_type": "code",
   "execution_count": 93,
   "metadata": {},
   "outputs": [
    {
     "name": "stdout",
     "output_type": "stream",
     "text": [
      "Precision score: 0.3376498800959233\n",
      "Recall score: 0.9374167776298269\n",
      "ROC AUC score: 0.9633522294255389\n"
     ]
    }
   ],
   "source": [
    "print(\"Precision score:\", precision_score(y_test, predictions))\n",
    "print(\"Recall score:\", recall_score(y_test, predictions))\n",
    "print(\"ROC AUC score:\", roc_auc_score(y_test, predictions))"
   ]
  },
  {
   "cell_type": "code",
   "execution_count": 9,
   "metadata": {},
   "outputs": [
    {
     "name": "stdout",
     "output_type": "stream",
     "text": [
      "Fitting 3 folds for each of 24 candidates, totalling 72 fits\n",
      "[CV 1/3; 1/24] START classifier__learning_rate=0.1, classifier__max_delta_step=2, classifier__max_depth=10, selectkbest__k=5\n",
      "[CV 1/3; 1/24] END classifier__learning_rate=0.1, classifier__max_delta_step=2, classifier__max_depth=10, selectkbest__k=5;, score=0.997 total time=  28.5s\n",
      "[CV 2/3; 1/24] START classifier__learning_rate=0.1, classifier__max_delta_step=2, classifier__max_depth=10, selectkbest__k=5\n",
      "[CV 2/3; 1/24] END classifier__learning_rate=0.1, classifier__max_delta_step=2, classifier__max_depth=10, selectkbest__k=5;, score=0.995 total time=  31.4s\n",
      "[CV 3/3; 1/24] START classifier__learning_rate=0.1, classifier__max_delta_step=2, classifier__max_depth=10, selectkbest__k=5\n",
      "[CV 3/3; 1/24] END classifier__learning_rate=0.1, classifier__max_delta_step=2, classifier__max_depth=10, selectkbest__k=5;, score=0.997 total time=  27.9s\n",
      "[CV 1/3; 2/24] START classifier__learning_rate=0.1, classifier__max_delta_step=2, classifier__max_depth=10, selectkbest__k=6\n",
      "[CV 1/3; 2/24] END classifier__learning_rate=0.1, classifier__max_delta_step=2, classifier__max_depth=10, selectkbest__k=6;, score=0.997 total time=  28.1s\n",
      "[CV 2/3; 2/24] START classifier__learning_rate=0.1, classifier__max_delta_step=2, classifier__max_depth=10, selectkbest__k=6\n",
      "[CV 2/3; 2/24] END classifier__learning_rate=0.1, classifier__max_delta_step=2, classifier__max_depth=10, selectkbest__k=6;, score=0.995 total time=  29.8s\n",
      "[CV 3/3; 2/24] START classifier__learning_rate=0.1, classifier__max_delta_step=2, classifier__max_depth=10, selectkbest__k=6\n",
      "[CV 3/3; 2/24] END classifier__learning_rate=0.1, classifier__max_delta_step=2, classifier__max_depth=10, selectkbest__k=6;, score=0.997 total time=  25.7s\n",
      "[CV 1/3; 3/24] START classifier__learning_rate=0.1, classifier__max_delta_step=2, classifier__max_depth=10, selectkbest__k=7\n",
      "[CV 1/3; 3/24] END classifier__learning_rate=0.1, classifier__max_delta_step=2, classifier__max_depth=10, selectkbest__k=7;, score=0.997 total time=  29.7s\n",
      "[CV 2/3; 3/24] START classifier__learning_rate=0.1, classifier__max_delta_step=2, classifier__max_depth=10, selectkbest__k=7\n",
      "[CV 2/3; 3/24] END classifier__learning_rate=0.1, classifier__max_delta_step=2, classifier__max_depth=10, selectkbest__k=7;, score=0.995 total time=  58.6s\n",
      "[CV 3/3; 3/24] START classifier__learning_rate=0.1, classifier__max_delta_step=2, classifier__max_depth=10, selectkbest__k=7\n",
      "[CV 3/3; 3/24] END classifier__learning_rate=0.1, classifier__max_delta_step=2, classifier__max_depth=10, selectkbest__k=7;, score=0.997 total time=  28.8s\n",
      "[CV 1/3; 4/24] START classifier__learning_rate=0.1, classifier__max_delta_step=2, classifier__max_depth=10, selectkbest__k=8\n",
      "[CV 1/3; 4/24] END classifier__learning_rate=0.1, classifier__max_delta_step=2, classifier__max_depth=10, selectkbest__k=8;, score=0.997 total time=  57.2s\n",
      "[CV 2/3; 4/24] START classifier__learning_rate=0.1, classifier__max_delta_step=2, classifier__max_depth=10, selectkbest__k=8\n",
      "[CV 2/3; 4/24] END classifier__learning_rate=0.1, classifier__max_delta_step=2, classifier__max_depth=10, selectkbest__k=8;, score=0.995 total time=  56.3s\n",
      "[CV 3/3; 4/24] START classifier__learning_rate=0.1, classifier__max_delta_step=2, classifier__max_depth=10, selectkbest__k=8\n",
      "[CV 3/3; 4/24] END classifier__learning_rate=0.1, classifier__max_delta_step=2, classifier__max_depth=10, selectkbest__k=8;, score=0.997 total time=  55.0s\n",
      "[CV 1/3; 5/24] START classifier__learning_rate=0.1, classifier__max_delta_step=5, classifier__max_depth=10, selectkbest__k=5\n",
      "[CV 1/3; 5/24] END classifier__learning_rate=0.1, classifier__max_delta_step=5, classifier__max_depth=10, selectkbest__k=5;, score=0.997 total time=  25.3s\n",
      "[CV 2/3; 5/24] START classifier__learning_rate=0.1, classifier__max_delta_step=5, classifier__max_depth=10, selectkbest__k=5\n",
      "[CV 2/3; 5/24] END classifier__learning_rate=0.1, classifier__max_delta_step=5, classifier__max_depth=10, selectkbest__k=5;, score=0.996 total time=  24.7s\n",
      "[CV 3/3; 5/24] START classifier__learning_rate=0.1, classifier__max_delta_step=5, classifier__max_depth=10, selectkbest__k=5\n",
      "[CV 3/3; 5/24] END classifier__learning_rate=0.1, classifier__max_delta_step=5, classifier__max_depth=10, selectkbest__k=5;, score=0.997 total time=  24.7s\n",
      "[CV 1/3; 6/24] START classifier__learning_rate=0.1, classifier__max_delta_step=5, classifier__max_depth=10, selectkbest__k=6\n",
      "[CV 1/3; 6/24] END classifier__learning_rate=0.1, classifier__max_delta_step=5, classifier__max_depth=10, selectkbest__k=6;, score=0.997 total time=  27.1s\n",
      "[CV 2/3; 6/24] START classifier__learning_rate=0.1, classifier__max_delta_step=5, classifier__max_depth=10, selectkbest__k=6\n",
      "[CV 2/3; 6/24] END classifier__learning_rate=0.1, classifier__max_delta_step=5, classifier__max_depth=10, selectkbest__k=6;, score=0.996 total time=  27.4s\n",
      "[CV 3/3; 6/24] START classifier__learning_rate=0.1, classifier__max_delta_step=5, classifier__max_depth=10, selectkbest__k=6\n",
      "[CV 3/3; 6/24] END classifier__learning_rate=0.1, classifier__max_delta_step=5, classifier__max_depth=10, selectkbest__k=6;, score=0.997 total time=  25.9s\n",
      "[CV 1/3; 7/24] START classifier__learning_rate=0.1, classifier__max_delta_step=5, classifier__max_depth=10, selectkbest__k=7\n",
      "[CV 1/3; 7/24] END classifier__learning_rate=0.1, classifier__max_delta_step=5, classifier__max_depth=10, selectkbest__k=7;, score=0.997 total time=  27.8s\n",
      "[CV 2/3; 7/24] START classifier__learning_rate=0.1, classifier__max_delta_step=5, classifier__max_depth=10, selectkbest__k=7\n",
      "[CV 2/3; 7/24] END classifier__learning_rate=0.1, classifier__max_delta_step=5, classifier__max_depth=10, selectkbest__k=7;, score=0.995 total time=  54.7s\n",
      "[CV 3/3; 7/24] START classifier__learning_rate=0.1, classifier__max_delta_step=5, classifier__max_depth=10, selectkbest__k=7\n",
      "[CV 3/3; 7/24] END classifier__learning_rate=0.1, classifier__max_delta_step=5, classifier__max_depth=10, selectkbest__k=7;, score=0.997 total time=  29.4s\n",
      "[CV 1/3; 8/24] START classifier__learning_rate=0.1, classifier__max_delta_step=5, classifier__max_depth=10, selectkbest__k=8\n",
      "[CV 1/3; 8/24] END classifier__learning_rate=0.1, classifier__max_delta_step=5, classifier__max_depth=10, selectkbest__k=8;, score=0.997 total time=  56.6s\n",
      "[CV 2/3; 8/24] START classifier__learning_rate=0.1, classifier__max_delta_step=5, classifier__max_depth=10, selectkbest__k=8\n",
      "[CV 2/3; 8/24] END classifier__learning_rate=0.1, classifier__max_delta_step=5, classifier__max_depth=10, selectkbest__k=8;, score=0.996 total time=  55.3s\n",
      "[CV 3/3; 8/24] START classifier__learning_rate=0.1, classifier__max_delta_step=5, classifier__max_depth=10, selectkbest__k=8\n",
      "[CV 3/3; 8/24] END classifier__learning_rate=0.1, classifier__max_delta_step=5, classifier__max_depth=10, selectkbest__k=8;, score=0.997 total time=  55.7s\n",
      "[CV 1/3; 9/24] START classifier__learning_rate=0.1, classifier__max_delta_step=10, classifier__max_depth=10, selectkbest__k=5\n",
      "[CV 1/3; 9/24] END classifier__learning_rate=0.1, classifier__max_delta_step=10, classifier__max_depth=10, selectkbest__k=5;, score=0.997 total time=  26.7s\n",
      "[CV 2/3; 9/24] START classifier__learning_rate=0.1, classifier__max_delta_step=10, classifier__max_depth=10, selectkbest__k=5\n",
      "[CV 2/3; 9/24] END classifier__learning_rate=0.1, classifier__max_delta_step=10, classifier__max_depth=10, selectkbest__k=5;, score=0.995 total time=  27.8s\n",
      "[CV 3/3; 9/24] START classifier__learning_rate=0.1, classifier__max_delta_step=10, classifier__max_depth=10, selectkbest__k=5\n",
      "[CV 3/3; 9/24] END classifier__learning_rate=0.1, classifier__max_delta_step=10, classifier__max_depth=10, selectkbest__k=5;, score=0.997 total time=  26.4s\n",
      "[CV 1/3; 10/24] START classifier__learning_rate=0.1, classifier__max_delta_step=10, classifier__max_depth=10, selectkbest__k=6\n",
      "[CV 1/3; 10/24] END classifier__learning_rate=0.1, classifier__max_delta_step=10, classifier__max_depth=10, selectkbest__k=6;, score=0.997 total time=  26.5s\n",
      "[CV 2/3; 10/24] START classifier__learning_rate=0.1, classifier__max_delta_step=10, classifier__max_depth=10, selectkbest__k=6\n",
      "[CV 2/3; 10/24] END classifier__learning_rate=0.1, classifier__max_delta_step=10, classifier__max_depth=10, selectkbest__k=6;, score=0.996 total time=  26.0s\n",
      "[CV 3/3; 10/24] START classifier__learning_rate=0.1, classifier__max_delta_step=10, classifier__max_depth=10, selectkbest__k=6\n",
      "[CV 3/3; 10/24] END classifier__learning_rate=0.1, classifier__max_delta_step=10, classifier__max_depth=10, selectkbest__k=6;, score=0.997 total time=  26.9s\n",
      "[CV 1/3; 11/24] START classifier__learning_rate=0.1, classifier__max_delta_step=10, classifier__max_depth=10, selectkbest__k=7\n",
      "[CV 1/3; 11/24] END classifier__learning_rate=0.1, classifier__max_delta_step=10, classifier__max_depth=10, selectkbest__k=7;, score=0.997 total time=  28.8s\n",
      "[CV 2/3; 11/24] START classifier__learning_rate=0.1, classifier__max_delta_step=10, classifier__max_depth=10, selectkbest__k=7\n",
      "[CV 2/3; 11/24] END classifier__learning_rate=0.1, classifier__max_delta_step=10, classifier__max_depth=10, selectkbest__k=7;, score=0.996 total time=  53.9s\n",
      "[CV 3/3; 11/24] START classifier__learning_rate=0.1, classifier__max_delta_step=10, classifier__max_depth=10, selectkbest__k=7\n",
      "[CV 3/3; 11/24] END classifier__learning_rate=0.1, classifier__max_delta_step=10, classifier__max_depth=10, selectkbest__k=7;, score=0.997 total time=  27.7s\n",
      "[CV 1/3; 12/24] START classifier__learning_rate=0.1, classifier__max_delta_step=10, classifier__max_depth=10, selectkbest__k=8\n",
      "[CV 1/3; 12/24] END classifier__learning_rate=0.1, classifier__max_delta_step=10, classifier__max_depth=10, selectkbest__k=8;, score=0.997 total time=  57.2s\n",
      "[CV 2/3; 12/24] START classifier__learning_rate=0.1, classifier__max_delta_step=10, classifier__max_depth=10, selectkbest__k=8\n",
      "[CV 2/3; 12/24] END classifier__learning_rate=0.1, classifier__max_delta_step=10, classifier__max_depth=10, selectkbest__k=8;, score=0.995 total time=  58.0s\n",
      "[CV 3/3; 12/24] START classifier__learning_rate=0.1, classifier__max_delta_step=10, classifier__max_depth=10, selectkbest__k=8\n",
      "[CV 3/3; 12/24] END classifier__learning_rate=0.1, classifier__max_delta_step=10, classifier__max_depth=10, selectkbest__k=8;, score=0.997 total time=  55.8s\n",
      "[CV 1/3; 13/24] START classifier__learning_rate=0.01, classifier__max_delta_step=2, classifier__max_depth=10, selectkbest__k=5\n",
      "[CV 1/3; 13/24] END classifier__learning_rate=0.01, classifier__max_delta_step=2, classifier__max_depth=10, selectkbest__k=5;, score=0.970 total time=  23.6s\n",
      "[CV 2/3; 13/24] START classifier__learning_rate=0.01, classifier__max_delta_step=2, classifier__max_depth=10, selectkbest__k=5\n",
      "[CV 2/3; 13/24] END classifier__learning_rate=0.01, classifier__max_delta_step=2, classifier__max_depth=10, selectkbest__k=5;, score=0.970 total time=  31.5s\n",
      "[CV 3/3; 13/24] START classifier__learning_rate=0.01, classifier__max_delta_step=2, classifier__max_depth=10, selectkbest__k=5\n",
      "[CV 3/3; 13/24] END classifier__learning_rate=0.01, classifier__max_delta_step=2, classifier__max_depth=10, selectkbest__k=5;, score=0.981 total time=  25.8s\n",
      "[CV 1/3; 14/24] START classifier__learning_rate=0.01, classifier__max_delta_step=2, classifier__max_depth=10, selectkbest__k=6\n",
      "[CV 1/3; 14/24] END classifier__learning_rate=0.01, classifier__max_delta_step=2, classifier__max_depth=10, selectkbest__k=6;, score=0.970 total time=  25.0s\n",
      "[CV 2/3; 14/24] START classifier__learning_rate=0.01, classifier__max_delta_step=2, classifier__max_depth=10, selectkbest__k=6\n",
      "[CV 2/3; 14/24] END classifier__learning_rate=0.01, classifier__max_delta_step=2, classifier__max_depth=10, selectkbest__k=6;, score=0.970 total time=  24.0s\n",
      "[CV 3/3; 14/24] START classifier__learning_rate=0.01, classifier__max_delta_step=2, classifier__max_depth=10, selectkbest__k=6\n",
      "[CV 3/3; 14/24] END classifier__learning_rate=0.01, classifier__max_delta_step=2, classifier__max_depth=10, selectkbest__k=6;, score=0.980 total time=  29.7s\n",
      "[CV 1/3; 15/24] START classifier__learning_rate=0.01, classifier__max_delta_step=2, classifier__max_depth=10, selectkbest__k=7\n",
      "[CV 1/3; 15/24] END classifier__learning_rate=0.01, classifier__max_delta_step=2, classifier__max_depth=10, selectkbest__k=7;, score=0.970 total time=  34.4s\n",
      "[CV 2/3; 15/24] START classifier__learning_rate=0.01, classifier__max_delta_step=2, classifier__max_depth=10, selectkbest__k=7\n",
      "[CV 2/3; 15/24] END classifier__learning_rate=0.01, classifier__max_delta_step=2, classifier__max_depth=10, selectkbest__k=7;, score=0.970 total time=  56.5s\n",
      "[CV 3/3; 15/24] START classifier__learning_rate=0.01, classifier__max_delta_step=2, classifier__max_depth=10, selectkbest__k=7\n",
      "[CV 3/3; 15/24] END classifier__learning_rate=0.01, classifier__max_delta_step=2, classifier__max_depth=10, selectkbest__k=7;, score=0.980 total time=  27.9s\n",
      "[CV 1/3; 16/24] START classifier__learning_rate=0.01, classifier__max_delta_step=2, classifier__max_depth=10, selectkbest__k=8\n",
      "[CV 1/3; 16/24] END classifier__learning_rate=0.01, classifier__max_delta_step=2, classifier__max_depth=10, selectkbest__k=8;, score=0.970 total time=  47.3s\n",
      "[CV 2/3; 16/24] START classifier__learning_rate=0.01, classifier__max_delta_step=2, classifier__max_depth=10, selectkbest__k=8\n",
      "[CV 2/3; 16/24] END classifier__learning_rate=0.01, classifier__max_delta_step=2, classifier__max_depth=10, selectkbest__k=8;, score=0.970 total time=  46.0s\n",
      "[CV 3/3; 16/24] START classifier__learning_rate=0.01, classifier__max_delta_step=2, classifier__max_depth=10, selectkbest__k=8\n",
      "[CV 3/3; 16/24] END classifier__learning_rate=0.01, classifier__max_delta_step=2, classifier__max_depth=10, selectkbest__k=8;, score=0.980 total time=  48.3s\n",
      "[CV 1/3; 17/24] START classifier__learning_rate=0.01, classifier__max_delta_step=5, classifier__max_depth=10, selectkbest__k=5\n",
      "[CV 1/3; 17/24] END classifier__learning_rate=0.01, classifier__max_delta_step=5, classifier__max_depth=10, selectkbest__k=5;, score=0.970 total time=  25.2s\n",
      "[CV 2/3; 17/24] START classifier__learning_rate=0.01, classifier__max_delta_step=5, classifier__max_depth=10, selectkbest__k=5\n",
      "[CV 2/3; 17/24] END classifier__learning_rate=0.01, classifier__max_delta_step=5, classifier__max_depth=10, selectkbest__k=5;, score=0.970 total time=  30.7s\n",
      "[CV 3/3; 17/24] START classifier__learning_rate=0.01, classifier__max_delta_step=5, classifier__max_depth=10, selectkbest__k=5\n",
      "[CV 3/3; 17/24] END classifier__learning_rate=0.01, classifier__max_delta_step=5, classifier__max_depth=10, selectkbest__k=5;, score=0.981 total time=  23.4s\n",
      "[CV 1/3; 18/24] START classifier__learning_rate=0.01, classifier__max_delta_step=5, classifier__max_depth=10, selectkbest__k=6\n",
      "[CV 1/3; 18/24] END classifier__learning_rate=0.01, classifier__max_delta_step=5, classifier__max_depth=10, selectkbest__k=6;, score=0.970 total time=  31.8s\n",
      "[CV 2/3; 18/24] START classifier__learning_rate=0.01, classifier__max_delta_step=5, classifier__max_depth=10, selectkbest__k=6\n",
      "[CV 2/3; 18/24] END classifier__learning_rate=0.01, classifier__max_delta_step=5, classifier__max_depth=10, selectkbest__k=6;, score=0.970 total time=  29.7s\n",
      "[CV 3/3; 18/24] START classifier__learning_rate=0.01, classifier__max_delta_step=5, classifier__max_depth=10, selectkbest__k=6\n",
      "[CV 3/3; 18/24] END classifier__learning_rate=0.01, classifier__max_delta_step=5, classifier__max_depth=10, selectkbest__k=6;, score=0.980 total time=  23.0s\n",
      "[CV 1/3; 19/24] START classifier__learning_rate=0.01, classifier__max_delta_step=5, classifier__max_depth=10, selectkbest__k=7\n",
      "[CV 1/3; 19/24] END classifier__learning_rate=0.01, classifier__max_delta_step=5, classifier__max_depth=10, selectkbest__k=7;, score=0.970 total time=  24.0s\n",
      "[CV 2/3; 19/24] START classifier__learning_rate=0.01, classifier__max_delta_step=5, classifier__max_depth=10, selectkbest__k=7\n",
      "[CV 2/3; 19/24] END classifier__learning_rate=0.01, classifier__max_delta_step=5, classifier__max_depth=10, selectkbest__k=7;, score=0.970 total time=  53.6s\n",
      "[CV 3/3; 19/24] START classifier__learning_rate=0.01, classifier__max_delta_step=5, classifier__max_depth=10, selectkbest__k=7\n",
      "[CV 3/3; 19/24] END classifier__learning_rate=0.01, classifier__max_delta_step=5, classifier__max_depth=10, selectkbest__k=7;, score=0.980 total time=  32.4s\n",
      "[CV 1/3; 20/24] START classifier__learning_rate=0.01, classifier__max_delta_step=5, classifier__max_depth=10, selectkbest__k=8\n",
      "[CV 1/3; 20/24] END classifier__learning_rate=0.01, classifier__max_delta_step=5, classifier__max_depth=10, selectkbest__k=8;, score=0.970 total time=  55.0s\n",
      "[CV 2/3; 20/24] START classifier__learning_rate=0.01, classifier__max_delta_step=5, classifier__max_depth=10, selectkbest__k=8\n",
      "[CV 2/3; 20/24] END classifier__learning_rate=0.01, classifier__max_delta_step=5, classifier__max_depth=10, selectkbest__k=8;, score=0.970 total time=  50.7s\n",
      "[CV 3/3; 20/24] START classifier__learning_rate=0.01, classifier__max_delta_step=5, classifier__max_depth=10, selectkbest__k=8\n",
      "[CV 3/3; 20/24] END classifier__learning_rate=0.01, classifier__max_delta_step=5, classifier__max_depth=10, selectkbest__k=8;, score=0.980 total time=  54.1s\n",
      "[CV 1/3; 21/24] START classifier__learning_rate=0.01, classifier__max_delta_step=10, classifier__max_depth=10, selectkbest__k=5\n",
      "[CV 1/3; 21/24] END classifier__learning_rate=0.01, classifier__max_delta_step=10, classifier__max_depth=10, selectkbest__k=5;, score=0.970 total time=  26.0s\n",
      "[CV 2/3; 21/24] START classifier__learning_rate=0.01, classifier__max_delta_step=10, classifier__max_depth=10, selectkbest__k=5\n",
      "[CV 2/3; 21/24] END classifier__learning_rate=0.01, classifier__max_delta_step=10, classifier__max_depth=10, selectkbest__k=5;, score=0.970 total time=  26.7s\n",
      "[CV 3/3; 21/24] START classifier__learning_rate=0.01, classifier__max_delta_step=10, classifier__max_depth=10, selectkbest__k=5\n",
      "[CV 3/3; 21/24] END classifier__learning_rate=0.01, classifier__max_delta_step=10, classifier__max_depth=10, selectkbest__k=5;, score=0.981 total time=  28.4s\n",
      "[CV 1/3; 22/24] START classifier__learning_rate=0.01, classifier__max_delta_step=10, classifier__max_depth=10, selectkbest__k=6\n",
      "[CV 1/3; 22/24] END classifier__learning_rate=0.01, classifier__max_delta_step=10, classifier__max_depth=10, selectkbest__k=6;, score=0.970 total time=  30.0s\n",
      "[CV 2/3; 22/24] START classifier__learning_rate=0.01, classifier__max_delta_step=10, classifier__max_depth=10, selectkbest__k=6\n",
      "[CV 2/3; 22/24] END classifier__learning_rate=0.01, classifier__max_delta_step=10, classifier__max_depth=10, selectkbest__k=6;, score=0.970 total time=  30.1s\n",
      "[CV 3/3; 22/24] START classifier__learning_rate=0.01, classifier__max_delta_step=10, classifier__max_depth=10, selectkbest__k=6\n",
      "[CV 3/3; 22/24] END classifier__learning_rate=0.01, classifier__max_delta_step=10, classifier__max_depth=10, selectkbest__k=6;, score=0.980 total time=  29.4s\n",
      "[CV 1/3; 23/24] START classifier__learning_rate=0.01, classifier__max_delta_step=10, classifier__max_depth=10, selectkbest__k=7\n",
      "[CV 1/3; 23/24] END classifier__learning_rate=0.01, classifier__max_delta_step=10, classifier__max_depth=10, selectkbest__k=7;, score=0.970 total time=  33.0s\n",
      "[CV 2/3; 23/24] START classifier__learning_rate=0.01, classifier__max_delta_step=10, classifier__max_depth=10, selectkbest__k=7\n",
      "[CV 2/3; 23/24] END classifier__learning_rate=0.01, classifier__max_delta_step=10, classifier__max_depth=10, selectkbest__k=7;, score=0.970 total time=  51.1s\n",
      "[CV 3/3; 23/24] START classifier__learning_rate=0.01, classifier__max_delta_step=10, classifier__max_depth=10, selectkbest__k=7\n",
      "[CV 3/3; 23/24] END classifier__learning_rate=0.01, classifier__max_delta_step=10, classifier__max_depth=10, selectkbest__k=7;, score=0.980 total time=  31.1s\n",
      "[CV 1/3; 24/24] START classifier__learning_rate=0.01, classifier__max_delta_step=10, classifier__max_depth=10, selectkbest__k=8\n",
      "[CV 1/3; 24/24] END classifier__learning_rate=0.01, classifier__max_delta_step=10, classifier__max_depth=10, selectkbest__k=8;, score=0.970 total time=  52.4s\n",
      "[CV 2/3; 24/24] START classifier__learning_rate=0.01, classifier__max_delta_step=10, classifier__max_depth=10, selectkbest__k=8\n",
      "[CV 2/3; 24/24] END classifier__learning_rate=0.01, classifier__max_delta_step=10, classifier__max_depth=10, selectkbest__k=8;, score=0.970 total time=  53.4s\n",
      "[CV 3/3; 24/24] START classifier__learning_rate=0.01, classifier__max_delta_step=10, classifier__max_depth=10, selectkbest__k=8\n",
      "[CV 3/3; 24/24] END classifier__learning_rate=0.01, classifier__max_delta_step=10, classifier__max_depth=10, selectkbest__k=8;, score=0.980 total time=  53.3s\n"
     ]
    },
    {
     "data": {
      "text/html": [
       "<style>#sk-container-id-1 {color: black;background-color: white;}#sk-container-id-1 pre{padding: 0;}#sk-container-id-1 div.sk-toggleable {background-color: white;}#sk-container-id-1 label.sk-toggleable__label {cursor: pointer;display: block;width: 100%;margin-bottom: 0;padding: 0.3em;box-sizing: border-box;text-align: center;}#sk-container-id-1 label.sk-toggleable__label-arrow:before {content: \"▸\";float: left;margin-right: 0.25em;color: #696969;}#sk-container-id-1 label.sk-toggleable__label-arrow:hover:before {color: black;}#sk-container-id-1 div.sk-estimator:hover label.sk-toggleable__label-arrow:before {color: black;}#sk-container-id-1 div.sk-toggleable__content {max-height: 0;max-width: 0;overflow: hidden;text-align: left;background-color: #f0f8ff;}#sk-container-id-1 div.sk-toggleable__content pre {margin: 0.2em;color: black;border-radius: 0.25em;background-color: #f0f8ff;}#sk-container-id-1 input.sk-toggleable__control:checked~div.sk-toggleable__content {max-height: 200px;max-width: 100%;overflow: auto;}#sk-container-id-1 input.sk-toggleable__control:checked~label.sk-toggleable__label-arrow:before {content: \"▾\";}#sk-container-id-1 div.sk-estimator input.sk-toggleable__control:checked~label.sk-toggleable__label {background-color: #d4ebff;}#sk-container-id-1 div.sk-label input.sk-toggleable__control:checked~label.sk-toggleable__label {background-color: #d4ebff;}#sk-container-id-1 input.sk-hidden--visually {border: 0;clip: rect(1px 1px 1px 1px);clip: rect(1px, 1px, 1px, 1px);height: 1px;margin: -1px;overflow: hidden;padding: 0;position: absolute;width: 1px;}#sk-container-id-1 div.sk-estimator {font-family: monospace;background-color: #f0f8ff;border: 1px dotted black;border-radius: 0.25em;box-sizing: border-box;margin-bottom: 0.5em;}#sk-container-id-1 div.sk-estimator:hover {background-color: #d4ebff;}#sk-container-id-1 div.sk-parallel-item::after {content: \"\";width: 100%;border-bottom: 1px solid gray;flex-grow: 1;}#sk-container-id-1 div.sk-label:hover label.sk-toggleable__label {background-color: #d4ebff;}#sk-container-id-1 div.sk-serial::before {content: \"\";position: absolute;border-left: 1px solid gray;box-sizing: border-box;top: 0;bottom: 0;left: 50%;z-index: 0;}#sk-container-id-1 div.sk-serial {display: flex;flex-direction: column;align-items: center;background-color: white;padding-right: 0.2em;padding-left: 0.2em;position: relative;}#sk-container-id-1 div.sk-item {position: relative;z-index: 1;}#sk-container-id-1 div.sk-parallel {display: flex;align-items: stretch;justify-content: center;background-color: white;position: relative;}#sk-container-id-1 div.sk-item::before, #sk-container-id-1 div.sk-parallel-item::before {content: \"\";position: absolute;border-left: 1px solid gray;box-sizing: border-box;top: 0;bottom: 0;left: 50%;z-index: -1;}#sk-container-id-1 div.sk-parallel-item {display: flex;flex-direction: column;z-index: 1;position: relative;background-color: white;}#sk-container-id-1 div.sk-parallel-item:first-child::after {align-self: flex-end;width: 50%;}#sk-container-id-1 div.sk-parallel-item:last-child::after {align-self: flex-start;width: 50%;}#sk-container-id-1 div.sk-parallel-item:only-child::after {width: 0;}#sk-container-id-1 div.sk-dashed-wrapped {border: 1px dashed gray;margin: 0 0.4em 0.5em 0.4em;box-sizing: border-box;padding-bottom: 0.4em;background-color: white;}#sk-container-id-1 div.sk-label label {font-family: monospace;font-weight: bold;display: inline-block;line-height: 1.2em;}#sk-container-id-1 div.sk-label-container {text-align: center;}#sk-container-id-1 div.sk-container {/* jupyter's `normalize.less` sets `[hidden] { display: none; }` but bootstrap.min.css set `[hidden] { display: none !important; }` so we also need the `!important` here to be able to override the default hidden behavior on the sphinx rendered scikit-learn.org. See: https://github.com/scikit-learn/scikit-learn/issues/21755 */display: inline-block !important;position: relative;}#sk-container-id-1 div.sk-text-repr-fallback {display: none;}</style><div id=\"sk-container-id-1\" class=\"sk-top-container\"><div class=\"sk-text-repr-fallback\"><pre>GridSearchCV(cv=3,\n",
       "             estimator=Pipeline(steps=[(&#x27;scaler&#x27;, StandardScaler()),\n",
       "                                       (&#x27;selectkbest&#x27;, SelectKBest()),\n",
       "                                       (&#x27;classifier&#x27;,\n",
       "                                        XGBClassifier(base_score=None,\n",
       "                                                      booster=None,\n",
       "                                                      callbacks=None,\n",
       "                                                      colsample_bylevel=None,\n",
       "                                                      colsample_bynode=None,\n",
       "                                                      colsample_bytree=None,\n",
       "                                                      early_stopping_rounds=None,\n",
       "                                                      enable_categorical=False,\n",
       "                                                      eval_metric=None,\n",
       "                                                      feature_types=None,\n",
       "                                                      gamma=None, gpu_id=Non...\n",
       "                                                      max_leaves=None,\n",
       "                                                      min_child_weight=None,\n",
       "                                                      missing=nan,\n",
       "                                                      monotone_constraints=None,\n",
       "                                                      n_estimators=100,\n",
       "                                                      n_jobs=None,\n",
       "                                                      num_parallel_tree=None,\n",
       "                                                      predictor=None,\n",
       "                                                      random_state=None, ...))]),\n",
       "             param_grid={&#x27;classifier__learning_rate&#x27;: [0.1, 0.01],\n",
       "                         &#x27;classifier__max_delta_step&#x27;: [2, 5, 10],\n",
       "                         &#x27;classifier__max_depth&#x27;: array([10]),\n",
       "                         &#x27;selectkbest__k&#x27;: array([5, 6, 7, 8])},\n",
       "             scoring=&#x27;roc_auc&#x27;, verbose=10)</pre><b>In a Jupyter environment, please rerun this cell to show the HTML representation or trust the notebook. <br />On GitHub, the HTML representation is unable to render, please try loading this page with nbviewer.org.</b></div><div class=\"sk-container\" hidden><div class=\"sk-item sk-dashed-wrapped\"><div class=\"sk-label-container\"><div class=\"sk-label sk-toggleable\"><input class=\"sk-toggleable__control sk-hidden--visually\" id=\"sk-estimator-id-1\" type=\"checkbox\" ><label for=\"sk-estimator-id-1\" class=\"sk-toggleable__label sk-toggleable__label-arrow\">GridSearchCV</label><div class=\"sk-toggleable__content\"><pre>GridSearchCV(cv=3,\n",
       "             estimator=Pipeline(steps=[(&#x27;scaler&#x27;, StandardScaler()),\n",
       "                                       (&#x27;selectkbest&#x27;, SelectKBest()),\n",
       "                                       (&#x27;classifier&#x27;,\n",
       "                                        XGBClassifier(base_score=None,\n",
       "                                                      booster=None,\n",
       "                                                      callbacks=None,\n",
       "                                                      colsample_bylevel=None,\n",
       "                                                      colsample_bynode=None,\n",
       "                                                      colsample_bytree=None,\n",
       "                                                      early_stopping_rounds=None,\n",
       "                                                      enable_categorical=False,\n",
       "                                                      eval_metric=None,\n",
       "                                                      feature_types=None,\n",
       "                                                      gamma=None, gpu_id=Non...\n",
       "                                                      max_leaves=None,\n",
       "                                                      min_child_weight=None,\n",
       "                                                      missing=nan,\n",
       "                                                      monotone_constraints=None,\n",
       "                                                      n_estimators=100,\n",
       "                                                      n_jobs=None,\n",
       "                                                      num_parallel_tree=None,\n",
       "                                                      predictor=None,\n",
       "                                                      random_state=None, ...))]),\n",
       "             param_grid={&#x27;classifier__learning_rate&#x27;: [0.1, 0.01],\n",
       "                         &#x27;classifier__max_delta_step&#x27;: [2, 5, 10],\n",
       "                         &#x27;classifier__max_depth&#x27;: array([10]),\n",
       "                         &#x27;selectkbest__k&#x27;: array([5, 6, 7, 8])},\n",
       "             scoring=&#x27;roc_auc&#x27;, verbose=10)</pre></div></div></div><div class=\"sk-parallel\"><div class=\"sk-parallel-item\"><div class=\"sk-item\"><div class=\"sk-label-container\"><div class=\"sk-label sk-toggleable\"><input class=\"sk-toggleable__control sk-hidden--visually\" id=\"sk-estimator-id-2\" type=\"checkbox\" ><label for=\"sk-estimator-id-2\" class=\"sk-toggleable__label sk-toggleable__label-arrow\">estimator: Pipeline</label><div class=\"sk-toggleable__content\"><pre>Pipeline(steps=[(&#x27;scaler&#x27;, StandardScaler()), (&#x27;selectkbest&#x27;, SelectKBest()),\n",
       "                (&#x27;classifier&#x27;,\n",
       "                 XGBClassifier(base_score=None, booster=None, callbacks=None,\n",
       "                               colsample_bylevel=None, colsample_bynode=None,\n",
       "                               colsample_bytree=None,\n",
       "                               early_stopping_rounds=None,\n",
       "                               enable_categorical=False, eval_metric=None,\n",
       "                               feature_types=None, gamma=None, gpu_id=None,\n",
       "                               grow_policy=None, importance_type=None,\n",
       "                               interaction_constraints=None, learning_rate=None,\n",
       "                               max_bin=None, max_cat_threshold=None,\n",
       "                               max_cat_to_onehot=None, max_delta_step=None,\n",
       "                               max_depth=None, max_leaves=None,\n",
       "                               min_child_weight=None, missing=nan,\n",
       "                               monotone_constraints=None, n_estimators=100,\n",
       "                               n_jobs=None, num_parallel_tree=None,\n",
       "                               predictor=None, random_state=None, ...))])</pre></div></div></div><div class=\"sk-serial\"><div class=\"sk-item\"><div class=\"sk-serial\"><div class=\"sk-item\"><div class=\"sk-estimator sk-toggleable\"><input class=\"sk-toggleable__control sk-hidden--visually\" id=\"sk-estimator-id-3\" type=\"checkbox\" ><label for=\"sk-estimator-id-3\" class=\"sk-toggleable__label sk-toggleable__label-arrow\">StandardScaler</label><div class=\"sk-toggleable__content\"><pre>StandardScaler()</pre></div></div></div><div class=\"sk-item\"><div class=\"sk-estimator sk-toggleable\"><input class=\"sk-toggleable__control sk-hidden--visually\" id=\"sk-estimator-id-4\" type=\"checkbox\" ><label for=\"sk-estimator-id-4\" class=\"sk-toggleable__label sk-toggleable__label-arrow\">SelectKBest</label><div class=\"sk-toggleable__content\"><pre>SelectKBest()</pre></div></div></div><div class=\"sk-item\"><div class=\"sk-estimator sk-toggleable\"><input class=\"sk-toggleable__control sk-hidden--visually\" id=\"sk-estimator-id-5\" type=\"checkbox\" ><label for=\"sk-estimator-id-5\" class=\"sk-toggleable__label sk-toggleable__label-arrow\">XGBClassifier</label><div class=\"sk-toggleable__content\"><pre>XGBClassifier(base_score=None, booster=None, callbacks=None,\n",
       "              colsample_bylevel=None, colsample_bynode=None,\n",
       "              colsample_bytree=None, early_stopping_rounds=None,\n",
       "              enable_categorical=False, eval_metric=None, feature_types=None,\n",
       "              gamma=None, gpu_id=None, grow_policy=None, importance_type=None,\n",
       "              interaction_constraints=None, learning_rate=None, max_bin=None,\n",
       "              max_cat_threshold=None, max_cat_to_onehot=None,\n",
       "              max_delta_step=None, max_depth=None, max_leaves=None,\n",
       "              min_child_weight=None, missing=nan, monotone_constraints=None,\n",
       "              n_estimators=100, n_jobs=None, num_parallel_tree=None,\n",
       "              predictor=None, random_state=None, ...)</pre></div></div></div></div></div></div></div></div></div></div></div></div>"
      ],
      "text/plain": [
       "GridSearchCV(cv=3,\n",
       "             estimator=Pipeline(steps=[('scaler', StandardScaler()),\n",
       "                                       ('selectkbest', SelectKBest()),\n",
       "                                       ('classifier',\n",
       "                                        XGBClassifier(base_score=None,\n",
       "                                                      booster=None,\n",
       "                                                      callbacks=None,\n",
       "                                                      colsample_bylevel=None,\n",
       "                                                      colsample_bynode=None,\n",
       "                                                      colsample_bytree=None,\n",
       "                                                      early_stopping_rounds=None,\n",
       "                                                      enable_categorical=False,\n",
       "                                                      eval_metric=None,\n",
       "                                                      feature_types=None,\n",
       "                                                      gamma=None, gpu_id=Non...\n",
       "                                                      max_leaves=None,\n",
       "                                                      min_child_weight=None,\n",
       "                                                      missing=nan,\n",
       "                                                      monotone_constraints=None,\n",
       "                                                      n_estimators=100,\n",
       "                                                      n_jobs=None,\n",
       "                                                      num_parallel_tree=None,\n",
       "                                                      predictor=None,\n",
       "                                                      random_state=None, ...))]),\n",
       "             param_grid={'classifier__learning_rate': [0.1, 0.01],\n",
       "                         'classifier__max_delta_step': [2, 5, 10],\n",
       "                         'classifier__max_depth': array([10]),\n",
       "                         'selectkbest__k': array([5, 6, 7, 8])},\n",
       "             scoring='roc_auc', verbose=10)"
      ]
     },
     "execution_count": 9,
     "metadata": {},
     "output_type": "execute_result"
    }
   ],
   "source": [
    "# Definir el pipeline\n",
    "pipe = Pipeline(steps=[\n",
    "    (\"scaler\", StandardScaler()),\n",
    "    (\"selectkbest\", SelectKBest()),\n",
    "    (\"classifier\", XGBClassifier())\n",
    "])\n",
    "\n",
    "xgb_params = {\n",
    "    'selectkbest__k': np.arange(5, 9),\n",
    "    'classifier__learning_rate': [0.1, 0.01],\n",
    "    'classifier__max_depth': np.arange(10,11),\n",
    "    'classifier__max_delta_step': [2,5,10]\n",
    "}\n",
    "# Crear el GridSearchCV\n",
    "clf = GridSearchCV(estimator=pipe, param_grid=xgb_params, cv=3, scoring=\"roc_auc\", verbose=10)\n",
    "\n",
    "# Ajustar el GridSearchCV\n",
    "clf.fit(X_train, y_train)"
   ]
  },
  {
   "cell_type": "code",
   "execution_count": 10,
   "metadata": {},
   "outputs": [
    {
     "data": {
      "text/plain": [
       "{'classifier__learning_rate': 0.1,\n",
       " 'classifier__max_delta_step': 5,\n",
       " 'classifier__max_depth': 10,\n",
       " 'selectkbest__k': 6}"
      ]
     },
     "execution_count": 10,
     "metadata": {},
     "output_type": "execute_result"
    }
   ],
   "source": [
    "clf.best_params_"
   ]
  },
  {
   "cell_type": "code",
   "execution_count": 11,
   "metadata": {},
   "outputs": [
    {
     "name": "stdout",
     "output_type": "stream",
     "text": [
      "[[128868     49]\n",
      " [   179    572]]\n",
      "Precision score: 0.9210950080515298\n",
      "Recall score: 0.7616511318242344\n",
      "ROC AUC score: 0.8806355211546375\n"
     ]
    },
    {
     "data": {
      "image/png": "[encoded data removed]",
      "text/plain": [
       "<Figure size 640x480 with 2 Axes>"
      ]
     },
     "metadata": {},
     "output_type": "display_data"
    }
   ],
   "source": [
    "predictions = clf.predict(X_test)\n",
    "c_matrix = confusion_matrix(y_test, predictions)\n",
    "print(c_matrix)\n",
    "sns.heatmap(c_matrix, annot=True);\n",
    "\n",
    "print(\"Precision score:\", precision_score(y_test, predictions))\n",
    "print(\"Recall score:\", recall_score(y_test, predictions))\n",
    "print(\"ROC AUC score:\", roc_auc_score(y_test, predictions))"
   ]
  },
  {
   "cell_type": "code",
   "execution_count": 12,
   "metadata": {},
   "outputs": [
    {
     "name": "stdout",
     "output_type": "stream",
     "text": [
      "Fitting 3 folds for each of 18 candidates, totalling 54 fits\n",
      "[CV 1/3; 1/18] START classifier__learning_rate=0.1, classifier__max_delta_step=4, classifier__max_depth=10, selectkbest__k=5\n",
      "[CV 1/3; 1/18] END classifier__learning_rate=0.1, classifier__max_delta_step=4, classifier__max_depth=10, selectkbest__k=5;, score=0.997 total time=  37.4s\n",
      "[CV 2/3; 1/18] START classifier__learning_rate=0.1, classifier__max_delta_step=4, classifier__max_depth=10, selectkbest__k=5\n",
      "[CV 2/3; 1/18] END classifier__learning_rate=0.1, classifier__max_delta_step=4, classifier__max_depth=10, selectkbest__k=5;, score=0.995 total time=  36.8s\n",
      "[CV 3/3; 1/18] START classifier__learning_rate=0.1, classifier__max_delta_step=4, classifier__max_depth=10, selectkbest__k=5\n",
      "[CV 3/3; 1/18] END classifier__learning_rate=0.1, classifier__max_delta_step=4, classifier__max_depth=10, selectkbest__k=5;, score=0.997 total time=  31.5s\n",
      "[CV 1/3; 2/18] START classifier__learning_rate=0.1, classifier__max_delta_step=4, classifier__max_depth=10, selectkbest__k=6\n",
      "[CV 1/3; 2/18] END classifier__learning_rate=0.1, classifier__max_delta_step=4, classifier__max_depth=10, selectkbest__k=6;, score=0.997 total time=  36.1s\n",
      "[CV 2/3; 2/18] START classifier__learning_rate=0.1, classifier__max_delta_step=4, classifier__max_depth=10, selectkbest__k=6\n",
      "[CV 2/3; 2/18] END classifier__learning_rate=0.1, classifier__max_delta_step=4, classifier__max_depth=10, selectkbest__k=6;, score=0.996 total time=  42.9s\n",
      "[CV 3/3; 2/18] START classifier__learning_rate=0.1, classifier__max_delta_step=4, classifier__max_depth=10, selectkbest__k=6\n",
      "[CV 3/3; 2/18] END classifier__learning_rate=0.1, classifier__max_delta_step=4, classifier__max_depth=10, selectkbest__k=6;, score=0.997 total time=  34.6s\n",
      "[CV 1/3; 3/18] START classifier__learning_rate=0.1, classifier__max_delta_step=4, classifier__max_depth=10, selectkbest__k=7\n",
      "[CV 1/3; 3/18] END classifier__learning_rate=0.1, classifier__max_delta_step=4, classifier__max_depth=10, selectkbest__k=7;, score=0.997 total time=  41.9s\n",
      "[CV 2/3; 3/18] START classifier__learning_rate=0.1, classifier__max_delta_step=4, classifier__max_depth=10, selectkbest__k=7\n",
      "[CV 2/3; 3/18] END classifier__learning_rate=0.1, classifier__max_delta_step=4, classifier__max_depth=10, selectkbest__k=7;, score=0.996 total time= 1.1min\n",
      "[CV 3/3; 3/18] START classifier__learning_rate=0.1, classifier__max_delta_step=4, classifier__max_depth=10, selectkbest__k=7\n",
      "[CV 3/3; 3/18] END classifier__learning_rate=0.1, classifier__max_delta_step=4, classifier__max_depth=10, selectkbest__k=7;, score=0.997 total time=  41.1s\n",
      "[CV 1/3; 4/18] START classifier__learning_rate=0.1, classifier__max_delta_step=5, classifier__max_depth=10, selectkbest__k=5\n",
      "[CV 1/3; 4/18] END classifier__learning_rate=0.1, classifier__max_delta_step=5, classifier__max_depth=10, selectkbest__k=5;, score=0.997 total time=  33.5s\n",
      "[CV 2/3; 4/18] START classifier__learning_rate=0.1, classifier__max_delta_step=5, classifier__max_depth=10, selectkbest__k=5\n",
      "[CV 2/3; 4/18] END classifier__learning_rate=0.1, classifier__max_delta_step=5, classifier__max_depth=10, selectkbest__k=5;, score=0.996 total time=  38.5s\n",
      "[CV 3/3; 4/18] START classifier__learning_rate=0.1, classifier__max_delta_step=5, classifier__max_depth=10, selectkbest__k=5\n",
      "[CV 3/3; 4/18] END classifier__learning_rate=0.1, classifier__max_delta_step=5, classifier__max_depth=10, selectkbest__k=5;, score=0.997 total time=  37.6s\n",
      "[CV 1/3; 5/18] START classifier__learning_rate=0.1, classifier__max_delta_step=5, classifier__max_depth=10, selectkbest__k=6\n",
      "[CV 1/3; 5/18] END classifier__learning_rate=0.1, classifier__max_delta_step=5, classifier__max_depth=10, selectkbest__k=6;, score=0.997 total time=  34.1s\n",
      "[CV 2/3; 5/18] START classifier__learning_rate=0.1, classifier__max_delta_step=5, classifier__max_depth=10, selectkbest__k=6\n",
      "[CV 2/3; 5/18] END classifier__learning_rate=0.1, classifier__max_delta_step=5, classifier__max_depth=10, selectkbest__k=6;, score=0.996 total time=  28.9s\n",
      "[CV 3/3; 5/18] START classifier__learning_rate=0.1, classifier__max_delta_step=5, classifier__max_depth=10, selectkbest__k=6\n",
      "[CV 3/3; 5/18] END classifier__learning_rate=0.1, classifier__max_delta_step=5, classifier__max_depth=10, selectkbest__k=6;, score=0.997 total time=  30.7s\n",
      "[CV 1/3; 6/18] START classifier__learning_rate=0.1, classifier__max_delta_step=5, classifier__max_depth=10, selectkbest__k=7\n",
      "[CV 1/3; 6/18] END classifier__learning_rate=0.1, classifier__max_delta_step=5, classifier__max_depth=10, selectkbest__k=7;, score=0.997 total time=  32.8s\n",
      "[CV 2/3; 6/18] START classifier__learning_rate=0.1, classifier__max_delta_step=5, classifier__max_depth=10, selectkbest__k=7\n",
      "[CV 2/3; 6/18] END classifier__learning_rate=0.1, classifier__max_delta_step=5, classifier__max_depth=10, selectkbest__k=7;, score=0.995 total time= 1.0min\n",
      "[CV 3/3; 6/18] START classifier__learning_rate=0.1, classifier__max_delta_step=5, classifier__max_depth=10, selectkbest__k=7\n",
      "[CV 3/3; 6/18] END classifier__learning_rate=0.1, classifier__max_delta_step=5, classifier__max_depth=10, selectkbest__k=7;, score=0.997 total time=  30.7s\n",
      "[CV 1/3; 7/18] START classifier__learning_rate=0.1, classifier__max_delta_step=6, classifier__max_depth=10, selectkbest__k=5\n",
      "[CV 1/3; 7/18] END classifier__learning_rate=0.1, classifier__max_delta_step=6, classifier__max_depth=10, selectkbest__k=5;, score=0.997 total time=  35.9s\n",
      "[CV 2/3; 7/18] START classifier__learning_rate=0.1, classifier__max_delta_step=6, classifier__max_depth=10, selectkbest__k=5\n",
      "[CV 2/3; 7/18] END classifier__learning_rate=0.1, classifier__max_delta_step=6, classifier__max_depth=10, selectkbest__k=5;, score=0.995 total time=  32.9s\n",
      "[CV 3/3; 7/18] START classifier__learning_rate=0.1, classifier__max_delta_step=6, classifier__max_depth=10, selectkbest__k=5\n",
      "[CV 3/3; 7/18] END classifier__learning_rate=0.1, classifier__max_delta_step=6, classifier__max_depth=10, selectkbest__k=5;, score=0.997 total time=  30.6s\n",
      "[CV 1/3; 8/18] START classifier__learning_rate=0.1, classifier__max_delta_step=6, classifier__max_depth=10, selectkbest__k=6\n",
      "[CV 1/3; 8/18] END classifier__learning_rate=0.1, classifier__max_delta_step=6, classifier__max_depth=10, selectkbest__k=6;, score=0.997 total time=  33.5s\n",
      "[CV 2/3; 8/18] START classifier__learning_rate=0.1, classifier__max_delta_step=6, classifier__max_depth=10, selectkbest__k=6\n",
      "[CV 2/3; 8/18] END classifier__learning_rate=0.1, classifier__max_delta_step=6, classifier__max_depth=10, selectkbest__k=6;, score=0.996 total time=  31.1s\n",
      "[CV 3/3; 8/18] START classifier__learning_rate=0.1, classifier__max_delta_step=6, classifier__max_depth=10, selectkbest__k=6\n",
      "[CV 3/3; 8/18] END classifier__learning_rate=0.1, classifier__max_delta_step=6, classifier__max_depth=10, selectkbest__k=6;, score=0.997 total time=  32.4s\n",
      "[CV 1/3; 9/18] START classifier__learning_rate=0.1, classifier__max_delta_step=6, classifier__max_depth=10, selectkbest__k=7\n",
      "[CV 1/3; 9/18] END classifier__learning_rate=0.1, classifier__max_delta_step=6, classifier__max_depth=10, selectkbest__k=7;, score=0.997 total time=  33.5s\n",
      "[CV 2/3; 9/18] START classifier__learning_rate=0.1, classifier__max_delta_step=6, classifier__max_depth=10, selectkbest__k=7\n",
      "[CV 2/3; 9/18] END classifier__learning_rate=0.1, classifier__max_delta_step=6, classifier__max_depth=10, selectkbest__k=7;, score=0.995 total time= 1.1min\n",
      "[CV 3/3; 9/18] START classifier__learning_rate=0.1, classifier__max_delta_step=6, classifier__max_depth=10, selectkbest__k=7\n",
      "[CV 3/3; 9/18] END classifier__learning_rate=0.1, classifier__max_delta_step=6, classifier__max_depth=10, selectkbest__k=7;, score=0.997 total time=  36.6s\n",
      "[CV 1/3; 10/18] START classifier__learning_rate=0.01, classifier__max_delta_step=4, classifier__max_depth=10, selectkbest__k=5\n",
      "[CV 1/3; 10/18] END classifier__learning_rate=0.01, classifier__max_delta_step=4, classifier__max_depth=10, selectkbest__k=5;, score=0.970 total time=  27.3s\n",
      "[CV 2/3; 10/18] START classifier__learning_rate=0.01, classifier__max_delta_step=4, classifier__max_depth=10, selectkbest__k=5\n",
      "[CV 2/3; 10/18] END classifier__learning_rate=0.01, classifier__max_delta_step=4, classifier__max_depth=10, selectkbest__k=5;, score=0.970 total time=  29.7s\n",
      "[CV 3/3; 10/18] START classifier__learning_rate=0.01, classifier__max_delta_step=4, classifier__max_depth=10, selectkbest__k=5\n",
      "[CV 3/3; 10/18] END classifier__learning_rate=0.01, classifier__max_delta_step=4, classifier__max_depth=10, selectkbest__k=5;, score=0.981 total time=  29.3s\n",
      "[CV 1/3; 11/18] START classifier__learning_rate=0.01, classifier__max_delta_step=4, classifier__max_depth=10, selectkbest__k=6\n",
      "[CV 1/3; 11/18] END classifier__learning_rate=0.01, classifier__max_delta_step=4, classifier__max_depth=10, selectkbest__k=6;, score=0.970 total time=  29.9s\n",
      "[CV 2/3; 11/18] START classifier__learning_rate=0.01, classifier__max_delta_step=4, classifier__max_depth=10, selectkbest__k=6\n",
      "[CV 2/3; 11/18] END classifier__learning_rate=0.01, classifier__max_delta_step=4, classifier__max_depth=10, selectkbest__k=6;, score=0.970 total time=  31.7s\n",
      "[CV 3/3; 11/18] START classifier__learning_rate=0.01, classifier__max_delta_step=4, classifier__max_depth=10, selectkbest__k=6\n",
      "[CV 3/3; 11/18] END classifier__learning_rate=0.01, classifier__max_delta_step=4, classifier__max_depth=10, selectkbest__k=6;, score=0.980 total time=  29.6s\n",
      "[CV 1/3; 12/18] START classifier__learning_rate=0.01, classifier__max_delta_step=4, classifier__max_depth=10, selectkbest__k=7\n",
      "[CV 1/3; 12/18] END classifier__learning_rate=0.01, classifier__max_delta_step=4, classifier__max_depth=10, selectkbest__k=7;, score=0.970 total time=  30.0s\n",
      "[CV 2/3; 12/18] START classifier__learning_rate=0.01, classifier__max_delta_step=4, classifier__max_depth=10, selectkbest__k=7\n",
      "[CV 2/3; 12/18] END classifier__learning_rate=0.01, classifier__max_delta_step=4, classifier__max_depth=10, selectkbest__k=7;, score=0.970 total time=  54.0s\n",
      "[CV 3/3; 12/18] START classifier__learning_rate=0.01, classifier__max_delta_step=4, classifier__max_depth=10, selectkbest__k=7\n",
      "[CV 3/3; 12/18] END classifier__learning_rate=0.01, classifier__max_delta_step=4, classifier__max_depth=10, selectkbest__k=7;, score=0.980 total time=  29.9s\n",
      "[CV 1/3; 13/18] START classifier__learning_rate=0.01, classifier__max_delta_step=5, classifier__max_depth=10, selectkbest__k=5\n",
      "[CV 1/3; 13/18] END classifier__learning_rate=0.01, classifier__max_delta_step=5, classifier__max_depth=10, selectkbest__k=5;, score=0.970 total time=  29.0s\n",
      "[CV 2/3; 13/18] START classifier__learning_rate=0.01, classifier__max_delta_step=5, classifier__max_depth=10, selectkbest__k=5\n",
      "[CV 2/3; 13/18] END classifier__learning_rate=0.01, classifier__max_delta_step=5, classifier__max_depth=10, selectkbest__k=5;, score=0.970 total time=  27.1s\n",
      "[CV 3/3; 13/18] START classifier__learning_rate=0.01, classifier__max_delta_step=5, classifier__max_depth=10, selectkbest__k=5\n",
      "[CV 3/3; 13/18] END classifier__learning_rate=0.01, classifier__max_delta_step=5, classifier__max_depth=10, selectkbest__k=5;, score=0.981 total time=  27.8s\n",
      "[CV 1/3; 14/18] START classifier__learning_rate=0.01, classifier__max_delta_step=5, classifier__max_depth=10, selectkbest__k=6\n",
      "[CV 1/3; 14/18] END classifier__learning_rate=0.01, classifier__max_delta_step=5, classifier__max_depth=10, selectkbest__k=6;, score=0.970 total time=  28.4s\n",
      "[CV 2/3; 14/18] START classifier__learning_rate=0.01, classifier__max_delta_step=5, classifier__max_depth=10, selectkbest__k=6\n",
      "[CV 2/3; 14/18] END classifier__learning_rate=0.01, classifier__max_delta_step=5, classifier__max_depth=10, selectkbest__k=6;, score=0.970 total time=  27.9s\n",
      "[CV 3/3; 14/18] START classifier__learning_rate=0.01, classifier__max_delta_step=5, classifier__max_depth=10, selectkbest__k=6\n",
      "[CV 3/3; 14/18] END classifier__learning_rate=0.01, classifier__max_delta_step=5, classifier__max_depth=10, selectkbest__k=6;, score=0.980 total time=  29.1s\n",
      "[CV 1/3; 15/18] START classifier__learning_rate=0.01, classifier__max_delta_step=5, classifier__max_depth=10, selectkbest__k=7\n",
      "[CV 1/3; 15/18] END classifier__learning_rate=0.01, classifier__max_delta_step=5, classifier__max_depth=10, selectkbest__k=7;, score=0.970 total time=  29.4s\n",
      "[CV 2/3; 15/18] START classifier__learning_rate=0.01, classifier__max_delta_step=5, classifier__max_depth=10, selectkbest__k=7\n",
      "[CV 2/3; 15/18] END classifier__learning_rate=0.01, classifier__max_delta_step=5, classifier__max_depth=10, selectkbest__k=7;, score=0.970 total time=  51.0s\n",
      "[CV 3/3; 15/18] START classifier__learning_rate=0.01, classifier__max_delta_step=5, classifier__max_depth=10, selectkbest__k=7\n",
      "[CV 3/3; 15/18] END classifier__learning_rate=0.01, classifier__max_delta_step=5, classifier__max_depth=10, selectkbest__k=7;, score=0.980 total time=  32.4s\n",
      "[CV 1/3; 16/18] START classifier__learning_rate=0.01, classifier__max_delta_step=6, classifier__max_depth=10, selectkbest__k=5\n",
      "[CV 1/3; 16/18] END classifier__learning_rate=0.01, classifier__max_delta_step=6, classifier__max_depth=10, selectkbest__k=5;, score=0.970 total time=  31.2s\n",
      "[CV 2/3; 16/18] START classifier__learning_rate=0.01, classifier__max_delta_step=6, classifier__max_depth=10, selectkbest__k=5\n",
      "[CV 2/3; 16/18] END classifier__learning_rate=0.01, classifier__max_delta_step=6, classifier__max_depth=10, selectkbest__k=5;, score=0.970 total time=  31.9s\n",
      "[CV 3/3; 16/18] START classifier__learning_rate=0.01, classifier__max_delta_step=6, classifier__max_depth=10, selectkbest__k=5\n",
      "[CV 3/3; 16/18] END classifier__learning_rate=0.01, classifier__max_delta_step=6, classifier__max_depth=10, selectkbest__k=5;, score=0.981 total time=  27.3s\n",
      "[CV 1/3; 17/18] START classifier__learning_rate=0.01, classifier__max_delta_step=6, classifier__max_depth=10, selectkbest__k=6\n",
      "[CV 1/3; 17/18] END classifier__learning_rate=0.01, classifier__max_delta_step=6, classifier__max_depth=10, selectkbest__k=6;, score=0.970 total time=  28.1s\n",
      "[CV 2/3; 17/18] START classifier__learning_rate=0.01, classifier__max_delta_step=6, classifier__max_depth=10, selectkbest__k=6\n",
      "[CV 2/3; 17/18] END classifier__learning_rate=0.01, classifier__max_delta_step=6, classifier__max_depth=10, selectkbest__k=6;, score=0.970 total time=  31.2s\n",
      "[CV 3/3; 17/18] START classifier__learning_rate=0.01, classifier__max_delta_step=6, classifier__max_depth=10, selectkbest__k=6\n",
      "[CV 3/3; 17/18] END classifier__learning_rate=0.01, classifier__max_delta_step=6, classifier__max_depth=10, selectkbest__k=6;, score=0.980 total time=  29.9s\n",
      "[CV 1/3; 18/18] START classifier__learning_rate=0.01, classifier__max_delta_step=6, classifier__max_depth=10, selectkbest__k=7\n",
      "[CV 1/3; 18/18] END classifier__learning_rate=0.01, classifier__max_delta_step=6, classifier__max_depth=10, selectkbest__k=7;, score=0.970 total time=  34.9s\n",
      "[CV 2/3; 18/18] START classifier__learning_rate=0.01, classifier__max_delta_step=6, classifier__max_depth=10, selectkbest__k=7\n",
      "[CV 2/3; 18/18] END classifier__learning_rate=0.01, classifier__max_delta_step=6, classifier__max_depth=10, selectkbest__k=7;, score=0.970 total time=  52.1s\n",
      "[CV 3/3; 18/18] START classifier__learning_rate=0.01, classifier__max_delta_step=6, classifier__max_depth=10, selectkbest__k=7\n",
      "[CV 3/3; 18/18] END classifier__learning_rate=0.01, classifier__max_delta_step=6, classifier__max_depth=10, selectkbest__k=7;, score=0.980 total time=  37.0s\n"
     ]
    },
    {
     "data": {
      "text/html": [
       "<style>#sk-container-id-2 {color: black;background-color: white;}#sk-container-id-2 pre{padding: 0;}#sk-container-id-2 div.sk-toggleable {background-color: white;}#sk-container-id-2 label.sk-toggleable__label {cursor: pointer;display: block;width: 100%;margin-bottom: 0;padding: 0.3em;box-sizing: border-box;text-align: center;}#sk-container-id-2 label.sk-toggleable__label-arrow:before {content: \"▸\";float: left;margin-right: 0.25em;color: #696969;}#sk-container-id-2 label.sk-toggleable__label-arrow:hover:before {color: black;}#sk-container-id-2 div.sk-estimator:hover label.sk-toggleable__label-arrow:before {color: black;}#sk-container-id-2 div.sk-toggleable__content {max-height: 0;max-width: 0;overflow: hidden;text-align: left;background-color: #f0f8ff;}#sk-container-id-2 div.sk-toggleable__content pre {margin: 0.2em;color: black;border-radius: 0.25em;background-color: #f0f8ff;}#sk-container-id-2 input.sk-toggleable__control:checked~div.sk-toggleable__content {max-height: 200px;max-width: 100%;overflow: auto;}#sk-container-id-2 input.sk-toggleable__control:checked~label.sk-toggleable__label-arrow:before {content: \"▾\";}#sk-container-id-2 div.sk-estimator input.sk-toggleable__control:checked~label.sk-toggleable__label {background-color: #d4ebff;}#sk-container-id-2 div.sk-label input.sk-toggleable__control:checked~label.sk-toggleable__label {background-color: #d4ebff;}#sk-container-id-2 input.sk-hidden--visually {border: 0;clip: rect(1px 1px 1px 1px);clip: rect(1px, 1px, 1px, 1px);height: 1px;margin: -1px;overflow: hidden;padding: 0;position: absolute;width: 1px;}#sk-container-id-2 div.sk-estimator {font-family: monospace;background-color: #f0f8ff;border: 1px dotted black;border-radius: 0.25em;box-sizing: border-box;margin-bottom: 0.5em;}#sk-container-id-2 div.sk-estimator:hover {background-color: #d4ebff;}#sk-container-id-2 div.sk-parallel-item::after {content: \"\";width: 100%;border-bottom: 1px solid gray;flex-grow: 1;}#sk-container-id-2 div.sk-label:hover label.sk-toggleable__label {background-color: #d4ebff;}#sk-container-id-2 div.sk-serial::before {content: \"\";position: absolute;border-left: 1px solid gray;box-sizing: border-box;top: 0;bottom: 0;left: 50%;z-index: 0;}#sk-container-id-2 div.sk-serial {display: flex;flex-direction: column;align-items: center;background-color: white;padding-right: 0.2em;padding-left: 0.2em;position: relative;}#sk-container-id-2 div.sk-item {position: relative;z-index: 1;}#sk-container-id-2 div.sk-parallel {display: flex;align-items: stretch;justify-content: center;background-color: white;position: relative;}#sk-container-id-2 div.sk-item::before, #sk-container-id-2 div.sk-parallel-item::before {content: \"\";position: absolute;border-left: 1px solid gray;box-sizing: border-box;top: 0;bottom: 0;left: 50%;z-index: -1;}#sk-container-id-2 div.sk-parallel-item {display: flex;flex-direction: column;z-index: 1;position: relative;background-color: white;}#sk-container-id-2 div.sk-parallel-item:first-child::after {align-self: flex-end;width: 50%;}#sk-container-id-2 div.sk-parallel-item:last-child::after {align-self: flex-start;width: 50%;}#sk-container-id-2 div.sk-parallel-item:only-child::after {width: 0;}#sk-container-id-2 div.sk-dashed-wrapped {border: 1px dashed gray;margin: 0 0.4em 0.5em 0.4em;box-sizing: border-box;padding-bottom: 0.4em;background-color: white;}#sk-container-id-2 div.sk-label label {font-family: monospace;font-weight: bold;display: inline-block;line-height: 1.2em;}#sk-container-id-2 div.sk-label-container {text-align: center;}#sk-container-id-2 div.sk-container {/* jupyter's `normalize.less` sets `[hidden] { display: none; }` but bootstrap.min.css set `[hidden] { display: none !important; }` so we also need the `!important` here to be able to override the default hidden behavior on the sphinx rendered scikit-learn.org. See: https://github.com/scikit-learn/scikit-learn/issues/21755 */display: inline-block !important;position: relative;}#sk-container-id-2 div.sk-text-repr-fallback {display: none;}</style><div id=\"sk-container-id-2\" class=\"sk-top-container\"><div class=\"sk-text-repr-fallback\"><pre>GridSearchCV(cv=3,\n",
       "             estimator=Pipeline(steps=[(&#x27;scaler&#x27;, StandardScaler()),\n",
       "                                       (&#x27;selectkbest&#x27;, SelectKBest()),\n",
       "                                       (&#x27;classifier&#x27;,\n",
       "                                        XGBClassifier(base_score=None,\n",
       "                                                      booster=None,\n",
       "                                                      callbacks=None,\n",
       "                                                      colsample_bylevel=None,\n",
       "                                                      colsample_bynode=None,\n",
       "                                                      colsample_bytree=None,\n",
       "                                                      early_stopping_rounds=None,\n",
       "                                                      enable_categorical=False,\n",
       "                                                      eval_metric=None,\n",
       "                                                      feature_types=None,\n",
       "                                                      gamma=None, gpu_id=Non...\n",
       "                                                      max_leaves=None,\n",
       "                                                      min_child_weight=None,\n",
       "                                                      missing=nan,\n",
       "                                                      monotone_constraints=None,\n",
       "                                                      n_estimators=100,\n",
       "                                                      n_jobs=None,\n",
       "                                                      num_parallel_tree=None,\n",
       "                                                      predictor=None,\n",
       "                                                      random_state=None, ...))]),\n",
       "             param_grid={&#x27;classifier__learning_rate&#x27;: [0.1, 0.01],\n",
       "                         &#x27;classifier__max_delta_step&#x27;: [4, 5, 6],\n",
       "                         &#x27;classifier__max_depth&#x27;: array([10]),\n",
       "                         &#x27;selectkbest__k&#x27;: array([5, 6, 7])},\n",
       "             scoring=&#x27;roc_auc&#x27;, verbose=10)</pre><b>In a Jupyter environment, please rerun this cell to show the HTML representation or trust the notebook. <br />On GitHub, the HTML representation is unable to render, please try loading this page with nbviewer.org.</b></div><div class=\"sk-container\" hidden><div class=\"sk-item sk-dashed-wrapped\"><div class=\"sk-label-container\"><div class=\"sk-label sk-toggleable\"><input class=\"sk-toggleable__control sk-hidden--visually\" id=\"sk-estimator-id-6\" type=\"checkbox\" ><label for=\"sk-estimator-id-6\" class=\"sk-toggleable__label sk-toggleable__label-arrow\">GridSearchCV</label><div class=\"sk-toggleable__content\"><pre>GridSearchCV(cv=3,\n",
       "             estimator=Pipeline(steps=[(&#x27;scaler&#x27;, StandardScaler()),\n",
       "                                       (&#x27;selectkbest&#x27;, SelectKBest()),\n",
       "                                       (&#x27;classifier&#x27;,\n",
       "                                        XGBClassifier(base_score=None,\n",
       "                                                      booster=None,\n",
       "                                                      callbacks=None,\n",
       "                                                      colsample_bylevel=None,\n",
       "                                                      colsample_bynode=None,\n",
       "                                                      colsample_bytree=None,\n",
       "                                                      early_stopping_rounds=None,\n",
       "                                                      enable_categorical=False,\n",
       "                                                      eval_metric=None,\n",
       "                                                      feature_types=None,\n",
       "                                                      gamma=None, gpu_id=Non...\n",
       "                                                      max_leaves=None,\n",
       "                                                      min_child_weight=None,\n",
       "                                                      missing=nan,\n",
       "                                                      monotone_constraints=None,\n",
       "                                                      n_estimators=100,\n",
       "                                                      n_jobs=None,\n",
       "                                                      num_parallel_tree=None,\n",
       "                                                      predictor=None,\n",
       "                                                      random_state=None, ...))]),\n",
       "             param_grid={&#x27;classifier__learning_rate&#x27;: [0.1, 0.01],\n",
       "                         &#x27;classifier__max_delta_step&#x27;: [4, 5, 6],\n",
       "                         &#x27;classifier__max_depth&#x27;: array([10]),\n",
       "                         &#x27;selectkbest__k&#x27;: array([5, 6, 7])},\n",
       "             scoring=&#x27;roc_auc&#x27;, verbose=10)</pre></div></div></div><div class=\"sk-parallel\"><div class=\"sk-parallel-item\"><div class=\"sk-item\"><div class=\"sk-label-container\"><div class=\"sk-label sk-toggleable\"><input class=\"sk-toggleable__control sk-hidden--visually\" id=\"sk-estimator-id-7\" type=\"checkbox\" ><label for=\"sk-estimator-id-7\" class=\"sk-toggleable__label sk-toggleable__label-arrow\">estimator: Pipeline</label><div class=\"sk-toggleable__content\"><pre>Pipeline(steps=[(&#x27;scaler&#x27;, StandardScaler()), (&#x27;selectkbest&#x27;, SelectKBest()),\n",
       "                (&#x27;classifier&#x27;,\n",
       "                 XGBClassifier(base_score=None, booster=None, callbacks=None,\n",
       "                               colsample_bylevel=None, colsample_bynode=None,\n",
       "                               colsample_bytree=None,\n",
       "                               early_stopping_rounds=None,\n",
       "                               enable_categorical=False, eval_metric=None,\n",
       "                               feature_types=None, gamma=None, gpu_id=None,\n",
       "                               grow_policy=None, importance_type=None,\n",
       "                               interaction_constraints=None, learning_rate=None,\n",
       "                               max_bin=None, max_cat_threshold=None,\n",
       "                               max_cat_to_onehot=None, max_delta_step=None,\n",
       "                               max_depth=None, max_leaves=None,\n",
       "                               min_child_weight=None, missing=nan,\n",
       "                               monotone_constraints=None, n_estimators=100,\n",
       "                               n_jobs=None, num_parallel_tree=None,\n",
       "                               predictor=None, random_state=None, ...))])</pre></div></div></div><div class=\"sk-serial\"><div class=\"sk-item\"><div class=\"sk-serial\"><div class=\"sk-item\"><div class=\"sk-estimator sk-toggleable\"><input class=\"sk-toggleable__control sk-hidden--visually\" id=\"sk-estimator-id-8\" type=\"checkbox\" ><label for=\"sk-estimator-id-8\" class=\"sk-toggleable__label sk-toggleable__label-arrow\">StandardScaler</label><div class=\"sk-toggleable__content\"><pre>StandardScaler()</pre></div></div></div><div class=\"sk-item\"><div class=\"sk-estimator sk-toggleable\"><input class=\"sk-toggleable__control sk-hidden--visually\" id=\"sk-estimator-id-9\" type=\"checkbox\" ><label for=\"sk-estimator-id-9\" class=\"sk-toggleable__label sk-toggleable__label-arrow\">SelectKBest</label><div class=\"sk-toggleable__content\"><pre>SelectKBest()</pre></div></div></div><div class=\"sk-item\"><div class=\"sk-estimator sk-toggleable\"><input class=\"sk-toggleable__control sk-hidden--visually\" id=\"sk-estimator-id-10\" type=\"checkbox\" ><label for=\"sk-estimator-id-10\" class=\"sk-toggleable__label sk-toggleable__label-arrow\">XGBClassifier</label><div class=\"sk-toggleable__content\"><pre>XGBClassifier(base_score=None, booster=None, callbacks=None,\n",
       "              colsample_bylevel=None, colsample_bynode=None,\n",
       "              colsample_bytree=None, early_stopping_rounds=None,\n",
       "              enable_categorical=False, eval_metric=None, feature_types=None,\n",
       "              gamma=None, gpu_id=None, grow_policy=None, importance_type=None,\n",
       "              interaction_constraints=None, learning_rate=None, max_bin=None,\n",
       "              max_cat_threshold=None, max_cat_to_onehot=None,\n",
       "              max_delta_step=None, max_depth=None, max_leaves=None,\n",
       "              min_child_weight=None, missing=nan, monotone_constraints=None,\n",
       "              n_estimators=100, n_jobs=None, num_parallel_tree=None,\n",
       "              predictor=None, random_state=None, ...)</pre></div></div></div></div></div></div></div></div></div></div></div></div>"
      ],
      "text/plain": [
       "GridSearchCV(cv=3,\n",
       "             estimator=Pipeline(steps=[('scaler', StandardScaler()),\n",
       "                                       ('selectkbest', SelectKBest()),\n",
       "                                       ('classifier',\n",
       "                                        XGBClassifier(base_score=None,\n",
       "                                                      booster=None,\n",
       "                                                      callbacks=None,\n",
       "                                                      colsample_bylevel=None,\n",
       "                                                      colsample_bynode=None,\n",
       "                                                      colsample_bytree=None,\n",
       "                                                      early_stopping_rounds=None,\n",
       "                                                      enable_categorical=False,\n",
       "                                                      eval_metric=None,\n",
       "                                                      feature_types=None,\n",
       "                                                      gamma=None, gpu_id=Non...\n",
       "                                                      max_leaves=None,\n",
       "                                                      min_child_weight=None,\n",
       "                                                      missing=nan,\n",
       "                                                      monotone_constraints=None,\n",
       "                                                      n_estimators=100,\n",
       "                                                      n_jobs=None,\n",
       "                                                      num_parallel_tree=None,\n",
       "                                                      predictor=None,\n",
       "                                                      random_state=None, ...))]),\n",
       "             param_grid={'classifier__learning_rate': [0.1, 0.01],\n",
       "                         'classifier__max_delta_step': [4, 5, 6],\n",
       "                         'classifier__max_depth': array([10]),\n",
       "                         'selectkbest__k': array([5, 6, 7])},\n",
       "             scoring='roc_auc', verbose=10)"
      ]
     },
     "execution_count": 12,
     "metadata": {},
     "output_type": "execute_result"
    }
   ],
   "source": [
    "# Definir el pipeline\n",
    "pipe = Pipeline(steps=[\n",
    "    (\"scaler\", StandardScaler()),\n",
    "    (\"selectkbest\", SelectKBest()),\n",
    "    (\"classifier\", XGBClassifier())\n",
    "])\n",
    "\n",
    "xgb_params = {\n",
    "    'selectkbest__k': np.arange(5, 8),\n",
    "    'classifier__learning_rate': [0.1, 0.01],\n",
    "    'classifier__max_depth': np.arange(10,11),\n",
    "    'classifier__max_delta_step': [4,5,6]\n",
    "}\n",
    "# Crear el GridSearchCV\n",
    "clf = GridSearchCV(estimator=pipe, param_grid=xgb_params, cv=3, scoring=\"roc_auc\", verbose=10)\n",
    "\n",
    "# Ajustar el GridSearchCV\n",
    "clf.fit(X_train, y_train)"
   ]
  },
  {
   "cell_type": "code",
   "execution_count": 13,
   "metadata": {},
   "outputs": [
    {
     "data": {
      "text/plain": [
       "{'classifier__learning_rate': 0.1,\n",
       " 'classifier__max_delta_step': 5,\n",
       " 'classifier__max_depth': 10,\n",
       " 'selectkbest__k': 6}"
      ]
     },
     "execution_count": 13,
     "metadata": {},
     "output_type": "execute_result"
    }
   ],
   "source": [
    "clf.best_params_"
   ]
  },
  {
   "cell_type": "code",
   "execution_count": 25,
   "metadata": {},
   "outputs": [
    {
     "name": "stdout",
     "output_type": "stream",
     "text": [
      "Fitting 3 folds for each of 1 candidates, totalling 3 fits\n",
      "[CV 1/3; 1/1] START classifier__learning_rate=0.1, classifier__max_delta_step=5, classifier__max_depth=10\n",
      "[CV 1/3; 1/1] END classifier__learning_rate=0.1, classifier__max_delta_step=5, classifier__max_depth=10;, score=0.997 total time=  19.5s\n",
      "[CV 2/3; 1/1] START classifier__learning_rate=0.1, classifier__max_delta_step=5, classifier__max_depth=10\n",
      "[CV 2/3; 1/1] END classifier__learning_rate=0.1, classifier__max_delta_step=5, classifier__max_depth=10;, score=0.996 total time=  18.9s\n",
      "[CV 3/3; 1/1] START classifier__learning_rate=0.1, classifier__max_delta_step=5, classifier__max_depth=10\n",
      "[CV 3/3; 1/1] END classifier__learning_rate=0.1, classifier__max_delta_step=5, classifier__max_depth=10;, score=0.997 total time=  21.0s\n"
     ]
    },
    {
     "data": {
      "text/html": [
       "<style>#sk-container-id-2 {color: black;background-color: white;}#sk-container-id-2 pre{padding: 0;}#sk-container-id-2 div.sk-toggleable {background-color: white;}#sk-container-id-2 label.sk-toggleable__label {cursor: pointer;display: block;width: 100%;margin-bottom: 0;padding: 0.3em;box-sizing: border-box;text-align: center;}#sk-container-id-2 label.sk-toggleable__label-arrow:before {content: \"▸\";float: left;margin-right: 0.25em;color: #696969;}#sk-container-id-2 label.sk-toggleable__label-arrow:hover:before {color: black;}#sk-container-id-2 div.sk-estimator:hover label.sk-toggleable__label-arrow:before {color: black;}#sk-container-id-2 div.sk-toggleable__content {max-height: 0;max-width: 0;overflow: hidden;text-align: left;background-color: #f0f8ff;}#sk-container-id-2 div.sk-toggleable__content pre {margin: 0.2em;color: black;border-radius: 0.25em;background-color: #f0f8ff;}#sk-container-id-2 input.sk-toggleable__control:checked~div.sk-toggleable__content {max-height: 200px;max-width: 100%;overflow: auto;}#sk-container-id-2 input.sk-toggleable__control:checked~label.sk-toggleable__label-arrow:before {content: \"▾\";}#sk-container-id-2 div.sk-estimator input.sk-toggleable__control:checked~label.sk-toggleable__label {background-color: #d4ebff;}#sk-container-id-2 div.sk-label input.sk-toggleable__control:checked~label.sk-toggleable__label {background-color: #d4ebff;}#sk-container-id-2 input.sk-hidden--visually {border: 0;clip: rect(1px 1px 1px 1px);clip: rect(1px, 1px, 1px, 1px);height: 1px;margin: -1px;overflow: hidden;padding: 0;position: absolute;width: 1px;}#sk-container-id-2 div.sk-estimator {font-family: monospace;background-color: #f0f8ff;border: 1px dotted black;border-radius: 0.25em;box-sizing: border-box;margin-bottom: 0.5em;}#sk-container-id-2 div.sk-estimator:hover {background-color: #d4ebff;}#sk-container-id-2 div.sk-parallel-item::after {content: \"\";width: 100%;border-bottom: 1px solid gray;flex-grow: 1;}#sk-container-id-2 div.sk-label:hover label.sk-toggleable__label {background-color: #d4ebff;}#sk-container-id-2 div.sk-serial::before {content: \"\";position: absolute;border-left: 1px solid gray;box-sizing: border-box;top: 0;bottom: 0;left: 50%;z-index: 0;}#sk-container-id-2 div.sk-serial {display: flex;flex-direction: column;align-items: center;background-color: white;padding-right: 0.2em;padding-left: 0.2em;position: relative;}#sk-container-id-2 div.sk-item {position: relative;z-index: 1;}#sk-container-id-2 div.sk-parallel {display: flex;align-items: stretch;justify-content: center;background-color: white;position: relative;}#sk-container-id-2 div.sk-item::before, #sk-container-id-2 div.sk-parallel-item::before {content: \"\";position: absolute;border-left: 1px solid gray;box-sizing: border-box;top: 0;bottom: 0;left: 50%;z-index: -1;}#sk-container-id-2 div.sk-parallel-item {display: flex;flex-direction: column;z-index: 1;position: relative;background-color: white;}#sk-container-id-2 div.sk-parallel-item:first-child::after {align-self: flex-end;width: 50%;}#sk-container-id-2 div.sk-parallel-item:last-child::after {align-self: flex-start;width: 50%;}#sk-container-id-2 div.sk-parallel-item:only-child::after {width: 0;}#sk-container-id-2 div.sk-dashed-wrapped {border: 1px dashed gray;margin: 0 0.4em 0.5em 0.4em;box-sizing: border-box;padding-bottom: 0.4em;background-color: white;}#sk-container-id-2 div.sk-label label {font-family: monospace;font-weight: bold;display: inline-block;line-height: 1.2em;}#sk-container-id-2 div.sk-label-container {text-align: center;}#sk-container-id-2 div.sk-container {/* jupyter's `normalize.less` sets `[hidden] { display: none; }` but bootstrap.min.css set `[hidden] { display: none !important; }` so we also need the `!important` here to be able to override the default hidden behavior on the sphinx rendered scikit-learn.org. See: https://github.com/scikit-learn/scikit-learn/issues/21755 */display: inline-block !important;position: relative;}#sk-container-id-2 div.sk-text-repr-fallback {display: none;}</style><div id=\"sk-container-id-2\" class=\"sk-top-container\"><div class=\"sk-text-repr-fallback\"><pre>GridSearchCV(cv=3,\n",
       "             estimator=Pipeline(steps=[(&#x27;scaler&#x27;, StandardScaler()),\n",
       "                                       (&#x27;selectkbest&#x27;, SelectKBest(k=6)),\n",
       "                                       (&#x27;classifier&#x27;,\n",
       "                                        XGBClassifier(base_score=None,\n",
       "                                                      booster=None,\n",
       "                                                      callbacks=None,\n",
       "                                                      colsample_bylevel=None,\n",
       "                                                      colsample_bynode=None,\n",
       "                                                      colsample_bytree=None,\n",
       "                                                      early_stopping_rounds=None,\n",
       "                                                      enable_categorical=False,\n",
       "                                                      eval_metric=None,\n",
       "                                                      feature_types=None,\n",
       "                                                      gamma=None, gpu_id=...\n",
       "                                                      max_cat_to_onehot=None,\n",
       "                                                      max_delta_step=None,\n",
       "                                                      max_depth=None,\n",
       "                                                      max_leaves=None,\n",
       "                                                      min_child_weight=None,\n",
       "                                                      missing=nan,\n",
       "                                                      monotone_constraints=None,\n",
       "                                                      n_estimators=100,\n",
       "                                                      n_jobs=None,\n",
       "                                                      num_parallel_tree=None,\n",
       "                                                      predictor=None,\n",
       "                                                      random_state=None, ...))]),\n",
       "             param_grid={&#x27;classifier__learning_rate&#x27;: [0.1],\n",
       "                         &#x27;classifier__max_delta_step&#x27;: [5],\n",
       "                         &#x27;classifier__max_depth&#x27;: [10]},\n",
       "             scoring=&#x27;roc_auc&#x27;, verbose=10)</pre><b>In a Jupyter environment, please rerun this cell to show the HTML representation or trust the notebook. <br />On GitHub, the HTML representation is unable to render, please try loading this page with nbviewer.org.</b></div><div class=\"sk-container\" hidden><div class=\"sk-item sk-dashed-wrapped\"><div class=\"sk-label-container\"><div class=\"sk-label sk-toggleable\"><input class=\"sk-toggleable__control sk-hidden--visually\" id=\"sk-estimator-id-6\" type=\"checkbox\" ><label for=\"sk-estimator-id-6\" class=\"sk-toggleable__label sk-toggleable__label-arrow\">GridSearchCV</label><div class=\"sk-toggleable__content\"><pre>GridSearchCV(cv=3,\n",
       "             estimator=Pipeline(steps=[(&#x27;scaler&#x27;, StandardScaler()),\n",
       "                                       (&#x27;selectkbest&#x27;, SelectKBest(k=6)),\n",
       "                                       (&#x27;classifier&#x27;,\n",
       "                                        XGBClassifier(base_score=None,\n",
       "                                                      booster=None,\n",
       "                                                      callbacks=None,\n",
       "                                                      colsample_bylevel=None,\n",
       "                                                      colsample_bynode=None,\n",
       "                                                      colsample_bytree=None,\n",
       "                                                      early_stopping_rounds=None,\n",
       "                                                      enable_categorical=False,\n",
       "                                                      eval_metric=None,\n",
       "                                                      feature_types=None,\n",
       "                                                      gamma=None, gpu_id=...\n",
       "                                                      max_cat_to_onehot=None,\n",
       "                                                      max_delta_step=None,\n",
       "                                                      max_depth=None,\n",
       "                                                      max_leaves=None,\n",
       "                                                      min_child_weight=None,\n",
       "                                                      missing=nan,\n",
       "                                                      monotone_constraints=None,\n",
       "                                                      n_estimators=100,\n",
       "                                                      n_jobs=None,\n",
       "                                                      num_parallel_tree=None,\n",
       "                                                      predictor=None,\n",
       "                                                      random_state=None, ...))]),\n",
       "             param_grid={&#x27;classifier__learning_rate&#x27;: [0.1],\n",
       "                         &#x27;classifier__max_delta_step&#x27;: [5],\n",
       "                         &#x27;classifier__max_depth&#x27;: [10]},\n",
       "             scoring=&#x27;roc_auc&#x27;, verbose=10)</pre></div></div></div><div class=\"sk-parallel\"><div class=\"sk-parallel-item\"><div class=\"sk-item\"><div class=\"sk-label-container\"><div class=\"sk-label sk-toggleable\"><input class=\"sk-toggleable__control sk-hidden--visually\" id=\"sk-estimator-id-7\" type=\"checkbox\" ><label for=\"sk-estimator-id-7\" class=\"sk-toggleable__label sk-toggleable__label-arrow\">estimator: Pipeline</label><div class=\"sk-toggleable__content\"><pre>Pipeline(steps=[(&#x27;scaler&#x27;, StandardScaler()), (&#x27;selectkbest&#x27;, SelectKBest(k=6)),\n",
       "                (&#x27;classifier&#x27;,\n",
       "                 XGBClassifier(base_score=None, booster=None, callbacks=None,\n",
       "                               colsample_bylevel=None, colsample_bynode=None,\n",
       "                               colsample_bytree=None,\n",
       "                               early_stopping_rounds=None,\n",
       "                               enable_categorical=False, eval_metric=None,\n",
       "                               feature_types=None, gamma=None, gpu_id=None,\n",
       "                               grow_policy=None, importance_type=None,\n",
       "                               interaction_constraints=None, learning_rate=None,\n",
       "                               max_bin=None, max_cat_threshold=None,\n",
       "                               max_cat_to_onehot=None, max_delta_step=None,\n",
       "                               max_depth=None, max_leaves=None,\n",
       "                               min_child_weight=None, missing=nan,\n",
       "                               monotone_constraints=None, n_estimators=100,\n",
       "                               n_jobs=None, num_parallel_tree=None,\n",
       "                               predictor=None, random_state=None, ...))])</pre></div></div></div><div class=\"sk-serial\"><div class=\"sk-item\"><div class=\"sk-serial\"><div class=\"sk-item\"><div class=\"sk-estimator sk-toggleable\"><input class=\"sk-toggleable__control sk-hidden--visually\" id=\"sk-estimator-id-8\" type=\"checkbox\" ><label for=\"sk-estimator-id-8\" class=\"sk-toggleable__label sk-toggleable__label-arrow\">StandardScaler</label><div class=\"sk-toggleable__content\"><pre>StandardScaler()</pre></div></div></div><div class=\"sk-item\"><div class=\"sk-estimator sk-toggleable\"><input class=\"sk-toggleable__control sk-hidden--visually\" id=\"sk-estimator-id-9\" type=\"checkbox\" ><label for=\"sk-estimator-id-9\" class=\"sk-toggleable__label sk-toggleable__label-arrow\">SelectKBest</label><div class=\"sk-toggleable__content\"><pre>SelectKBest(k=6)</pre></div></div></div><div class=\"sk-item\"><div class=\"sk-estimator sk-toggleable\"><input class=\"sk-toggleable__control sk-hidden--visually\" id=\"sk-estimator-id-10\" type=\"checkbox\" ><label for=\"sk-estimator-id-10\" class=\"sk-toggleable__label sk-toggleable__label-arrow\">XGBClassifier</label><div class=\"sk-toggleable__content\"><pre>XGBClassifier(base_score=None, booster=None, callbacks=None,\n",
       "              colsample_bylevel=None, colsample_bynode=None,\n",
       "              colsample_bytree=None, early_stopping_rounds=None,\n",
       "              enable_categorical=False, eval_metric=None, feature_types=None,\n",
       "              gamma=None, gpu_id=None, grow_policy=None, importance_type=None,\n",
       "              interaction_constraints=None, learning_rate=None, max_bin=None,\n",
       "              max_cat_threshold=None, max_cat_to_onehot=None,\n",
       "              max_delta_step=None, max_depth=None, max_leaves=None,\n",
       "              min_child_weight=None, missing=nan, monotone_constraints=None,\n",
       "              n_estimators=100, n_jobs=None, num_parallel_tree=None,\n",
       "              predictor=None, random_state=None, ...)</pre></div></div></div></div></div></div></div></div></div></div></div></div>"
      ],
      "text/plain": [
       "GridSearchCV(cv=3,\n",
       "             estimator=Pipeline(steps=[('scaler', StandardScaler()),\n",
       "                                       ('selectkbest', SelectKBest(k=6)),\n",
       "                                       ('classifier',\n",
       "                                        XGBClassifier(base_score=None,\n",
       "                                                      booster=None,\n",
       "                                                      callbacks=None,\n",
       "                                                      colsample_bylevel=None,\n",
       "                                                      colsample_bynode=None,\n",
       "                                                      colsample_bytree=None,\n",
       "                                                      early_stopping_rounds=None,\n",
       "                                                      enable_categorical=False,\n",
       "                                                      eval_metric=None,\n",
       "                                                      feature_types=None,\n",
       "                                                      gamma=None, gpu_id=...\n",
       "                                                      max_cat_to_onehot=None,\n",
       "                                                      max_delta_step=None,\n",
       "                                                      max_depth=None,\n",
       "                                                      max_leaves=None,\n",
       "                                                      min_child_weight=None,\n",
       "                                                      missing=nan,\n",
       "                                                      monotone_constraints=None,\n",
       "                                                      n_estimators=100,\n",
       "                                                      n_jobs=None,\n",
       "                                                      num_parallel_tree=None,\n",
       "                                                      predictor=None,\n",
       "                                                      random_state=None, ...))]),\n",
       "             param_grid={'classifier__learning_rate': [0.1],\n",
       "                         'classifier__max_delta_step': [5],\n",
       "                         'classifier__max_depth': [10]},\n",
       "             scoring='roc_auc', verbose=10)"
      ]
     },
     "execution_count": 25,
     "metadata": {},
     "output_type": "execute_result"
    }
   ],
   "source": [
    "# Definir el pipeline\n",
    "pipe = Pipeline(steps=[\n",
    "    (\"scaler\", StandardScaler()),\n",
    "    (\"selectkbest\", SelectKBest(k=6)),\n",
    "    (\"classifier\", XGBClassifier())\n",
    "])\n",
    "\n",
    "xgb_params = {\n",
    "    'classifier__learning_rate': [0.1],\n",
    "    'classifier__max_depth': [10],\n",
    "    'classifier__max_delta_step': [5]\n",
    "}\n",
    "# Crear el GridSearchCV\n",
    "clf = GridSearchCV(estimator=pipe, param_grid=xgb_params, cv=3, scoring=\"roc_auc\", verbose=10)\n",
    "\n",
    "# Ajustar el GridSearchCV\n",
    "clf.fit(X_train, y_train)"
   ]
  },
  {
   "cell_type": "code",
   "execution_count": 26,
   "metadata": {},
   "outputs": [
    {
     "name": "stdout",
     "output_type": "stream",
     "text": [
      "[[9.99619910e-01 3.80089515e-04]\n",
      " [2.38348868e-01 7.61651132e-01]]\n",
      "Precision score: 0.9210950080515298\n",
      "Recall score: 0.7616511318242344\n",
      "ROC AUC score: 0.8806355211546375\n"
     ]
    },
    {
     "data": {
      "image/png": "[encoded data removed]",
      "text/plain": [
       "<Figure size 640x480 with 2 Axes>"
      ]
     },
     "metadata": {},
     "output_type": "display_data"
    }
   ],
   "source": [
    "predictions = clf.predict(X_test)\n",
    "c_matrix = confusion_matrix(y_test, predictions, normalize=\"true\")\n",
    "print(c_matrix)\n",
    "sns.heatmap(c_matrix, annot=True);\n",
    "\n",
    "print(\"Precision score:\", precision_score(y_test, predictions))\n",
    "print(\"Recall score:\", recall_score(y_test, predictions))\n",
    "print(\"ROC AUC score:\", roc_auc_score(y_test, predictions))"
   ]
  },
  {
   "cell_type": "code",
   "execution_count": 27,
   "metadata": {},
   "outputs": [
    {
     "name": "stdout",
     "output_type": "stream",
     "text": [
      "[0.22720541 0.03696065 0.37634012 0.04787361 0.285371   0.02624927]\n"
     ]
    }
   ],
   "source": [
    "best_estimator = clf.best_estimator_\n",
    "xgb_classifier = best_estimator.named_steps['classifier']\n",
    "feature_importances = xgb_classifier.feature_importances_\n",
    "print(feature_importances)"
   ]
  },
  {
   "cell_type": "code",
   "execution_count": 29,
   "metadata": {},
   "outputs": [
    {
     "name": "stdout",
     "output_type": "stream",
     "text": [
      "['amt', 'city_pop', 'fraudes_por_Categoria', 'fraudes_por_edad', 'fraudes_por_hora', 'fraudes_por_día']\n"
     ]
    }
   ],
   "source": [
    "select_k_best = best_estimator.named_steps['selectkbest']\n",
    "selected_features = select_k_best.get_support()\n",
    "feature_names = X.columns # Reemplaza X con el nombre de tu conjunto de datos de características\n",
    "\n",
    "# Obtener los nombres de las características seleccionadas\n",
    "selected_feature_names = [feature_names[i] for i, selected in enumerate(selected_features) if selected]\n",
    "\n",
    "print(selected_feature_names)"
   ]
  },
  {
   "cell_type": "code",
   "execution_count": 31,
   "metadata": {},
   "outputs": [
    {
     "data": {
      "image/png": "[encoded data removed]",
      "text/plain": [
       "<Figure size 640x480 with 1 Axes>"
      ]
     },
     "metadata": {},
     "output_type": "display_data"
    }
   ],
   "source": [
    "import matplotlib.pyplot as plt\n",
    "\n",
    "# Definir los nombres de las características en español\n",
    "feature_names_es = ['Cuantía', 'Población de la Ciudad', 'Fraudes por Categoría', 'Fraudes por Edad', 'Fraudes por Hora', 'Fraudes por Día']\n",
    "\n",
    "# Obtener los valores de importancia de las características\n",
    "importances = [0.22720541, 0.03696065, 0.37634012, 0.04787361, 0.285371, 0.02624927]\n",
    "\n",
    "# Crear la gráfica de barras\n",
    "plt.barh(range(len(importances)), importances, align='center')\n",
    "plt.yticks(range(len(importances)), feature_names_es)\n",
    "plt.xlabel('Importancia')\n",
    "plt.ylabel('Características')\n",
    "plt.title('Importancia de las Características')\n",
    "\n",
    "# Mostrar la gráfica\n",
    "plt.show()"
   ]
  },
  {
   "attachments": {},
   "cell_type": "markdown",
   "metadata": {},
   "source": [
    "Este es el mejor modelo obtenido."
   ]
  },
  {
   "cell_type": "code",
   "execution_count": 33,
   "metadata": {},
   "outputs": [],
   "source": [
    "# Para escribir el archivo pickle\n",
    "with open('../models/Model4/trained_model.pkl', 'wb') as archivo_salida:\n",
    "    pickle.dump(clf.best_estimator_, archivo_salida)\n",
    "\n",
    "# Para escribir el archivo YAML\n",
    "with open(\"../models/Model4/model_config.yaml\", \"w\") as f:\n",
    "    yaml.dump(clf.best_params_, f)"
   ]
  }
 ],
 "metadata": {
  "kernelspec": {
   "display_name": "Python 3",
   "language": "python",
   "name": "python3"
  },
  "language_info": {
   "codemirror_mode": {
    "name": "ipython",
    "version": 3
   },
   "file_extension": ".py",
   "mimetype": "text/x-python",
   "name": "python",
   "nbconvert_exporter": "python",
   "pygments_lexer": "ipython3",
   "version": "3.11.3"
  },
  "orig_nbformat": 4
 },
 "nbformat": 4,
 "nbformat_minor": 2
}
