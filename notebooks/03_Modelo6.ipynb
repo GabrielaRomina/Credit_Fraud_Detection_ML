{
 "cells": [
  {
   "attachments": {},
   "cell_type": "markdown",
   "metadata": {},
   "source": [
    "## Modelo 6"
   ]
  },
  {
   "attachments": {},
   "cell_type": "markdown",
   "metadata": {},
   "source": [
    "Se cargan las librerías."
   ]
  },
  {
   "cell_type": "code",
   "execution_count": 13,
   "metadata": {},
   "outputs": [],
   "source": [
    "import pandas as pd\n",
    "from sklearn.model_selection import train_test_split, GridSearchCV\n",
    "from imblearn.under_sampling import RandomUnderSampler\n",
    "from sklearn.pipeline import Pipeline\n",
    "from sklearn.feature_selection import SelectKBest\n",
    "from sklearn.svm import SVC\n",
    "import numpy as np\n",
    "from sklearn.preprocessing import StandardScaler\n",
    "\n",
    "from sklearn.metrics import confusion_matrix\n",
    "import seaborn as sns\n",
    "import pickle\n",
    "import yaml"
   ]
  },
  {
   "attachments": {},
   "cell_type": "markdown",
   "metadata": {},
   "source": [
    "Se cargan los datos procesados."
   ]
  },
  {
   "cell_type": "code",
   "execution_count": 2,
   "metadata": {},
   "outputs": [],
   "source": [
    "segmentos = []\n",
    "\n",
    "# Leer los archivos CSV segmentados y almacenarlos en la lista\n",
    "for i in range(0,3):\n",
    "    segmento = pd.read_csv(f'../data/processed/segmento_{i+1}.csv')\n",
    "    segmentos.append(segmento)\n",
    "# Concatenar los DataFrames de los segmentos en uno solo\n",
    "df1 = pd.concat(segmentos, ignore_index=True)"
   ]
  },
  {
   "attachments": {},
   "cell_type": "markdown",
   "metadata": {},
   "source": [
    "Se separa el test del Dataframe original no balanceado para asegurar que los datos nuevos serán similares a los reales a predecir, manteniendo proporción en los datos"
   ]
  },
  {
   "cell_type": "code",
   "execution_count": 3,
   "metadata": {},
   "outputs": [],
   "source": [
    "# Crear las variables para features y target\n",
    "X = df1[['amt', 'city_pop', 'distancia', 'fraudes_por_Categoria',\n",
    "       'fraudes_por_estado', 'fraudes_por_edad', 'fraudes_por_hora',\n",
    "       'fraudes_por_día']]\n",
    "y = df1['is_fraud']\n",
    "\n",
    "# Separamos una muestra del DataFrame para probar el modelo\n",
    "X_train, X_test, y_train, y_test = train_test_split(X,\n",
    "                                                   y,\n",
    "                                                   test_size = 0.1,\n",
    "                                                   random_state=0, stratify=y)\n"
   ]
  },
  {
   "attachments": {},
   "cell_type": "markdown",
   "metadata": {},
   "source": [
    "Una vez obtenido el test, se pasa a balancear los datos, tanto para aligerar la carga del entrenamiento, como para intentar que el modelo prediga mejor la clase minoritaría."
   ]
  },
  {
   "cell_type": "code",
   "execution_count": 4,
   "metadata": {},
   "outputs": [],
   "source": [
    "# Aplicamos undersampling a los datos\n",
    "rus = RandomUnderSampler()\n",
    "\n",
    "X_resampled, y_resampled = rus.fit_resample(X_train, y_train)\n",
    "\n",
    "# Separamos el nuevo conjunto en X e y\n",
    "X_under = X_resampled\n",
    "y_under = y_resampled"
   ]
  },
  {
   "attachments": {},
   "cell_type": "markdown",
   "metadata": {},
   "source": [
    "Se separa en train y test."
   ]
  },
  {
   "cell_type": "code",
   "execution_count": 6,
   "metadata": {},
   "outputs": [],
   "source": [
    "# # Volvemos a separar en test y train para que el test original y los datos del undersample no contaminen a examinar\n",
    "# X_train_und, X_test_und, y_train_und, y_test_und = train_test_split(X_under,\n",
    "#                                                    y_under,\n",
    "#                                                    test_size = 0.2,\n",
    "#                                                    random_state=0)"
   ]
  },
  {
   "attachments": {},
   "cell_type": "markdown",
   "metadata": {},
   "source": [
    "Con un GridSearch, se hiperparametriza un SVC."
   ]
  },
  {
   "cell_type": "code",
   "execution_count": 7,
   "metadata": {},
   "outputs": [
    {
     "name": "stdout",
     "output_type": "stream",
     "text": [
      "Fitting 3 folds for each of 84 candidates, totalling 252 fits\n",
      "[CV 1/3; 1/84] START classifier__C=0.1, classifier__class_weight=None, classifier__kernel=rbf, scaler=StandardScaler(), selectkbest__k=2\n",
      "[CV 1/3; 1/84] END classifier__C=0.1, classifier__class_weight=None, classifier__kernel=rbf, scaler=StandardScaler(), selectkbest__k=2;, score=0.934 total time=   1.5s\n",
      "[CV 2/3; 1/84] START classifier__C=0.1, classifier__class_weight=None, classifier__kernel=rbf, scaler=StandardScaler(), selectkbest__k=2\n",
      "[CV 2/3; 1/84] END classifier__C=0.1, classifier__class_weight=None, classifier__kernel=rbf, scaler=StandardScaler(), selectkbest__k=2;, score=0.937 total time=   1.4s\n",
      "[CV 3/3; 1/84] START classifier__C=0.1, classifier__class_weight=None, classifier__kernel=rbf, scaler=StandardScaler(), selectkbest__k=2\n",
      "[CV 3/3; 1/84] END classifier__C=0.1, classifier__class_weight=None, classifier__kernel=rbf, scaler=StandardScaler(), selectkbest__k=2;, score=0.936 total time=   1.3s\n",
      "[CV 1/3; 2/84] START classifier__C=0.1, classifier__class_weight=None, classifier__kernel=rbf, scaler=StandardScaler(), selectkbest__k=3\n",
      "[CV 1/3; 2/84] END classifier__C=0.1, classifier__class_weight=None, classifier__kernel=rbf, scaler=StandardScaler(), selectkbest__k=3;, score=0.952 total time=   1.3s\n",
      "[CV 2/3; 2/84] START classifier__C=0.1, classifier__class_weight=None, classifier__kernel=rbf, scaler=StandardScaler(), selectkbest__k=3\n",
      "[CV 2/3; 2/84] END classifier__C=0.1, classifier__class_weight=None, classifier__kernel=rbf, scaler=StandardScaler(), selectkbest__k=3;, score=0.954 total time=   1.3s\n",
      "[CV 3/3; 2/84] START classifier__C=0.1, classifier__class_weight=None, classifier__kernel=rbf, scaler=StandardScaler(), selectkbest__k=3\n",
      "[CV 3/3; 2/84] END classifier__C=0.1, classifier__class_weight=None, classifier__kernel=rbf, scaler=StandardScaler(), selectkbest__k=3;, score=0.953 total time=   1.3s\n",
      "[CV 1/3; 3/84] START classifier__C=0.1, classifier__class_weight=None, classifier__kernel=rbf, scaler=StandardScaler(), selectkbest__k=4\n",
      "[CV 1/3; 3/84] END classifier__C=0.1, classifier__class_weight=None, classifier__kernel=rbf, scaler=StandardScaler(), selectkbest__k=4;, score=0.945 total time=   1.4s\n",
      "[CV 2/3; 3/84] START classifier__C=0.1, classifier__class_weight=None, classifier__kernel=rbf, scaler=StandardScaler(), selectkbest__k=4\n",
      "[CV 2/3; 3/84] END classifier__C=0.1, classifier__class_weight=None, classifier__kernel=rbf, scaler=StandardScaler(), selectkbest__k=4;, score=0.946 total time=   1.5s\n",
      "[CV 3/3; 3/84] START classifier__C=0.1, classifier__class_weight=None, classifier__kernel=rbf, scaler=StandardScaler(), selectkbest__k=4\n",
      "[CV 3/3; 3/84] END classifier__C=0.1, classifier__class_weight=None, classifier__kernel=rbf, scaler=StandardScaler(), selectkbest__k=4;, score=0.944 total time=   1.4s\n",
      "[CV 1/3; 4/84] START classifier__C=0.1, classifier__class_weight=None, classifier__kernel=rbf, scaler=StandardScaler(), selectkbest__k=5\n",
      "[CV 1/3; 4/84] END classifier__C=0.1, classifier__class_weight=None, classifier__kernel=rbf, scaler=StandardScaler(), selectkbest__k=5;, score=0.942 total time=   1.6s\n",
      "[CV 2/3; 4/84] START classifier__C=0.1, classifier__class_weight=None, classifier__kernel=rbf, scaler=StandardScaler(), selectkbest__k=5\n",
      "[CV 2/3; 4/84] END classifier__C=0.1, classifier__class_weight=None, classifier__kernel=rbf, scaler=StandardScaler(), selectkbest__k=5;, score=0.943 total time=   1.5s\n",
      "[CV 3/3; 4/84] START classifier__C=0.1, classifier__class_weight=None, classifier__kernel=rbf, scaler=StandardScaler(), selectkbest__k=5\n",
      "[CV 3/3; 4/84] END classifier__C=0.1, classifier__class_weight=None, classifier__kernel=rbf, scaler=StandardScaler(), selectkbest__k=5;, score=0.942 total time=   1.6s\n",
      "[CV 1/3; 5/84] START classifier__C=0.1, classifier__class_weight=None, classifier__kernel=rbf, scaler=StandardScaler(), selectkbest__k=6\n",
      "[CV 1/3; 5/84] END classifier__C=0.1, classifier__class_weight=None, classifier__kernel=rbf, scaler=StandardScaler(), selectkbest__k=6;, score=0.939 total time=   1.7s\n",
      "[CV 2/3; 5/84] START classifier__C=0.1, classifier__class_weight=None, classifier__kernel=rbf, scaler=StandardScaler(), selectkbest__k=6\n",
      "[CV 2/3; 5/84] END classifier__C=0.1, classifier__class_weight=None, classifier__kernel=rbf, scaler=StandardScaler(), selectkbest__k=6;, score=0.938 total time=   1.8s\n",
      "[CV 3/3; 5/84] START classifier__C=0.1, classifier__class_weight=None, classifier__kernel=rbf, scaler=StandardScaler(), selectkbest__k=6\n",
      "[CV 3/3; 5/84] END classifier__C=0.1, classifier__class_weight=None, classifier__kernel=rbf, scaler=StandardScaler(), selectkbest__k=6;, score=0.939 total time=   1.9s\n",
      "[CV 1/3; 6/84] START classifier__C=0.1, classifier__class_weight=None, classifier__kernel=rbf, scaler=StandardScaler(), selectkbest__k=7\n",
      "[CV 1/3; 6/84] END classifier__C=0.1, classifier__class_weight=None, classifier__kernel=rbf, scaler=StandardScaler(), selectkbest__k=7;, score=0.936 total time=   1.8s\n",
      "[CV 2/3; 6/84] START classifier__C=0.1, classifier__class_weight=None, classifier__kernel=rbf, scaler=StandardScaler(), selectkbest__k=7\n",
      "[CV 2/3; 6/84] END classifier__C=0.1, classifier__class_weight=None, classifier__kernel=rbf, scaler=StandardScaler(), selectkbest__k=7;, score=0.935 total time=   1.8s\n",
      "[CV 3/3; 6/84] START classifier__C=0.1, classifier__class_weight=None, classifier__kernel=rbf, scaler=StandardScaler(), selectkbest__k=7\n",
      "[CV 3/3; 6/84] END classifier__C=0.1, classifier__class_weight=None, classifier__kernel=rbf, scaler=StandardScaler(), selectkbest__k=7;, score=0.935 total time=   1.7s\n",
      "[CV 1/3; 7/84] START classifier__C=0.1, classifier__class_weight=None, classifier__kernel=rbf, scaler=StandardScaler(), selectkbest__k=8\n",
      "[CV 1/3; 7/84] END classifier__C=0.1, classifier__class_weight=None, classifier__kernel=rbf, scaler=StandardScaler(), selectkbest__k=8;, score=0.933 total time=   2.3s\n",
      "[CV 2/3; 7/84] START classifier__C=0.1, classifier__class_weight=None, classifier__kernel=rbf, scaler=StandardScaler(), selectkbest__k=8\n",
      "[CV 2/3; 7/84] END classifier__C=0.1, classifier__class_weight=None, classifier__kernel=rbf, scaler=StandardScaler(), selectkbest__k=8;, score=0.932 total time=   1.9s\n",
      "[CV 3/3; 7/84] START classifier__C=0.1, classifier__class_weight=None, classifier__kernel=rbf, scaler=StandardScaler(), selectkbest__k=8\n",
      "[CV 3/3; 7/84] END classifier__C=0.1, classifier__class_weight=None, classifier__kernel=rbf, scaler=StandardScaler(), selectkbest__k=8;, score=0.933 total time=   2.2s\n",
      "[CV 1/3; 8/84] START classifier__C=0.1, classifier__class_weight=None, classifier__kernel=rbf, scaler=None, selectkbest__k=2\n",
      "[CV 1/3; 8/84] END classifier__C=0.1, classifier__class_weight=None, classifier__kernel=rbf, scaler=None, selectkbest__k=2;, score=0.874 total time=   2.4s\n",
      "[CV 2/3; 8/84] START classifier__C=0.1, classifier__class_weight=None, classifier__kernel=rbf, scaler=None, selectkbest__k=2\n",
      "[CV 2/3; 8/84] END classifier__C=0.1, classifier__class_weight=None, classifier__kernel=rbf, scaler=None, selectkbest__k=2;, score=0.873 total time=   2.4s\n",
      "[CV 3/3; 8/84] START classifier__C=0.1, classifier__class_weight=None, classifier__kernel=rbf, scaler=None, selectkbest__k=2\n",
      "[CV 3/3; 8/84] END classifier__C=0.1, classifier__class_weight=None, classifier__kernel=rbf, scaler=None, selectkbest__k=2;, score=0.861 total time=   2.4s\n",
      "[CV 1/3; 9/84] START classifier__C=0.1, classifier__class_weight=None, classifier__kernel=rbf, scaler=None, selectkbest__k=3\n",
      "[CV 1/3; 9/84] END classifier__C=0.1, classifier__class_weight=None, classifier__kernel=rbf, scaler=None, selectkbest__k=3;, score=0.871 total time=   2.2s\n",
      "[CV 2/3; 9/84] START classifier__C=0.1, classifier__class_weight=None, classifier__kernel=rbf, scaler=None, selectkbest__k=3\n",
      "[CV 2/3; 9/84] END classifier__C=0.1, classifier__class_weight=None, classifier__kernel=rbf, scaler=None, selectkbest__k=3;, score=0.870 total time=   2.1s\n",
      "[CV 3/3; 9/84] START classifier__C=0.1, classifier__class_weight=None, classifier__kernel=rbf, scaler=None, selectkbest__k=3\n",
      "[CV 3/3; 9/84] END classifier__C=0.1, classifier__class_weight=None, classifier__kernel=rbf, scaler=None, selectkbest__k=3;, score=0.858 total time=   2.0s\n",
      "[CV 1/3; 10/84] START classifier__C=0.1, classifier__class_weight=None, classifier__kernel=rbf, scaler=None, selectkbest__k=4\n",
      "[CV 1/3; 10/84] END classifier__C=0.1, classifier__class_weight=None, classifier__kernel=rbf, scaler=None, selectkbest__k=4;, score=0.870 total time=   2.4s\n",
      "[CV 2/3; 10/84] START classifier__C=0.1, classifier__class_weight=None, classifier__kernel=rbf, scaler=None, selectkbest__k=4\n",
      "[CV 2/3; 10/84] END classifier__C=0.1, classifier__class_weight=None, classifier__kernel=rbf, scaler=None, selectkbest__k=4;, score=0.869 total time=   2.5s\n",
      "[CV 3/3; 10/84] START classifier__C=0.1, classifier__class_weight=None, classifier__kernel=rbf, scaler=None, selectkbest__k=4\n",
      "[CV 3/3; 10/84] END classifier__C=0.1, classifier__class_weight=None, classifier__kernel=rbf, scaler=None, selectkbest__k=4;, score=0.857 total time=   2.2s\n",
      "[CV 1/3; 11/84] START classifier__C=0.1, classifier__class_weight=None, classifier__kernel=rbf, scaler=None, selectkbest__k=5\n",
      "[CV 1/3; 11/84] END classifier__C=0.1, classifier__class_weight=None, classifier__kernel=rbf, scaler=None, selectkbest__k=5;, score=0.869 total time=   2.3s\n",
      "[CV 2/3; 11/84] START classifier__C=0.1, classifier__class_weight=None, classifier__kernel=rbf, scaler=None, selectkbest__k=5\n",
      "[CV 2/3; 11/84] END classifier__C=0.1, classifier__class_weight=None, classifier__kernel=rbf, scaler=None, selectkbest__k=5;, score=0.867 total time=   2.6s\n",
      "[CV 3/3; 11/84] START classifier__C=0.1, classifier__class_weight=None, classifier__kernel=rbf, scaler=None, selectkbest__k=5\n",
      "[CV 3/3; 11/84] END classifier__C=0.1, classifier__class_weight=None, classifier__kernel=rbf, scaler=None, selectkbest__k=5;, score=0.856 total time=   2.6s\n",
      "[CV 1/3; 12/84] START classifier__C=0.1, classifier__class_weight=None, classifier__kernel=rbf, scaler=None, selectkbest__k=6\n",
      "[CV 1/3; 12/84] END classifier__C=0.1, classifier__class_weight=None, classifier__kernel=rbf, scaler=None, selectkbest__k=6;, score=0.537 total time=   4.7s\n",
      "[CV 2/3; 12/84] START classifier__C=0.1, classifier__class_weight=None, classifier__kernel=rbf, scaler=None, selectkbest__k=6\n",
      "[CV 2/3; 12/84] END classifier__C=0.1, classifier__class_weight=None, classifier__kernel=rbf, scaler=None, selectkbest__k=6;, score=0.869 total time=   1.9s\n",
      "[CV 3/3; 12/84] START classifier__C=0.1, classifier__class_weight=None, classifier__kernel=rbf, scaler=None, selectkbest__k=6\n",
      "[CV 3/3; 12/84] END classifier__C=0.1, classifier__class_weight=None, classifier__kernel=rbf, scaler=None, selectkbest__k=6;, score=0.856 total time=   2.4s\n",
      "[CV 1/3; 13/84] START classifier__C=0.1, classifier__class_weight=None, classifier__kernel=rbf, scaler=None, selectkbest__k=7\n",
      "[CV 1/3; 13/84] END classifier__C=0.1, classifier__class_weight=None, classifier__kernel=rbf, scaler=None, selectkbest__k=7;, score=0.537 total time=   4.9s\n",
      "[CV 2/3; 13/84] START classifier__C=0.1, classifier__class_weight=None, classifier__kernel=rbf, scaler=None, selectkbest__k=7\n",
      "[CV 2/3; 13/84] END classifier__C=0.1, classifier__class_weight=None, classifier__kernel=rbf, scaler=None, selectkbest__k=7;, score=0.570 total time=   4.8s\n",
      "[CV 3/3; 13/84] START classifier__C=0.1, classifier__class_weight=None, classifier__kernel=rbf, scaler=None, selectkbest__k=7\n",
      "[CV 3/3; 13/84] END classifier__C=0.1, classifier__class_weight=None, classifier__kernel=rbf, scaler=None, selectkbest__k=7;, score=0.857 total time=   2.0s\n",
      "[CV 1/3; 14/84] START classifier__C=0.1, classifier__class_weight=None, classifier__kernel=rbf, scaler=None, selectkbest__k=8\n",
      "[CV 1/3; 14/84] END classifier__C=0.1, classifier__class_weight=None, classifier__kernel=rbf, scaler=None, selectkbest__k=8;, score=0.537 total time=   5.6s\n",
      "[CV 2/3; 14/84] START classifier__C=0.1, classifier__class_weight=None, classifier__kernel=rbf, scaler=None, selectkbest__k=8\n",
      "[CV 2/3; 14/84] END classifier__C=0.1, classifier__class_weight=None, classifier__kernel=rbf, scaler=None, selectkbest__k=8;, score=0.570 total time=   5.5s\n",
      "[CV 3/3; 14/84] START classifier__C=0.1, classifier__class_weight=None, classifier__kernel=rbf, scaler=None, selectkbest__k=8\n",
      "[CV 3/3; 14/84] END classifier__C=0.1, classifier__class_weight=None, classifier__kernel=rbf, scaler=None, selectkbest__k=8;, score=0.540 total time=   5.3s\n",
      "[CV 1/3; 15/84] START classifier__C=0.1, classifier__class_weight={0: 100, 1: 1}, classifier__kernel=rbf, scaler=StandardScaler(), selectkbest__k=2\n",
      "[CV 1/3; 15/84] END classifier__C=0.1, classifier__class_weight={0: 100, 1: 1}, classifier__kernel=rbf, scaler=StandardScaler(), selectkbest__k=2;, score=0.752 total time=   1.7s\n",
      "[CV 2/3; 15/84] START classifier__C=0.1, classifier__class_weight={0: 100, 1: 1}, classifier__kernel=rbf, scaler=StandardScaler(), selectkbest__k=2\n",
      "[CV 2/3; 15/84] END classifier__C=0.1, classifier__class_weight={0: 100, 1: 1}, classifier__kernel=rbf, scaler=StandardScaler(), selectkbest__k=2;, score=0.698 total time=   2.1s\n",
      "[CV 3/3; 15/84] START classifier__C=0.1, classifier__class_weight={0: 100, 1: 1}, classifier__kernel=rbf, scaler=StandardScaler(), selectkbest__k=2\n",
      "[CV 3/3; 15/84] END classifier__C=0.1, classifier__class_weight={0: 100, 1: 1}, classifier__kernel=rbf, scaler=StandardScaler(), selectkbest__k=2;, score=0.744 total time=   1.6s\n",
      "[CV 1/3; 16/84] START classifier__C=0.1, classifier__class_weight={0: 100, 1: 1}, classifier__kernel=rbf, scaler=StandardScaler(), selectkbest__k=3\n",
      "[CV 1/3; 16/84] END classifier__C=0.1, classifier__class_weight={0: 100, 1: 1}, classifier__kernel=rbf, scaler=StandardScaler(), selectkbest__k=3;, score=0.929 total time=   1.5s\n",
      "[CV 2/3; 16/84] START classifier__C=0.1, classifier__class_weight={0: 100, 1: 1}, classifier__kernel=rbf, scaler=StandardScaler(), selectkbest__k=3\n",
      "[CV 2/3; 16/84] END classifier__C=0.1, classifier__class_weight={0: 100, 1: 1}, classifier__kernel=rbf, scaler=StandardScaler(), selectkbest__k=3;, score=0.911 total time=   1.5s\n",
      "[CV 3/3; 16/84] START classifier__C=0.1, classifier__class_weight={0: 100, 1: 1}, classifier__kernel=rbf, scaler=StandardScaler(), selectkbest__k=3\n",
      "[CV 3/3; 16/84] END classifier__C=0.1, classifier__class_weight={0: 100, 1: 1}, classifier__kernel=rbf, scaler=StandardScaler(), selectkbest__k=3;, score=0.932 total time=   1.6s\n",
      "[CV 1/3; 17/84] START classifier__C=0.1, classifier__class_weight={0: 100, 1: 1}, classifier__kernel=rbf, scaler=StandardScaler(), selectkbest__k=4\n",
      "[CV 1/3; 17/84] END classifier__C=0.1, classifier__class_weight={0: 100, 1: 1}, classifier__kernel=rbf, scaler=StandardScaler(), selectkbest__k=4;, score=0.898 total time=   1.8s\n",
      "[CV 2/3; 17/84] START classifier__C=0.1, classifier__class_weight={0: 100, 1: 1}, classifier__kernel=rbf, scaler=StandardScaler(), selectkbest__k=4\n",
      "[CV 2/3; 17/84] END classifier__C=0.1, classifier__class_weight={0: 100, 1: 1}, classifier__kernel=rbf, scaler=StandardScaler(), selectkbest__k=4;, score=0.876 total time=   1.8s\n",
      "[CV 3/3; 17/84] START classifier__C=0.1, classifier__class_weight={0: 100, 1: 1}, classifier__kernel=rbf, scaler=StandardScaler(), selectkbest__k=4\n",
      "[CV 3/3; 17/84] END classifier__C=0.1, classifier__class_weight={0: 100, 1: 1}, classifier__kernel=rbf, scaler=StandardScaler(), selectkbest__k=4;, score=0.878 total time=   1.6s\n",
      "[CV 1/3; 18/84] START classifier__C=0.1, classifier__class_weight={0: 100, 1: 1}, classifier__kernel=rbf, scaler=StandardScaler(), selectkbest__k=5\n",
      "[CV 1/3; 18/84] END classifier__C=0.1, classifier__class_weight={0: 100, 1: 1}, classifier__kernel=rbf, scaler=StandardScaler(), selectkbest__k=5;, score=0.885 total time=   1.9s\n",
      "[CV 2/3; 18/84] START classifier__C=0.1, classifier__class_weight={0: 100, 1: 1}, classifier__kernel=rbf, scaler=StandardScaler(), selectkbest__k=5\n",
      "[CV 2/3; 18/84] END classifier__C=0.1, classifier__class_weight={0: 100, 1: 1}, classifier__kernel=rbf, scaler=StandardScaler(), selectkbest__k=5;, score=0.867 total time=   1.8s\n",
      "[CV 3/3; 18/84] START classifier__C=0.1, classifier__class_weight={0: 100, 1: 1}, classifier__kernel=rbf, scaler=StandardScaler(), selectkbest__k=5\n",
      "[CV 3/3; 18/84] END classifier__C=0.1, classifier__class_weight={0: 100, 1: 1}, classifier__kernel=rbf, scaler=StandardScaler(), selectkbest__k=5;, score=0.881 total time=   1.8s\n",
      "[CV 1/3; 19/84] START classifier__C=0.1, classifier__class_weight={0: 100, 1: 1}, classifier__kernel=rbf, scaler=StandardScaler(), selectkbest__k=6\n",
      "[CV 1/3; 19/84] END classifier__C=0.1, classifier__class_weight={0: 100, 1: 1}, classifier__kernel=rbf, scaler=StandardScaler(), selectkbest__k=6;, score=0.874 total time=   2.0s\n",
      "[CV 2/3; 19/84] START classifier__C=0.1, classifier__class_weight={0: 100, 1: 1}, classifier__kernel=rbf, scaler=StandardScaler(), selectkbest__k=6\n",
      "[CV 2/3; 19/84] END classifier__C=0.1, classifier__class_weight={0: 100, 1: 1}, classifier__kernel=rbf, scaler=StandardScaler(), selectkbest__k=6;, score=0.871 total time=   1.9s\n",
      "[CV 3/3; 19/84] START classifier__C=0.1, classifier__class_weight={0: 100, 1: 1}, classifier__kernel=rbf, scaler=StandardScaler(), selectkbest__k=6\n",
      "[CV 3/3; 19/84] END classifier__C=0.1, classifier__class_weight={0: 100, 1: 1}, classifier__kernel=rbf, scaler=StandardScaler(), selectkbest__k=6;, score=0.873 total time=   1.8s\n",
      "[CV 1/3; 20/84] START classifier__C=0.1, classifier__class_weight={0: 100, 1: 1}, classifier__kernel=rbf, scaler=StandardScaler(), selectkbest__k=7\n",
      "[CV 1/3; 20/84] END classifier__C=0.1, classifier__class_weight={0: 100, 1: 1}, classifier__kernel=rbf, scaler=StandardScaler(), selectkbest__k=7;, score=0.860 total time=   2.1s\n",
      "[CV 2/3; 20/84] START classifier__C=0.1, classifier__class_weight={0: 100, 1: 1}, classifier__kernel=rbf, scaler=StandardScaler(), selectkbest__k=7\n",
      "[CV 2/3; 20/84] END classifier__C=0.1, classifier__class_weight={0: 100, 1: 1}, classifier__kernel=rbf, scaler=StandardScaler(), selectkbest__k=7;, score=0.867 total time=   2.0s\n",
      "[CV 3/3; 20/84] START classifier__C=0.1, classifier__class_weight={0: 100, 1: 1}, classifier__kernel=rbf, scaler=StandardScaler(), selectkbest__k=7\n",
      "[CV 3/3; 20/84] END classifier__C=0.1, classifier__class_weight={0: 100, 1: 1}, classifier__kernel=rbf, scaler=StandardScaler(), selectkbest__k=7;, score=0.878 total time=   1.8s\n",
      "[CV 1/3; 21/84] START classifier__C=0.1, classifier__class_weight={0: 100, 1: 1}, classifier__kernel=rbf, scaler=StandardScaler(), selectkbest__k=8\n",
      "[CV 1/3; 21/84] END classifier__C=0.1, classifier__class_weight={0: 100, 1: 1}, classifier__kernel=rbf, scaler=StandardScaler(), selectkbest__k=8;, score=0.872 total time=   2.0s\n",
      "[CV 2/3; 21/84] START classifier__C=0.1, classifier__class_weight={0: 100, 1: 1}, classifier__kernel=rbf, scaler=StandardScaler(), selectkbest__k=8\n",
      "[CV 2/3; 21/84] END classifier__C=0.1, classifier__class_weight={0: 100, 1: 1}, classifier__kernel=rbf, scaler=StandardScaler(), selectkbest__k=8;, score=0.880 total time=   2.1s\n",
      "[CV 3/3; 21/84] START classifier__C=0.1, classifier__class_weight={0: 100, 1: 1}, classifier__kernel=rbf, scaler=StandardScaler(), selectkbest__k=8\n",
      "[CV 3/3; 21/84] END classifier__C=0.1, classifier__class_weight={0: 100, 1: 1}, classifier__kernel=rbf, scaler=StandardScaler(), selectkbest__k=8;, score=0.881 total time=   1.9s\n",
      "[CV 1/3; 22/84] START classifier__C=0.1, classifier__class_weight={0: 100, 1: 1}, classifier__kernel=rbf, scaler=None, selectkbest__k=2\n",
      "[CV 1/3; 22/84] END classifier__C=0.1, classifier__class_weight={0: 100, 1: 1}, classifier__kernel=rbf, scaler=None, selectkbest__k=2;, score=0.787 total time=   1.9s\n",
      "[CV 2/3; 22/84] START classifier__C=0.1, classifier__class_weight={0: 100, 1: 1}, classifier__kernel=rbf, scaler=None, selectkbest__k=2\n",
      "[CV 2/3; 22/84] END classifier__C=0.1, classifier__class_weight={0: 100, 1: 1}, classifier__kernel=rbf, scaler=None, selectkbest__k=2;, score=0.782 total time=   1.9s\n",
      "[CV 3/3; 22/84] START classifier__C=0.1, classifier__class_weight={0: 100, 1: 1}, classifier__kernel=rbf, scaler=None, selectkbest__k=2\n",
      "[CV 3/3; 22/84] END classifier__C=0.1, classifier__class_weight={0: 100, 1: 1}, classifier__kernel=rbf, scaler=None, selectkbest__k=2;, score=0.814 total time=   1.8s\n",
      "[CV 1/3; 23/84] START classifier__C=0.1, classifier__class_weight={0: 100, 1: 1}, classifier__kernel=rbf, scaler=None, selectkbest__k=3\n",
      "[CV 1/3; 23/84] END classifier__C=0.1, classifier__class_weight={0: 100, 1: 1}, classifier__kernel=rbf, scaler=None, selectkbest__k=3;, score=0.768 total time=   2.1s\n",
      "[CV 2/3; 23/84] START classifier__C=0.1, classifier__class_weight={0: 100, 1: 1}, classifier__kernel=rbf, scaler=None, selectkbest__k=3\n",
      "[CV 2/3; 23/84] END classifier__C=0.1, classifier__class_weight={0: 100, 1: 1}, classifier__kernel=rbf, scaler=None, selectkbest__k=3;, score=0.785 total time=   2.2s\n",
      "[CV 3/3; 23/84] START classifier__C=0.1, classifier__class_weight={0: 100, 1: 1}, classifier__kernel=rbf, scaler=None, selectkbest__k=3\n",
      "[CV 3/3; 23/84] END classifier__C=0.1, classifier__class_weight={0: 100, 1: 1}, classifier__kernel=rbf, scaler=None, selectkbest__k=3;, score=0.828 total time=   1.8s\n",
      "[CV 1/3; 24/84] START classifier__C=0.1, classifier__class_weight={0: 100, 1: 1}, classifier__kernel=rbf, scaler=None, selectkbest__k=4\n",
      "[CV 1/3; 24/84] END classifier__C=0.1, classifier__class_weight={0: 100, 1: 1}, classifier__kernel=rbf, scaler=None, selectkbest__k=4;, score=0.753 total time=   2.1s\n",
      "[CV 2/3; 24/84] START classifier__C=0.1, classifier__class_weight={0: 100, 1: 1}, classifier__kernel=rbf, scaler=None, selectkbest__k=4\n",
      "[CV 2/3; 24/84] END classifier__C=0.1, classifier__class_weight={0: 100, 1: 1}, classifier__kernel=rbf, scaler=None, selectkbest__k=4;, score=0.790 total time=   1.9s\n",
      "[CV 3/3; 24/84] START classifier__C=0.1, classifier__class_weight={0: 100, 1: 1}, classifier__kernel=rbf, scaler=None, selectkbest__k=4\n",
      "[CV 3/3; 24/84] END classifier__C=0.1, classifier__class_weight={0: 100, 1: 1}, classifier__kernel=rbf, scaler=None, selectkbest__k=4;, score=0.828 total time=   2.0s\n",
      "[CV 1/3; 25/84] START classifier__C=0.1, classifier__class_weight={0: 100, 1: 1}, classifier__kernel=rbf, scaler=None, selectkbest__k=5\n",
      "[CV 1/3; 25/84] END classifier__C=0.1, classifier__class_weight={0: 100, 1: 1}, classifier__kernel=rbf, scaler=None, selectkbest__k=5;, score=0.748 total time=   2.2s\n",
      "[CV 2/3; 25/84] START classifier__C=0.1, classifier__class_weight={0: 100, 1: 1}, classifier__kernel=rbf, scaler=None, selectkbest__k=5\n",
      "[CV 2/3; 25/84] END classifier__C=0.1, classifier__class_weight={0: 100, 1: 1}, classifier__kernel=rbf, scaler=None, selectkbest__k=5;, score=0.775 total time=   2.5s\n",
      "[CV 3/3; 25/84] START classifier__C=0.1, classifier__class_weight={0: 100, 1: 1}, classifier__kernel=rbf, scaler=None, selectkbest__k=5\n",
      "[CV 3/3; 25/84] END classifier__C=0.1, classifier__class_weight={0: 100, 1: 1}, classifier__kernel=rbf, scaler=None, selectkbest__k=5;, score=0.802 total time=   2.2s\n",
      "[CV 1/3; 26/84] START classifier__C=0.1, classifier__class_weight={0: 100, 1: 1}, classifier__kernel=rbf, scaler=None, selectkbest__k=6\n",
      "[CV 1/3; 26/84] END classifier__C=0.1, classifier__class_weight={0: 100, 1: 1}, classifier__kernel=rbf, scaler=None, selectkbest__k=6;, score=0.474 total time=   2.3s\n",
      "[CV 2/3; 26/84] START classifier__C=0.1, classifier__class_weight={0: 100, 1: 1}, classifier__kernel=rbf, scaler=None, selectkbest__k=6\n",
      "[CV 2/3; 26/84] END classifier__C=0.1, classifier__class_weight={0: 100, 1: 1}, classifier__kernel=rbf, scaler=None, selectkbest__k=6;, score=0.765 total time=   2.4s\n",
      "[CV 3/3; 26/84] START classifier__C=0.1, classifier__class_weight={0: 100, 1: 1}, classifier__kernel=rbf, scaler=None, selectkbest__k=6\n",
      "[CV 3/3; 26/84] END classifier__C=0.1, classifier__class_weight={0: 100, 1: 1}, classifier__kernel=rbf, scaler=None, selectkbest__k=6;, score=0.823 total time=   2.2s\n",
      "[CV 1/3; 27/84] START classifier__C=0.1, classifier__class_weight={0: 100, 1: 1}, classifier__kernel=rbf, scaler=None, selectkbest__k=7\n",
      "[CV 1/3; 27/84] END classifier__C=0.1, classifier__class_weight={0: 100, 1: 1}, classifier__kernel=rbf, scaler=None, selectkbest__k=7;, score=0.526 total time=   2.3s\n",
      "[CV 2/3; 27/84] START classifier__C=0.1, classifier__class_weight={0: 100, 1: 1}, classifier__kernel=rbf, scaler=None, selectkbest__k=7\n",
      "[CV 2/3; 27/84] END classifier__C=0.1, classifier__class_weight={0: 100, 1: 1}, classifier__kernel=rbf, scaler=None, selectkbest__k=7;, score=0.584 total time=   2.3s\n",
      "[CV 3/3; 27/84] START classifier__C=0.1, classifier__class_weight={0: 100, 1: 1}, classifier__kernel=rbf, scaler=None, selectkbest__k=7\n",
      "[CV 3/3; 27/84] END classifier__C=0.1, classifier__class_weight={0: 100, 1: 1}, classifier__kernel=rbf, scaler=None, selectkbest__k=7;, score=0.828 total time=   2.2s\n",
      "[CV 1/3; 28/84] START classifier__C=0.1, classifier__class_weight={0: 100, 1: 1}, classifier__kernel=rbf, scaler=None, selectkbest__k=8\n",
      "[CV 1/3; 28/84] END classifier__C=0.1, classifier__class_weight={0: 100, 1: 1}, classifier__kernel=rbf, scaler=None, selectkbest__k=8;, score=0.630 total time=   2.2s\n",
      "[CV 2/3; 28/84] START classifier__C=0.1, classifier__class_weight={0: 100, 1: 1}, classifier__kernel=rbf, scaler=None, selectkbest__k=8\n",
      "[CV 2/3; 28/84] END classifier__C=0.1, classifier__class_weight={0: 100, 1: 1}, classifier__kernel=rbf, scaler=None, selectkbest__k=8;, score=0.520 total time=   2.6s\n",
      "[CV 3/3; 28/84] START classifier__C=0.1, classifier__class_weight={0: 100, 1: 1}, classifier__kernel=rbf, scaler=None, selectkbest__k=8\n",
      "[CV 3/3; 28/84] END classifier__C=0.1, classifier__class_weight={0: 100, 1: 1}, classifier__kernel=rbf, scaler=None, selectkbest__k=8;, score=0.516 total time=   2.4s\n",
      "[CV 1/3; 29/84] START classifier__C=1.0, classifier__class_weight=None, classifier__kernel=rbf, scaler=StandardScaler(), selectkbest__k=2\n",
      "[CV 1/3; 29/84] END classifier__C=1.0, classifier__class_weight=None, classifier__kernel=rbf, scaler=StandardScaler(), selectkbest__k=2;, score=0.941 total time=   1.5s\n",
      "[CV 2/3; 29/84] START classifier__C=1.0, classifier__class_weight=None, classifier__kernel=rbf, scaler=StandardScaler(), selectkbest__k=2\n",
      "[CV 2/3; 29/84] END classifier__C=1.0, classifier__class_weight=None, classifier__kernel=rbf, scaler=StandardScaler(), selectkbest__k=2;, score=0.943 total time=   1.4s\n",
      "[CV 3/3; 29/84] START classifier__C=1.0, classifier__class_weight=None, classifier__kernel=rbf, scaler=StandardScaler(), selectkbest__k=2\n",
      "[CV 3/3; 29/84] END classifier__C=1.0, classifier__class_weight=None, classifier__kernel=rbf, scaler=StandardScaler(), selectkbest__k=2;, score=0.942 total time=   1.3s\n",
      "[CV 1/3; 30/84] START classifier__C=1.0, classifier__class_weight=None, classifier__kernel=rbf, scaler=StandardScaler(), selectkbest__k=3\n",
      "[CV 1/3; 30/84] END classifier__C=1.0, classifier__class_weight=None, classifier__kernel=rbf, scaler=StandardScaler(), selectkbest__k=3;, score=0.960 total time=   1.0s\n",
      "[CV 2/3; 30/84] START classifier__C=1.0, classifier__class_weight=None, classifier__kernel=rbf, scaler=StandardScaler(), selectkbest__k=3\n",
      "[CV 2/3; 30/84] END classifier__C=1.0, classifier__class_weight=None, classifier__kernel=rbf, scaler=StandardScaler(), selectkbest__k=3;, score=0.967 total time=   1.1s\n",
      "[CV 3/3; 30/84] START classifier__C=1.0, classifier__class_weight=None, classifier__kernel=rbf, scaler=StandardScaler(), selectkbest__k=3\n",
      "[CV 3/3; 30/84] END classifier__C=1.0, classifier__class_weight=None, classifier__kernel=rbf, scaler=StandardScaler(), selectkbest__k=3;, score=0.963 total time=   1.0s\n",
      "[CV 1/3; 31/84] START classifier__C=1.0, classifier__class_weight=None, classifier__kernel=rbf, scaler=StandardScaler(), selectkbest__k=4\n",
      "[CV 1/3; 31/84] END classifier__C=1.0, classifier__class_weight=None, classifier__kernel=rbf, scaler=StandardScaler(), selectkbest__k=4;, score=0.957 total time=   1.2s\n",
      "[CV 2/3; 31/84] START classifier__C=1.0, classifier__class_weight=None, classifier__kernel=rbf, scaler=StandardScaler(), selectkbest__k=4\n",
      "[CV 2/3; 31/84] END classifier__C=1.0, classifier__class_weight=None, classifier__kernel=rbf, scaler=StandardScaler(), selectkbest__k=4;, score=0.962 total time=   1.2s\n",
      "[CV 3/3; 31/84] START classifier__C=1.0, classifier__class_weight=None, classifier__kernel=rbf, scaler=StandardScaler(), selectkbest__k=4\n",
      "[CV 3/3; 31/84] END classifier__C=1.0, classifier__class_weight=None, classifier__kernel=rbf, scaler=StandardScaler(), selectkbest__k=4;, score=0.958 total time=   1.1s\n",
      "[CV 1/3; 32/84] START classifier__C=1.0, classifier__class_weight=None, classifier__kernel=rbf, scaler=StandardScaler(), selectkbest__k=5\n",
      "[CV 1/3; 32/84] END classifier__C=1.0, classifier__class_weight=None, classifier__kernel=rbf, scaler=StandardScaler(), selectkbest__k=5;, score=0.956 total time=   1.3s\n",
      "[CV 2/3; 32/84] START classifier__C=1.0, classifier__class_weight=None, classifier__kernel=rbf, scaler=StandardScaler(), selectkbest__k=5\n",
      "[CV 2/3; 32/84] END classifier__C=1.0, classifier__class_weight=None, classifier__kernel=rbf, scaler=StandardScaler(), selectkbest__k=5;, score=0.960 total time=   1.3s\n",
      "[CV 3/3; 32/84] START classifier__C=1.0, classifier__class_weight=None, classifier__kernel=rbf, scaler=StandardScaler(), selectkbest__k=5\n",
      "[CV 3/3; 32/84] END classifier__C=1.0, classifier__class_weight=None, classifier__kernel=rbf, scaler=StandardScaler(), selectkbest__k=5;, score=0.955 total time=   1.3s\n",
      "[CV 1/3; 33/84] START classifier__C=1.0, classifier__class_weight=None, classifier__kernel=rbf, scaler=StandardScaler(), selectkbest__k=6\n",
      "[CV 1/3; 33/84] END classifier__C=1.0, classifier__class_weight=None, classifier__kernel=rbf, scaler=StandardScaler(), selectkbest__k=6;, score=0.953 total time=   1.3s\n",
      "[CV 2/3; 33/84] START classifier__C=1.0, classifier__class_weight=None, classifier__kernel=rbf, scaler=StandardScaler(), selectkbest__k=6\n",
      "[CV 2/3; 33/84] END classifier__C=1.0, classifier__class_weight=None, classifier__kernel=rbf, scaler=StandardScaler(), selectkbest__k=6;, score=0.954 total time=   1.4s\n",
      "[CV 3/3; 33/84] START classifier__C=1.0, classifier__class_weight=None, classifier__kernel=rbf, scaler=StandardScaler(), selectkbest__k=6\n",
      "[CV 3/3; 33/84] END classifier__C=1.0, classifier__class_weight=None, classifier__kernel=rbf, scaler=StandardScaler(), selectkbest__k=6;, score=0.951 total time=   1.4s\n",
      "[CV 1/3; 34/84] START classifier__C=1.0, classifier__class_weight=None, classifier__kernel=rbf, scaler=StandardScaler(), selectkbest__k=7\n",
      "[CV 1/3; 34/84] END classifier__C=1.0, classifier__class_weight=None, classifier__kernel=rbf, scaler=StandardScaler(), selectkbest__k=7;, score=0.951 total time=   1.5s\n",
      "[CV 2/3; 34/84] START classifier__C=1.0, classifier__class_weight=None, classifier__kernel=rbf, scaler=StandardScaler(), selectkbest__k=7\n",
      "[CV 2/3; 34/84] END classifier__C=1.0, classifier__class_weight=None, classifier__kernel=rbf, scaler=StandardScaler(), selectkbest__k=7;, score=0.951 total time=   1.5s\n",
      "[CV 3/3; 34/84] START classifier__C=1.0, classifier__class_weight=None, classifier__kernel=rbf, scaler=StandardScaler(), selectkbest__k=7\n",
      "[CV 3/3; 34/84] END classifier__C=1.0, classifier__class_weight=None, classifier__kernel=rbf, scaler=StandardScaler(), selectkbest__k=7;, score=0.949 total time=   1.5s\n",
      "[CV 1/3; 35/84] START classifier__C=1.0, classifier__class_weight=None, classifier__kernel=rbf, scaler=StandardScaler(), selectkbest__k=8\n",
      "[CV 1/3; 35/84] END classifier__C=1.0, classifier__class_weight=None, classifier__kernel=rbf, scaler=StandardScaler(), selectkbest__k=8;, score=0.949 total time=   1.6s\n",
      "[CV 2/3; 35/84] START classifier__C=1.0, classifier__class_weight=None, classifier__kernel=rbf, scaler=StandardScaler(), selectkbest__k=8\n",
      "[CV 2/3; 35/84] END classifier__C=1.0, classifier__class_weight=None, classifier__kernel=rbf, scaler=StandardScaler(), selectkbest__k=8;, score=0.949 total time=   1.5s\n",
      "[CV 3/3; 35/84] START classifier__C=1.0, classifier__class_weight=None, classifier__kernel=rbf, scaler=StandardScaler(), selectkbest__k=8\n",
      "[CV 3/3; 35/84] END classifier__C=1.0, classifier__class_weight=None, classifier__kernel=rbf, scaler=StandardScaler(), selectkbest__k=8;, score=0.947 total time=   1.5s\n",
      "[CV 1/3; 36/84] START classifier__C=1.0, classifier__class_weight=None, classifier__kernel=rbf, scaler=None, selectkbest__k=2\n",
      "[CV 1/3; 36/84] END classifier__C=1.0, classifier__class_weight=None, classifier__kernel=rbf, scaler=None, selectkbest__k=2;, score=0.889 total time=   2.0s\n",
      "[CV 2/3; 36/84] START classifier__C=1.0, classifier__class_weight=None, classifier__kernel=rbf, scaler=None, selectkbest__k=2\n",
      "[CV 2/3; 36/84] END classifier__C=1.0, classifier__class_weight=None, classifier__kernel=rbf, scaler=None, selectkbest__k=2;, score=0.890 total time=   1.9s\n",
      "[CV 3/3; 36/84] START classifier__C=1.0, classifier__class_weight=None, classifier__kernel=rbf, scaler=None, selectkbest__k=2\n",
      "[CV 3/3; 36/84] END classifier__C=1.0, classifier__class_weight=None, classifier__kernel=rbf, scaler=None, selectkbest__k=2;, score=0.877 total time=   1.7s\n",
      "[CV 1/3; 37/84] START classifier__C=1.0, classifier__class_weight=None, classifier__kernel=rbf, scaler=None, selectkbest__k=3\n",
      "[CV 1/3; 37/84] END classifier__C=1.0, classifier__class_weight=None, classifier__kernel=rbf, scaler=None, selectkbest__k=3;, score=0.888 total time=   1.7s\n",
      "[CV 2/3; 37/84] START classifier__C=1.0, classifier__class_weight=None, classifier__kernel=rbf, scaler=None, selectkbest__k=3\n",
      "[CV 2/3; 37/84] END classifier__C=1.0, classifier__class_weight=None, classifier__kernel=rbf, scaler=None, selectkbest__k=3;, score=0.888 total time=   1.9s\n",
      "[CV 3/3; 37/84] START classifier__C=1.0, classifier__class_weight=None, classifier__kernel=rbf, scaler=None, selectkbest__k=3\n",
      "[CV 3/3; 37/84] END classifier__C=1.0, classifier__class_weight=None, classifier__kernel=rbf, scaler=None, selectkbest__k=3;, score=0.876 total time=   2.0s\n",
      "[CV 1/3; 38/84] START classifier__C=1.0, classifier__class_weight=None, classifier__kernel=rbf, scaler=None, selectkbest__k=4\n",
      "[CV 1/3; 38/84] END classifier__C=1.0, classifier__class_weight=None, classifier__kernel=rbf, scaler=None, selectkbest__k=4;, score=0.887 total time=   1.9s\n",
      "[CV 2/3; 38/84] START classifier__C=1.0, classifier__class_weight=None, classifier__kernel=rbf, scaler=None, selectkbest__k=4\n",
      "[CV 2/3; 38/84] END classifier__C=1.0, classifier__class_weight=None, classifier__kernel=rbf, scaler=None, selectkbest__k=4;, score=0.887 total time=   1.9s\n",
      "[CV 3/3; 38/84] START classifier__C=1.0, classifier__class_weight=None, classifier__kernel=rbf, scaler=None, selectkbest__k=4\n",
      "[CV 3/3; 38/84] END classifier__C=1.0, classifier__class_weight=None, classifier__kernel=rbf, scaler=None, selectkbest__k=4;, score=0.876 total time=   1.9s\n",
      "[CV 1/3; 39/84] START classifier__C=1.0, classifier__class_weight=None, classifier__kernel=rbf, scaler=None, selectkbest__k=5\n",
      "[CV 1/3; 39/84] END classifier__C=1.0, classifier__class_weight=None, classifier__kernel=rbf, scaler=None, selectkbest__k=5;, score=0.887 total time=   1.9s\n",
      "[CV 2/3; 39/84] START classifier__C=1.0, classifier__class_weight=None, classifier__kernel=rbf, scaler=None, selectkbest__k=5\n",
      "[CV 2/3; 39/84] END classifier__C=1.0, classifier__class_weight=None, classifier__kernel=rbf, scaler=None, selectkbest__k=5;, score=0.887 total time=   1.7s\n",
      "[CV 3/3; 39/84] START classifier__C=1.0, classifier__class_weight=None, classifier__kernel=rbf, scaler=None, selectkbest__k=5\n",
      "[CV 3/3; 39/84] END classifier__C=1.0, classifier__class_weight=None, classifier__kernel=rbf, scaler=None, selectkbest__k=5;, score=0.875 total time=   1.9s\n",
      "[CV 1/3; 40/84] START classifier__C=1.0, classifier__class_weight=None, classifier__kernel=rbf, scaler=None, selectkbest__k=6\n",
      "[CV 1/3; 40/84] END classifier__C=1.0, classifier__class_weight=None, classifier__kernel=rbf, scaler=None, selectkbest__k=6;, score=0.608 total time=   4.9s\n",
      "[CV 2/3; 40/84] START classifier__C=1.0, classifier__class_weight=None, classifier__kernel=rbf, scaler=None, selectkbest__k=6\n",
      "[CV 2/3; 40/84] END classifier__C=1.0, classifier__class_weight=None, classifier__kernel=rbf, scaler=None, selectkbest__k=6;, score=0.887 total time=   1.8s\n",
      "[CV 3/3; 40/84] START classifier__C=1.0, classifier__class_weight=None, classifier__kernel=rbf, scaler=None, selectkbest__k=6\n",
      "[CV 3/3; 40/84] END classifier__C=1.0, classifier__class_weight=None, classifier__kernel=rbf, scaler=None, selectkbest__k=6;, score=0.875 total time=   2.0s\n",
      "[CV 1/3; 41/84] START classifier__C=1.0, classifier__class_weight=None, classifier__kernel=rbf, scaler=None, selectkbest__k=7\n",
      "[CV 1/3; 41/84] END classifier__C=1.0, classifier__class_weight=None, classifier__kernel=rbf, scaler=None, selectkbest__k=7;, score=0.608 total time=   5.1s\n",
      "[CV 2/3; 41/84] START classifier__C=1.0, classifier__class_weight=None, classifier__kernel=rbf, scaler=None, selectkbest__k=7\n",
      "[CV 2/3; 41/84] END classifier__C=1.0, classifier__class_weight=None, classifier__kernel=rbf, scaler=None, selectkbest__k=7;, score=0.713 total time=   4.7s\n",
      "[CV 3/3; 41/84] START classifier__C=1.0, classifier__class_weight=None, classifier__kernel=rbf, scaler=None, selectkbest__k=7\n",
      "[CV 3/3; 41/84] END classifier__C=1.0, classifier__class_weight=None, classifier__kernel=rbf, scaler=None, selectkbest__k=7;, score=0.875 total time=   1.8s\n",
      "[CV 1/3; 42/84] START classifier__C=1.0, classifier__class_weight=None, classifier__kernel=rbf, scaler=None, selectkbest__k=8\n",
      "[CV 1/3; 42/84] END classifier__C=1.0, classifier__class_weight=None, classifier__kernel=rbf, scaler=None, selectkbest__k=8;, score=0.608 total time=   4.6s\n",
      "[CV 2/3; 42/84] START classifier__C=1.0, classifier__class_weight=None, classifier__kernel=rbf, scaler=None, selectkbest__k=8\n",
      "[CV 2/3; 42/84] END classifier__C=1.0, classifier__class_weight=None, classifier__kernel=rbf, scaler=None, selectkbest__k=8;, score=0.713 total time=   4.2s\n",
      "[CV 3/3; 42/84] START classifier__C=1.0, classifier__class_weight=None, classifier__kernel=rbf, scaler=None, selectkbest__k=8\n",
      "[CV 3/3; 42/84] END classifier__C=1.0, classifier__class_weight=None, classifier__kernel=rbf, scaler=None, selectkbest__k=8;, score=0.632 total time=   4.7s\n",
      "[CV 1/3; 43/84] START classifier__C=1.0, classifier__class_weight={0: 100, 1: 1}, classifier__kernel=rbf, scaler=StandardScaler(), selectkbest__k=2\n",
      "[CV 1/3; 43/84] END classifier__C=1.0, classifier__class_weight={0: 100, 1: 1}, classifier__kernel=rbf, scaler=StandardScaler(), selectkbest__k=2;, score=0.646 total time=   1.7s\n",
      "[CV 2/3; 43/84] START classifier__C=1.0, classifier__class_weight={0: 100, 1: 1}, classifier__kernel=rbf, scaler=StandardScaler(), selectkbest__k=2\n",
      "[CV 2/3; 43/84] END classifier__C=1.0, classifier__class_weight={0: 100, 1: 1}, classifier__kernel=rbf, scaler=StandardScaler(), selectkbest__k=2;, score=0.733 total time=   1.6s\n",
      "[CV 3/3; 43/84] START classifier__C=1.0, classifier__class_weight={0: 100, 1: 1}, classifier__kernel=rbf, scaler=StandardScaler(), selectkbest__k=2\n",
      "[CV 3/3; 43/84] END classifier__C=1.0, classifier__class_weight={0: 100, 1: 1}, classifier__kernel=rbf, scaler=StandardScaler(), selectkbest__k=2;, score=0.658 total time=   1.7s\n",
      "[CV 1/3; 44/84] START classifier__C=1.0, classifier__class_weight={0: 100, 1: 1}, classifier__kernel=rbf, scaler=StandardScaler(), selectkbest__k=3\n",
      "[CV 1/3; 44/84] END classifier__C=1.0, classifier__class_weight={0: 100, 1: 1}, classifier__kernel=rbf, scaler=StandardScaler(), selectkbest__k=3;, score=0.905 total time=   1.7s\n",
      "[CV 2/3; 44/84] START classifier__C=1.0, classifier__class_weight={0: 100, 1: 1}, classifier__kernel=rbf, scaler=StandardScaler(), selectkbest__k=3\n",
      "[CV 2/3; 44/84] END classifier__C=1.0, classifier__class_weight={0: 100, 1: 1}, classifier__kernel=rbf, scaler=StandardScaler(), selectkbest__k=3;, score=0.952 total time=   1.4s\n",
      "[CV 3/3; 44/84] START classifier__C=1.0, classifier__class_weight={0: 100, 1: 1}, classifier__kernel=rbf, scaler=StandardScaler(), selectkbest__k=3\n",
      "[CV 3/3; 44/84] END classifier__C=1.0, classifier__class_weight={0: 100, 1: 1}, classifier__kernel=rbf, scaler=StandardScaler(), selectkbest__k=3;, score=0.947 total time=   1.5s\n",
      "[CV 1/3; 45/84] START classifier__C=1.0, classifier__class_weight={0: 100, 1: 1}, classifier__kernel=rbf, scaler=StandardScaler(), selectkbest__k=4\n",
      "[CV 1/3; 45/84] END classifier__C=1.0, classifier__class_weight={0: 100, 1: 1}, classifier__kernel=rbf, scaler=StandardScaler(), selectkbest__k=4;, score=0.894 total time=   1.7s\n",
      "[CV 2/3; 45/84] START classifier__C=1.0, classifier__class_weight={0: 100, 1: 1}, classifier__kernel=rbf, scaler=StandardScaler(), selectkbest__k=4\n",
      "[CV 2/3; 45/84] END classifier__C=1.0, classifier__class_weight={0: 100, 1: 1}, classifier__kernel=rbf, scaler=StandardScaler(), selectkbest__k=4;, score=0.935 total time=   1.7s\n",
      "[CV 3/3; 45/84] START classifier__C=1.0, classifier__class_weight={0: 100, 1: 1}, classifier__kernel=rbf, scaler=StandardScaler(), selectkbest__k=4\n",
      "[CV 3/3; 45/84] END classifier__C=1.0, classifier__class_weight={0: 100, 1: 1}, classifier__kernel=rbf, scaler=StandardScaler(), selectkbest__k=4;, score=0.934 total time=   1.7s\n",
      "[CV 1/3; 46/84] START classifier__C=1.0, classifier__class_weight={0: 100, 1: 1}, classifier__kernel=rbf, scaler=StandardScaler(), selectkbest__k=5\n",
      "[CV 1/3; 46/84] END classifier__C=1.0, classifier__class_weight={0: 100, 1: 1}, classifier__kernel=rbf, scaler=StandardScaler(), selectkbest__k=5;, score=0.913 total time=   1.7s\n",
      "[CV 2/3; 46/84] START classifier__C=1.0, classifier__class_weight={0: 100, 1: 1}, classifier__kernel=rbf, scaler=StandardScaler(), selectkbest__k=5\n",
      "[CV 2/3; 46/84] END classifier__C=1.0, classifier__class_weight={0: 100, 1: 1}, classifier__kernel=rbf, scaler=StandardScaler(), selectkbest__k=5;, score=0.922 total time=   1.6s\n",
      "[CV 3/3; 46/84] START classifier__C=1.0, classifier__class_weight={0: 100, 1: 1}, classifier__kernel=rbf, scaler=StandardScaler(), selectkbest__k=5\n",
      "[CV 3/3; 46/84] END classifier__C=1.0, classifier__class_weight={0: 100, 1: 1}, classifier__kernel=rbf, scaler=StandardScaler(), selectkbest__k=5;, score=0.908 total time=   1.7s\n",
      "[CV 1/3; 47/84] START classifier__C=1.0, classifier__class_weight={0: 100, 1: 1}, classifier__kernel=rbf, scaler=StandardScaler(), selectkbest__k=6\n",
      "[CV 1/3; 47/84] END classifier__C=1.0, classifier__class_weight={0: 100, 1: 1}, classifier__kernel=rbf, scaler=StandardScaler(), selectkbest__k=6;, score=0.908 total time=   1.8s\n",
      "[CV 2/3; 47/84] START classifier__C=1.0, classifier__class_weight={0: 100, 1: 1}, classifier__kernel=rbf, scaler=StandardScaler(), selectkbest__k=6\n",
      "[CV 2/3; 47/84] END classifier__C=1.0, classifier__class_weight={0: 100, 1: 1}, classifier__kernel=rbf, scaler=StandardScaler(), selectkbest__k=6;, score=0.916 total time=   1.8s\n",
      "[CV 3/3; 47/84] START classifier__C=1.0, classifier__class_weight={0: 100, 1: 1}, classifier__kernel=rbf, scaler=StandardScaler(), selectkbest__k=6\n",
      "[CV 3/3; 47/84] END classifier__C=1.0, classifier__class_weight={0: 100, 1: 1}, classifier__kernel=rbf, scaler=StandardScaler(), selectkbest__k=6;, score=0.908 total time=   1.6s\n",
      "[CV 1/3; 48/84] START classifier__C=1.0, classifier__class_weight={0: 100, 1: 1}, classifier__kernel=rbf, scaler=StandardScaler(), selectkbest__k=7\n",
      "[CV 1/3; 48/84] END classifier__C=1.0, classifier__class_weight={0: 100, 1: 1}, classifier__kernel=rbf, scaler=StandardScaler(), selectkbest__k=7;, score=0.900 total time=   1.8s\n",
      "[CV 2/3; 48/84] START classifier__C=1.0, classifier__class_weight={0: 100, 1: 1}, classifier__kernel=rbf, scaler=StandardScaler(), selectkbest__k=7\n",
      "[CV 2/3; 48/84] END classifier__C=1.0, classifier__class_weight={0: 100, 1: 1}, classifier__kernel=rbf, scaler=StandardScaler(), selectkbest__k=7;, score=0.902 total time=   2.0s\n",
      "[CV 3/3; 48/84] START classifier__C=1.0, classifier__class_weight={0: 100, 1: 1}, classifier__kernel=rbf, scaler=StandardScaler(), selectkbest__k=7\n",
      "[CV 3/3; 48/84] END classifier__C=1.0, classifier__class_weight={0: 100, 1: 1}, classifier__kernel=rbf, scaler=StandardScaler(), selectkbest__k=7;, score=0.907 total time=   1.8s\n",
      "[CV 1/3; 49/84] START classifier__C=1.0, classifier__class_weight={0: 100, 1: 1}, classifier__kernel=rbf, scaler=StandardScaler(), selectkbest__k=8\n",
      "[CV 1/3; 49/84] END classifier__C=1.0, classifier__class_weight={0: 100, 1: 1}, classifier__kernel=rbf, scaler=StandardScaler(), selectkbest__k=8;, score=0.901 total time=   1.8s\n",
      "[CV 2/3; 49/84] START classifier__C=1.0, classifier__class_weight={0: 100, 1: 1}, classifier__kernel=rbf, scaler=StandardScaler(), selectkbest__k=8\n",
      "[CV 2/3; 49/84] END classifier__C=1.0, classifier__class_weight={0: 100, 1: 1}, classifier__kernel=rbf, scaler=StandardScaler(), selectkbest__k=8;, score=0.909 total time=   1.9s\n",
      "[CV 3/3; 49/84] START classifier__C=1.0, classifier__class_weight={0: 100, 1: 1}, classifier__kernel=rbf, scaler=StandardScaler(), selectkbest__k=8\n",
      "[CV 3/3; 49/84] END classifier__C=1.0, classifier__class_weight={0: 100, 1: 1}, classifier__kernel=rbf, scaler=StandardScaler(), selectkbest__k=8;, score=0.902 total time=   1.9s\n",
      "[CV 1/3; 50/84] START classifier__C=1.0, classifier__class_weight={0: 100, 1: 1}, classifier__kernel=rbf, scaler=None, selectkbest__k=2\n",
      "[CV 1/3; 50/84] END classifier__C=1.0, classifier__class_weight={0: 100, 1: 1}, classifier__kernel=rbf, scaler=None, selectkbest__k=2;, score=0.849 total time=   2.0s\n",
      "[CV 2/3; 50/84] START classifier__C=1.0, classifier__class_weight={0: 100, 1: 1}, classifier__kernel=rbf, scaler=None, selectkbest__k=2\n",
      "[CV 2/3; 50/84] END classifier__C=1.0, classifier__class_weight={0: 100, 1: 1}, classifier__kernel=rbf, scaler=None, selectkbest__k=2;, score=0.830 total time=   1.8s\n",
      "[CV 3/3; 50/84] START classifier__C=1.0, classifier__class_weight={0: 100, 1: 1}, classifier__kernel=rbf, scaler=None, selectkbest__k=2\n",
      "[CV 3/3; 50/84] END classifier__C=1.0, classifier__class_weight={0: 100, 1: 1}, classifier__kernel=rbf, scaler=None, selectkbest__k=2;, score=0.851 total time=   1.8s\n",
      "[CV 1/3; 51/84] START classifier__C=1.0, classifier__class_weight={0: 100, 1: 1}, classifier__kernel=rbf, scaler=None, selectkbest__k=3\n",
      "[CV 1/3; 51/84] END classifier__C=1.0, classifier__class_weight={0: 100, 1: 1}, classifier__kernel=rbf, scaler=None, selectkbest__k=3;, score=0.813 total time=   2.0s\n",
      "[CV 2/3; 51/84] START classifier__C=1.0, classifier__class_weight={0: 100, 1: 1}, classifier__kernel=rbf, scaler=None, selectkbest__k=3\n",
      "[CV 2/3; 51/84] END classifier__C=1.0, classifier__class_weight={0: 100, 1: 1}, classifier__kernel=rbf, scaler=None, selectkbest__k=3;, score=0.819 total time=   1.8s\n",
      "[CV 3/3; 51/84] START classifier__C=1.0, classifier__class_weight={0: 100, 1: 1}, classifier__kernel=rbf, scaler=None, selectkbest__k=3\n",
      "[CV 3/3; 51/84] END classifier__C=1.0, classifier__class_weight={0: 100, 1: 1}, classifier__kernel=rbf, scaler=None, selectkbest__k=3;, score=0.852 total time=   1.9s\n",
      "[CV 1/3; 52/84] START classifier__C=1.0, classifier__class_weight={0: 100, 1: 1}, classifier__kernel=rbf, scaler=None, selectkbest__k=4\n",
      "[CV 1/3; 52/84] END classifier__C=1.0, classifier__class_weight={0: 100, 1: 1}, classifier__kernel=rbf, scaler=None, selectkbest__k=4;, score=0.810 total time=   2.1s\n",
      "[CV 2/3; 52/84] START classifier__C=1.0, classifier__class_weight={0: 100, 1: 1}, classifier__kernel=rbf, scaler=None, selectkbest__k=4\n",
      "[CV 2/3; 52/84] END classifier__C=1.0, classifier__class_weight={0: 100, 1: 1}, classifier__kernel=rbf, scaler=None, selectkbest__k=4;, score=0.822 total time=   1.9s\n",
      "[CV 3/3; 52/84] START classifier__C=1.0, classifier__class_weight={0: 100, 1: 1}, classifier__kernel=rbf, scaler=None, selectkbest__k=4\n",
      "[CV 3/3; 52/84] END classifier__C=1.0, classifier__class_weight={0: 100, 1: 1}, classifier__kernel=rbf, scaler=None, selectkbest__k=4;, score=0.848 total time=   2.1s\n",
      "[CV 1/3; 53/84] START classifier__C=1.0, classifier__class_weight={0: 100, 1: 1}, classifier__kernel=rbf, scaler=None, selectkbest__k=5\n",
      "[CV 1/3; 53/84] END classifier__C=1.0, classifier__class_weight={0: 100, 1: 1}, classifier__kernel=rbf, scaler=None, selectkbest__k=5;, score=0.808 total time=   2.1s\n",
      "[CV 2/3; 53/84] START classifier__C=1.0, classifier__class_weight={0: 100, 1: 1}, classifier__kernel=rbf, scaler=None, selectkbest__k=5\n",
      "[CV 2/3; 53/84] END classifier__C=1.0, classifier__class_weight={0: 100, 1: 1}, classifier__kernel=rbf, scaler=None, selectkbest__k=5;, score=0.830 total time=   2.0s\n",
      "[CV 3/3; 53/84] START classifier__C=1.0, classifier__class_weight={0: 100, 1: 1}, classifier__kernel=rbf, scaler=None, selectkbest__k=5\n",
      "[CV 3/3; 53/84] END classifier__C=1.0, classifier__class_weight={0: 100, 1: 1}, classifier__kernel=rbf, scaler=None, selectkbest__k=5;, score=0.851 total time=   2.1s\n",
      "[CV 1/3; 54/84] START classifier__C=1.0, classifier__class_weight={0: 100, 1: 1}, classifier__kernel=rbf, scaler=None, selectkbest__k=6\n",
      "[CV 1/3; 54/84] END classifier__C=1.0, classifier__class_weight={0: 100, 1: 1}, classifier__kernel=rbf, scaler=None, selectkbest__k=6;, score=0.482 total time=   2.6s\n",
      "[CV 2/3; 54/84] START classifier__C=1.0, classifier__class_weight={0: 100, 1: 1}, classifier__kernel=rbf, scaler=None, selectkbest__k=6\n",
      "[CV 2/3; 54/84] END classifier__C=1.0, classifier__class_weight={0: 100, 1: 1}, classifier__kernel=rbf, scaler=None, selectkbest__k=6;, score=0.805 total time=   2.1s\n",
      "[CV 3/3; 54/84] START classifier__C=1.0, classifier__class_weight={0: 100, 1: 1}, classifier__kernel=rbf, scaler=None, selectkbest__k=6\n",
      "[CV 3/3; 54/84] END classifier__C=1.0, classifier__class_weight={0: 100, 1: 1}, classifier__kernel=rbf, scaler=None, selectkbest__k=6;, score=0.853 total time=   2.0s\n",
      "[CV 1/3; 55/84] START classifier__C=1.0, classifier__class_weight={0: 100, 1: 1}, classifier__kernel=rbf, scaler=None, selectkbest__k=7\n",
      "[CV 1/3; 55/84] END classifier__C=1.0, classifier__class_weight={0: 100, 1: 1}, classifier__kernel=rbf, scaler=None, selectkbest__k=7;, score=0.467 total time=   2.2s\n",
      "[CV 2/3; 55/84] START classifier__C=1.0, classifier__class_weight={0: 100, 1: 1}, classifier__kernel=rbf, scaler=None, selectkbest__k=7\n",
      "[CV 2/3; 55/84] END classifier__C=1.0, classifier__class_weight={0: 100, 1: 1}, classifier__kernel=rbf, scaler=None, selectkbest__k=7;, score=0.600 total time=   2.1s\n",
      "[CV 3/3; 55/84] START classifier__C=1.0, classifier__class_weight={0: 100, 1: 1}, classifier__kernel=rbf, scaler=None, selectkbest__k=7\n",
      "[CV 3/3; 55/84] END classifier__C=1.0, classifier__class_weight={0: 100, 1: 1}, classifier__kernel=rbf, scaler=None, selectkbest__k=7;, score=0.845 total time=   2.1s\n",
      "[CV 1/3; 56/84] START classifier__C=1.0, classifier__class_weight={0: 100, 1: 1}, classifier__kernel=rbf, scaler=None, selectkbest__k=8\n",
      "[CV 1/3; 56/84] END classifier__C=1.0, classifier__class_weight={0: 100, 1: 1}, classifier__kernel=rbf, scaler=None, selectkbest__k=8;, score=0.434 total time=   2.1s\n",
      "[CV 2/3; 56/84] START classifier__C=1.0, classifier__class_weight={0: 100, 1: 1}, classifier__kernel=rbf, scaler=None, selectkbest__k=8\n",
      "[CV 2/3; 56/84] END classifier__C=1.0, classifier__class_weight={0: 100, 1: 1}, classifier__kernel=rbf, scaler=None, selectkbest__k=8;, score=0.465 total time=   2.2s\n",
      "[CV 3/3; 56/84] START classifier__C=1.0, classifier__class_weight={0: 100, 1: 1}, classifier__kernel=rbf, scaler=None, selectkbest__k=8\n",
      "[CV 3/3; 56/84] END classifier__C=1.0, classifier__class_weight={0: 100, 1: 1}, classifier__kernel=rbf, scaler=None, selectkbest__k=8;, score=0.577 total time=   2.2s\n",
      "[CV 1/3; 57/84] START classifier__C=10.0, classifier__class_weight=None, classifier__kernel=rbf, scaler=StandardScaler(), selectkbest__k=2\n",
      "[CV 1/3; 57/84] END classifier__C=10.0, classifier__class_weight=None, classifier__kernel=rbf, scaler=StandardScaler(), selectkbest__k=2;, score=0.941 total time=   1.2s\n",
      "[CV 2/3; 57/84] START classifier__C=10.0, classifier__class_weight=None, classifier__kernel=rbf, scaler=StandardScaler(), selectkbest__k=2\n",
      "[CV 2/3; 57/84] END classifier__C=10.0, classifier__class_weight=None, classifier__kernel=rbf, scaler=StandardScaler(), selectkbest__k=2;, score=0.943 total time=   1.2s\n",
      "[CV 3/3; 57/84] START classifier__C=10.0, classifier__class_weight=None, classifier__kernel=rbf, scaler=StandardScaler(), selectkbest__k=2\n",
      "[CV 3/3; 57/84] END classifier__C=10.0, classifier__class_weight=None, classifier__kernel=rbf, scaler=StandardScaler(), selectkbest__k=2;, score=0.944 total time=   1.1s\n",
      "[CV 1/3; 58/84] START classifier__C=10.0, classifier__class_weight=None, classifier__kernel=rbf, scaler=StandardScaler(), selectkbest__k=3\n",
      "[CV 1/3; 58/84] END classifier__C=10.0, classifier__class_weight=None, classifier__kernel=rbf, scaler=StandardScaler(), selectkbest__k=3;, score=0.962 total time=   0.9s\n",
      "[CV 2/3; 58/84] START classifier__C=10.0, classifier__class_weight=None, classifier__kernel=rbf, scaler=StandardScaler(), selectkbest__k=3\n",
      "[CV 2/3; 58/84] END classifier__C=10.0, classifier__class_weight=None, classifier__kernel=rbf, scaler=StandardScaler(), selectkbest__k=3;, score=0.970 total time=   0.9s\n",
      "[CV 3/3; 58/84] START classifier__C=10.0, classifier__class_weight=None, classifier__kernel=rbf, scaler=StandardScaler(), selectkbest__k=3\n",
      "[CV 3/3; 58/84] END classifier__C=10.0, classifier__class_weight=None, classifier__kernel=rbf, scaler=StandardScaler(), selectkbest__k=3;, score=0.967 total time=   0.9s\n",
      "[CV 1/3; 59/84] START classifier__C=10.0, classifier__class_weight=None, classifier__kernel=rbf, scaler=StandardScaler(), selectkbest__k=4\n",
      "[CV 1/3; 59/84] END classifier__C=10.0, classifier__class_weight=None, classifier__kernel=rbf, scaler=StandardScaler(), selectkbest__k=4;, score=0.963 total time=   1.0s\n",
      "[CV 2/3; 59/84] START classifier__C=10.0, classifier__class_weight=None, classifier__kernel=rbf, scaler=StandardScaler(), selectkbest__k=4\n",
      "[CV 2/3; 59/84] END classifier__C=10.0, classifier__class_weight=None, classifier__kernel=rbf, scaler=StandardScaler(), selectkbest__k=4;, score=0.969 total time=   1.1s\n",
      "[CV 3/3; 59/84] START classifier__C=10.0, classifier__class_weight=None, classifier__kernel=rbf, scaler=StandardScaler(), selectkbest__k=4\n",
      "[CV 3/3; 59/84] END classifier__C=10.0, classifier__class_weight=None, classifier__kernel=rbf, scaler=StandardScaler(), selectkbest__k=4;, score=0.966 total time=   1.0s\n",
      "[CV 1/3; 60/84] START classifier__C=10.0, classifier__class_weight=None, classifier__kernel=rbf, scaler=StandardScaler(), selectkbest__k=5\n",
      "[CV 1/3; 60/84] END classifier__C=10.0, classifier__class_weight=None, classifier__kernel=rbf, scaler=StandardScaler(), selectkbest__k=5;, score=0.963 total time=   2.7s\n",
      "[CV 2/3; 60/84] START classifier__C=10.0, classifier__class_weight=None, classifier__kernel=rbf, scaler=StandardScaler(), selectkbest__k=5\n",
      "[CV 2/3; 60/84] END classifier__C=10.0, classifier__class_weight=None, classifier__kernel=rbf, scaler=StandardScaler(), selectkbest__k=5;, score=0.969 total time=   1.2s\n",
      "[CV 3/3; 60/84] START classifier__C=10.0, classifier__class_weight=None, classifier__kernel=rbf, scaler=StandardScaler(), selectkbest__k=5\n",
      "[CV 3/3; 60/84] END classifier__C=10.0, classifier__class_weight=None, classifier__kernel=rbf, scaler=StandardScaler(), selectkbest__k=5;, score=0.964 total time=   1.1s\n",
      "[CV 1/3; 61/84] START classifier__C=10.0, classifier__class_weight=None, classifier__kernel=rbf, scaler=StandardScaler(), selectkbest__k=6\n",
      "[CV 1/3; 61/84] END classifier__C=10.0, classifier__class_weight=None, classifier__kernel=rbf, scaler=StandardScaler(), selectkbest__k=6;, score=0.961 total time=   1.2s\n",
      "[CV 2/3; 61/84] START classifier__C=10.0, classifier__class_weight=None, classifier__kernel=rbf, scaler=StandardScaler(), selectkbest__k=6\n",
      "[CV 2/3; 61/84] END classifier__C=10.0, classifier__class_weight=None, classifier__kernel=rbf, scaler=StandardScaler(), selectkbest__k=6;, score=0.966 total time=   1.3s\n",
      "[CV 3/3; 61/84] START classifier__C=10.0, classifier__class_weight=None, classifier__kernel=rbf, scaler=StandardScaler(), selectkbest__k=6\n",
      "[CV 3/3; 61/84] END classifier__C=10.0, classifier__class_weight=None, classifier__kernel=rbf, scaler=StandardScaler(), selectkbest__k=6;, score=0.961 total time=   1.3s\n",
      "[CV 1/3; 62/84] START classifier__C=10.0, classifier__class_weight=None, classifier__kernel=rbf, scaler=StandardScaler(), selectkbest__k=7\n",
      "[CV 1/3; 62/84] END classifier__C=10.0, classifier__class_weight=None, classifier__kernel=rbf, scaler=StandardScaler(), selectkbest__k=7;, score=0.959 total time=   1.3s\n",
      "[CV 2/3; 62/84] START classifier__C=10.0, classifier__class_weight=None, classifier__kernel=rbf, scaler=StandardScaler(), selectkbest__k=7\n",
      "[CV 2/3; 62/84] END classifier__C=10.0, classifier__class_weight=None, classifier__kernel=rbf, scaler=StandardScaler(), selectkbest__k=7;, score=0.964 total time=   1.4s\n",
      "[CV 3/3; 62/84] START classifier__C=10.0, classifier__class_weight=None, classifier__kernel=rbf, scaler=StandardScaler(), selectkbest__k=7\n",
      "[CV 3/3; 62/84] END classifier__C=10.0, classifier__class_weight=None, classifier__kernel=rbf, scaler=StandardScaler(), selectkbest__k=7;, score=0.958 total time=   1.4s\n",
      "[CV 1/3; 63/84] START classifier__C=10.0, classifier__class_weight=None, classifier__kernel=rbf, scaler=StandardScaler(), selectkbest__k=8\n",
      "[CV 1/3; 63/84] END classifier__C=10.0, classifier__class_weight=None, classifier__kernel=rbf, scaler=StandardScaler(), selectkbest__k=8;, score=0.956 total time=   1.5s\n",
      "[CV 2/3; 63/84] START classifier__C=10.0, classifier__class_weight=None, classifier__kernel=rbf, scaler=StandardScaler(), selectkbest__k=8\n",
      "[CV 2/3; 63/84] END classifier__C=10.0, classifier__class_weight=None, classifier__kernel=rbf, scaler=StandardScaler(), selectkbest__k=8;, score=0.960 total time=   1.5s\n",
      "[CV 3/3; 63/84] START classifier__C=10.0, classifier__class_weight=None, classifier__kernel=rbf, scaler=StandardScaler(), selectkbest__k=8\n",
      "[CV 3/3; 63/84] END classifier__C=10.0, classifier__class_weight=None, classifier__kernel=rbf, scaler=StandardScaler(), selectkbest__k=8;, score=0.954 total time=   1.5s\n",
      "[CV 1/3; 64/84] START classifier__C=10.0, classifier__class_weight=None, classifier__kernel=rbf, scaler=None, selectkbest__k=2\n",
      "[CV 1/3; 64/84] END classifier__C=10.0, classifier__class_weight=None, classifier__kernel=rbf, scaler=None, selectkbest__k=2;, score=0.896 total time=   1.6s\n",
      "[CV 2/3; 64/84] START classifier__C=10.0, classifier__class_weight=None, classifier__kernel=rbf, scaler=None, selectkbest__k=2\n",
      "[CV 2/3; 64/84] END classifier__C=10.0, classifier__class_weight=None, classifier__kernel=rbf, scaler=None, selectkbest__k=2;, score=0.899 total time=   1.6s\n",
      "[CV 3/3; 64/84] START classifier__C=10.0, classifier__class_weight=None, classifier__kernel=rbf, scaler=None, selectkbest__k=2\n",
      "[CV 3/3; 64/84] END classifier__C=10.0, classifier__class_weight=None, classifier__kernel=rbf, scaler=None, selectkbest__k=2;, score=0.889 total time=   1.5s\n",
      "[CV 1/3; 65/84] START classifier__C=10.0, classifier__class_weight=None, classifier__kernel=rbf, scaler=None, selectkbest__k=3\n",
      "[CV 1/3; 65/84] END classifier__C=10.0, classifier__class_weight=None, classifier__kernel=rbf, scaler=None, selectkbest__k=3;, score=0.894 total time=   1.6s\n",
      "[CV 2/3; 65/84] START classifier__C=10.0, classifier__class_weight=None, classifier__kernel=rbf, scaler=None, selectkbest__k=3\n",
      "[CV 2/3; 65/84] END classifier__C=10.0, classifier__class_weight=None, classifier__kernel=rbf, scaler=None, selectkbest__k=3;, score=0.896 total time=   1.7s\n",
      "[CV 3/3; 65/84] START classifier__C=10.0, classifier__class_weight=None, classifier__kernel=rbf, scaler=None, selectkbest__k=3\n",
      "[CV 3/3; 65/84] END classifier__C=10.0, classifier__class_weight=None, classifier__kernel=rbf, scaler=None, selectkbest__k=3;, score=0.884 total time=   1.6s\n",
      "[CV 1/3; 66/84] START classifier__C=10.0, classifier__class_weight=None, classifier__kernel=rbf, scaler=None, selectkbest__k=4\n",
      "[CV 1/3; 66/84] END classifier__C=10.0, classifier__class_weight=None, classifier__kernel=rbf, scaler=None, selectkbest__k=4;, score=0.893 total time=   1.7s\n",
      "[CV 2/3; 66/84] START classifier__C=10.0, classifier__class_weight=None, classifier__kernel=rbf, scaler=None, selectkbest__k=4\n",
      "[CV 2/3; 66/84] END classifier__C=10.0, classifier__class_weight=None, classifier__kernel=rbf, scaler=None, selectkbest__k=4;, score=0.895 total time=   1.6s\n",
      "[CV 3/3; 66/84] START classifier__C=10.0, classifier__class_weight=None, classifier__kernel=rbf, scaler=None, selectkbest__k=4\n",
      "[CV 3/3; 66/84] END classifier__C=10.0, classifier__class_weight=None, classifier__kernel=rbf, scaler=None, selectkbest__k=4;, score=0.884 total time=   1.6s\n",
      "[CV 1/3; 67/84] START classifier__C=10.0, classifier__class_weight=None, classifier__kernel=rbf, scaler=None, selectkbest__k=5\n",
      "[CV 1/3; 67/84] END classifier__C=10.0, classifier__class_weight=None, classifier__kernel=rbf, scaler=None, selectkbest__k=5;, score=0.893 total time=   1.8s\n",
      "[CV 2/3; 67/84] START classifier__C=10.0, classifier__class_weight=None, classifier__kernel=rbf, scaler=None, selectkbest__k=5\n",
      "[CV 2/3; 67/84] END classifier__C=10.0, classifier__class_weight=None, classifier__kernel=rbf, scaler=None, selectkbest__k=5;, score=0.895 total time=   1.7s\n",
      "[CV 3/3; 67/84] START classifier__C=10.0, classifier__class_weight=None, classifier__kernel=rbf, scaler=None, selectkbest__k=5\n",
      "[CV 3/3; 67/84] END classifier__C=10.0, classifier__class_weight=None, classifier__kernel=rbf, scaler=None, selectkbest__k=5;, score=0.884 total time=   1.7s\n",
      "[CV 1/3; 68/84] START classifier__C=10.0, classifier__class_weight=None, classifier__kernel=rbf, scaler=None, selectkbest__k=6\n",
      "[CV 1/3; 68/84] END classifier__C=10.0, classifier__class_weight=None, classifier__kernel=rbf, scaler=None, selectkbest__k=6;, score=0.737 total time=   4.4s\n",
      "[CV 2/3; 68/84] START classifier__C=10.0, classifier__class_weight=None, classifier__kernel=rbf, scaler=None, selectkbest__k=6\n",
      "[CV 2/3; 68/84] END classifier__C=10.0, classifier__class_weight=None, classifier__kernel=rbf, scaler=None, selectkbest__k=6;, score=0.894 total time=   1.7s\n",
      "[CV 3/3; 68/84] START classifier__C=10.0, classifier__class_weight=None, classifier__kernel=rbf, scaler=None, selectkbest__k=6\n",
      "[CV 3/3; 68/84] END classifier__C=10.0, classifier__class_weight=None, classifier__kernel=rbf, scaler=None, selectkbest__k=6;, score=0.884 total time=   1.6s\n",
      "[CV 1/3; 69/84] START classifier__C=10.0, classifier__class_weight=None, classifier__kernel=rbf, scaler=None, selectkbest__k=7\n",
      "[CV 1/3; 69/84] END classifier__C=10.0, classifier__class_weight=None, classifier__kernel=rbf, scaler=None, selectkbest__k=7;, score=0.737 total time=   4.2s\n",
      "[CV 2/3; 69/84] START classifier__C=10.0, classifier__class_weight=None, classifier__kernel=rbf, scaler=None, selectkbest__k=7\n",
      "[CV 2/3; 69/84] END classifier__C=10.0, classifier__class_weight=None, classifier__kernel=rbf, scaler=None, selectkbest__k=7;, score=0.746 total time=   4.4s\n",
      "[CV 3/3; 69/84] START classifier__C=10.0, classifier__class_weight=None, classifier__kernel=rbf, scaler=None, selectkbest__k=7\n",
      "[CV 3/3; 69/84] END classifier__C=10.0, classifier__class_weight=None, classifier__kernel=rbf, scaler=None, selectkbest__k=7;, score=0.883 total time=   1.7s\n",
      "[CV 1/3; 70/84] START classifier__C=10.0, classifier__class_weight=None, classifier__kernel=rbf, scaler=None, selectkbest__k=8\n",
      "[CV 1/3; 70/84] END classifier__C=10.0, classifier__class_weight=None, classifier__kernel=rbf, scaler=None, selectkbest__k=8;, score=0.737 total time=   4.3s\n",
      "[CV 2/3; 70/84] START classifier__C=10.0, classifier__class_weight=None, classifier__kernel=rbf, scaler=None, selectkbest__k=8\n",
      "[CV 2/3; 70/84] END classifier__C=10.0, classifier__class_weight=None, classifier__kernel=rbf, scaler=None, selectkbest__k=8;, score=0.746 total time=   4.4s\n",
      "[CV 3/3; 70/84] START classifier__C=10.0, classifier__class_weight=None, classifier__kernel=rbf, scaler=None, selectkbest__k=8\n",
      "[CV 3/3; 70/84] END classifier__C=10.0, classifier__class_weight=None, classifier__kernel=rbf, scaler=None, selectkbest__k=8;, score=0.724 total time=   4.4s\n",
      "[CV 1/3; 71/84] START classifier__C=10.0, classifier__class_weight={0: 100, 1: 1}, classifier__kernel=rbf, scaler=StandardScaler(), selectkbest__k=2\n",
      "[CV 1/3; 71/84] END classifier__C=10.0, classifier__class_weight={0: 100, 1: 1}, classifier__kernel=rbf, scaler=StandardScaler(), selectkbest__k=2;, score=0.822 total time=   2.2s\n",
      "[CV 2/3; 71/84] START classifier__C=10.0, classifier__class_weight={0: 100, 1: 1}, classifier__kernel=rbf, scaler=StandardScaler(), selectkbest__k=2\n",
      "[CV 2/3; 71/84] END classifier__C=10.0, classifier__class_weight={0: 100, 1: 1}, classifier__kernel=rbf, scaler=StandardScaler(), selectkbest__k=2;, score=0.715 total time=   2.2s\n",
      "[CV 3/3; 71/84] START classifier__C=10.0, classifier__class_weight={0: 100, 1: 1}, classifier__kernel=rbf, scaler=StandardScaler(), selectkbest__k=2\n",
      "[CV 3/3; 71/84] END classifier__C=10.0, classifier__class_weight={0: 100, 1: 1}, classifier__kernel=rbf, scaler=StandardScaler(), selectkbest__k=2;, score=0.849 total time=   2.4s\n",
      "[CV 1/3; 72/84] START classifier__C=10.0, classifier__class_weight={0: 100, 1: 1}, classifier__kernel=rbf, scaler=StandardScaler(), selectkbest__k=3\n",
      "[CV 1/3; 72/84] END classifier__C=10.0, classifier__class_weight={0: 100, 1: 1}, classifier__kernel=rbf, scaler=StandardScaler(), selectkbest__k=3;, score=0.962 total time=   1.3s\n",
      "[CV 2/3; 72/84] START classifier__C=10.0, classifier__class_weight={0: 100, 1: 1}, classifier__kernel=rbf, scaler=StandardScaler(), selectkbest__k=3\n",
      "[CV 2/3; 72/84] END classifier__C=10.0, classifier__class_weight={0: 100, 1: 1}, classifier__kernel=rbf, scaler=StandardScaler(), selectkbest__k=3;, score=0.958 total time=   1.3s\n",
      "[CV 3/3; 72/84] START classifier__C=10.0, classifier__class_weight={0: 100, 1: 1}, classifier__kernel=rbf, scaler=StandardScaler(), selectkbest__k=3\n",
      "[CV 3/3; 72/84] END classifier__C=10.0, classifier__class_weight={0: 100, 1: 1}, classifier__kernel=rbf, scaler=StandardScaler(), selectkbest__k=3;, score=0.950 total time=   1.3s\n",
      "[CV 1/3; 73/84] START classifier__C=10.0, classifier__class_weight={0: 100, 1: 1}, classifier__kernel=rbf, scaler=StandardScaler(), selectkbest__k=4\n",
      "[CV 1/3; 73/84] END classifier__C=10.0, classifier__class_weight={0: 100, 1: 1}, classifier__kernel=rbf, scaler=StandardScaler(), selectkbest__k=4;, score=0.939 total time=   1.8s\n",
      "[CV 2/3; 73/84] START classifier__C=10.0, classifier__class_weight={0: 100, 1: 1}, classifier__kernel=rbf, scaler=StandardScaler(), selectkbest__k=4\n",
      "[CV 2/3; 73/84] END classifier__C=10.0, classifier__class_weight={0: 100, 1: 1}, classifier__kernel=rbf, scaler=StandardScaler(), selectkbest__k=4;, score=0.955 total time=   1.6s\n",
      "[CV 3/3; 73/84] START classifier__C=10.0, classifier__class_weight={0: 100, 1: 1}, classifier__kernel=rbf, scaler=StandardScaler(), selectkbest__k=4\n",
      "[CV 3/3; 73/84] END classifier__C=10.0, classifier__class_weight={0: 100, 1: 1}, classifier__kernel=rbf, scaler=StandardScaler(), selectkbest__k=4;, score=0.949 total time=   1.4s\n",
      "[CV 1/3; 74/84] START classifier__C=10.0, classifier__class_weight={0: 100, 1: 1}, classifier__kernel=rbf, scaler=StandardScaler(), selectkbest__k=5\n",
      "[CV 1/3; 74/84] END classifier__C=10.0, classifier__class_weight={0: 100, 1: 1}, classifier__kernel=rbf, scaler=StandardScaler(), selectkbest__k=5;, score=0.940 total time=   1.7s\n",
      "[CV 2/3; 74/84] START classifier__C=10.0, classifier__class_weight={0: 100, 1: 1}, classifier__kernel=rbf, scaler=StandardScaler(), selectkbest__k=5\n",
      "[CV 2/3; 74/84] END classifier__C=10.0, classifier__class_weight={0: 100, 1: 1}, classifier__kernel=rbf, scaler=StandardScaler(), selectkbest__k=5;, score=0.952 total time=   1.7s\n",
      "[CV 3/3; 74/84] START classifier__C=10.0, classifier__class_weight={0: 100, 1: 1}, classifier__kernel=rbf, scaler=StandardScaler(), selectkbest__k=5\n",
      "[CV 3/3; 74/84] END classifier__C=10.0, classifier__class_weight={0: 100, 1: 1}, classifier__kernel=rbf, scaler=StandardScaler(), selectkbest__k=5;, score=0.950 total time=   1.7s\n",
      "[CV 1/3; 75/84] START classifier__C=10.0, classifier__class_weight={0: 100, 1: 1}, classifier__kernel=rbf, scaler=StandardScaler(), selectkbest__k=6\n",
      "[CV 1/3; 75/84] END classifier__C=10.0, classifier__class_weight={0: 100, 1: 1}, classifier__kernel=rbf, scaler=StandardScaler(), selectkbest__k=6;, score=0.936 total time=   1.8s\n",
      "[CV 2/3; 75/84] START classifier__C=10.0, classifier__class_weight={0: 100, 1: 1}, classifier__kernel=rbf, scaler=StandardScaler(), selectkbest__k=6\n",
      "[CV 2/3; 75/84] END classifier__C=10.0, classifier__class_weight={0: 100, 1: 1}, classifier__kernel=rbf, scaler=StandardScaler(), selectkbest__k=6;, score=0.950 total time=   1.9s\n",
      "[CV 3/3; 75/84] START classifier__C=10.0, classifier__class_weight={0: 100, 1: 1}, classifier__kernel=rbf, scaler=StandardScaler(), selectkbest__k=6\n",
      "[CV 3/3; 75/84] END classifier__C=10.0, classifier__class_weight={0: 100, 1: 1}, classifier__kernel=rbf, scaler=StandardScaler(), selectkbest__k=6;, score=0.940 total time=   1.7s\n",
      "[CV 1/3; 76/84] START classifier__C=10.0, classifier__class_weight={0: 100, 1: 1}, classifier__kernel=rbf, scaler=StandardScaler(), selectkbest__k=7\n",
      "[CV 1/3; 76/84] END classifier__C=10.0, classifier__class_weight={0: 100, 1: 1}, classifier__kernel=rbf, scaler=StandardScaler(), selectkbest__k=7;, score=0.936 total time=   1.9s\n",
      "[CV 2/3; 76/84] START classifier__C=10.0, classifier__class_weight={0: 100, 1: 1}, classifier__kernel=rbf, scaler=StandardScaler(), selectkbest__k=7\n",
      "[CV 2/3; 76/84] END classifier__C=10.0, classifier__class_weight={0: 100, 1: 1}, classifier__kernel=rbf, scaler=StandardScaler(), selectkbest__k=7;, score=0.942 total time=   1.9s\n",
      "[CV 3/3; 76/84] START classifier__C=10.0, classifier__class_weight={0: 100, 1: 1}, classifier__kernel=rbf, scaler=StandardScaler(), selectkbest__k=7\n",
      "[CV 3/3; 76/84] END classifier__C=10.0, classifier__class_weight={0: 100, 1: 1}, classifier__kernel=rbf, scaler=StandardScaler(), selectkbest__k=7;, score=0.929 total time=   1.8s\n",
      "[CV 1/3; 77/84] START classifier__C=10.0, classifier__class_weight={0: 100, 1: 1}, classifier__kernel=rbf, scaler=StandardScaler(), selectkbest__k=8\n",
      "[CV 1/3; 77/84] END classifier__C=10.0, classifier__class_weight={0: 100, 1: 1}, classifier__kernel=rbf, scaler=StandardScaler(), selectkbest__k=8;, score=0.930 total time=   1.9s\n",
      "[CV 2/3; 77/84] START classifier__C=10.0, classifier__class_weight={0: 100, 1: 1}, classifier__kernel=rbf, scaler=StandardScaler(), selectkbest__k=8\n",
      "[CV 2/3; 77/84] END classifier__C=10.0, classifier__class_weight={0: 100, 1: 1}, classifier__kernel=rbf, scaler=StandardScaler(), selectkbest__k=8;, score=0.939 total time=   2.1s\n",
      "[CV 3/3; 77/84] START classifier__C=10.0, classifier__class_weight={0: 100, 1: 1}, classifier__kernel=rbf, scaler=StandardScaler(), selectkbest__k=8\n",
      "[CV 3/3; 77/84] END classifier__C=10.0, classifier__class_weight={0: 100, 1: 1}, classifier__kernel=rbf, scaler=StandardScaler(), selectkbest__k=8;, score=0.925 total time=   2.0s\n",
      "[CV 1/3; 78/84] START classifier__C=10.0, classifier__class_weight={0: 100, 1: 1}, classifier__kernel=rbf, scaler=None, selectkbest__k=2\n",
      "[CV 1/3; 78/84] END classifier__C=10.0, classifier__class_weight={0: 100, 1: 1}, classifier__kernel=rbf, scaler=None, selectkbest__k=2;, score=0.871 total time=   2.3s\n",
      "[CV 2/3; 78/84] START classifier__C=10.0, classifier__class_weight={0: 100, 1: 1}, classifier__kernel=rbf, scaler=None, selectkbest__k=2\n",
      "[CV 2/3; 78/84] END classifier__C=10.0, classifier__class_weight={0: 100, 1: 1}, classifier__kernel=rbf, scaler=None, selectkbest__k=2;, score=0.787 total time=   2.4s\n",
      "[CV 3/3; 78/84] START classifier__C=10.0, classifier__class_weight={0: 100, 1: 1}, classifier__kernel=rbf, scaler=None, selectkbest__k=2\n",
      "[CV 3/3; 78/84] END classifier__C=10.0, classifier__class_weight={0: 100, 1: 1}, classifier__kernel=rbf, scaler=None, selectkbest__k=2;, score=0.845 total time=   2.1s\n",
      "[CV 1/3; 79/84] START classifier__C=10.0, classifier__class_weight={0: 100, 1: 1}, classifier__kernel=rbf, scaler=None, selectkbest__k=3\n",
      "[CV 1/3; 79/84] END classifier__C=10.0, classifier__class_weight={0: 100, 1: 1}, classifier__kernel=rbf, scaler=None, selectkbest__k=3;, score=0.882 total time=   2.3s\n",
      "[CV 2/3; 79/84] START classifier__C=10.0, classifier__class_weight={0: 100, 1: 1}, classifier__kernel=rbf, scaler=None, selectkbest__k=3\n",
      "[CV 2/3; 79/84] END classifier__C=10.0, classifier__class_weight={0: 100, 1: 1}, classifier__kernel=rbf, scaler=None, selectkbest__k=3;, score=0.834 total time=   2.3s\n",
      "[CV 3/3; 79/84] START classifier__C=10.0, classifier__class_weight={0: 100, 1: 1}, classifier__kernel=rbf, scaler=None, selectkbest__k=3\n",
      "[CV 3/3; 79/84] END classifier__C=10.0, classifier__class_weight={0: 100, 1: 1}, classifier__kernel=rbf, scaler=None, selectkbest__k=3;, score=0.865 total time=   2.2s\n",
      "[CV 1/3; 80/84] START classifier__C=10.0, classifier__class_weight={0: 100, 1: 1}, classifier__kernel=rbf, scaler=None, selectkbest__k=4\n",
      "[CV 1/3; 80/84] END classifier__C=10.0, classifier__class_weight={0: 100, 1: 1}, classifier__kernel=rbf, scaler=None, selectkbest__k=4;, score=0.881 total time=   2.3s\n",
      "[CV 2/3; 80/84] START classifier__C=10.0, classifier__class_weight={0: 100, 1: 1}, classifier__kernel=rbf, scaler=None, selectkbest__k=4\n",
      "[CV 2/3; 80/84] END classifier__C=10.0, classifier__class_weight={0: 100, 1: 1}, classifier__kernel=rbf, scaler=None, selectkbest__k=4;, score=0.839 total time=   2.1s\n",
      "[CV 3/3; 80/84] START classifier__C=10.0, classifier__class_weight={0: 100, 1: 1}, classifier__kernel=rbf, scaler=None, selectkbest__k=4\n",
      "[CV 3/3; 80/84] END classifier__C=10.0, classifier__class_weight={0: 100, 1: 1}, classifier__kernel=rbf, scaler=None, selectkbest__k=4;, score=0.869 total time=   2.1s\n",
      "[CV 1/3; 81/84] START classifier__C=10.0, classifier__class_weight={0: 100, 1: 1}, classifier__kernel=rbf, scaler=None, selectkbest__k=5\n",
      "[CV 1/3; 81/84] END classifier__C=10.0, classifier__class_weight={0: 100, 1: 1}, classifier__kernel=rbf, scaler=None, selectkbest__k=5;, score=0.879 total time=   2.3s\n",
      "[CV 2/3; 81/84] START classifier__C=10.0, classifier__class_weight={0: 100, 1: 1}, classifier__kernel=rbf, scaler=None, selectkbest__k=5\n",
      "[CV 2/3; 81/84] END classifier__C=10.0, classifier__class_weight={0: 100, 1: 1}, classifier__kernel=rbf, scaler=None, selectkbest__k=5;, score=0.847 total time=   2.2s\n",
      "[CV 3/3; 81/84] START classifier__C=10.0, classifier__class_weight={0: 100, 1: 1}, classifier__kernel=rbf, scaler=None, selectkbest__k=5\n",
      "[CV 3/3; 81/84] END classifier__C=10.0, classifier__class_weight={0: 100, 1: 1}, classifier__kernel=rbf, scaler=None, selectkbest__k=5;, score=0.869 total time=   2.2s\n",
      "[CV 1/3; 82/84] START classifier__C=10.0, classifier__class_weight={0: 100, 1: 1}, classifier__kernel=rbf, scaler=None, selectkbest__k=6\n",
      "[CV 1/3; 82/84] END classifier__C=10.0, classifier__class_weight={0: 100, 1: 1}, classifier__kernel=rbf, scaler=None, selectkbest__k=6;, score=0.804 total time=   2.8s\n",
      "[CV 2/3; 82/84] START classifier__C=10.0, classifier__class_weight={0: 100, 1: 1}, classifier__kernel=rbf, scaler=None, selectkbest__k=6\n",
      "[CV 2/3; 82/84] END classifier__C=10.0, classifier__class_weight={0: 100, 1: 1}, classifier__kernel=rbf, scaler=None, selectkbest__k=6;, score=0.830 total time=   2.5s\n",
      "[CV 3/3; 82/84] START classifier__C=10.0, classifier__class_weight={0: 100, 1: 1}, classifier__kernel=rbf, scaler=None, selectkbest__k=6\n",
      "[CV 3/3; 82/84] END classifier__C=10.0, classifier__class_weight={0: 100, 1: 1}, classifier__kernel=rbf, scaler=None, selectkbest__k=6;, score=0.876 total time=   2.1s\n",
      "[CV 1/3; 83/84] START classifier__C=10.0, classifier__class_weight={0: 100, 1: 1}, classifier__kernel=rbf, scaler=None, selectkbest__k=7\n",
      "[CV 1/3; 83/84] END classifier__C=10.0, classifier__class_weight={0: 100, 1: 1}, classifier__kernel=rbf, scaler=None, selectkbest__k=7;, score=0.720 total time=   2.8s\n",
      "[CV 2/3; 83/84] START classifier__C=10.0, classifier__class_weight={0: 100, 1: 1}, classifier__kernel=rbf, scaler=None, selectkbest__k=7\n",
      "[CV 2/3; 83/84] END classifier__C=10.0, classifier__class_weight={0: 100, 1: 1}, classifier__kernel=rbf, scaler=None, selectkbest__k=7;, score=0.768 total time=   2.7s\n",
      "[CV 3/3; 83/84] START classifier__C=10.0, classifier__class_weight={0: 100, 1: 1}, classifier__kernel=rbf, scaler=None, selectkbest__k=7\n",
      "[CV 3/3; 83/84] END classifier__C=10.0, classifier__class_weight={0: 100, 1: 1}, classifier__kernel=rbf, scaler=None, selectkbest__k=7;, score=0.861 total time=   2.5s\n",
      "[CV 1/3; 84/84] START classifier__C=10.0, classifier__class_weight={0: 100, 1: 1}, classifier__kernel=rbf, scaler=None, selectkbest__k=8\n",
      "[CV 1/3; 84/84] END classifier__C=10.0, classifier__class_weight={0: 100, 1: 1}, classifier__kernel=rbf, scaler=None, selectkbest__k=8;, score=0.736 total time=   2.7s\n",
      "[CV 2/3; 84/84] START classifier__C=10.0, classifier__class_weight={0: 100, 1: 1}, classifier__kernel=rbf, scaler=None, selectkbest__k=8\n",
      "[CV 2/3; 84/84] END classifier__C=10.0, classifier__class_weight={0: 100, 1: 1}, classifier__kernel=rbf, scaler=None, selectkbest__k=8;, score=0.709 total time=   2.6s\n",
      "[CV 3/3; 84/84] START classifier__C=10.0, classifier__class_weight={0: 100, 1: 1}, classifier__kernel=rbf, scaler=None, selectkbest__k=8\n",
      "[CV 3/3; 84/84] END classifier__C=10.0, classifier__class_weight={0: 100, 1: 1}, classifier__kernel=rbf, scaler=None, selectkbest__k=8;, score=0.755 total time=   2.5s\n"
     ]
    },
    {
     "data": {
      "text/html": [
       "<style>#sk-container-id-1 {color: black;background-color: white;}#sk-container-id-1 pre{padding: 0;}#sk-container-id-1 div.sk-toggleable {background-color: white;}#sk-container-id-1 label.sk-toggleable__label {cursor: pointer;display: block;width: 100%;margin-bottom: 0;padding: 0.3em;box-sizing: border-box;text-align: center;}#sk-container-id-1 label.sk-toggleable__label-arrow:before {content: \"▸\";float: left;margin-right: 0.25em;color: #696969;}#sk-container-id-1 label.sk-toggleable__label-arrow:hover:before {color: black;}#sk-container-id-1 div.sk-estimator:hover label.sk-toggleable__label-arrow:before {color: black;}#sk-container-id-1 div.sk-toggleable__content {max-height: 0;max-width: 0;overflow: hidden;text-align: left;background-color: #f0f8ff;}#sk-container-id-1 div.sk-toggleable__content pre {margin: 0.2em;color: black;border-radius: 0.25em;background-color: #f0f8ff;}#sk-container-id-1 input.sk-toggleable__control:checked~div.sk-toggleable__content {max-height: 200px;max-width: 100%;overflow: auto;}#sk-container-id-1 input.sk-toggleable__control:checked~label.sk-toggleable__label-arrow:before {content: \"▾\";}#sk-container-id-1 div.sk-estimator input.sk-toggleable__control:checked~label.sk-toggleable__label {background-color: #d4ebff;}#sk-container-id-1 div.sk-label input.sk-toggleable__control:checked~label.sk-toggleable__label {background-color: #d4ebff;}#sk-container-id-1 input.sk-hidden--visually {border: 0;clip: rect(1px 1px 1px 1px);clip: rect(1px, 1px, 1px, 1px);height: 1px;margin: -1px;overflow: hidden;padding: 0;position: absolute;width: 1px;}#sk-container-id-1 div.sk-estimator {font-family: monospace;background-color: #f0f8ff;border: 1px dotted black;border-radius: 0.25em;box-sizing: border-box;margin-bottom: 0.5em;}#sk-container-id-1 div.sk-estimator:hover {background-color: #d4ebff;}#sk-container-id-1 div.sk-parallel-item::after {content: \"\";width: 100%;border-bottom: 1px solid gray;flex-grow: 1;}#sk-container-id-1 div.sk-label:hover label.sk-toggleable__label {background-color: #d4ebff;}#sk-container-id-1 div.sk-serial::before {content: \"\";position: absolute;border-left: 1px solid gray;box-sizing: border-box;top: 0;bottom: 0;left: 50%;z-index: 0;}#sk-container-id-1 div.sk-serial {display: flex;flex-direction: column;align-items: center;background-color: white;padding-right: 0.2em;padding-left: 0.2em;position: relative;}#sk-container-id-1 div.sk-item {position: relative;z-index: 1;}#sk-container-id-1 div.sk-parallel {display: flex;align-items: stretch;justify-content: center;background-color: white;position: relative;}#sk-container-id-1 div.sk-item::before, #sk-container-id-1 div.sk-parallel-item::before {content: \"\";position: absolute;border-left: 1px solid gray;box-sizing: border-box;top: 0;bottom: 0;left: 50%;z-index: -1;}#sk-container-id-1 div.sk-parallel-item {display: flex;flex-direction: column;z-index: 1;position: relative;background-color: white;}#sk-container-id-1 div.sk-parallel-item:first-child::after {align-self: flex-end;width: 50%;}#sk-container-id-1 div.sk-parallel-item:last-child::after {align-self: flex-start;width: 50%;}#sk-container-id-1 div.sk-parallel-item:only-child::after {width: 0;}#sk-container-id-1 div.sk-dashed-wrapped {border: 1px dashed gray;margin: 0 0.4em 0.5em 0.4em;box-sizing: border-box;padding-bottom: 0.4em;background-color: white;}#sk-container-id-1 div.sk-label label {font-family: monospace;font-weight: bold;display: inline-block;line-height: 1.2em;}#sk-container-id-1 div.sk-label-container {text-align: center;}#sk-container-id-1 div.sk-container {/* jupyter's `normalize.less` sets `[hidden] { display: none; }` but bootstrap.min.css set `[hidden] { display: none !important; }` so we also need the `!important` here to be able to override the default hidden behavior on the sphinx rendered scikit-learn.org. See: https://github.com/scikit-learn/scikit-learn/issues/21755 */display: inline-block !important;position: relative;}#sk-container-id-1 div.sk-text-repr-fallback {display: none;}</style><div id=\"sk-container-id-1\" class=\"sk-top-container\"><div class=\"sk-text-repr-fallback\"><pre>GridSearchCV(cv=3,\n",
       "             estimator=Pipeline(steps=[(&#x27;scaler&#x27;, StandardScaler()),\n",
       "                                       (&#x27;selectkbest&#x27;, SelectKBest()),\n",
       "                                       (&#x27;classifier&#x27;, SVC())]),\n",
       "             param_grid={&#x27;classifier__C&#x27;: [0.1, 1.0, 10.0],\n",
       "                         &#x27;classifier__class_weight&#x27;: [None, {0: 100, 1: 1}],\n",
       "                         &#x27;classifier__kernel&#x27;: [&#x27;rbf&#x27;],\n",
       "                         &#x27;scaler&#x27;: [StandardScaler(), None],\n",
       "                         &#x27;selectkbest__k&#x27;: array([2, 3, 4, 5, 6, 7, 8])},\n",
       "             scoring=&#x27;roc_auc&#x27;, verbose=10)</pre><b>In a Jupyter environment, please rerun this cell to show the HTML representation or trust the notebook. <br />On GitHub, the HTML representation is unable to render, please try loading this page with nbviewer.org.</b></div><div class=\"sk-container\" hidden><div class=\"sk-item sk-dashed-wrapped\"><div class=\"sk-label-container\"><div class=\"sk-label sk-toggleable\"><input class=\"sk-toggleable__control sk-hidden--visually\" id=\"sk-estimator-id-1\" type=\"checkbox\" ><label for=\"sk-estimator-id-1\" class=\"sk-toggleable__label sk-toggleable__label-arrow\">GridSearchCV</label><div class=\"sk-toggleable__content\"><pre>GridSearchCV(cv=3,\n",
       "             estimator=Pipeline(steps=[(&#x27;scaler&#x27;, StandardScaler()),\n",
       "                                       (&#x27;selectkbest&#x27;, SelectKBest()),\n",
       "                                       (&#x27;classifier&#x27;, SVC())]),\n",
       "             param_grid={&#x27;classifier__C&#x27;: [0.1, 1.0, 10.0],\n",
       "                         &#x27;classifier__class_weight&#x27;: [None, {0: 100, 1: 1}],\n",
       "                         &#x27;classifier__kernel&#x27;: [&#x27;rbf&#x27;],\n",
       "                         &#x27;scaler&#x27;: [StandardScaler(), None],\n",
       "                         &#x27;selectkbest__k&#x27;: array([2, 3, 4, 5, 6, 7, 8])},\n",
       "             scoring=&#x27;roc_auc&#x27;, verbose=10)</pre></div></div></div><div class=\"sk-parallel\"><div class=\"sk-parallel-item\"><div class=\"sk-item\"><div class=\"sk-label-container\"><div class=\"sk-label sk-toggleable\"><input class=\"sk-toggleable__control sk-hidden--visually\" id=\"sk-estimator-id-2\" type=\"checkbox\" ><label for=\"sk-estimator-id-2\" class=\"sk-toggleable__label sk-toggleable__label-arrow\">estimator: Pipeline</label><div class=\"sk-toggleable__content\"><pre>Pipeline(steps=[(&#x27;scaler&#x27;, StandardScaler()), (&#x27;selectkbest&#x27;, SelectKBest()),\n",
       "                (&#x27;classifier&#x27;, SVC())])</pre></div></div></div><div class=\"sk-serial\"><div class=\"sk-item\"><div class=\"sk-serial\"><div class=\"sk-item\"><div class=\"sk-estimator sk-toggleable\"><input class=\"sk-toggleable__control sk-hidden--visually\" id=\"sk-estimator-id-3\" type=\"checkbox\" ><label for=\"sk-estimator-id-3\" class=\"sk-toggleable__label sk-toggleable__label-arrow\">StandardScaler</label><div class=\"sk-toggleable__content\"><pre>StandardScaler()</pre></div></div></div><div class=\"sk-item\"><div class=\"sk-estimator sk-toggleable\"><input class=\"sk-toggleable__control sk-hidden--visually\" id=\"sk-estimator-id-4\" type=\"checkbox\" ><label for=\"sk-estimator-id-4\" class=\"sk-toggleable__label sk-toggleable__label-arrow\">SelectKBest</label><div class=\"sk-toggleable__content\"><pre>SelectKBest()</pre></div></div></div><div class=\"sk-item\"><div class=\"sk-estimator sk-toggleable\"><input class=\"sk-toggleable__control sk-hidden--visually\" id=\"sk-estimator-id-5\" type=\"checkbox\" ><label for=\"sk-estimator-id-5\" class=\"sk-toggleable__label sk-toggleable__label-arrow\">SVC</label><div class=\"sk-toggleable__content\"><pre>SVC()</pre></div></div></div></div></div></div></div></div></div></div></div></div>"
      ],
      "text/plain": [
       "GridSearchCV(cv=3,\n",
       "             estimator=Pipeline(steps=[('scaler', StandardScaler()),\n",
       "                                       ('selectkbest', SelectKBest()),\n",
       "                                       ('classifier', SVC())]),\n",
       "             param_grid={'classifier__C': [0.1, 1.0, 10.0],\n",
       "                         'classifier__class_weight': [None, {0: 100, 1: 1}],\n",
       "                         'classifier__kernel': ['rbf'],\n",
       "                         'scaler': [StandardScaler(), None],\n",
       "                         'selectkbest__k': array([2, 3, 4, 5, 6, 7, 8])},\n",
       "             scoring='roc_auc', verbose=10)"
      ]
     },
     "execution_count": 7,
     "metadata": {},
     "output_type": "execute_result"
    }
   ],
   "source": [
    "# Definir el pipeline\n",
    "pipe = Pipeline(steps=[\n",
    "    (\"scaler\", StandardScaler()),\n",
    "    (\"selectkbest\", SelectKBest()),\n",
    "    (\"classifier\", SVC())\n",
    "])\n",
    "\n",
    "# Definir los parámetros del GridSearchCV para regresión logística\n",
    "svc_params = {\n",
    "    'scaler': [StandardScaler(), None],\n",
    "    'selectkbest__k': np.arange(2, 9),\n",
    "    'classifier__C': [0.1, 1.0, 10.0],\n",
    "    'classifier__kernel': ['rbf'],\n",
    "    'classifier__class_weight': [None, {0: 100, 1: 1}],\n",
    "}\n",
    "# Crear el GridSearchCV\n",
    "clf = GridSearchCV(estimator=pipe, param_grid=svc_params, cv=3, scoring=\"roc_auc\", verbose=10)\n",
    "\n",
    "# Ajustar el GridSearchCV\n",
    "clf.fit(X_resampled, y_resampled)"
   ]
  },
  {
   "cell_type": "code",
   "execution_count": 5,
   "metadata": {},
   "outputs": [
    {
     "name": "stdout",
     "output_type": "stream",
     "text": [
      "Fitting 3 folds for each of 1 candidates, totalling 3 fits\n",
      "[CV 1/3; 1/1] START classifier__C=10.0, classifier__class_weight=None, classifier__kernel=rbf, scaler=StandardScaler(), selectkbest__k=3\n",
      "[CV 1/3; 1/1] END classifier__C=10.0, classifier__class_weight=None, classifier__kernel=rbf, scaler=StandardScaler(), selectkbest__k=3;, score=0.968 total time=   1.0s\n",
      "[CV 2/3; 1/1] START classifier__C=10.0, classifier__class_weight=None, classifier__kernel=rbf, scaler=StandardScaler(), selectkbest__k=3\n",
      "[CV 2/3; 1/1] END classifier__C=10.0, classifier__class_weight=None, classifier__kernel=rbf, scaler=StandardScaler(), selectkbest__k=3;, score=0.971 total time=   1.0s\n",
      "[CV 3/3; 1/1] START classifier__C=10.0, classifier__class_weight=None, classifier__kernel=rbf, scaler=StandardScaler(), selectkbest__k=3\n",
      "[CV 3/3; 1/1] END classifier__C=10.0, classifier__class_weight=None, classifier__kernel=rbf, scaler=StandardScaler(), selectkbest__k=3;, score=0.971 total time=   1.0s\n"
     ]
    },
    {
     "data": {
      "text/html": [
       "<style>#sk-container-id-1 {color: black;background-color: white;}#sk-container-id-1 pre{padding: 0;}#sk-container-id-1 div.sk-toggleable {background-color: white;}#sk-container-id-1 label.sk-toggleable__label {cursor: pointer;display: block;width: 100%;margin-bottom: 0;padding: 0.3em;box-sizing: border-box;text-align: center;}#sk-container-id-1 label.sk-toggleable__label-arrow:before {content: \"▸\";float: left;margin-right: 0.25em;color: #696969;}#sk-container-id-1 label.sk-toggleable__label-arrow:hover:before {color: black;}#sk-container-id-1 div.sk-estimator:hover label.sk-toggleable__label-arrow:before {color: black;}#sk-container-id-1 div.sk-toggleable__content {max-height: 0;max-width: 0;overflow: hidden;text-align: left;background-color: #f0f8ff;}#sk-container-id-1 div.sk-toggleable__content pre {margin: 0.2em;color: black;border-radius: 0.25em;background-color: #f0f8ff;}#sk-container-id-1 input.sk-toggleable__control:checked~div.sk-toggleable__content {max-height: 200px;max-width: 100%;overflow: auto;}#sk-container-id-1 input.sk-toggleable__control:checked~label.sk-toggleable__label-arrow:before {content: \"▾\";}#sk-container-id-1 div.sk-estimator input.sk-toggleable__control:checked~label.sk-toggleable__label {background-color: #d4ebff;}#sk-container-id-1 div.sk-label input.sk-toggleable__control:checked~label.sk-toggleable__label {background-color: #d4ebff;}#sk-container-id-1 input.sk-hidden--visually {border: 0;clip: rect(1px 1px 1px 1px);clip: rect(1px, 1px, 1px, 1px);height: 1px;margin: -1px;overflow: hidden;padding: 0;position: absolute;width: 1px;}#sk-container-id-1 div.sk-estimator {font-family: monospace;background-color: #f0f8ff;border: 1px dotted black;border-radius: 0.25em;box-sizing: border-box;margin-bottom: 0.5em;}#sk-container-id-1 div.sk-estimator:hover {background-color: #d4ebff;}#sk-container-id-1 div.sk-parallel-item::after {content: \"\";width: 100%;border-bottom: 1px solid gray;flex-grow: 1;}#sk-container-id-1 div.sk-label:hover label.sk-toggleable__label {background-color: #d4ebff;}#sk-container-id-1 div.sk-serial::before {content: \"\";position: absolute;border-left: 1px solid gray;box-sizing: border-box;top: 0;bottom: 0;left: 50%;z-index: 0;}#sk-container-id-1 div.sk-serial {display: flex;flex-direction: column;align-items: center;background-color: white;padding-right: 0.2em;padding-left: 0.2em;position: relative;}#sk-container-id-1 div.sk-item {position: relative;z-index: 1;}#sk-container-id-1 div.sk-parallel {display: flex;align-items: stretch;justify-content: center;background-color: white;position: relative;}#sk-container-id-1 div.sk-item::before, #sk-container-id-1 div.sk-parallel-item::before {content: \"\";position: absolute;border-left: 1px solid gray;box-sizing: border-box;top: 0;bottom: 0;left: 50%;z-index: -1;}#sk-container-id-1 div.sk-parallel-item {display: flex;flex-direction: column;z-index: 1;position: relative;background-color: white;}#sk-container-id-1 div.sk-parallel-item:first-child::after {align-self: flex-end;width: 50%;}#sk-container-id-1 div.sk-parallel-item:last-child::after {align-self: flex-start;width: 50%;}#sk-container-id-1 div.sk-parallel-item:only-child::after {width: 0;}#sk-container-id-1 div.sk-dashed-wrapped {border: 1px dashed gray;margin: 0 0.4em 0.5em 0.4em;box-sizing: border-box;padding-bottom: 0.4em;background-color: white;}#sk-container-id-1 div.sk-label label {font-family: monospace;font-weight: bold;display: inline-block;line-height: 1.2em;}#sk-container-id-1 div.sk-label-container {text-align: center;}#sk-container-id-1 div.sk-container {/* jupyter's `normalize.less` sets `[hidden] { display: none; }` but bootstrap.min.css set `[hidden] { display: none !important; }` so we also need the `!important` here to be able to override the default hidden behavior on the sphinx rendered scikit-learn.org. See: https://github.com/scikit-learn/scikit-learn/issues/21755 */display: inline-block !important;position: relative;}#sk-container-id-1 div.sk-text-repr-fallback {display: none;}</style><div id=\"sk-container-id-1\" class=\"sk-top-container\"><div class=\"sk-text-repr-fallback\"><pre>GridSearchCV(cv=3,\n",
       "             estimator=Pipeline(steps=[(&#x27;scaler&#x27;, StandardScaler()),\n",
       "                                       (&#x27;selectkbest&#x27;, SelectKBest()),\n",
       "                                       (&#x27;classifier&#x27;, SVC())]),\n",
       "             param_grid={&#x27;classifier__C&#x27;: [10.0],\n",
       "                         &#x27;classifier__class_weight&#x27;: [None],\n",
       "                         &#x27;classifier__kernel&#x27;: [&#x27;rbf&#x27;],\n",
       "                         &#x27;scaler&#x27;: [StandardScaler()], &#x27;selectkbest__k&#x27;: [3]},\n",
       "             scoring=&#x27;roc_auc&#x27;, verbose=10)</pre><b>In a Jupyter environment, please rerun this cell to show the HTML representation or trust the notebook. <br />On GitHub, the HTML representation is unable to render, please try loading this page with nbviewer.org.</b></div><div class=\"sk-container\" hidden><div class=\"sk-item sk-dashed-wrapped\"><div class=\"sk-label-container\"><div class=\"sk-label sk-toggleable\"><input class=\"sk-toggleable__control sk-hidden--visually\" id=\"sk-estimator-id-1\" type=\"checkbox\" ><label for=\"sk-estimator-id-1\" class=\"sk-toggleable__label sk-toggleable__label-arrow\">GridSearchCV</label><div class=\"sk-toggleable__content\"><pre>GridSearchCV(cv=3,\n",
       "             estimator=Pipeline(steps=[(&#x27;scaler&#x27;, StandardScaler()),\n",
       "                                       (&#x27;selectkbest&#x27;, SelectKBest()),\n",
       "                                       (&#x27;classifier&#x27;, SVC())]),\n",
       "             param_grid={&#x27;classifier__C&#x27;: [10.0],\n",
       "                         &#x27;classifier__class_weight&#x27;: [None],\n",
       "                         &#x27;classifier__kernel&#x27;: [&#x27;rbf&#x27;],\n",
       "                         &#x27;scaler&#x27;: [StandardScaler()], &#x27;selectkbest__k&#x27;: [3]},\n",
       "             scoring=&#x27;roc_auc&#x27;, verbose=10)</pre></div></div></div><div class=\"sk-parallel\"><div class=\"sk-parallel-item\"><div class=\"sk-item\"><div class=\"sk-label-container\"><div class=\"sk-label sk-toggleable\"><input class=\"sk-toggleable__control sk-hidden--visually\" id=\"sk-estimator-id-2\" type=\"checkbox\" ><label for=\"sk-estimator-id-2\" class=\"sk-toggleable__label sk-toggleable__label-arrow\">estimator: Pipeline</label><div class=\"sk-toggleable__content\"><pre>Pipeline(steps=[(&#x27;scaler&#x27;, StandardScaler()), (&#x27;selectkbest&#x27;, SelectKBest()),\n",
       "                (&#x27;classifier&#x27;, SVC())])</pre></div></div></div><div class=\"sk-serial\"><div class=\"sk-item\"><div class=\"sk-serial\"><div class=\"sk-item\"><div class=\"sk-estimator sk-toggleable\"><input class=\"sk-toggleable__control sk-hidden--visually\" id=\"sk-estimator-id-3\" type=\"checkbox\" ><label for=\"sk-estimator-id-3\" class=\"sk-toggleable__label sk-toggleable__label-arrow\">StandardScaler</label><div class=\"sk-toggleable__content\"><pre>StandardScaler()</pre></div></div></div><div class=\"sk-item\"><div class=\"sk-estimator sk-toggleable\"><input class=\"sk-toggleable__control sk-hidden--visually\" id=\"sk-estimator-id-4\" type=\"checkbox\" ><label for=\"sk-estimator-id-4\" class=\"sk-toggleable__label sk-toggleable__label-arrow\">SelectKBest</label><div class=\"sk-toggleable__content\"><pre>SelectKBest()</pre></div></div></div><div class=\"sk-item\"><div class=\"sk-estimator sk-toggleable\"><input class=\"sk-toggleable__control sk-hidden--visually\" id=\"sk-estimator-id-5\" type=\"checkbox\" ><label for=\"sk-estimator-id-5\" class=\"sk-toggleable__label sk-toggleable__label-arrow\">SVC</label><div class=\"sk-toggleable__content\"><pre>SVC()</pre></div></div></div></div></div></div></div></div></div></div></div></div>"
      ],
      "text/plain": [
       "GridSearchCV(cv=3,\n",
       "             estimator=Pipeline(steps=[('scaler', StandardScaler()),\n",
       "                                       ('selectkbest', SelectKBest()),\n",
       "                                       ('classifier', SVC())]),\n",
       "             param_grid={'classifier__C': [10.0],\n",
       "                         'classifier__class_weight': [None],\n",
       "                         'classifier__kernel': ['rbf'],\n",
       "                         'scaler': [StandardScaler()], 'selectkbest__k': [3]},\n",
       "             scoring='roc_auc', verbose=10)"
      ]
     },
     "execution_count": 5,
     "metadata": {},
     "output_type": "execute_result"
    }
   ],
   "source": [
    "# Definir el pipeline\n",
    "pipe = Pipeline(steps=[\n",
    "    (\"scaler\", StandardScaler()),\n",
    "    (\"selectkbest\", SelectKBest()),\n",
    "    (\"classifier\", SVC())\n",
    "])\n",
    "\n",
    "# Definir los parámetros del GridSearchCV para regresión logística\n",
    "svc_params = {'classifier__C': [10.0],\n",
    " 'classifier__class_weight': [None],\n",
    " 'classifier__kernel': ['rbf'],\n",
    " 'scaler': [StandardScaler()],\n",
    " 'selectkbest__k': [3]}\n",
    "# Crear el GridSearchCV\n",
    "clf = GridSearchCV(estimator=pipe, param_grid=svc_params, cv=3, scoring=\"roc_auc\", verbose=10)\n",
    "\n",
    "# Ajustar el GridSearchCV\n",
    "clf.fit(X_resampled, y_resampled)"
   ]
  },
  {
   "cell_type": "code",
   "execution_count": 6,
   "metadata": {},
   "outputs": [
    {
     "data": {
      "text/plain": [
       "{'classifier__C': 10.0,\n",
       " 'classifier__class_weight': None,\n",
       " 'classifier__kernel': 'rbf',\n",
       " 'scaler': StandardScaler(),\n",
       " 'selectkbest__k': 3}"
      ]
     },
     "execution_count": 6,
     "metadata": {},
     "output_type": "execute_result"
    }
   ],
   "source": [
    "clf.best_params_"
   ]
  },
  {
   "cell_type": "code",
   "execution_count": 7,
   "metadata": {},
   "outputs": [],
   "source": [
    "predictions = clf.predict(X_test)"
   ]
  },
  {
   "cell_type": "code",
   "execution_count": 8,
   "metadata": {},
   "outputs": [
    {
     "name": "stdout",
     "output_type": "stream",
     "text": [
      "[[114226  14691]\n",
      " [    39    712]]\n"
     ]
    },
    {
     "data": {
      "image/png": "[encoded data removed]",
      "text/plain": [
       "<Figure size 640x480 with 2 Axes>"
      ]
     },
     "metadata": {},
     "output_type": "display_data"
    }
   ],
   "source": [
    "c_matrix = confusion_matrix(y_test, predictions)\n",
    "print(c_matrix)\n",
    "sns.heatmap(c_matrix, annot=True);"
   ]
  },
  {
   "cell_type": "code",
   "execution_count": 9,
   "metadata": {},
   "outputs": [],
   "source": [
    "from sklearn.metrics import precision_score, recall_score, roc_auc_score"
   ]
  },
  {
   "cell_type": "code",
   "execution_count": 10,
   "metadata": {},
   "outputs": [
    {
     "data": {
      "text/plain": [
       "0.04622476141011491"
      ]
     },
     "execution_count": 10,
     "metadata": {},
     "output_type": "execute_result"
    }
   ],
   "source": [
    "precision_score(y_test, predictions)"
   ]
  },
  {
   "cell_type": "code",
   "execution_count": 11,
   "metadata": {},
   "outputs": [
    {
     "data": {
      "text/plain": [
       "0.948069241011984"
      ]
     },
     "execution_count": 11,
     "metadata": {},
     "output_type": "execute_result"
    }
   ],
   "source": [
    "recall_score(y_test, predictions)"
   ]
  },
  {
   "cell_type": "code",
   "execution_count": 12,
   "metadata": {},
   "outputs": [
    {
     "data": {
      "text/plain": [
       "0.9170560994420517"
      ]
     },
     "execution_count": 12,
     "metadata": {},
     "output_type": "execute_result"
    }
   ],
   "source": [
    "roc_auc_score(y_test, predictions)"
   ]
  },
  {
   "cell_type": "code",
   "execution_count": 14,
   "metadata": {},
   "outputs": [],
   "source": [
    "# Para escribir el archivo pickle\n",
    "with open('../models/Model6/trained_model.pkl', 'wb') as archivo_salida:\n",
    "    pickle.dump(clf.best_estimator_, archivo_salida)\n",
    "\n",
    "# Para escribir el archivo YAML\n",
    "with open(\"../models/Model6/model_config.yaml\", \"w\") as f:\n",
    "    yaml.dump(clf.best_params_, f)"
   ]
  },
  {
   "attachments": {},
   "cell_type": "markdown",
   "metadata": {},
   "source": [
    "De los modelos hiperparametrizados, este es el mejor, por tanto, se ha guardado en formato pickle."
   ]
  },
  {
   "cell_type": "code",
   "execution_count": 19,
   "metadata": {},
   "outputs": [],
   "source": [
    "# Definir el pipeline\n",
    "pipe = Pipeline(steps=[\n",
    "    (\"scaler\", StandardScaler()),\n",
    "    (\"selectkbest\", SelectKBest()),\n",
    "    (\"classifier\", SVC())\n",
    "])\n",
    "\n",
    "# Definir los parámetros del GridSearchCV para regresión logística\n",
    "svc_params = {\n",
    "    'scaler': [StandardScaler(), None],\n",
    "    'selectkbest__k': np.arange(2, 9),\n",
    "    'classifier__C': [0.1, 1.0, 10.0],\n",
    "    'classifier__kernel': ['rbf'],\n",
    "    'classifier__class_weight': [None, {0: 100, 1: 1}, {0: 50, 1: 1}],\n",
    "}\n",
    "# Crear el GridSearchCV\n",
    "clf = GridSearchCV(estimator=pipe, param_grid=svc_params, cv=3, scoring=\"roc_auc\")\n",
    "\n",
    "# Ajustar el GridSearchCV\n",
    "clf.fit(X_train, y_train)"
   ]
  },
  {
   "cell_type": "code",
   "execution_count": null,
   "metadata": {},
   "outputs": [
    {
     "data": {
      "text/plain": [
       "{'classifier__C': 0.01,\n",
       " 'classifier__class_weight': {0: 50, 1: 1},\n",
       " 'classifier__max_iter': 1000,\n",
       " 'classifier__penalty': 'l1',\n",
       " 'classifier__solver': 'liblinear',\n",
       " 'scaler': None,\n",
       " 'selectkbest__k': 5}"
      ]
     },
     "execution_count": 53,
     "metadata": {},
     "output_type": "execute_result"
    }
   ],
   "source": [
    "clf.best_params_"
   ]
  },
  {
   "cell_type": "code",
   "execution_count": null,
   "metadata": {},
   "outputs": [],
   "source": [
    "predictions = clf.predict(X_test)"
   ]
  },
  {
   "cell_type": "code",
   "execution_count": null,
   "metadata": {},
   "outputs": [
    {
     "name": "stdout",
     "output_type": "stream",
     "text": [
      "[[128681    236]\n",
      " [   527    224]]\n"
     ]
    },
    {
     "data": {
      "image/png": "[encoded data removed]",
      "text/plain": [
       "<Figure size 640x480 with 2 Axes>"
      ]
     },
     "metadata": {},
     "output_type": "display_data"
    }
   ],
   "source": [
    "c_matrix = confusion_matrix(y_test, predictions)\n",
    "print(c_matrix)\n",
    "sns.heatmap(c_matrix, annot=True);"
   ]
  },
  {
   "cell_type": "code",
   "execution_count": null,
   "metadata": {},
   "outputs": [
    {
     "name": "stdout",
     "output_type": "stream",
     "text": [
      "Precision score: 0.48695652173913045\n",
      "Recall score: 0.2982689747003995\n",
      "ROC AUC score: 0.648219169742747\n"
     ]
    }
   ],
   "source": [
    "print(\"Precision score:\", precision_score(y_test, predictions))\n",
    "print(\"Recall score:\", recall_score(y_test, predictions))\n",
    "print(\"ROC AUC score:\", roc_auc_score(y_test, predictions))"
   ]
  }
 ],
 "metadata": {
  "kernelspec": {
   "display_name": "Python 3",
   "language": "python",
   "name": "python3"
  },
  "language_info": {
   "codemirror_mode": {
    "name": "ipython",
    "version": 3
   },
   "file_extension": ".py",
   "mimetype": "text/x-python",
   "name": "python",
   "nbconvert_exporter": "python",
   "pygments_lexer": "ipython3",
   "version": "3.11.3"
  },
  "orig_nbformat": 4
 },
 "nbformat": 4,
 "nbformat_minor": 2
}
